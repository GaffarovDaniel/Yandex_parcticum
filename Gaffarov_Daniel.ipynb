{
 "cells": [
  {
   "cell_type": "markdown",
   "metadata": {},
   "source": [
    "# Выбор локации для скважины"
   ]
  },
  {
   "cell_type": "markdown",
   "metadata": {},
   "source": [
    "**Описание проекта**\n",
    "\n",
    "Добывающей компании «ГлавРосГосНефть», необходимо решить, где бурить новую скважину.\n",
    "\n",
    "Предоставлены пробы нефти в трёх регионах: в каждом 10 000 месторождений, где измерили качество нефти и объём её запасов. \n",
    "\n",
    "Данные геологоразведки трёх регионов находятся в файлах: \n",
    "+ [/datasets/geo_data_0.csv.](https://code.s3.yandex.net/datasets/geo_data_0.csv)\n",
    "+ [/datasets/geo_data_1.csv.](https://code.s3.yandex.net/datasets/geo_data_1.csv)\n",
    "+ [/datasets/geo_data_2.csv.](https://code.s3.yandex.net/datasets/geo_data_2.csv)\n",
    "\n",
    "Где\n",
    "+ `id` — уникальный идентификатор скважины;\n",
    "+ `f0, f1, f2` — три признака точек (неважно, что они означают, но сами признаки значимы);\n",
    "+ `product` — объём запасов в скважине (тыс. баррелей).\n",
    "\n",
    "Разобъем задачу на два этапа:\n",
    "1. Построим модель машинного обучения, которая поможет определить регион, где добыча принесёт наибольшую прибыль.\n",
    "2. Проанализируем возможную прибыль и риски техникой *Bootstrap.*\n",
    "\n",
    "Для выбора локации определен следующий порядок:\n",
    "- В избранном регионе ищут месторождения, для каждого определяют значения признаков;\n",
    "- Строят модель и оценивают объём запасов;\n",
    "- Выбирают месторождения с самым высокими оценками значений. Количество месторождений зависит от бюджета компании и стоимости разработки одной скважины;\n",
    "- Прибыль равна суммарной прибыли отобранных месторождений.\n",
    "\n",
    "План работы:\n",
    "1. Загрузка и подготовка данных\n",
    "2. Обучение и проверка модели\n",
    "3. Подготовка к расчёту прибыли\n",
    "4. Расчёт прибыли и рисков\n",
    "5. Вывод по работе"
   ]
  },
  {
   "cell_type": "markdown",
   "metadata": {},
   "source": [
    "## 1. Загрузка и подготовка данных"
   ]
  },
  {
   "cell_type": "markdown",
   "metadata": {},
   "source": [
    "### 1.1. Установка пакетов импорт библиотек"
   ]
  },
  {
   "cell_type": "markdown",
   "metadata": {},
   "source": [
    "**Установка пакетов**"
   ]
  },
  {
   "cell_type": "code",
   "execution_count": 1,
   "metadata": {},
   "outputs": [],
   "source": [
    "!pip install phik -q"
   ]
  },
  {
   "cell_type": "markdown",
   "metadata": {},
   "source": [
    "**Иморт библиотек**"
   ]
  },
  {
   "cell_type": "code",
   "execution_count": 2,
   "metadata": {},
   "outputs": [],
   "source": [
    "import time\n",
    "start_time = time.time()\n",
    "import os\n",
    "import numpy as np\n",
    "import pandas  as pd\n",
    "pd.set_option('display.max_columns', None)\n",
    "pd.set_option('display.max_colwidth', None)\n",
    "import phik\n",
    "from phik import phik_matrix\n",
    "import matplotlib.pyplot as plt\n",
    "import seaborn as sns\n",
    "import warnings\n",
    "warnings.simplefilter(action='ignore', category=FutureWarning)\n",
    "warnings.filterwarnings(\"ignore\")\n",
    "from sklearn.exceptions import FitFailedWarning \n",
    "\n",
    "\n",
    "from sklearn.compose import ColumnTransformer\n",
    "from sklearn.model_selection import (RandomizedSearchCV,\n",
    "                                     train_test_split\n",
    "                                    )\n",
    "from sklearn.preprocessing import (MinMaxScaler,\n",
    "                                   RobustScaler,\n",
    "                                   StandardScaler\n",
    "                                  )\n",
    "from sklearn.metrics import mean_squared_error\n",
    "from sklearn.pipeline import Pipeline\n",
    "from sklearn.linear_model import LinearRegression"
   ]
  },
  {
   "cell_type": "markdown",
   "metadata": {},
   "source": [
    "### 1.2. Загрузка данных"
   ]
  },
  {
   "cell_type": "code",
   "execution_count": 3,
   "metadata": {},
   "outputs": [
    {
     "data": {
      "text/html": [
       "<div>\n",
       "<style scoped>\n",
       "    .dataframe tbody tr th:only-of-type {\n",
       "        vertical-align: middle;\n",
       "    }\n",
       "\n",
       "    .dataframe tbody tr th {\n",
       "        vertical-align: top;\n",
       "    }\n",
       "\n",
       "    .dataframe thead th {\n",
       "        text-align: right;\n",
       "    }\n",
       "</style>\n",
       "<table border=\"1\" class=\"dataframe\">\n",
       "  <thead>\n",
       "    <tr style=\"text-align: right;\">\n",
       "      <th></th>\n",
       "      <th>f0</th>\n",
       "      <th>f1</th>\n",
       "      <th>f2</th>\n",
       "      <th>product</th>\n",
       "    </tr>\n",
       "    <tr>\n",
       "      <th>id</th>\n",
       "      <th></th>\n",
       "      <th></th>\n",
       "      <th></th>\n",
       "      <th></th>\n",
       "    </tr>\n",
       "  </thead>\n",
       "  <tbody>\n",
       "    <tr>\n",
       "      <th>txEyH</th>\n",
       "      <td>0.705745</td>\n",
       "      <td>-0.497823</td>\n",
       "      <td>1.221170</td>\n",
       "      <td>105.280062</td>\n",
       "    </tr>\n",
       "    <tr>\n",
       "      <th>2acmU</th>\n",
       "      <td>1.334711</td>\n",
       "      <td>-0.340164</td>\n",
       "      <td>4.365080</td>\n",
       "      <td>73.037750</td>\n",
       "    </tr>\n",
       "    <tr>\n",
       "      <th>409Wp</th>\n",
       "      <td>1.022732</td>\n",
       "      <td>0.151990</td>\n",
       "      <td>1.419926</td>\n",
       "      <td>85.265647</td>\n",
       "    </tr>\n",
       "    <tr>\n",
       "      <th>iJLyR</th>\n",
       "      <td>-0.032172</td>\n",
       "      <td>0.139033</td>\n",
       "      <td>2.978566</td>\n",
       "      <td>168.620776</td>\n",
       "    </tr>\n",
       "    <tr>\n",
       "      <th>Xdl7t</th>\n",
       "      <td>1.988431</td>\n",
       "      <td>0.155413</td>\n",
       "      <td>4.751769</td>\n",
       "      <td>154.036647</td>\n",
       "    </tr>\n",
       "  </tbody>\n",
       "</table>\n",
       "</div>"
      ],
      "text/plain": [
       "             f0        f1        f2     product\n",
       "id                                             \n",
       "txEyH  0.705745 -0.497823  1.221170  105.280062\n",
       "2acmU  1.334711 -0.340164  4.365080   73.037750\n",
       "409Wp  1.022732  0.151990  1.419926   85.265647\n",
       "iJLyR -0.032172  0.139033  2.978566  168.620776\n",
       "Xdl7t  1.988431  0.155413  4.751769  154.036647"
      ]
     },
     "execution_count": 3,
     "metadata": {},
     "output_type": "execute_result"
    }
   ],
   "source": [
    "pth1 = '/datasets/geo_data_0.csv'\n",
    "pth2 = 'https://code.s3.yandex.net/datasets/geo_data_0.csv'\n",
    "\n",
    "if os.path.exists(pth1):\n",
    "    geo_data_0 = pd.read_csv(pth1, index_col='id')\n",
    "else:\n",
    "    geo_data_0 = pd.read_csv(pth2, index_col='id')\n",
    "geo_data_0.head()"
   ]
  },
  {
   "cell_type": "code",
   "execution_count": 4,
   "metadata": {},
   "outputs": [
    {
     "data": {
      "text/html": [
       "<div>\n",
       "<style scoped>\n",
       "    .dataframe tbody tr th:only-of-type {\n",
       "        vertical-align: middle;\n",
       "    }\n",
       "\n",
       "    .dataframe tbody tr th {\n",
       "        vertical-align: top;\n",
       "    }\n",
       "\n",
       "    .dataframe thead th {\n",
       "        text-align: right;\n",
       "    }\n",
       "</style>\n",
       "<table border=\"1\" class=\"dataframe\">\n",
       "  <thead>\n",
       "    <tr style=\"text-align: right;\">\n",
       "      <th></th>\n",
       "      <th>f0</th>\n",
       "      <th>f1</th>\n",
       "      <th>f2</th>\n",
       "      <th>product</th>\n",
       "    </tr>\n",
       "    <tr>\n",
       "      <th>id</th>\n",
       "      <th></th>\n",
       "      <th></th>\n",
       "      <th></th>\n",
       "      <th></th>\n",
       "    </tr>\n",
       "  </thead>\n",
       "  <tbody>\n",
       "    <tr>\n",
       "      <th>kBEdx</th>\n",
       "      <td>-15.001348</td>\n",
       "      <td>-8.276000</td>\n",
       "      <td>-0.005876</td>\n",
       "      <td>3.179103</td>\n",
       "    </tr>\n",
       "    <tr>\n",
       "      <th>62mP7</th>\n",
       "      <td>14.272088</td>\n",
       "      <td>-3.475083</td>\n",
       "      <td>0.999183</td>\n",
       "      <td>26.953261</td>\n",
       "    </tr>\n",
       "    <tr>\n",
       "      <th>vyE1P</th>\n",
       "      <td>6.263187</td>\n",
       "      <td>-5.948386</td>\n",
       "      <td>5.001160</td>\n",
       "      <td>134.766305</td>\n",
       "    </tr>\n",
       "    <tr>\n",
       "      <th>KcrkZ</th>\n",
       "      <td>-13.081196</td>\n",
       "      <td>-11.506057</td>\n",
       "      <td>4.999415</td>\n",
       "      <td>137.945408</td>\n",
       "    </tr>\n",
       "    <tr>\n",
       "      <th>AHL4O</th>\n",
       "      <td>12.702195</td>\n",
       "      <td>-8.147433</td>\n",
       "      <td>5.004363</td>\n",
       "      <td>134.766305</td>\n",
       "    </tr>\n",
       "  </tbody>\n",
       "</table>\n",
       "</div>"
      ],
      "text/plain": [
       "              f0         f1        f2     product\n",
       "id                                               \n",
       "kBEdx -15.001348  -8.276000 -0.005876    3.179103\n",
       "62mP7  14.272088  -3.475083  0.999183   26.953261\n",
       "vyE1P   6.263187  -5.948386  5.001160  134.766305\n",
       "KcrkZ -13.081196 -11.506057  4.999415  137.945408\n",
       "AHL4O  12.702195  -8.147433  5.004363  134.766305"
      ]
     },
     "execution_count": 4,
     "metadata": {},
     "output_type": "execute_result"
    }
   ],
   "source": [
    "pth1 = '/datasets/geo_data_1.csv'\n",
    "pth2 = 'https://code.s3.yandex.net/datasets/geo_data_1.csv'\n",
    "\n",
    "if os.path.exists(pth1):\n",
    "    geo_data_1 = pd.read_csv(pth1, index_col='id')\n",
    "else:\n",
    "    geo_data_1 = pd.read_csv(pth2, index_col='id')\n",
    "geo_data_1.head()"
   ]
  },
  {
   "cell_type": "code",
   "execution_count": 5,
   "metadata": {
    "scrolled": true
   },
   "outputs": [
    {
     "data": {
      "text/html": [
       "<div>\n",
       "<style scoped>\n",
       "    .dataframe tbody tr th:only-of-type {\n",
       "        vertical-align: middle;\n",
       "    }\n",
       "\n",
       "    .dataframe tbody tr th {\n",
       "        vertical-align: top;\n",
       "    }\n",
       "\n",
       "    .dataframe thead th {\n",
       "        text-align: right;\n",
       "    }\n",
       "</style>\n",
       "<table border=\"1\" class=\"dataframe\">\n",
       "  <thead>\n",
       "    <tr style=\"text-align: right;\">\n",
       "      <th></th>\n",
       "      <th>f0</th>\n",
       "      <th>f1</th>\n",
       "      <th>f2</th>\n",
       "      <th>product</th>\n",
       "    </tr>\n",
       "    <tr>\n",
       "      <th>id</th>\n",
       "      <th></th>\n",
       "      <th></th>\n",
       "      <th></th>\n",
       "      <th></th>\n",
       "    </tr>\n",
       "  </thead>\n",
       "  <tbody>\n",
       "    <tr>\n",
       "      <th>fwXo0</th>\n",
       "      <td>-1.146987</td>\n",
       "      <td>0.963328</td>\n",
       "      <td>-0.828965</td>\n",
       "      <td>27.758673</td>\n",
       "    </tr>\n",
       "    <tr>\n",
       "      <th>WJtFt</th>\n",
       "      <td>0.262778</td>\n",
       "      <td>0.269839</td>\n",
       "      <td>-2.530187</td>\n",
       "      <td>56.069697</td>\n",
       "    </tr>\n",
       "    <tr>\n",
       "      <th>ovLUW</th>\n",
       "      <td>0.194587</td>\n",
       "      <td>0.289035</td>\n",
       "      <td>-5.586433</td>\n",
       "      <td>62.871910</td>\n",
       "    </tr>\n",
       "    <tr>\n",
       "      <th>q6cA6</th>\n",
       "      <td>2.236060</td>\n",
       "      <td>-0.553760</td>\n",
       "      <td>0.930038</td>\n",
       "      <td>114.572842</td>\n",
       "    </tr>\n",
       "    <tr>\n",
       "      <th>WPMUX</th>\n",
       "      <td>-0.515993</td>\n",
       "      <td>1.716266</td>\n",
       "      <td>5.899011</td>\n",
       "      <td>149.600746</td>\n",
       "    </tr>\n",
       "  </tbody>\n",
       "</table>\n",
       "</div>"
      ],
      "text/plain": [
       "             f0        f1        f2     product\n",
       "id                                             \n",
       "fwXo0 -1.146987  0.963328 -0.828965   27.758673\n",
       "WJtFt  0.262778  0.269839 -2.530187   56.069697\n",
       "ovLUW  0.194587  0.289035 -5.586433   62.871910\n",
       "q6cA6  2.236060 -0.553760  0.930038  114.572842\n",
       "WPMUX -0.515993  1.716266  5.899011  149.600746"
      ]
     },
     "execution_count": 5,
     "metadata": {},
     "output_type": "execute_result"
    }
   ],
   "source": [
    "pth1 = '/datasets/geo_data_2.csv'\n",
    "pth2 = 'https://code.s3.yandex.net/datasets/geo_data_2.csv'\n",
    "\n",
    "if os.path.exists(pth1):\n",
    "    geo_data_2 = pd.read_csv(pth1, index_col='id')\n",
    "else:\n",
    "    geo_data_2 = pd.read_csv(pth2, index_col='id')\n",
    "geo_data_2.head()"
   ]
  },
  {
   "cell_type": "markdown",
   "metadata": {},
   "source": [
    "**Промежуточно**\n",
    "\n",
    "Данные загружены. Перейдем к предобработке."
   ]
  },
  {
   "cell_type": "markdown",
   "metadata": {},
   "source": [
    "### 1.3. Предобработка данных"
   ]
  },
  {
   "cell_type": "code",
   "execution_count": 6,
   "metadata": {},
   "outputs": [
    {
     "name": "stdout",
     "output_type": "stream",
     "text": [
      "<class 'pandas.core.frame.DataFrame'>\n",
      "Index: 100000 entries, txEyH to 1CWhH\n",
      "Data columns (total 4 columns):\n",
      " #   Column   Non-Null Count   Dtype  \n",
      "---  ------   --------------   -----  \n",
      " 0   f0       100000 non-null  float64\n",
      " 1   f1       100000 non-null  float64\n",
      " 2   f2       100000 non-null  float64\n",
      " 3   product  100000 non-null  float64\n",
      "dtypes: float64(4)\n",
      "memory usage: 3.8+ MB\n",
      "<class 'pandas.core.frame.DataFrame'>\n",
      "Index: 100000 entries, kBEdx to relB0\n",
      "Data columns (total 4 columns):\n",
      " #   Column   Non-Null Count   Dtype  \n",
      "---  ------   --------------   -----  \n",
      " 0   f0       100000 non-null  float64\n",
      " 1   f1       100000 non-null  float64\n",
      " 2   f2       100000 non-null  float64\n",
      " 3   product  100000 non-null  float64\n",
      "dtypes: float64(4)\n",
      "memory usage: 3.8+ MB\n",
      "<class 'pandas.core.frame.DataFrame'>\n",
      "Index: 100000 entries, fwXo0 to V9kWn\n",
      "Data columns (total 4 columns):\n",
      " #   Column   Non-Null Count   Dtype  \n",
      "---  ------   --------------   -----  \n",
      " 0   f0       100000 non-null  float64\n",
      " 1   f1       100000 non-null  float64\n",
      " 2   f2       100000 non-null  float64\n",
      " 3   product  100000 non-null  float64\n",
      "dtypes: float64(4)\n",
      "memory usage: 3.8+ MB\n"
     ]
    }
   ],
   "source": [
    "geo_data_0.drop_duplicates().info()\n",
    "geo_data_1.drop_duplicates().info()\n",
    "geo_data_2.drop_duplicates().info()"
   ]
  },
  {
   "cell_type": "markdown",
   "metadata": {},
   "source": [
    "Проверим перекрестное совпадение `id` в таблицах и устраним их добавлением номера таблицы"
   ]
  },
  {
   "cell_type": "code",
   "execution_count": 7,
   "metadata": {},
   "outputs": [
    {
     "name": "stdout",
     "output_type": "stream",
     "text": [
      "Количество перекрестных совпадений \"id\" в  таблицах 0 и 1 =  10\n",
      "Количество перекрестных совпадений \"id\" в  таблицах 0 и 2 =  17\n",
      "Количество перекрестных совпадений \"id\" в  таблицах 1 и 2=  4\n"
     ]
    }
   ],
   "source": [
    "print('Количество перекрестных совпадений \"id\" в  таблицах 0 и 1 = ', len(geo_data_0[geo_data_0.index.isin(geo_data_1.index.unique())]))\n",
    "print('Количество перекрестных совпадений \"id\" в  таблицах 0 и 2 = ', len(geo_data_0[geo_data_0.index.isin(geo_data_2.index.unique())]))\n",
    "print('Количество перекрестных совпадений \"id\" в  таблицах 1 и 2= ', len(geo_data_1[geo_data_1.index.isin(geo_data_2.index.unique())]))"
   ]
  },
  {
   "cell_type": "markdown",
   "metadata": {},
   "source": [
    "**Промежуточно**\n",
    "\n",
    "Пропуски в данных отсутствуют, типы данных соответствуют содержанию.\n",
    "Совпадающие индексы скважин по регионам пока оставим без изменения. Перейдем к исследовательскому анализу."
   ]
  },
  {
   "cell_type": "markdown",
   "metadata": {},
   "source": [
    "### 1.4. Исследовательский анализ данных"
   ]
  },
  {
   "cell_type": "code",
   "execution_count": 8,
   "metadata": {},
   "outputs": [
    {
     "data": {
      "text/html": [
       "<div>\n",
       "<style scoped>\n",
       "    .dataframe tbody tr th:only-of-type {\n",
       "        vertical-align: middle;\n",
       "    }\n",
       "\n",
       "    .dataframe tbody tr th {\n",
       "        vertical-align: top;\n",
       "    }\n",
       "\n",
       "    .dataframe thead th {\n",
       "        text-align: right;\n",
       "    }\n",
       "</style>\n",
       "<table border=\"1\" class=\"dataframe\">\n",
       "  <thead>\n",
       "    <tr style=\"text-align: right;\">\n",
       "      <th></th>\n",
       "      <th>f0</th>\n",
       "      <th>f1</th>\n",
       "      <th>f2</th>\n",
       "      <th>product</th>\n",
       "    </tr>\n",
       "  </thead>\n",
       "  <tbody>\n",
       "    <tr>\n",
       "      <th>count</th>\n",
       "      <td>100000.000000</td>\n",
       "      <td>100000.000000</td>\n",
       "      <td>100000.000000</td>\n",
       "      <td>100000.000000</td>\n",
       "    </tr>\n",
       "    <tr>\n",
       "      <th>mean</th>\n",
       "      <td>0.500419</td>\n",
       "      <td>0.250143</td>\n",
       "      <td>2.502647</td>\n",
       "      <td>92.500000</td>\n",
       "    </tr>\n",
       "    <tr>\n",
       "      <th>std</th>\n",
       "      <td>0.871832</td>\n",
       "      <td>0.504433</td>\n",
       "      <td>3.248248</td>\n",
       "      <td>44.288691</td>\n",
       "    </tr>\n",
       "    <tr>\n",
       "      <th>min</th>\n",
       "      <td>-1.408605</td>\n",
       "      <td>-0.848218</td>\n",
       "      <td>-12.088328</td>\n",
       "      <td>0.000000</td>\n",
       "    </tr>\n",
       "    <tr>\n",
       "      <th>25%</th>\n",
       "      <td>-0.072580</td>\n",
       "      <td>-0.200881</td>\n",
       "      <td>0.287748</td>\n",
       "      <td>56.497507</td>\n",
       "    </tr>\n",
       "    <tr>\n",
       "      <th>50%</th>\n",
       "      <td>0.502360</td>\n",
       "      <td>0.250252</td>\n",
       "      <td>2.515969</td>\n",
       "      <td>91.849972</td>\n",
       "    </tr>\n",
       "    <tr>\n",
       "      <th>75%</th>\n",
       "      <td>1.073581</td>\n",
       "      <td>0.700646</td>\n",
       "      <td>4.715088</td>\n",
       "      <td>128.564089</td>\n",
       "    </tr>\n",
       "    <tr>\n",
       "      <th>max</th>\n",
       "      <td>2.362331</td>\n",
       "      <td>1.343769</td>\n",
       "      <td>16.003790</td>\n",
       "      <td>185.364347</td>\n",
       "    </tr>\n",
       "  </tbody>\n",
       "</table>\n",
       "</div>"
      ],
      "text/plain": [
       "                  f0             f1             f2        product\n",
       "count  100000.000000  100000.000000  100000.000000  100000.000000\n",
       "mean        0.500419       0.250143       2.502647      92.500000\n",
       "std         0.871832       0.504433       3.248248      44.288691\n",
       "min        -1.408605      -0.848218     -12.088328       0.000000\n",
       "25%        -0.072580      -0.200881       0.287748      56.497507\n",
       "50%         0.502360       0.250252       2.515969      91.849972\n",
       "75%         1.073581       0.700646       4.715088     128.564089\n",
       "max         2.362331       1.343769      16.003790     185.364347"
      ]
     },
     "execution_count": 8,
     "metadata": {},
     "output_type": "execute_result"
    }
   ],
   "source": [
    "geo_data_0.describe()"
   ]
  },
  {
   "cell_type": "code",
   "execution_count": 9,
   "metadata": {},
   "outputs": [
    {
     "data": {
      "text/html": [
       "<div>\n",
       "<style scoped>\n",
       "    .dataframe tbody tr th:only-of-type {\n",
       "        vertical-align: middle;\n",
       "    }\n",
       "\n",
       "    .dataframe tbody tr th {\n",
       "        vertical-align: top;\n",
       "    }\n",
       "\n",
       "    .dataframe thead th {\n",
       "        text-align: right;\n",
       "    }\n",
       "</style>\n",
       "<table border=\"1\" class=\"dataframe\">\n",
       "  <thead>\n",
       "    <tr style=\"text-align: right;\">\n",
       "      <th></th>\n",
       "      <th>f0</th>\n",
       "      <th>f1</th>\n",
       "      <th>f2</th>\n",
       "      <th>product</th>\n",
       "    </tr>\n",
       "  </thead>\n",
       "  <tbody>\n",
       "    <tr>\n",
       "      <th>count</th>\n",
       "      <td>100000.000000</td>\n",
       "      <td>100000.000000</td>\n",
       "      <td>100000.000000</td>\n",
       "      <td>100000.000000</td>\n",
       "    </tr>\n",
       "    <tr>\n",
       "      <th>mean</th>\n",
       "      <td>1.141296</td>\n",
       "      <td>-4.796579</td>\n",
       "      <td>2.494541</td>\n",
       "      <td>68.825000</td>\n",
       "    </tr>\n",
       "    <tr>\n",
       "      <th>std</th>\n",
       "      <td>8.965932</td>\n",
       "      <td>5.119872</td>\n",
       "      <td>1.703572</td>\n",
       "      <td>45.944423</td>\n",
       "    </tr>\n",
       "    <tr>\n",
       "      <th>min</th>\n",
       "      <td>-31.609576</td>\n",
       "      <td>-26.358598</td>\n",
       "      <td>-0.018144</td>\n",
       "      <td>0.000000</td>\n",
       "    </tr>\n",
       "    <tr>\n",
       "      <th>25%</th>\n",
       "      <td>-6.298551</td>\n",
       "      <td>-8.267985</td>\n",
       "      <td>1.000021</td>\n",
       "      <td>26.953261</td>\n",
       "    </tr>\n",
       "    <tr>\n",
       "      <th>50%</th>\n",
       "      <td>1.153055</td>\n",
       "      <td>-4.813172</td>\n",
       "      <td>2.011479</td>\n",
       "      <td>57.085625</td>\n",
       "    </tr>\n",
       "    <tr>\n",
       "      <th>75%</th>\n",
       "      <td>8.621015</td>\n",
       "      <td>-1.332816</td>\n",
       "      <td>3.999904</td>\n",
       "      <td>107.813044</td>\n",
       "    </tr>\n",
       "    <tr>\n",
       "      <th>max</th>\n",
       "      <td>29.421755</td>\n",
       "      <td>18.734063</td>\n",
       "      <td>5.019721</td>\n",
       "      <td>137.945408</td>\n",
       "    </tr>\n",
       "  </tbody>\n",
       "</table>\n",
       "</div>"
      ],
      "text/plain": [
       "                  f0             f1             f2        product\n",
       "count  100000.000000  100000.000000  100000.000000  100000.000000\n",
       "mean        1.141296      -4.796579       2.494541      68.825000\n",
       "std         8.965932       5.119872       1.703572      45.944423\n",
       "min       -31.609576     -26.358598      -0.018144       0.000000\n",
       "25%        -6.298551      -8.267985       1.000021      26.953261\n",
       "50%         1.153055      -4.813172       2.011479      57.085625\n",
       "75%         8.621015      -1.332816       3.999904     107.813044\n",
       "max        29.421755      18.734063       5.019721     137.945408"
      ]
     },
     "execution_count": 9,
     "metadata": {},
     "output_type": "execute_result"
    }
   ],
   "source": [
    "geo_data_1.describe()"
   ]
  },
  {
   "cell_type": "code",
   "execution_count": 10,
   "metadata": {
    "scrolled": true
   },
   "outputs": [
    {
     "data": {
      "text/html": [
       "<div>\n",
       "<style scoped>\n",
       "    .dataframe tbody tr th:only-of-type {\n",
       "        vertical-align: middle;\n",
       "    }\n",
       "\n",
       "    .dataframe tbody tr th {\n",
       "        vertical-align: top;\n",
       "    }\n",
       "\n",
       "    .dataframe thead th {\n",
       "        text-align: right;\n",
       "    }\n",
       "</style>\n",
       "<table border=\"1\" class=\"dataframe\">\n",
       "  <thead>\n",
       "    <tr style=\"text-align: right;\">\n",
       "      <th></th>\n",
       "      <th>f0</th>\n",
       "      <th>f1</th>\n",
       "      <th>f2</th>\n",
       "      <th>product</th>\n",
       "    </tr>\n",
       "  </thead>\n",
       "  <tbody>\n",
       "    <tr>\n",
       "      <th>count</th>\n",
       "      <td>100000.000000</td>\n",
       "      <td>100000.000000</td>\n",
       "      <td>100000.000000</td>\n",
       "      <td>100000.000000</td>\n",
       "    </tr>\n",
       "    <tr>\n",
       "      <th>mean</th>\n",
       "      <td>0.002023</td>\n",
       "      <td>-0.002081</td>\n",
       "      <td>2.495128</td>\n",
       "      <td>95.000000</td>\n",
       "    </tr>\n",
       "    <tr>\n",
       "      <th>std</th>\n",
       "      <td>1.732045</td>\n",
       "      <td>1.730417</td>\n",
       "      <td>3.473445</td>\n",
       "      <td>44.749921</td>\n",
       "    </tr>\n",
       "    <tr>\n",
       "      <th>min</th>\n",
       "      <td>-8.760004</td>\n",
       "      <td>-7.084020</td>\n",
       "      <td>-11.970335</td>\n",
       "      <td>0.000000</td>\n",
       "    </tr>\n",
       "    <tr>\n",
       "      <th>25%</th>\n",
       "      <td>-1.162288</td>\n",
       "      <td>-1.174820</td>\n",
       "      <td>0.130359</td>\n",
       "      <td>59.450441</td>\n",
       "    </tr>\n",
       "    <tr>\n",
       "      <th>50%</th>\n",
       "      <td>0.009424</td>\n",
       "      <td>-0.009482</td>\n",
       "      <td>2.484236</td>\n",
       "      <td>94.925613</td>\n",
       "    </tr>\n",
       "    <tr>\n",
       "      <th>75%</th>\n",
       "      <td>1.158535</td>\n",
       "      <td>1.163678</td>\n",
       "      <td>4.858794</td>\n",
       "      <td>130.595027</td>\n",
       "    </tr>\n",
       "    <tr>\n",
       "      <th>max</th>\n",
       "      <td>7.238262</td>\n",
       "      <td>7.844801</td>\n",
       "      <td>16.739402</td>\n",
       "      <td>190.029838</td>\n",
       "    </tr>\n",
       "  </tbody>\n",
       "</table>\n",
       "</div>"
      ],
      "text/plain": [
       "                  f0             f1             f2        product\n",
       "count  100000.000000  100000.000000  100000.000000  100000.000000\n",
       "mean        0.002023      -0.002081       2.495128      95.000000\n",
       "std         1.732045       1.730417       3.473445      44.749921\n",
       "min        -8.760004      -7.084020     -11.970335       0.000000\n",
       "25%        -1.162288      -1.174820       0.130359      59.450441\n",
       "50%         0.009424      -0.009482       2.484236      94.925613\n",
       "75%         1.158535       1.163678       4.858794     130.595027\n",
       "max         7.238262       7.844801      16.739402     190.029838"
      ]
     },
     "execution_count": 10,
     "metadata": {},
     "output_type": "execute_result"
    }
   ],
   "source": [
    "geo_data_2.describe()"
   ]
  },
  {
   "cell_type": "markdown",
   "metadata": {},
   "source": [
    "Исследование параметра `f0`"
   ]
  },
  {
   "cell_type": "code",
   "execution_count": 11,
   "metadata": {},
   "outputs": [],
   "source": [
    "def f_hist_box_1(hb1, bins, title, xlabel, ylabel):\n",
    "    f, (ax_box, ax_hist) = plt.subplots(2, sharex=True, figsize=(10,5), gridspec_kw={\"height_ratios\": (.15, .85)})\n",
    "     \n",
    "    sns.boxplot(data=[hb1], orient=\"h\", ax=ax_box)\n",
    "    plt.hist([hb1], \n",
    "             bins=bins, range=(hb1.min(), hb1.max()), label=hb1.name)\n",
    " \n",
    "    plt.legend(loc='upper right')\n",
    "    plt.title(title)\n",
    "    plt.xlabel(xlabel)\n",
    "    plt.ylabel(ylabel)\n",
    "    plt.show()"
   ]
  },
  {
   "cell_type": "code",
   "execution_count": 12,
   "metadata": {},
   "outputs": [
    {
     "data": {
      "image/png": "[encoded data removed]",
      "text/plain": [
       "<Figure size 1000x500 with 2 Axes>"
      ]
     },
     "metadata": {},
     "output_type": "display_data"
    }
   ],
   "source": [
    "f_hist_box_1(\n",
    "    hb1=geo_data_0['f0'],\n",
    "    bins=500,   \n",
    "    title='Параметр \"f0\"',\n",
    "    xlabel='Значение параметра',\n",
    "    ylabel='Количество значений'\n",
    ")"
   ]
  },
  {
   "cell_type": "code",
   "execution_count": 13,
   "metadata": {},
   "outputs": [
    {
     "data": {
      "image/png": "[encoded data removed]",
      "text/plain": [
       "<Figure size 1000x500 with 2 Axes>"
      ]
     },
     "metadata": {},
     "output_type": "display_data"
    }
   ],
   "source": [
    "f_hist_box_1(\n",
    "    hb1=geo_data_1['f0'],\n",
    "    bins=500,   \n",
    "    title='Параметр \"f0\"',\n",
    "    xlabel='Значение параметра',\n",
    "    ylabel='Количество значений'\n",
    ")"
   ]
  },
  {
   "cell_type": "code",
   "execution_count": 14,
   "metadata": {
    "scrolled": false
   },
   "outputs": [
    {
     "data": {
      "image/png": "[encoded data removed]",
      "text/plain": [
       "<Figure size 1000x500 with 2 Axes>"
      ]
     },
     "metadata": {},
     "output_type": "display_data"
    }
   ],
   "source": [
    "f_hist_box_1(\n",
    "    hb1=geo_data_2['f0'],\n",
    "    bins=500,   \n",
    "    title='Параметр \"f0\"',\n",
    "    xlabel='Значение параметра',\n",
    "    ylabel='Количество значений'\n",
    ")"
   ]
  },
  {
   "cell_type": "markdown",
   "metadata": {},
   "source": [
    "Сопоставление данных"
   ]
  },
  {
   "cell_type": "code",
   "execution_count": 15,
   "metadata": {},
   "outputs": [],
   "source": [
    "def f_hist_box_3(hb1, hb2, hb3, bins, title, xlabel, ylabel):\n",
    "    f, (ax_box, ax_hist) = plt.subplots(2, sharex=True, figsize=(10,5), gridspec_kw={\"height_ratios\": (.15, .85)})\n",
    "     \n",
    "    sns.boxplot(data=[hb1, hb2, hb3], orient=\"h\", ax=ax_box)\n",
    "    plt.hist([hb1, hb2, hb3], \n",
    "             bins=bins, range=(min(hb1.min(), hb2.min(), hb3.min()), max(hb1.max(), hb2.max(), hb3.max())), \n",
    "             label=['geo_data_0', 'geo_data_1', 'geo_data_2'])\n",
    " \n",
    "    plt.legend(loc='upper right')\n",
    "    plt.title(title)\n",
    "    plt.xlabel(xlabel)\n",
    "    plt.ylabel(ylabel)\n",
    "    plt.show()"
   ]
  },
  {
   "cell_type": "code",
   "execution_count": 16,
   "metadata": {},
   "outputs": [
    {
     "data": {
      "image/png": "[encoded data removed]",
      "text/plain": [
       "<Figure size 1000x500 with 2 Axes>"
      ]
     },
     "metadata": {},
     "output_type": "display_data"
    }
   ],
   "source": [
    "f_hist_box_3(\n",
    "    hb1=geo_data_0['f0'],\n",
    "    hb2=geo_data_1['f0'],\n",
    "    hb3=geo_data_2['f0'],\n",
    "    bins=50,\n",
    "    title='Параметр \"f0\"',\n",
    "    xlabel='Значение параметра',\n",
    "    ylabel='Количество значений'\n",
    ")"
   ]
  },
  {
   "cell_type": "markdown",
   "metadata": {},
   "source": [
    "Исследование параметра `f1`"
   ]
  },
  {
   "cell_type": "code",
   "execution_count": 18,
   "metadata": {},
   "outputs": [
    {
     "data": {
      "image/png": "[encoded data removed]",
      "text/plain": [
       "<Figure size 1000x500 with 2 Axes>"
      ]
     },
     "metadata": {},
     "output_type": "display_data"
    }
   ],
   "source": [
    "f_hist_box_1(\n",
    "    hb1=geo_data_1['f1'],\n",
    "    bins=500,   \n",
    "    title='Параметр \"f1\"',\n",
    "    xlabel='Значение параметра',\n",
    "    ylabel='Количество значений'\n",
    ")"
   ]
  },
  {
   "cell_type": "code",
   "execution_count": 19,
   "metadata": {},
   "outputs": [
    {
     "data": {
      "image/png": "[encoded data removed]",
      "text/plain": [
       "<Figure size 1000x500 with 2 Axes>"
      ]
     },
     "metadata": {},
     "output_type": "display_data"
    }
   ],
   "source": [
    "f_hist_box_1(\n",
    "    hb1=geo_data_2['f1'],\n",
    "    bins=500,   \n",
    "    title='Параметр \"f1\"',\n",
    "    xlabel='Значение параметра',\n",
    "    ylabel='Количество значений'\n",
    ")"
   ]
  },
  {
   "cell_type": "markdown",
   "metadata": {},
   "source": [
    "Сопоставление данных"
   ]
  },
  {
   "cell_type": "code",
   "execution_count": 20,
   "metadata": {},
   "outputs": [
    {
     "data": {
      "image/png": "[encoded data removed]",
      "text/plain": [
       "<Figure size 1000x500 with 2 Axes>"
      ]
     },
     "metadata": {},
     "output_type": "display_data"
    }
   ],
   "source": [
    "f_hist_box_3(\n",
    "    hb1=geo_data_0['f1'],\n",
    "    hb2=geo_data_1['f1'],\n",
    "    hb3=geo_data_2['f1'],\n",
    "    bins=50,\n",
    "    title='Параметр \"f1\"',\n",
    "    xlabel='Значение параметра',\n",
    "    ylabel='Количество значений'\n",
    ")"
   ]
  },
  {
   "cell_type": "markdown",
   "metadata": {},
   "source": [
    "Исследование параметра `f2`"
   ]
  },
  {
   "cell_type": "code",
   "execution_count": 21,
   "metadata": {},
   "outputs": [
    {
     "data": {
      "image/png": "[encoded data removed]",
      "text/plain": [
       "<Figure size 1000x500 with 2 Axes>"
      ]
     },
     "metadata": {},
     "output_type": "display_data"
    }
   ],
   "source": [
    "f_hist_box_1(\n",
    "    hb1=geo_data_0['f2'],\n",
    "    bins=100,   \n",
    "    title='Параметр \"f2\"',\n",
    "    xlabel='Значение параметра',\n",
    "    ylabel='Количество значений'\n",
    ")"
   ]
  },
  {
   "cell_type": "code",
   "execution_count": 22,
   "metadata": {},
   "outputs": [
    {
     "data": {
      "image/png": "[encoded data removed]",
      "text/plain": [
       "<Figure size 1000x500 with 2 Axes>"
      ]
     },
     "metadata": {},
     "output_type": "display_data"
    }
   ],
   "source": [
    "f_hist_box_1(\n",
    "    hb1=geo_data_1['f2'],\n",
    "    bins=10,   \n",
    "    title='Параметр \"f2\"',\n",
    "    xlabel='Значение параметра',\n",
    "    ylabel='Количество значений'\n",
    ")"
   ]
  },
  {
   "cell_type": "markdown",
   "metadata": {},
   "source": [
    "Сопоставление данных"
   ]
  },
  {
   "cell_type": "code",
   "execution_count": 24,
   "metadata": {
    "scrolled": false
   },
   "outputs": [
    {
     "data": {
      "image/png": "[encoded data removed]",
      "text/plain": [
       "<Figure size 1000x500 with 2 Axes>"
      ]
     },
     "metadata": {},
     "output_type": "display_data"
    }
   ],
   "source": [
    "f_hist_box_3(\n",
    "    hb1=geo_data_0['f2'],\n",
    "    hb2=geo_data_1['f2'],\n",
    "    hb3=geo_data_2['f2'],\n",
    "    bins=50,\n",
    "    title='Параметр \"f2\"',\n",
    "    xlabel='Значение параметра',\n",
    "    ylabel='Количество значений'\n",
    ")"
   ]
  },
  {
   "cell_type": "markdown",
   "metadata": {},
   "source": [
    "Исследование параметра `product`"
   ]
  },
  {
   "cell_type": "code",
   "execution_count": 25,
   "metadata": {},
   "outputs": [
    {
     "data": {
      "image/png": "[encoded data removed]",
      "text/plain": [
       "<Figure size 1000x500 with 2 Axes>"
      ]
     },
     "metadata": {},
     "output_type": "display_data"
    }
   ],
   "source": [
    "f_hist_box_1(\n",
    "    hb1=geo_data_0['product'],\n",
    "    bins=50,   \n",
    "    title='Параметр \"product\"',\n",
    "    xlabel='Значение параметра',\n",
    "    ylabel='Количество значений'\n",
    ")"
   ]
  },
  {
   "cell_type": "code",
   "execution_count": 26,
   "metadata": {},
   "outputs": [
    {
     "data": {
      "image/png": "[encoded data removed]",
      "text/plain": [
       "<Figure size 1000x500 with 2 Axes>"
      ]
     },
     "metadata": {},
     "output_type": "display_data"
    }
   ],
   "source": [
    "f_hist_box_1(\n",
    "    hb1=geo_data_1['product'],\n",
    "    bins=50,   \n",
    "    title='Параметр \"product\"',\n",
    "    xlabel='Значение параметра',\n",
    "    ylabel='Количество значений'\n",
    ")"
   ]
  },
  {
   "cell_type": "code",
   "execution_count": 27,
   "metadata": {
    "scrolled": false
   },
   "outputs": [
    {
     "data": {
      "image/png": "[encoded data removed]",
      "text/plain": [
       "<Figure size 1000x500 with 2 Axes>"
      ]
     },
     "metadata": {},
     "output_type": "display_data"
    }
   ],
   "source": [
    "f_hist_box_1(\n",
    "    hb1=geo_data_2['product'],\n",
    "    bins=100,   \n",
    "    title='Параметр \"product\"',\n",
    "    xlabel='Значение параметра',\n",
    "    ylabel='Количество значений'\n",
    ")"
   ]
  },
  {
   "cell_type": "markdown",
   "metadata": {},
   "source": [
    "Сопоставление данных"
   ]
  },
  {
   "cell_type": "code",
   "execution_count": 28,
   "metadata": {},
   "outputs": [
    {
     "data": {
      "image/png": "[encoded data removed]",
      "text/plain": [
       "<Figure size 1000x500 with 2 Axes>"
      ]
     },
     "metadata": {},
     "output_type": "display_data"
    }
   ],
   "source": [
    "f_hist_box_3(\n",
    "    hb1=geo_data_0['product'],\n",
    "    hb2=geo_data_1['product'],\n",
    "    hb3=geo_data_2['product'],\n",
    "    bins=100,\n",
    "    title='Параметр \"product\"',\n",
    "    xlabel='Значение параметра',\n",
    "    ylabel='Количество значений'\n",
    ")"
   ]
  },
  {
   "cell_type": "markdown",
   "metadata": {},
   "source": [
    "**Промежуточно**\n",
    "\n",
    "+ В данных обнаружено большое количество выбросов, но разброс относительно медианны примерно равномерный.\n",
    "+ Значения параметров по регионам значительно отличаются по всем параметрам.\n",
    "\n",
    "Проведем корреляционный анализ данных."
   ]
  },
  {
   "cell_type": "markdown",
   "metadata": {},
   "source": [
    "### 1.5. Корреляционный анализ данных"
   ]
  },
  {
   "cell_type": "markdown",
   "metadata": {},
   "source": [
    "Корреляция данных `geo_data_0`"
   ]
  },
  {
   "cell_type": "code",
   "execution_count": 29,
   "metadata": {},
   "outputs": [],
   "source": [
    "interval_cols = ['f0', \n",
    "                 'f1', \n",
    "                 'f2', \n",
    "                 'product'\n",
    "                ]"
   ]
  },
  {
   "cell_type": "code",
   "execution_count": 30,
   "metadata": {
    "scrolled": false
   },
   "outputs": [
    {
     "data": {
      "image/png": "[encoded data removed]",
      "text/plain": [
       "<Figure size 1100x1000 with 2 Axes>"
      ]
     },
     "metadata": {},
     "output_type": "display_data"
    }
   ],
   "source": [
    "fig, ax = plt.subplots(figsize=(11, 10))\n",
    "plt.suptitle('Матрица корреляции phi(k) всех столбцов \"geo_data_0\"')\n",
    "sns.heatmap(geo_data_0.phik_matrix(interval_cols=interval_cols), annot=True, cmap='coolwarm');"
   ]
  },
  {
   "cell_type": "markdown",
   "metadata": {},
   "source": [
    "Корреляция данных `geo_data_1`"
   ]
  },
  {
   "cell_type": "code",
   "execution_count": 31,
   "metadata": {
    "scrolled": false
   },
   "outputs": [
    {
     "data": {
      "image/png": "[encoded data removed]",
      "text/plain": [
       "<Figure size 1100x1000 with 2 Axes>"
      ]
     },
     "metadata": {},
     "output_type": "display_data"
    }
   ],
   "source": [
    "fig, ax = plt.subplots(figsize=(11, 10))\n",
    "plt.suptitle('Матрица корреляции phi(k) всех столбцов \"geo_data_1\"')\n",
    "sns.heatmap(geo_data_1.phik_matrix(interval_cols=interval_cols), annot=True, cmap='coolwarm');"
   ]
  },
  {
   "cell_type": "markdown",
   "metadata": {},
   "source": [
    "Корреляция данных `geo_data_2`"
   ]
  },
  {
   "cell_type": "code",
   "execution_count": 32,
   "metadata": {
    "scrolled": false
   },
   "outputs": [
    {
     "data": {
      "image/png": "[encoded data removed]",
      "text/plain": [
       "<Figure size 1100x1000 with 2 Axes>"
      ]
     },
     "metadata": {},
     "output_type": "display_data"
    }
   ],
   "source": [
    "fig, ax = plt.subplots(figsize=(11, 10))\n",
    "plt.suptitle('Матрица корреляции phi(k) всех столбцов \"geo_data_2\"')\n",
    "sns.heatmap(geo_data_2.phik_matrix(interval_cols=interval_cols), annot=True, cmap='coolwarm');"
   ]
  },
  {
   "cell_type": "markdown",
   "metadata": {},
   "source": [
    "**Промежуточно**\n",
    "\n",
    "Провели корреляционный анализ данных:\n",
    "+ в данных обнаружены выбросы, , но разброс относительно медианны примерно равномерный\n",
    "+ Между входными параметрами данных по всем регионам отсутствует связь выше 0,9 следовательно при обучении модели учитывать мультиколлинеарность не надо (максимальное значение корреляция phi(k) (учитывает нелинейную зависимость и возвращается к коэффициенту корреляции Пирсона в случае бинарного нормального распределения входных данных)\n",
    "+ Между признаками и целевым показателем по регионам значения разные. \n",
    "+ В данных `geo_data_1` прослеживается прямая зависимость (phi(k) = 0,98) между входным параметром `f2` и целевым признаком `product` \n",
    "\n",
    "Перейдем к обучению и проверке модели."
   ]
  },
  {
   "cell_type": "markdown",
   "metadata": {},
   "source": [
    "## 2. Обучение и проверка модели"
   ]
  },
  {
   "cell_type": "markdown",
   "metadata": {},
   "source": [
    "По условию задачи: Для обучения модели подходит только линейная регрессия (остальные — недостаточно предсказуемые)."
   ]
  },
  {
   "cell_type": "code",
   "execution_count": 33,
   "metadata": {
    "scrolled": false
   },
   "outputs": [
    {
     "name": "stdout",
     "output_type": "stream",
     "text": [
      "//////////\n",
      "Для данных \"geo_predict_0\" выборка поделена на `Обучающую:Валидационную` в размере 0.75:0.25\n",
      "----------\n",
      "Метрика лучшей модели на на кросс-валидации:37.673\n",
      "----------\n",
      "Значение RMSE  на обучающей выборке: 37.670\n",
      "Значение RMSE  на тестовой выборке: 37.757\n",
      "----------\n",
      "Средний запас фактического сырья по валидационной выборке = 92.33 тыс. баррелей\n",
      "Средний запас предсказанного сырья по валидационной выборке = 92.40 тыс. баррелей\n",
      "Разница = 0.08%\n",
      "//////////\n",
      "Для данных \"geo_predict_1\" выборка поделена на `Обучающую:Валидационную` в размере 0.75:0.25\n",
      "----------\n",
      "Метрика лучшей модели на на кросс-валидации:0.890\n",
      "----------\n",
      "Значение RMSE  на обучающей выборке: 0.890\n",
      "Значение RMSE  на тестовой выборке: 0.890\n",
      "----------\n",
      "Средний запас фактического сырья по валидационной выборке = 68.73 тыс. баррелей\n",
      "Средний запас предсказанного сырья по валидационной выборке = 68.71 тыс. баррелей\n",
      "Разница = -0.02%\n",
      "//////////\n",
      "Для данных \"geo_predict_2\" выборка поделена на `Обучающую:Валидационную` в размере 0.75:0.25\n",
      "----------\n",
      "Метрика лучшей модели на на кросс-валидации:40.027\n",
      "----------\n",
      "Значение RMSE  на обучающей выборке: 40.025\n",
      "Значение RMSE  на тестовой выборке: 40.146\n",
      "----------\n",
      "Средний запас фактического сырья по валидационной выборке = 95.15 тыс. баррелей\n",
      "Средний запас предсказанного сырья по валидационной выборке = 94.77 тыс. баррелей\n",
      "Разница = -0.40%\n"
     ]
    }
   ],
   "source": [
    "RANDOM_STATE = 42\n",
    "\n",
    "names = ['geo_predict_0', 'geo_predict_1', 'geo_predict_2']\n",
    "data = [geo_data_0, geo_data_1, geo_data_2]\n",
    "targets_1 = {}\n",
    "targets = {}\n",
    "\n",
    "for name, data in zip(names, data):\n",
    "    \n",
    "    X = data.drop(columns='product')\n",
    "    y = data['product']\n",
    "\n",
    "    X_train, X_test, y_train, y_test = train_test_split(\n",
    "        X, \n",
    "        y,\n",
    "        random_state=RANDOM_STATE\n",
    "    )\n",
    "    \n",
    "    param_grid = [\n",
    "\n",
    "    {\n",
    "        'models': [LinearRegression()],\n",
    "        'preprocessor__num': [StandardScaler(), \n",
    "                              MinMaxScaler(), \n",
    "                              RobustScaler(), \n",
    "                              'passthrough']   \n",
    "    },\n",
    "\n",
    "    ]\n",
    "    \n",
    "    num_columns = ['f0', 'f1', 'f2']\n",
    "    data_preprocessor = ColumnTransformer(\n",
    "    [('num', RobustScaler(), num_columns)\n",
    "    ], \n",
    "    remainder='passthrough'\n",
    "    )\n",
    "\n",
    "\n",
    "    pipe_final = Pipeline([\n",
    "    ('preprocessor', data_preprocessor),\n",
    "    ('models', LinearRegression())\n",
    "    ])\n",
    "\n",
    "    rs = RandomizedSearchCV(\n",
    "    pipe_final, \n",
    "    param_grid, \n",
    "    cv=5,\n",
    "    scoring='neg_mean_squared_error',\n",
    "    random_state=RANDOM_STATE,\n",
    "    n_jobs=-1\n",
    "    )\n",
    "\n",
    "    rs.fit(X_train, y_train)\n",
    "    \n",
    "    targets_1[name] =  pd.concat([pd.DataFrame(y).reset_index(), pd.DataFrame(data=rs.predict(X), columns=['predict'])], axis=1)\n",
    "    \n",
    "    targets[name] =  pd.concat([pd.DataFrame(y_test).reset_index(), pd.DataFrame(data=rs.predict(X_test), columns=['predict'])], axis=1)\n",
    "    print('//////////')\n",
    "    print(f'Для данных \"{name}\" выборка поделена на `Обучающую:Валидационную` в размере {X_train.shape[0]/X.shape[0]}:{X_test.shape[0]/X.shape[0]}')\n",
    "    #print('Параметры лучшей модели', rs.best_params_)\n",
    "    print('----------')\n",
    "    print(f'Метрика лучшей модели на на кросс-валидации:{(abs(rs.best_score_)**0.5):.3f}')\n",
    "    print('----------')\n",
    "    rmse_train = (mean_squared_error(y_train, rs.predict(X_train)))**0.5\n",
    "    print(f'Значение RMSE  на обучающей выборке: {rmse_train:.3f}')\n",
    "    rmse_test = (mean_squared_error(y_test, rs.predict(X_test)))**0.5\n",
    "    print(f'Значение RMSE  на тестовой выборке: {rmse_test:.3f}')\n",
    "    print('----------')\n",
    "    print(f'Средний запас фактического сырья по валидационной выборке = {y_test.mean():.2f} тыс. баррелей')\n",
    "    print(f'Средний запас предсказанного сырья по валидационной выборке = {rs.predict(X_test).mean():.2f} тыс. баррелей')\n",
    "    print(f'Разница = {(1-y_test.mean().mean()/rs.predict(X_test).mean()):.2%}')    "
   ]
  },
  {
   "cell_type": "markdown",
   "metadata": {},
   "source": [
    "**Промежуточно**\n",
    "\n",
    "В процессе обучения и проверки модели:\n",
    "+ Разобили данные на обучающую и валидационную выборки в соотношении 75:25\n",
    "+ Обучили модель и сделали предсказания на валидационной выборке\n",
    "+ Сохранили предсказания и правильные ответы на валидационной выборке в `targets`\n",
    "+ Расчитали средний запас предсказанного сырья на валидационной выборке\n",
    "+ Расчитали RMSE модели\n",
    "\n",
    "Проанализируем результаты:\n",
    "Показатель RMSE (корень из среднеквадратичной ошибки) для данных `geo_predict_1` составляет 0.890, а для `geo_predict_0` и `geo_predict_2` 37.757 и 40.146 соответственно, что указывает на большой разброс данных и отсутствие прямой зависимости между входными и целевым показателями (подтверждается корреляционным анализом), следовательно предсказанные значения не отражают реальные запасы сырья с высокой точностью."
   ]
  },
  {
   "cell_type": "markdown",
   "metadata": {},
   "source": [
    "## 3. Подготовка к расчёту прибыли"
   ]
  },
  {
   "cell_type": "markdown",
   "metadata": {},
   "source": [
    "### 3.1. Все ключевые значения для расчётов сохраним в отдельных переменных   "
   ]
  },
  {
   "cell_type": "code",
   "execution_count": 34,
   "metadata": {},
   "outputs": [],
   "source": [
    "# количество скважин, которое исследуют при разведке региона\n",
    "POINTS = 500 \n",
    "# количество лучших скважин, которые нужно выбрать для разработки в каждом регионе с помощью машинного обучения\n",
    "BEST_POINTS = 200 \n",
    "# бюджет (расходы) на разработку скважин в регионе (тыс. рублей), заложенный на 200 скважин\n",
    "BUDGET = 10e9\n",
    "# доход с каждой единицы продукта (тыс. рублей на 1 тыс. баррелей)\n",
    "BARREL_PRICE = 450_000\n",
    "# предел вероятности убытков меньше\n",
    "LIMIT = 0.025"
   ]
  },
  {
   "cell_type": "markdown",
   "metadata": {},
   "source": [
    "### 3.2. Рассчитаем достаточный объём сырья для безубыточной разработки новой скважины, проведем сравнение со средним"
   ]
  },
  {
   "cell_type": "code",
   "execution_count": 35,
   "metadata": {
    "scrolled": true
   },
   "outputs": [
    {
     "name": "stdout",
     "output_type": "stream",
     "text": [
      "Достаточный объём сырья для безубыточной разработки = 111.11 тыс. баррелей.\n",
      "\n",
      "Средний запас в geo_predict_0 регионе = 92.50 тыс. баррелей.\n",
      "Количество скважин c объёмом больше 111.11 тыс. баррелей по исходным данным = 36583 или 36.58%\n",
      "Количество скважин c объёмом больше 111.11 тыс. баррелей по предсказанным данным = 21471 или 21.47%\n",
      "Количество скважин c объёмом больше 111.11 тыс. баррелей по верификационным данным = 5258 или 21.03%\n",
      "\n",
      "Средний запас в geo_predict_1 регионе = 68.83 тыс. баррелей.\n",
      "Количество скважин c объёмом больше 111.11 тыс. баррелей по исходным данным = 16537 или 16.54%\n",
      "Количество скважин c объёмом больше 111.11 тыс. баррелей по предсказанным данным = 18185 или 18.19%\n",
      "Количество скважин c объёмом больше 111.11 тыс. баррелей по верификационным данным = 4520 или 18.08%\n",
      "\n",
      "Средний запас в geo_predict_2 регионе = 95.00 тыс. баррелей.\n",
      "Количество скважин c объёмом больше 111.11 тыс. баррелей по исходным данным = 38178 или 38.18%\n",
      "Количество скважин c объёмом больше 111.11 тыс. баррелей по предсказанным данным = 21051 или 21.05%\n",
      "Количество скважин c объёмом больше 111.11 тыс. баррелей по верификационным данным = 5239 или 20.96%\n"
     ]
    }
   ],
   "source": [
    "names = [\"geo_predict_0\", \"geo_predict_1\", \"geo_predict_2\"]\n",
    "data = [geo_data_0, geo_data_1, geo_data_2]\n",
    "\n",
    "break_even = BUDGET / (BARREL_PRICE * BEST_POINTS)\n",
    "print(f'Достаточный объём сырья для безубыточной разработки = {break_even:.2f} тыс. баррелей.')\n",
    "\n",
    "for name, data in zip(names, data):\n",
    "    print()\n",
    "    print(f'Средний запас в {name} регионе = {data[\"product\"].mean():.2f} тыс. баррелей.')\n",
    "    \n",
    "    print(f'Количество скважин c объёмом больше {break_even:.2f} тыс. баррелей по исходным данным = \\\n",
    "{len(targets_1[name].query(\"product > @break_even\"))} или \\\n",
    "{len(targets_1[name].query(\"product > @break_even\")) / len(targets_1[name]):.2%}')\n",
    "\n",
    "    print(f'Количество скважин c объёмом больше {break_even:.2f} тыс. баррелей по предсказанным данным = \\\n",
    "{len(targets_1[name].query(\"predict > @break_even\"))} или \\\n",
    "{len(targets_1[name].query(\"predict > @break_even\")) / len(targets_1[name]):.2%}')\n",
    "    \n",
    "    print(f'Количество скважин c объёмом больше {break_even:.2f} тыс. баррелей по верификационным данным = \\\n",
    "{len(targets[name].query(\"predict > @break_even\"))} или \\\n",
    "{len(targets[name].query(\"predict > @break_even\")) / len(targets[name]):.2%}')\n"
   ]
  },
  {
   "cell_type": "markdown",
   "metadata": {},
   "source": [
    "**Промежуточно**\n",
    "\n",
    "+ Все ключевые значения для расчётов сохранили в отдельных переменных.\n",
    "+ Достаточный объём сырья скважины для безубыточной разработки составляет 111.11 тыс. баррелей и он значительно превышает средние запасы по всем регионам, что может привести к убыткам при неправильном выборе разрабатываемых скважин."
   ]
  },
  {
   "cell_type": "markdown",
   "metadata": {},
   "source": [
    "## 4. Расчёт прибыли и рисков "
   ]
  },
  {
   "cell_type": "markdown",
   "metadata": {},
   "source": [
    "### 4.1. Подготовим функцию расчёта прибыли"
   ]
  },
  {
   "cell_type": "markdown",
   "metadata": {},
   "source": [
    "Функцию для расчёта прибыли по выбранным скважинам и предсказаниям модели должна соответствовать:\n",
    "+ Отбор скважин с максимальными значениями предсказаний. \n",
    "+ Сумма целевого значения объёма сырья, соответствующее этим предсказаниям.\n",
    "+ Рассчет прибыли для полученного объёма сырья."
   ]
  },
  {
   "cell_type": "code",
   "execution_count": 36,
   "metadata": {},
   "outputs": [],
   "source": [
    "def f_profit(product_sample, predict_sample, count):\n",
    "    predict_sample = predict_sample[~predict_sample.index.duplicated()]\n",
    "    # Прогнозный семплированный объем, отсортирован и срезан по  ограничению количества скважин\n",
    "    probs_sorted = predict_sample.sort_values(ascending=False)[:count]\n",
    "    # Отобраны разведанные объемы по  предыдущему срезу\n",
    "    selected = product_sample[probs_sorted.index]\n",
    "    # Суммарный объем скважин умножен на стоимость барреля за вычетом вложенного бюджета\n",
    "    return selected.sum() * BARREL_PRICE - BUDGET"
   ]
  },
  {
   "cell_type": "markdown",
   "metadata": {},
   "source": [
    "**Промежуточно**\n",
    "\n",
    "Функция расчета прибыли подготовлена."
   ]
  },
  {
   "cell_type": "markdown",
   "metadata": {},
   "source": [
    "### 4.2. Посчитаем риски и прибыль для каждого региона"
   ]
  },
  {
   "cell_type": "code",
   "execution_count": 37,
   "metadata": {
    "scrolled": false
   },
   "outputs": [
    {
     "name": "stdout",
     "output_type": "stream",
     "text": [
      "----------\n",
      "Для региона: geo_predict_0 риск 4.20% > 2.50% \n",
      "----------\n"
     ]
    },
    {
     "data": {
      "image/png": "[encoded data removed]",
      "text/plain": [
       "<Figure size 1600x500 with 1 Axes>"
      ]
     },
     "metadata": {},
     "output_type": "display_data"
    },
    {
     "name": "stdout",
     "output_type": "stream",
     "text": [
      "\n",
      "Для geo_predict_1 региона:\n",
      "Средняя валовая прибыль с 200 лучших скважин, отобраных по предсказанию = 516 млн. рублей.\n",
      "Доверительный интервал лежит между 89 - 928 млн. рублей.\n",
      "Риск убытков составляет = 0.60%\n",
      "----------\n",
      "Для региона: geo_predict_2 риск 5.10% > 2.50% \n",
      "----------\n"
     ]
    }
   ],
   "source": [
    "STATE = np.random.RandomState(12345)\n",
    "\n",
    "for name in names:\n",
    "    values = []\n",
    "    for i in range(1000):\n",
    "        product_sample = targets[name]['product'].sample(POINTS, replace=True, random_state=STATE)\n",
    "        predict_sample = targets[name]['predict'][product_sample.index]\n",
    "        values.append(f_profit(product_sample, predict_sample, BEST_POINTS))\n",
    "        \n",
    "    values = pd.Series(values)\n",
    "     \n",
    "    mean = values.mean() / 1_000_000\n",
    "    lower = values.quantile(0.025) / 1_000_000\n",
    "    upper = values.quantile(0.975) / 1_000_000\n",
    "    \n",
    "    risk = values.apply(lambda x: x < 0).sum() / len(values)\n",
    "    if risk > LIMIT:\n",
    "        print('----------')\n",
    "        print(f'Для региона: {name} риск {risk:.2%} > {LIMIT:.2%} ')\n",
    "        print('----------')\n",
    "        continue\n",
    "    \n",
    "    # визуализируем\n",
    "    values.hist(figsize=(16, 5), bins=50)\n",
    "    plt.grid(True)\n",
    "    plt.axvline(values.quantile(0.025), color='violet')\n",
    "    plt.axvline(values.quantile(0.975), color='gold')\n",
    "    plt.legend(['Нижняя граница 95%-го доверительного интервала', \n",
    "                'Верхняя граница 95%-го доверительного интервала', f'Распределение прибыли для региона {name}'])\n",
    "    plt.xlabel('Прибыль, млр.руб.')\n",
    "    plt.ylabel('Количество скважин из 200')\n",
    "    plt.title(f'Распределение прибыли для региона {name}')\n",
    "    plt.show()\n",
    "\n",
    "    print()\n",
    "    print(f'Для {name} региона:')\n",
    "    print(f'Средняя валовая прибыль с 200 лучших скважин, отобраных по предсказанию = {mean:.0f} млн. рублей.')\n",
    "    print(f'Доверительный интервал лежит между {lower:.0f} - {upper:.0f} млн. рублей.')\n",
    "    print(f'Риск убытков составляет = {risk:.2%}')"
   ]
  },
  {
   "cell_type": "markdown",
   "metadata": {},
   "source": [
    "**Промежуточно**\n",
    "\n",
    "+ Для распределения прибыли применили технику Bootstrap на 1000 выборок (случайный выбор 500 скважин в регионе по предсказанным данным по каждому региону), отбор из них 200 с максимальным запасом и расчетали распределение прибыли.\n",
    "+ Расчитали среднюю прибыль по регионам при случайном выборе 500 скважин.\n",
    "+ Расчитали риск возникновения убытков при случайном отборе 500 скважин.\n",
    "+ Расчитали 95%-й доверительный интервал для каждого региона при случайном отборе 500 скважин.\n",
    "+ Отобрали регионы удовлетворяющие условию (возникновение риска < 2.5%)  и построили для него гистограмму распределения прибыли, при случайном отборе 500 скважин.\n",
    "\n",
    "После оценки рисков перспективным регионом для разработки является `geo_predict_1`, в котором вероятность убытков меньше 2.5%, при этом средняя прибыль по нему составляет 516 млн. руб., доверительным интервалом 89 - 928 млн. рублей и риском возникновения убытков 0,60%"
   ]
  },
  {
   "cell_type": "markdown",
   "metadata": {},
   "source": [
    "**Общий вывод:**\n",
    "\n",
    "В процессе проведенного анализа предлагается выбрать регион для разработки с данными `geo_predict_1`, с риском возникновения убытков 0,60% (при случайном выборе 500 скважин и отборе из них 200 лучших), что во много раз меньше допустимых 2.5%, средняя прибыль по региону составит 516 млн. руб., при 95% доверительном интервале 89 - 928 млн. рублей.\n",
    "\n",
    "Для снижения рисков и увеличения прибыли предлагается: отбор скважин для разработки выбирать с разведанным запасом нефти более 111.11 тыс. баррелей"
   ]
  },
  {
   "cell_type": "code",
   "execution_count": 38,
   "metadata": {},
   "outputs": [
    {
     "name": "stdout",
     "output_type": "stream",
     "text": [
      "Время работы кода: 46.53 секунд\n"
     ]
    }
   ],
   "source": [
    "end_time = time.time()\n",
    "elapsed_time = end_time - start_time\n",
    "print(f'Время работы кода: {elapsed_time:.2f} секунд')"
   ]
  },
  {
   "cell_type": "markdown",
   "metadata": {},
   "source": [
    "## 5. Чек-лист готовности проекта"
   ]
  },
  {
   "cell_type": "markdown",
   "metadata": {},
   "source": [
    "Поставьте 'x' в выполненных пунктах. Далее нажмите Shift+Enter."
   ]
  },
  {
   "cell_type": "markdown",
   "metadata": {},
   "source": [
    "- [x]  Jupyter Notebook открыт\n",
    "- [x]  Весь код выполняется без ошибок\n",
    "- [x]  Ячейки с кодом расположены в порядке исполнения\n",
    "- [x]  Выполнен шаг 1: данные подготовлены\n",
    "- [x]  Выполнен шаг 2: модели обучены и проверены\n",
    "    - [x]  Данные корректно разбиты на обучающую и валидационную выборки\n",
    "    - [x]  Модели обучены, предсказания сделаны\n",
    "    - [x]  Предсказания и правильные ответы на валидационной выборке сохранены\n",
    "    - [x]  На экране напечатаны результаты\n",
    "    - [x]  Сделаны выводы\n",
    "- [x]  Выполнен шаг 3: проведена подготовка к расчёту прибыли\n",
    "    - [x]  Для всех ключевых значений созданы константы Python\n",
    "    - [x]  Посчитано минимальное среднее количество продукта в месторождениях региона, достаточное для разработки\n",
    "    - [x]  По предыдущему пункту сделаны выводы\n",
    "    - [x]  Написана функция расчёта прибыли\n",
    "- [x]  Выполнен шаг 4: посчитаны риски и прибыль\n",
    "    - [x]  Проведена процедура *Bootstrap*\n",
    "    - [x]  Все параметры бутстрепа соответствуют условию\n",
    "    - [x]  Найдены все нужные величины\n",
    "    - [x]  Предложен регион для разработки месторождения\n",
    "    - [x]  Выбор региона обоснован"
   ]
  }
 ],
 "metadata": {
  "ExecuteTimeLog": [
   {
    "duration": 85,
    "start_time": "2024-04-29T12:47:52.381Z"
   },
   {
    "duration": 26,
    "start_time": "2024-04-29T12:48:30.494Z"
   },
   {
    "duration": 13,
    "start_time": "2024-04-29T12:48:38.948Z"
   },
   {
    "duration": 8,
    "start_time": "2024-04-29T12:48:49.170Z"
   },
   {
    "duration": 20,
    "start_time": "2024-04-29T12:49:00.389Z"
   },
   {
    "duration": 9,
    "start_time": "2024-04-29T12:49:11.312Z"
   },
   {
    "duration": 15,
    "start_time": "2024-04-29T12:49:34.486Z"
   },
   {
    "duration": 26,
    "start_time": "2024-04-29T12:50:42.099Z"
   },
   {
    "duration": 18,
    "start_time": "2024-04-29T12:50:42.127Z"
   },
   {
    "duration": 9,
    "start_time": "2024-04-29T12:53:07.000Z"
   },
   {
    "duration": 7,
    "start_time": "2024-04-29T12:54:45.906Z"
   },
   {
    "duration": 73,
    "start_time": "2024-04-29T12:57:01.277Z"
   },
   {
    "duration": 74,
    "start_time": "2024-04-29T12:57:45.787Z"
   },
   {
    "duration": 8,
    "start_time": "2024-04-29T12:58:05.635Z"
   },
   {
    "duration": 7,
    "start_time": "2024-04-29T12:59:36.270Z"
   },
   {
    "duration": 9,
    "start_time": "2024-04-29T13:08:03.573Z"
   },
   {
    "duration": 8,
    "start_time": "2024-04-29T13:09:59.655Z"
   },
   {
    "duration": 8,
    "start_time": "2024-04-29T13:10:14.800Z"
   },
   {
    "duration": 5,
    "start_time": "2024-04-29T13:10:19.776Z"
   },
   {
    "duration": 4,
    "start_time": "2024-04-29T13:15:25.218Z"
   },
   {
    "duration": 6,
    "start_time": "2024-04-29T13:24:24.995Z"
   },
   {
    "duration": 5,
    "start_time": "2024-04-29T13:24:54.951Z"
   },
   {
    "duration": 5,
    "start_time": "2024-04-29T13:25:00.596Z"
   },
   {
    "duration": 5,
    "start_time": "2024-04-29T13:54:08.555Z"
   },
   {
    "duration": 11,
    "start_time": "2024-04-29T13:55:14.629Z"
   },
   {
    "duration": 4,
    "start_time": "2024-04-29T13:55:14.645Z"
   },
   {
    "duration": 11,
    "start_time": "2024-04-29T13:58:14.426Z"
   },
   {
    "duration": 9,
    "start_time": "2024-04-29T13:58:14.438Z"
   },
   {
    "duration": 53,
    "start_time": "2024-04-30T05:41:37.037Z"
   },
   {
    "duration": 176,
    "start_time": "2024-04-30T05:42:31.951Z"
   },
   {
    "duration": 4,
    "start_time": "2024-04-30T05:42:47.679Z"
   },
   {
    "duration": 4,
    "start_time": "2024-04-30T05:43:23.551Z"
   },
   {
    "duration": 4,
    "start_time": "2024-04-30T05:43:57.800Z"
   },
   {
    "duration": 4,
    "start_time": "2024-04-30T05:57:01.667Z"
   },
   {
    "duration": 5,
    "start_time": "2024-04-30T05:57:04.795Z"
   },
   {
    "duration": 4,
    "start_time": "2024-04-30T05:58:10.831Z"
   },
   {
    "duration": 5,
    "start_time": "2024-04-30T05:59:04.977Z"
   },
   {
    "duration": 13,
    "start_time": "2024-04-30T05:59:25.319Z"
   },
   {
    "duration": 4,
    "start_time": "2024-04-30T06:01:04.174Z"
   },
   {
    "duration": 5,
    "start_time": "2024-04-30T06:02:44.520Z"
   },
   {
    "duration": 5,
    "start_time": "2024-04-30T06:04:50.655Z"
   },
   {
    "duration": 5,
    "start_time": "2024-04-30T06:05:03.657Z"
   },
   {
    "duration": 11,
    "start_time": "2024-04-30T06:05:16.854Z"
   },
   {
    "duration": 5,
    "start_time": "2024-04-30T06:05:16.867Z"
   },
   {
    "duration": 18,
    "start_time": "2024-04-30T06:05:16.873Z"
   },
   {
    "duration": 4,
    "start_time": "2024-04-30T06:05:53.973Z"
   },
   {
    "duration": 5,
    "start_time": "2024-04-30T06:05:56.840Z"
   },
   {
    "duration": 10,
    "start_time": "2024-04-30T06:07:34.103Z"
   },
   {
    "duration": 7,
    "start_time": "2024-04-30T06:07:34.118Z"
   },
   {
    "duration": 3,
    "start_time": "2024-04-30T06:08:16.690Z"
   },
   {
    "duration": 6,
    "start_time": "2024-04-30T06:08:22.227Z"
   },
   {
    "duration": 3,
    "start_time": "2024-04-30T06:08:42.426Z"
   },
   {
    "duration": 9,
    "start_time": "2024-04-30T06:09:36.337Z"
   },
   {
    "duration": 4,
    "start_time": "2024-04-30T06:09:36.352Z"
   },
   {
    "duration": 4,
    "start_time": "2024-04-30T06:13:18.803Z"
   },
   {
    "duration": 3,
    "start_time": "2024-04-30T06:13:32.191Z"
   },
   {
    "duration": 3,
    "start_time": "2024-04-30T06:14:14.638Z"
   },
   {
    "duration": 3,
    "start_time": "2024-04-30T06:15:22.147Z"
   },
   {
    "duration": 5,
    "start_time": "2024-04-30T06:15:55.509Z"
   },
   {
    "duration": 3,
    "start_time": "2024-04-30T06:15:59.511Z"
   },
   {
    "duration": 10,
    "start_time": "2024-04-30T06:18:50.476Z"
   },
   {
    "duration": 7,
    "start_time": "2024-04-30T06:18:50.507Z"
   },
   {
    "duration": 10,
    "start_time": "2024-04-30T06:22:01.805Z"
   },
   {
    "duration": 52,
    "start_time": "2024-04-30T06:22:01.821Z"
   },
   {
    "duration": 373,
    "start_time": "2024-04-30T06:50:43.394Z"
   },
   {
    "duration": 147,
    "start_time": "2024-04-30T06:51:45.189Z"
   },
   {
    "duration": 246,
    "start_time": "2024-04-30T06:52:48.762Z"
   },
   {
    "duration": 449,
    "start_time": "2024-04-30T06:53:33.118Z"
   },
   {
    "duration": 163,
    "start_time": "2024-04-30T06:53:45.219Z"
   },
   {
    "duration": 152,
    "start_time": "2024-04-30T06:53:51.998Z"
   },
   {
    "duration": 3,
    "start_time": "2024-04-30T06:54:16.064Z"
   },
   {
    "duration": 153,
    "start_time": "2024-04-30T06:54:18.135Z"
   },
   {
    "duration": 351,
    "start_time": "2024-04-30T06:56:17.156Z"
   },
   {
    "duration": 94,
    "start_time": "2024-04-30T06:56:53.301Z"
   },
   {
    "duration": 89,
    "start_time": "2024-04-30T06:57:38.361Z"
   },
   {
    "duration": 154,
    "start_time": "2024-04-30T06:57:50.607Z"
   },
   {
    "duration": 417,
    "start_time": "2024-04-30T06:58:29.400Z"
   },
   {
    "duration": 347,
    "start_time": "2024-04-30T06:58:48.579Z"
   },
   {
    "duration": 298,
    "start_time": "2024-04-30T06:59:05.583Z"
   },
   {
    "duration": 220,
    "start_time": "2024-04-30T07:00:08.777Z"
   },
   {
    "duration": 240,
    "start_time": "2024-04-30T07:00:10.645Z"
   },
   {
    "duration": 147,
    "start_time": "2024-04-30T07:00:19.821Z"
   },
   {
    "duration": 3,
    "start_time": "2024-04-30T07:00:41.840Z"
   },
   {
    "duration": 9,
    "start_time": "2024-04-30T07:00:49.444Z"
   },
   {
    "duration": 414,
    "start_time": "2024-04-30T07:00:49.455Z"
   },
   {
    "duration": 348,
    "start_time": "2024-04-30T07:00:49.871Z"
   },
   {
    "duration": 156,
    "start_time": "2024-04-30T07:00:50.221Z"
   },
   {
    "duration": 143,
    "start_time": "2024-04-30T07:00:50.379Z"
   },
   {
    "duration": 6,
    "start_time": "2024-04-30T07:00:50.523Z"
   },
   {
    "duration": 27,
    "start_time": "2024-04-30T07:05:18.214Z"
   },
   {
    "duration": 15,
    "start_time": "2024-04-30T07:05:33.574Z"
   },
   {
    "duration": 46,
    "start_time": "2024-04-30T07:06:15.482Z"
   },
   {
    "duration": 88,
    "start_time": "2024-04-30T07:06:23.156Z"
   },
   {
    "duration": 36,
    "start_time": "2024-04-30T07:06:31.746Z"
   },
   {
    "duration": 86,
    "start_time": "2024-04-30T07:07:20.069Z"
   },
   {
    "duration": 121,
    "start_time": "2024-04-30T07:07:28.268Z"
   },
   {
    "duration": 173,
    "start_time": "2024-04-30T07:07:34.241Z"
   },
   {
    "duration": 165,
    "start_time": "2024-04-30T07:09:10.246Z"
   },
   {
    "duration": 147,
    "start_time": "2024-04-30T07:09:47.653Z"
   },
   {
    "duration": 396,
    "start_time": "2024-04-30T07:13:12.129Z"
   },
   {
    "duration": 348,
    "start_time": "2024-04-30T07:13:29.763Z"
   },
   {
    "duration": 220,
    "start_time": "2024-04-30T07:13:39.239Z"
   },
   {
    "duration": 196,
    "start_time": "2024-04-30T07:14:05.481Z"
   },
   {
    "duration": 199,
    "start_time": "2024-04-30T07:14:13.405Z"
   },
   {
    "duration": 169,
    "start_time": "2024-04-30T07:14:34.187Z"
   },
   {
    "duration": 161,
    "start_time": "2024-04-30T07:14:36.062Z"
   },
   {
    "duration": 166,
    "start_time": "2024-04-30T07:14:37.922Z"
   },
   {
    "duration": 124,
    "start_time": "2024-04-30T07:14:40.612Z"
   },
   {
    "duration": 1406,
    "start_time": "2024-04-30T07:18:30.393Z"
   },
   {
    "duration": 69,
    "start_time": "2024-04-30T07:19:39.100Z"
   },
   {
    "duration": 80,
    "start_time": "2024-04-30T07:20:37.641Z"
   },
   {
    "duration": 76,
    "start_time": "2024-04-30T07:23:10.914Z"
   },
   {
    "duration": 176,
    "start_time": "2024-04-30T07:25:23.331Z"
   },
   {
    "duration": 308,
    "start_time": "2024-04-30T07:25:47.338Z"
   },
   {
    "duration": 305,
    "start_time": "2024-04-30T07:26:18.205Z"
   },
   {
    "duration": 419,
    "start_time": "2024-04-30T07:27:46.596Z"
   },
   {
    "duration": 537,
    "start_time": "2024-04-30T07:30:41.695Z"
   },
   {
    "duration": 158,
    "start_time": "2024-04-30T07:34:02.937Z"
   },
   {
    "duration": 177,
    "start_time": "2024-04-30T07:39:57.301Z"
   },
   {
    "duration": 183,
    "start_time": "2024-04-30T07:40:08.785Z"
   },
   {
    "duration": 11,
    "start_time": "2024-04-30T07:40:25.356Z"
   },
   {
    "duration": 416,
    "start_time": "2024-04-30T07:40:25.372Z"
   },
   {
    "duration": 189,
    "start_time": "2024-04-30T07:40:25.790Z"
   },
   {
    "duration": 151,
    "start_time": "2024-04-30T07:40:25.980Z"
   },
   {
    "duration": 168,
    "start_time": "2024-04-30T07:40:26.134Z"
   },
   {
    "duration": 206,
    "start_time": "2024-04-30T07:40:26.304Z"
   },
   {
    "duration": 26,
    "start_time": "2024-04-30T07:40:26.512Z"
   },
   {
    "duration": 7,
    "start_time": "2024-04-30T07:40:26.540Z"
   },
   {
    "duration": 171,
    "start_time": "2024-04-30T07:41:18.523Z"
   },
   {
    "duration": 99,
    "start_time": "2024-04-30T07:42:59.603Z"
   },
   {
    "duration": 9,
    "start_time": "2024-04-30T07:43:11.820Z"
   },
   {
    "duration": 199,
    "start_time": "2024-04-30T07:46:01.621Z"
   },
   {
    "duration": 276,
    "start_time": "2024-04-30T07:46:50.650Z"
   },
   {
    "duration": 15,
    "start_time": "2024-04-30T07:48:49.349Z"
   },
   {
    "duration": 12,
    "start_time": "2024-04-30T07:49:02.566Z"
   },
   {
    "duration": 21,
    "start_time": "2024-04-30T07:49:58.614Z"
   },
   {
    "duration": 16,
    "start_time": "2024-04-30T07:50:05.420Z"
   },
   {
    "duration": 49,
    "start_time": "2024-04-30T07:50:55.555Z"
   },
   {
    "duration": 154,
    "start_time": "2024-04-30T07:51:03.167Z"
   },
   {
    "duration": 170,
    "start_time": "2024-04-30T07:51:31.385Z"
   },
   {
    "duration": 4,
    "start_time": "2024-04-30T07:51:38.386Z"
   },
   {
    "duration": 3,
    "start_time": "2024-04-30T07:51:38.401Z"
   },
   {
    "duration": 163,
    "start_time": "2024-04-30T07:51:38.405Z"
   },
   {
    "duration": 143,
    "start_time": "2024-04-30T07:51:38.569Z"
   },
   {
    "duration": 161,
    "start_time": "2024-04-30T07:51:38.714Z"
   },
   {
    "duration": 195,
    "start_time": "2024-04-30T07:51:38.877Z"
   },
   {
    "duration": 161,
    "start_time": "2024-04-30T07:51:39.073Z"
   },
   {
    "duration": 51,
    "start_time": "2024-04-30T07:51:39.237Z"
   },
   {
    "duration": 50,
    "start_time": "2024-04-30T07:51:42.012Z"
   },
   {
    "duration": 164,
    "start_time": "2024-04-30T07:51:43.280Z"
   },
   {
    "duration": 191,
    "start_time": "2024-04-30T07:53:05.224Z"
   },
   {
    "duration": 181,
    "start_time": "2024-04-30T07:54:31.473Z"
   },
   {
    "duration": 165,
    "start_time": "2024-04-30T07:55:01.036Z"
   },
   {
    "duration": 44,
    "start_time": "2024-04-30T07:55:29.482Z"
   },
   {
    "duration": 4,
    "start_time": "2024-04-30T07:55:41.915Z"
   },
   {
    "duration": 6,
    "start_time": "2024-04-30T07:55:41.921Z"
   },
   {
    "duration": 160,
    "start_time": "2024-04-30T07:55:41.933Z"
   },
   {
    "duration": 148,
    "start_time": "2024-04-30T07:55:42.095Z"
   },
   {
    "duration": 153,
    "start_time": "2024-04-30T07:55:42.245Z"
   },
   {
    "duration": 198,
    "start_time": "2024-04-30T07:55:42.399Z"
   },
   {
    "duration": 222,
    "start_time": "2024-04-30T07:55:42.599Z"
   },
   {
    "duration": 9,
    "start_time": "2024-04-30T07:56:10.413Z"
   },
   {
    "duration": 7,
    "start_time": "2024-04-30T07:56:43.673Z"
   },
   {
    "duration": 7,
    "start_time": "2024-04-30T07:56:50.521Z"
   },
   {
    "duration": 13,
    "start_time": "2024-04-30T07:57:28.470Z"
   },
   {
    "duration": 12,
    "start_time": "2024-04-30T07:57:48.225Z"
   },
   {
    "duration": 46,
    "start_time": "2024-04-30T07:58:53.024Z"
   },
   {
    "duration": 960,
    "start_time": "2024-04-30T08:00:23.400Z"
   },
   {
    "duration": 4,
    "start_time": "2024-04-30T08:01:16.962Z"
   },
   {
    "duration": 14,
    "start_time": "2024-04-30T08:01:16.967Z"
   },
   {
    "duration": 172,
    "start_time": "2024-04-30T08:01:16.983Z"
   },
   {
    "duration": 152,
    "start_time": "2024-04-30T08:01:17.157Z"
   },
   {
    "duration": 170,
    "start_time": "2024-04-30T08:01:17.312Z"
   },
   {
    "duration": 206,
    "start_time": "2024-04-30T08:01:17.483Z"
   },
   {
    "duration": 211,
    "start_time": "2024-04-30T08:01:17.691Z"
   },
   {
    "duration": 230,
    "start_time": "2024-04-30T08:01:21.086Z"
   },
   {
    "duration": 23,
    "start_time": "2024-04-30T08:01:40.502Z"
   },
   {
    "duration": 50,
    "start_time": "2024-04-30T08:07:13.284Z"
   },
   {
    "duration": 87,
    "start_time": "2024-04-30T08:08:22.829Z"
   },
   {
    "duration": 37,
    "start_time": "2024-04-30T08:08:41.301Z"
   },
   {
    "duration": 39,
    "start_time": "2024-04-30T08:08:43.624Z"
   },
   {
    "duration": 38,
    "start_time": "2024-04-30T08:08:47.198Z"
   },
   {
    "duration": 5,
    "start_time": "2024-04-30T08:10:52.626Z"
   },
   {
    "duration": 9,
    "start_time": "2024-04-30T08:12:10.205Z"
   },
   {
    "duration": 17,
    "start_time": "2024-04-30T08:13:21.131Z"
   },
   {
    "duration": 1048,
    "start_time": "2024-04-30T08:14:38.290Z"
   },
   {
    "duration": 454,
    "start_time": "2024-04-30T08:14:40.348Z"
   },
   {
    "duration": 1750,
    "start_time": "2024-04-30T08:15:30.731Z"
   },
   {
    "duration": 557,
    "start_time": "2024-04-30T08:15:49.819Z"
   },
   {
    "duration": 419,
    "start_time": "2024-04-30T08:16:05.260Z"
   },
   {
    "duration": 393,
    "start_time": "2024-04-30T08:17:09.999Z"
   },
   {
    "duration": 10,
    "start_time": "2024-04-30T08:17:30.974Z"
   },
   {
    "duration": 12,
    "start_time": "2024-04-30T08:18:31.498Z"
   },
   {
    "duration": 15,
    "start_time": "2024-04-30T08:18:50.866Z"
   },
   {
    "duration": 611,
    "start_time": "2024-04-30T08:19:13.926Z"
   },
   {
    "duration": 8,
    "start_time": "2024-04-30T08:20:43.249Z"
   },
   {
    "duration": 4,
    "start_time": "2024-04-30T08:20:55.623Z"
   },
   {
    "duration": 7,
    "start_time": "2024-04-30T08:23:58.543Z"
   },
   {
    "duration": 444,
    "start_time": "2024-04-30T08:24:01.429Z"
   },
   {
    "duration": 7,
    "start_time": "2024-04-30T08:24:40.254Z"
   },
   {
    "duration": 506,
    "start_time": "2024-04-30T08:24:41.280Z"
   },
   {
    "duration": 5,
    "start_time": "2024-04-30T08:26:20.397Z"
   },
   {
    "duration": 746,
    "start_time": "2024-04-30T08:26:23.819Z"
   },
   {
    "duration": 4,
    "start_time": "2024-04-30T08:26:57.960Z"
   },
   {
    "duration": 601,
    "start_time": "2024-04-30T08:26:59.586Z"
   },
   {
    "duration": 478,
    "start_time": "2024-04-30T08:28:03.492Z"
   },
   {
    "duration": 533,
    "start_time": "2024-04-30T08:28:22.423Z"
   },
   {
    "duration": 535,
    "start_time": "2024-04-30T08:28:39.586Z"
   },
   {
    "duration": 644,
    "start_time": "2024-04-30T08:28:58.631Z"
   },
   {
    "duration": 516,
    "start_time": "2024-04-30T08:33:57.206Z"
   },
   {
    "duration": 564,
    "start_time": "2024-04-30T08:34:30.069Z"
   },
   {
    "duration": 610,
    "start_time": "2024-04-30T08:35:13.331Z"
   },
   {
    "duration": 391,
    "start_time": "2024-04-30T08:35:22.922Z"
   },
   {
    "duration": 411,
    "start_time": "2024-04-30T08:35:34.174Z"
   },
   {
    "duration": 446,
    "start_time": "2024-04-30T08:35:42.565Z"
   },
   {
    "duration": 380,
    "start_time": "2024-04-30T08:35:56.406Z"
   },
   {
    "duration": 561,
    "start_time": "2024-04-30T08:36:17.572Z"
   },
   {
    "duration": 406,
    "start_time": "2024-04-30T08:36:31.055Z"
   },
   {
    "duration": 547,
    "start_time": "2024-04-30T08:36:39.052Z"
   },
   {
    "duration": 496,
    "start_time": "2024-04-30T08:36:55.405Z"
   },
   {
    "duration": 856,
    "start_time": "2024-04-30T08:37:03.102Z"
   },
   {
    "duration": 5,
    "start_time": "2024-04-30T08:41:41.692Z"
   },
   {
    "duration": 6,
    "start_time": "2024-04-30T08:42:25.332Z"
   },
   {
    "duration": 15,
    "start_time": "2024-04-30T08:42:26.584Z"
   },
   {
    "duration": 10,
    "start_time": "2024-04-30T08:42:40.056Z"
   },
   {
    "duration": 5,
    "start_time": "2024-04-30T08:43:04.609Z"
   },
   {
    "duration": 13,
    "start_time": "2024-04-30T08:43:06.031Z"
   },
   {
    "duration": 9,
    "start_time": "2024-04-30T08:43:20.427Z"
   },
   {
    "duration": 271,
    "start_time": "2024-04-30T08:43:33.701Z"
   },
   {
    "duration": 356,
    "start_time": "2024-04-30T08:43:47.231Z"
   },
   {
    "duration": 484,
    "start_time": "2024-04-30T08:44:00.504Z"
   },
   {
    "duration": 950,
    "start_time": "2024-04-30T08:44:07.839Z"
   },
   {
    "duration": 951,
    "start_time": "2024-04-30T08:46:06.331Z"
   },
   {
    "duration": 5,
    "start_time": "2024-04-30T08:47:52.559Z"
   },
   {
    "duration": 5,
    "start_time": "2024-04-30T08:48:08.492Z"
   },
   {
    "duration": 854,
    "start_time": "2024-04-30T08:48:10.047Z"
   },
   {
    "duration": 5,
    "start_time": "2024-04-30T08:48:59.393Z"
   },
   {
    "duration": 1129,
    "start_time": "2024-04-30T08:49:00.404Z"
   },
   {
    "duration": 5,
    "start_time": "2024-04-30T08:49:22.332Z"
   },
   {
    "duration": 200,
    "start_time": "2024-04-30T08:49:24.966Z"
   },
   {
    "duration": 5,
    "start_time": "2024-04-30T08:50:19.480Z"
   },
   {
    "duration": 1131,
    "start_time": "2024-04-30T08:50:22.582Z"
   },
   {
    "duration": 5,
    "start_time": "2024-04-30T08:51:12.868Z"
   },
   {
    "duration": 219,
    "start_time": "2024-04-30T08:51:14.660Z"
   },
   {
    "duration": 4,
    "start_time": "2024-04-30T08:51:53.612Z"
   },
   {
    "duration": 218,
    "start_time": "2024-04-30T08:51:55.578Z"
   },
   {
    "duration": 5,
    "start_time": "2024-04-30T08:52:03.679Z"
   },
   {
    "duration": 261,
    "start_time": "2024-04-30T08:52:04.824Z"
   },
   {
    "duration": 199,
    "start_time": "2024-04-30T08:52:06.598Z"
   },
   {
    "duration": 5,
    "start_time": "2024-04-30T08:52:24.681Z"
   },
   {
    "duration": 207,
    "start_time": "2024-04-30T08:52:27.185Z"
   },
   {
    "duration": 6,
    "start_time": "2024-04-30T08:52:59.009Z"
   },
   {
    "duration": 969,
    "start_time": "2024-04-30T08:53:01.564Z"
   },
   {
    "duration": 9,
    "start_time": "2024-04-30T08:53:31.393Z"
   },
   {
    "duration": 9,
    "start_time": "2024-04-30T08:53:48.065Z"
   },
   {
    "duration": 40,
    "start_time": "2024-04-30T08:54:35.863Z"
   },
   {
    "duration": 10,
    "start_time": "2024-04-30T08:54:42.474Z"
   },
   {
    "duration": 12,
    "start_time": "2024-04-30T08:54:51.651Z"
   },
   {
    "duration": 10,
    "start_time": "2024-04-30T08:55:33.543Z"
   },
   {
    "duration": 10,
    "start_time": "2024-04-30T08:56:26.334Z"
   },
   {
    "duration": 6,
    "start_time": "2024-04-30T08:56:37.979Z"
   },
   {
    "duration": 20,
    "start_time": "2024-04-30T08:57:14.879Z"
   },
   {
    "duration": 9,
    "start_time": "2024-04-30T08:57:36.337Z"
   },
   {
    "duration": 9,
    "start_time": "2024-04-30T08:57:49.725Z"
   },
   {
    "duration": 9,
    "start_time": "2024-04-30T08:58:51.847Z"
   },
   {
    "duration": 10,
    "start_time": "2024-04-30T08:58:57.723Z"
   },
   {
    "duration": 5,
    "start_time": "2024-04-30T09:01:24.101Z"
   },
   {
    "duration": 5,
    "start_time": "2024-04-30T09:01:32.139Z"
   },
   {
    "duration": 5,
    "start_time": "2024-04-30T09:02:07.644Z"
   },
   {
    "duration": 860,
    "start_time": "2024-04-30T09:02:09.124Z"
   },
   {
    "duration": 7,
    "start_time": "2024-04-30T09:02:41.405Z"
   },
   {
    "duration": 1033,
    "start_time": "2024-04-30T09:02:43.529Z"
   },
   {
    "duration": 5,
    "start_time": "2024-04-30T09:03:15.050Z"
   },
   {
    "duration": 980,
    "start_time": "2024-04-30T09:03:16.564Z"
   },
   {
    "duration": 847,
    "start_time": "2024-04-30T09:03:51.783Z"
   },
   {
    "duration": 1069,
    "start_time": "2024-04-30T09:04:01.884Z"
   },
   {
    "duration": 2508,
    "start_time": "2024-04-30T09:04:30.540Z"
   },
   {
    "duration": 715,
    "start_time": "2024-04-30T09:04:39.897Z"
   },
   {
    "duration": 529,
    "start_time": "2024-04-30T09:04:51.311Z"
   },
   {
    "duration": 10,
    "start_time": "2024-04-30T09:06:31.499Z"
   },
   {
    "duration": 1277,
    "start_time": "2024-04-30T09:06:31.511Z"
   },
   {
    "duration": 172,
    "start_time": "2024-04-30T09:06:32.790Z"
   },
   {
    "duration": 144,
    "start_time": "2024-04-30T09:06:32.964Z"
   },
   {
    "duration": 170,
    "start_time": "2024-04-30T09:06:33.111Z"
   },
   {
    "duration": 207,
    "start_time": "2024-04-30T09:06:33.283Z"
   },
   {
    "duration": 232,
    "start_time": "2024-04-30T09:06:33.492Z"
   },
   {
    "duration": 41,
    "start_time": "2024-04-30T09:06:33.726Z"
   },
   {
    "duration": 38,
    "start_time": "2024-04-30T09:06:33.768Z"
   },
   {
    "duration": 55,
    "start_time": "2024-04-30T09:06:33.808Z"
   },
   {
    "duration": 5,
    "start_time": "2024-04-30T09:06:33.864Z"
   },
   {
    "duration": 925,
    "start_time": "2024-04-30T09:06:33.871Z"
   },
   {
    "duration": 968,
    "start_time": "2024-04-30T09:06:34.798Z"
   },
   {
    "duration": 1012,
    "start_time": "2024-04-30T09:06:35.768Z"
   },
   {
    "duration": 4,
    "start_time": "2024-04-30T09:06:36.783Z"
   },
   {
    "duration": 501,
    "start_time": "2024-04-30T09:06:36.789Z"
   },
   {
    "duration": 568,
    "start_time": "2024-04-30T09:06:37.292Z"
   },
   {
    "duration": 482,
    "start_time": "2024-04-30T09:06:37.862Z"
   },
   {
    "duration": 836,
    "start_time": "2024-04-30T09:06:38.346Z"
   },
   {
    "duration": 5,
    "start_time": "2024-04-30T09:06:39.184Z"
   },
   {
    "duration": 321,
    "start_time": "2024-04-30T09:07:13.508Z"
   },
   {
    "duration": 370,
    "start_time": "2024-04-30T09:07:19.367Z"
   },
   {
    "duration": 989,
    "start_time": "2024-04-30T09:07:29.237Z"
   },
   {
    "duration": 5,
    "start_time": "2024-04-30T09:09:28.363Z"
   },
   {
    "duration": 5,
    "start_time": "2024-04-30T09:09:53.717Z"
   },
   {
    "duration": 6,
    "start_time": "2024-04-30T09:10:16.507Z"
   },
   {
    "duration": 101,
    "start_time": "2024-04-30T09:10:35.860Z"
   },
   {
    "duration": 10,
    "start_time": "2024-04-30T09:10:52.028Z"
   },
   {
    "duration": 7,
    "start_time": "2024-04-30T09:11:13.293Z"
   },
   {
    "duration": 7,
    "start_time": "2024-04-30T09:11:42.260Z"
   },
   {
    "duration": 4,
    "start_time": "2024-04-30T09:13:57.933Z"
   },
   {
    "duration": 5,
    "start_time": "2024-04-30T09:14:01.339Z"
   },
   {
    "duration": 538,
    "start_time": "2024-04-30T09:14:03.211Z"
   },
   {
    "duration": 9,
    "start_time": "2024-04-30T10:32:55.159Z"
   },
   {
    "duration": 1282,
    "start_time": "2024-04-30T10:32:55.174Z"
   },
   {
    "duration": 596,
    "start_time": "2024-04-30T10:32:56.458Z"
   },
   {
    "duration": 118,
    "start_time": "2024-04-30T10:32:57.056Z"
   },
   {
    "duration": 536,
    "start_time": "2024-04-30T10:32:57.176Z"
   },
   {
    "duration": 160,
    "start_time": "2024-04-30T10:32:57.714Z"
   },
   {
    "duration": 173,
    "start_time": "2024-04-30T10:32:57.876Z"
   },
   {
    "duration": 36,
    "start_time": "2024-04-30T10:32:58.051Z"
   },
   {
    "duration": 53,
    "start_time": "2024-04-30T10:32:58.089Z"
   },
   {
    "duration": 34,
    "start_time": "2024-04-30T10:32:58.143Z"
   },
   {
    "duration": 4,
    "start_time": "2024-04-30T10:32:58.178Z"
   },
   {
    "duration": 831,
    "start_time": "2024-04-30T10:32:58.184Z"
   },
   {
    "duration": 858,
    "start_time": "2024-04-30T10:32:59.016Z"
   },
   {
    "duration": 872,
    "start_time": "2024-04-30T10:32:59.876Z"
   },
   {
    "duration": 5,
    "start_time": "2024-04-30T10:33:00.752Z"
   },
   {
    "duration": 36,
    "start_time": "2024-04-30T10:33:00.759Z"
   },
   {
    "duration": 454,
    "start_time": "2024-04-30T10:33:00.797Z"
   },
   {
    "duration": 441,
    "start_time": "2024-04-30T10:33:01.253Z"
   },
   {
    "duration": 435,
    "start_time": "2024-04-30T10:33:01.695Z"
   },
   {
    "duration": 714,
    "start_time": "2024-04-30T10:33:02.132Z"
   },
   {
    "duration": 7,
    "start_time": "2024-04-30T10:33:02.847Z"
   },
   {
    "duration": 93,
    "start_time": "2024-04-30T10:33:49.674Z"
   },
   {
    "duration": 5,
    "start_time": "2024-04-30T10:34:15.797Z"
   },
   {
    "duration": 5,
    "start_time": "2024-04-30T10:35:47.623Z"
   },
   {
    "duration": 779,
    "start_time": "2024-04-30T10:37:59.049Z"
   },
   {
    "duration": 716,
    "start_time": "2024-04-30T10:38:09.082Z"
   },
   {
    "duration": 5,
    "start_time": "2024-04-30T10:40:34.436Z"
   },
   {
    "duration": 431,
    "start_time": "2024-04-30T10:40:37.048Z"
   },
   {
    "duration": 401,
    "start_time": "2024-04-30T10:41:22.168Z"
   },
   {
    "duration": 11,
    "start_time": "2024-04-30T10:41:47.957Z"
   },
   {
    "duration": 5,
    "start_time": "2024-04-30T10:41:49.684Z"
   },
   {
    "duration": 520,
    "start_time": "2024-04-30T10:41:50.882Z"
   },
   {
    "duration": 5,
    "start_time": "2024-04-30T10:42:19.389Z"
   },
   {
    "duration": 445,
    "start_time": "2024-04-30T10:42:24.540Z"
   },
   {
    "duration": 68,
    "start_time": "2024-04-30T10:43:14.120Z"
   },
   {
    "duration": 67,
    "start_time": "2024-04-30T10:44:16.963Z"
   },
   {
    "duration": 921,
    "start_time": "2024-04-30T10:44:55.246Z"
   },
   {
    "duration": 5,
    "start_time": "2024-04-30T10:45:34.750Z"
   },
   {
    "duration": 742,
    "start_time": "2024-04-30T10:45:37.127Z"
   },
   {
    "duration": 874,
    "start_time": "2024-04-30T10:45:41.069Z"
   },
   {
    "duration": 5,
    "start_time": "2024-04-30T10:45:44.035Z"
   },
   {
    "duration": 433,
    "start_time": "2024-04-30T10:45:46.227Z"
   },
   {
    "duration": 869,
    "start_time": "2024-04-30T10:45:50.014Z"
   },
   {
    "duration": 758,
    "start_time": "2024-04-30T10:46:15.249Z"
   },
   {
    "duration": 936,
    "start_time": "2024-04-30T10:46:24.255Z"
   },
   {
    "duration": 951,
    "start_time": "2024-04-30T10:46:32.542Z"
   },
   {
    "duration": 463,
    "start_time": "2024-04-30T10:47:05.373Z"
   },
   {
    "duration": 847,
    "start_time": "2024-04-30T10:48:16.784Z"
   },
   {
    "duration": 211,
    "start_time": "2024-04-30T10:48:43.985Z"
   },
   {
    "duration": 260,
    "start_time": "2024-04-30T10:48:54.314Z"
   },
   {
    "duration": 215,
    "start_time": "2024-04-30T10:49:08.674Z"
   },
   {
    "duration": 220,
    "start_time": "2024-04-30T10:49:15.462Z"
   },
   {
    "duration": 208,
    "start_time": "2024-04-30T10:49:23.002Z"
   },
   {
    "duration": 193,
    "start_time": "2024-04-30T10:49:29.822Z"
   },
   {
    "duration": 193,
    "start_time": "2024-04-30T10:49:43.328Z"
   },
   {
    "duration": 196,
    "start_time": "2024-04-30T10:49:51.710Z"
   },
   {
    "duration": 308,
    "start_time": "2024-04-30T10:50:27.645Z"
   },
   {
    "duration": 195,
    "start_time": "2024-04-30T10:50:30.864Z"
   },
   {
    "duration": 195,
    "start_time": "2024-04-30T10:50:48.511Z"
   },
   {
    "duration": 197,
    "start_time": "2024-04-30T10:51:23.165Z"
   },
   {
    "duration": 216,
    "start_time": "2024-04-30T10:51:34.591Z"
   },
   {
    "duration": 444,
    "start_time": "2024-04-30T10:53:05.925Z"
   },
   {
    "duration": 350,
    "start_time": "2024-04-30T10:53:20.041Z"
   },
   {
    "duration": 296,
    "start_time": "2024-04-30T10:55:21.744Z"
   },
   {
    "duration": 370,
    "start_time": "2024-04-30T10:55:33.963Z"
   },
   {
    "duration": 336,
    "start_time": "2024-04-30T10:55:47.690Z"
   },
   {
    "duration": 239,
    "start_time": "2024-04-30T10:56:01.227Z"
   },
   {
    "duration": 218,
    "start_time": "2024-04-30T10:56:11.109Z"
   },
   {
    "duration": 215,
    "start_time": "2024-04-30T10:56:17.641Z"
   },
   {
    "duration": 393,
    "start_time": "2024-04-30T10:56:23.502Z"
   },
   {
    "duration": 260,
    "start_time": "2024-04-30T10:56:35.960Z"
   },
   {
    "duration": 258,
    "start_time": "2024-04-30T10:57:09.475Z"
   },
   {
    "duration": 230,
    "start_time": "2024-04-30T10:57:36.775Z"
   },
   {
    "duration": 262,
    "start_time": "2024-04-30T10:57:45.064Z"
   },
   {
    "duration": 265,
    "start_time": "2024-04-30T10:57:56.423Z"
   },
   {
    "duration": 386,
    "start_time": "2024-04-30T10:58:01.757Z"
   },
   {
    "duration": 265,
    "start_time": "2024-04-30T10:58:10.122Z"
   },
   {
    "duration": 268,
    "start_time": "2024-04-30T10:58:43.920Z"
   },
   {
    "duration": 256,
    "start_time": "2024-04-30T10:58:56.491Z"
   },
   {
    "duration": 360,
    "start_time": "2024-04-30T10:59:10.135Z"
   },
   {
    "duration": 485,
    "start_time": "2024-04-30T10:59:27.968Z"
   },
   {
    "duration": 436,
    "start_time": "2024-04-30T10:59:38.382Z"
   },
   {
    "duration": 700,
    "start_time": "2024-04-30T11:00:55.795Z"
   },
   {
    "duration": 323,
    "start_time": "2024-04-30T11:01:43.167Z"
   },
   {
    "duration": 8,
    "start_time": "2024-04-30T11:02:56.827Z"
   },
   {
    "duration": 1071,
    "start_time": "2024-04-30T11:02:56.837Z"
   },
   {
    "duration": 153,
    "start_time": "2024-04-30T11:02:57.910Z"
   },
   {
    "duration": 134,
    "start_time": "2024-04-30T11:02:58.066Z"
   },
   {
    "duration": 135,
    "start_time": "2024-04-30T11:02:58.202Z"
   },
   {
    "duration": 176,
    "start_time": "2024-04-30T11:02:58.338Z"
   },
   {
    "duration": 180,
    "start_time": "2024-04-30T11:02:58.516Z"
   },
   {
    "duration": 43,
    "start_time": "2024-04-30T11:02:58.698Z"
   },
   {
    "duration": 36,
    "start_time": "2024-04-30T11:02:58.744Z"
   },
   {
    "duration": 54,
    "start_time": "2024-04-30T11:02:58.782Z"
   },
   {
    "duration": 5,
    "start_time": "2024-04-30T11:02:58.837Z"
   },
   {
    "duration": 770,
    "start_time": "2024-04-30T11:02:58.844Z"
   },
   {
    "duration": 845,
    "start_time": "2024-04-30T11:02:59.616Z"
   },
   {
    "duration": 887,
    "start_time": "2024-04-30T11:03:00.462Z"
   },
   {
    "duration": 5,
    "start_time": "2024-04-30T11:03:01.351Z"
   },
   {
    "duration": 457,
    "start_time": "2024-04-30T11:03:01.357Z"
   },
   {
    "duration": 733,
    "start_time": "2024-04-30T11:03:01.816Z"
   },
   {
    "duration": 888,
    "start_time": "2024-04-30T11:03:02.551Z"
   },
   {
    "duration": 864,
    "start_time": "2024-04-30T11:03:03.440Z"
   },
   {
    "duration": 419,
    "start_time": "2024-04-30T11:03:04.305Z"
   },
   {
    "duration": 196,
    "start_time": "2024-04-30T11:03:04.725Z"
   },
   {
    "duration": 212,
    "start_time": "2024-04-30T11:03:04.922Z"
   },
   {
    "duration": 230,
    "start_time": "2024-04-30T11:03:05.135Z"
   },
   {
    "duration": 453,
    "start_time": "2024-04-30T11:03:05.368Z"
   },
   {
    "duration": 277,
    "start_time": "2024-04-30T11:03:05.823Z"
   },
   {
    "duration": 282,
    "start_time": "2024-04-30T11:03:06.101Z"
   },
   {
    "duration": 330,
    "start_time": "2024-04-30T11:03:06.384Z"
   },
   {
    "duration": 684,
    "start_time": "2024-04-30T11:03:06.716Z"
   },
   {
    "duration": 6,
    "start_time": "2024-04-30T11:03:07.401Z"
   },
   {
    "duration": 737,
    "start_time": "2024-04-30T11:12:44.731Z"
   },
   {
    "duration": 842,
    "start_time": "2024-04-30T11:12:53.863Z"
   },
   {
    "duration": 759,
    "start_time": "2024-04-30T11:13:03.986Z"
   },
   {
    "duration": 575,
    "start_time": "2024-04-30T11:13:16.343Z"
   },
   {
    "duration": 725,
    "start_time": "2024-04-30T11:13:31.309Z"
   },
   {
    "duration": 836,
    "start_time": "2024-04-30T11:13:39.251Z"
   },
   {
    "duration": 844,
    "start_time": "2024-04-30T11:13:46.396Z"
   },
   {
    "duration": 432,
    "start_time": "2024-04-30T11:13:58.328Z"
   },
   {
    "duration": 184,
    "start_time": "2024-04-30T11:14:18.222Z"
   },
   {
    "duration": 185,
    "start_time": "2024-04-30T11:14:25.154Z"
   },
   {
    "duration": 217,
    "start_time": "2024-04-30T11:14:31.739Z"
   },
   {
    "duration": 347,
    "start_time": "2024-04-30T11:14:46.730Z"
   },
   {
    "duration": 30,
    "start_time": "2024-04-30T11:28:49.112Z"
   },
   {
    "duration": 39,
    "start_time": "2024-04-30T11:29:08.410Z"
   },
   {
    "duration": 514,
    "start_time": "2024-04-30T11:30:17.889Z"
   },
   {
    "duration": 462,
    "start_time": "2024-04-30T11:30:29.493Z"
   },
   {
    "duration": 478,
    "start_time": "2024-04-30T11:30:41.327Z"
   },
   {
    "duration": 35,
    "start_time": "2024-04-30T11:31:22.052Z"
   },
   {
    "duration": 473,
    "start_time": "2024-04-30T11:32:19.806Z"
   },
   {
    "duration": 577,
    "start_time": "2024-04-30T11:32:35.862Z"
   },
   {
    "duration": 545,
    "start_time": "2024-04-30T11:33:14.264Z"
   },
   {
    "duration": 531,
    "start_time": "2024-04-30T11:34:04.071Z"
   },
   {
    "duration": 557,
    "start_time": "2024-04-30T11:37:13.495Z"
   },
   {
    "duration": 246,
    "start_time": "2024-04-30T11:42:08.646Z"
   },
   {
    "duration": 3411,
    "start_time": "2024-04-30T11:44:54.829Z"
   },
   {
    "duration": 8,
    "start_time": "2024-04-30T11:46:40.298Z"
   },
   {
    "duration": 2923,
    "start_time": "2024-04-30T11:46:40.330Z"
   },
   {
    "duration": 1143,
    "start_time": "2024-04-30T11:46:43.255Z"
   },
   {
    "duration": 147,
    "start_time": "2024-04-30T11:46:44.399Z"
   },
   {
    "duration": 124,
    "start_time": "2024-04-30T11:46:44.548Z"
   },
   {
    "duration": 130,
    "start_time": "2024-04-30T11:46:44.674Z"
   },
   {
    "duration": 188,
    "start_time": "2024-04-30T11:46:44.805Z"
   },
   {
    "duration": 200,
    "start_time": "2024-04-30T11:46:44.995Z"
   },
   {
    "duration": 45,
    "start_time": "2024-04-30T11:46:45.197Z"
   },
   {
    "duration": 34,
    "start_time": "2024-04-30T11:46:45.244Z"
   },
   {
    "duration": 43,
    "start_time": "2024-04-30T11:46:45.279Z"
   },
   {
    "duration": 4,
    "start_time": "2024-04-30T11:46:45.323Z"
   },
   {
    "duration": 809,
    "start_time": "2024-04-30T11:46:45.328Z"
   },
   {
    "duration": 859,
    "start_time": "2024-04-30T11:46:46.139Z"
   },
   {
    "duration": 930,
    "start_time": "2024-04-30T11:46:47.001Z"
   },
   {
    "duration": 5,
    "start_time": "2024-04-30T11:46:47.932Z"
   },
   {
    "duration": 429,
    "start_time": "2024-04-30T11:46:47.938Z"
   },
   {
    "duration": 814,
    "start_time": "2024-04-30T11:46:48.369Z"
   },
   {
    "duration": 927,
    "start_time": "2024-04-30T11:46:49.185Z"
   },
   {
    "duration": 892,
    "start_time": "2024-04-30T11:46:50.115Z"
   },
   {
    "duration": 457,
    "start_time": "2024-04-30T11:46:51.009Z"
   },
   {
    "duration": 194,
    "start_time": "2024-04-30T11:46:51.467Z"
   },
   {
    "duration": 189,
    "start_time": "2024-04-30T11:46:51.663Z"
   },
   {
    "duration": 230,
    "start_time": "2024-04-30T11:46:51.853Z"
   },
   {
    "duration": 454,
    "start_time": "2024-04-30T11:46:52.084Z"
   },
   {
    "duration": 267,
    "start_time": "2024-04-30T11:46:52.539Z"
   },
   {
    "duration": 259,
    "start_time": "2024-04-30T11:46:52.814Z"
   },
   {
    "duration": 326,
    "start_time": "2024-04-30T11:46:53.074Z"
   },
   {
    "duration": 678,
    "start_time": "2024-04-30T11:46:53.402Z"
   },
   {
    "duration": 601,
    "start_time": "2024-04-30T11:46:54.082Z"
   },
   {
    "duration": 237,
    "start_time": "2024-04-30T11:46:54.685Z"
   },
   {
    "duration": 0,
    "start_time": "2024-04-30T11:46:54.923Z"
   },
   {
    "duration": 140,
    "start_time": "2024-04-30T11:47:12.235Z"
   },
   {
    "duration": 920,
    "start_time": "2024-04-30T11:47:56.760Z"
   },
   {
    "duration": 3,
    "start_time": "2024-04-30T11:49:14.252Z"
   },
   {
    "duration": 877,
    "start_time": "2024-04-30T11:49:19.785Z"
   },
   {
    "duration": 1301,
    "start_time": "2024-04-30T11:51:51.602Z"
   },
   {
    "duration": 236,
    "start_time": "2024-04-30T11:51:58.319Z"
   },
   {
    "duration": 9,
    "start_time": "2024-04-30T11:52:12.164Z"
   },
   {
    "duration": 2374,
    "start_time": "2024-04-30T11:52:12.174Z"
   },
   {
    "duration": 1118,
    "start_time": "2024-04-30T11:52:14.550Z"
   },
   {
    "duration": 609,
    "start_time": "2024-04-30T11:52:15.673Z"
   },
   {
    "duration": 126,
    "start_time": "2024-04-30T11:52:16.283Z"
   },
   {
    "duration": 544,
    "start_time": "2024-04-30T11:52:16.411Z"
   },
   {
    "duration": 170,
    "start_time": "2024-04-30T11:52:16.957Z"
   },
   {
    "duration": 167,
    "start_time": "2024-04-30T11:52:17.129Z"
   },
   {
    "duration": 42,
    "start_time": "2024-04-30T11:52:17.299Z"
   },
   {
    "duration": 34,
    "start_time": "2024-04-30T11:52:17.343Z"
   },
   {
    "duration": 54,
    "start_time": "2024-04-30T11:52:17.379Z"
   },
   {
    "duration": 4,
    "start_time": "2024-04-30T11:52:17.435Z"
   },
   {
    "duration": 793,
    "start_time": "2024-04-30T11:52:17.441Z"
   },
   {
    "duration": 848,
    "start_time": "2024-04-30T11:52:18.236Z"
   },
   {
    "duration": 892,
    "start_time": "2024-04-30T11:52:19.086Z"
   },
   {
    "duration": 4,
    "start_time": "2024-04-30T11:52:19.979Z"
   },
   {
    "duration": 434,
    "start_time": "2024-04-30T11:52:19.985Z"
   },
   {
    "duration": 853,
    "start_time": "2024-04-30T11:52:20.421Z"
   },
   {
    "duration": 771,
    "start_time": "2024-04-30T11:52:21.275Z"
   },
   {
    "duration": 874,
    "start_time": "2024-04-30T11:52:22.048Z"
   },
   {
    "duration": 437,
    "start_time": "2024-04-30T11:52:22.924Z"
   },
   {
    "duration": 195,
    "start_time": "2024-04-30T11:52:23.363Z"
   },
   {
    "duration": 200,
    "start_time": "2024-04-30T11:52:23.560Z"
   },
   {
    "duration": 220,
    "start_time": "2024-04-30T11:52:23.762Z"
   },
   {
    "duration": 472,
    "start_time": "2024-04-30T11:52:23.984Z"
   },
   {
    "duration": 271,
    "start_time": "2024-04-30T11:52:24.457Z"
   },
   {
    "duration": 288,
    "start_time": "2024-04-30T11:52:24.729Z"
   },
   {
    "duration": 322,
    "start_time": "2024-04-30T11:52:25.019Z"
   },
   {
    "duration": 675,
    "start_time": "2024-04-30T11:52:25.343Z"
   },
   {
    "duration": 648,
    "start_time": "2024-04-30T11:52:26.020Z"
   },
   {
    "duration": 47100,
    "start_time": "2024-04-30T11:52:26.669Z"
   },
   {
    "duration": 0,
    "start_time": "2024-04-30T11:53:13.771Z"
   },
   {
    "duration": 905,
    "start_time": "2024-04-30T11:54:15.687Z"
   },
   {
    "duration": 927,
    "start_time": "2024-04-30T11:54:58.619Z"
   },
   {
    "duration": 16,
    "start_time": "2024-04-30T12:20:41.159Z"
   },
   {
    "duration": 213,
    "start_time": "2024-04-30T12:21:51.495Z"
   },
   {
    "duration": 26,
    "start_time": "2024-04-30T12:21:56.937Z"
   },
   {
    "duration": 41,
    "start_time": "2024-04-30T12:28:43.053Z"
   },
   {
    "duration": 29,
    "start_time": "2024-04-30T12:28:59.540Z"
   },
   {
    "duration": 21,
    "start_time": "2024-04-30T12:29:05.016Z"
   },
   {
    "duration": 18,
    "start_time": "2024-04-30T12:29:19.227Z"
   },
   {
    "duration": 17,
    "start_time": "2024-04-30T12:29:23.492Z"
   },
   {
    "duration": 18,
    "start_time": "2024-04-30T12:29:27.096Z"
   },
   {
    "duration": 18,
    "start_time": "2024-04-30T12:29:34.181Z"
   },
   {
    "duration": 17,
    "start_time": "2024-04-30T12:29:48.727Z"
   },
   {
    "duration": 17,
    "start_time": "2024-04-30T12:29:50.525Z"
   },
   {
    "duration": 17,
    "start_time": "2024-04-30T12:30:05.188Z"
   },
   {
    "duration": 9,
    "start_time": "2024-04-30T12:30:31.213Z"
   },
   {
    "duration": 2329,
    "start_time": "2024-04-30T12:30:31.224Z"
   },
   {
    "duration": 1406,
    "start_time": "2024-04-30T12:30:33.555Z"
   },
   {
    "duration": 186,
    "start_time": "2024-04-30T12:30:34.962Z"
   },
   {
    "duration": 126,
    "start_time": "2024-04-30T12:30:35.150Z"
   },
   {
    "duration": 136,
    "start_time": "2024-04-30T12:30:35.278Z"
   },
   {
    "duration": 171,
    "start_time": "2024-04-30T12:30:35.416Z"
   },
   {
    "duration": 184,
    "start_time": "2024-04-30T12:30:35.588Z"
   },
   {
    "duration": 41,
    "start_time": "2024-04-30T12:30:35.774Z"
   },
   {
    "duration": 33,
    "start_time": "2024-04-30T12:30:35.817Z"
   },
   {
    "duration": 33,
    "start_time": "2024-04-30T12:30:35.853Z"
   },
   {
    "duration": 5,
    "start_time": "2024-04-30T12:30:35.887Z"
   },
   {
    "duration": 887,
    "start_time": "2024-04-30T12:30:35.893Z"
   },
   {
    "duration": 793,
    "start_time": "2024-04-30T12:30:36.782Z"
   },
   {
    "duration": 938,
    "start_time": "2024-04-30T12:30:37.576Z"
   },
   {
    "duration": 5,
    "start_time": "2024-04-30T12:30:38.516Z"
   },
   {
    "duration": 475,
    "start_time": "2024-04-30T12:30:38.522Z"
   },
   {
    "duration": 879,
    "start_time": "2024-04-30T12:30:38.998Z"
   },
   {
    "duration": 755,
    "start_time": "2024-04-30T12:30:39.879Z"
   },
   {
    "duration": 917,
    "start_time": "2024-04-30T12:30:40.636Z"
   },
   {
    "duration": 432,
    "start_time": "2024-04-30T12:30:41.555Z"
   },
   {
    "duration": 198,
    "start_time": "2024-04-30T12:30:41.989Z"
   },
   {
    "duration": 329,
    "start_time": "2024-04-30T12:30:42.190Z"
   },
   {
    "duration": 218,
    "start_time": "2024-04-30T12:30:42.521Z"
   },
   {
    "duration": 355,
    "start_time": "2024-04-30T12:30:42.741Z"
   },
   {
    "duration": 271,
    "start_time": "2024-04-30T12:30:43.098Z"
   },
   {
    "duration": 280,
    "start_time": "2024-04-30T12:30:43.370Z"
   },
   {
    "duration": 325,
    "start_time": "2024-04-30T12:30:43.651Z"
   },
   {
    "duration": 711,
    "start_time": "2024-04-30T12:30:43.979Z"
   },
   {
    "duration": 660,
    "start_time": "2024-04-30T12:30:44.692Z"
   },
   {
    "duration": 892,
    "start_time": "2024-04-30T12:30:45.353Z"
   },
   {
    "duration": 125,
    "start_time": "2024-04-30T12:30:46.246Z"
   },
   {
    "duration": 7,
    "start_time": "2024-04-30T12:31:30.838Z"
   },
   {
    "duration": 5,
    "start_time": "2024-04-30T12:31:47.256Z"
   },
   {
    "duration": 11,
    "start_time": "2024-04-30T12:32:21.017Z"
   },
   {
    "duration": 7,
    "start_time": "2024-04-30T12:32:25.841Z"
   },
   {
    "duration": 8,
    "start_time": "2024-04-30T12:32:59.529Z"
   },
   {
    "duration": 9,
    "start_time": "2024-04-30T12:33:18.096Z"
   },
   {
    "duration": 2423,
    "start_time": "2024-04-30T12:33:18.113Z"
   },
   {
    "duration": 1463,
    "start_time": "2024-04-30T12:33:20.538Z"
   },
   {
    "duration": 155,
    "start_time": "2024-04-30T12:33:22.003Z"
   },
   {
    "duration": 128,
    "start_time": "2024-04-30T12:33:22.160Z"
   },
   {
    "duration": 146,
    "start_time": "2024-04-30T12:33:22.290Z"
   },
   {
    "duration": 183,
    "start_time": "2024-04-30T12:33:22.437Z"
   },
   {
    "duration": 181,
    "start_time": "2024-04-30T12:33:22.621Z"
   },
   {
    "duration": 41,
    "start_time": "2024-04-30T12:33:22.803Z"
   },
   {
    "duration": 34,
    "start_time": "2024-04-30T12:33:22.846Z"
   },
   {
    "duration": 54,
    "start_time": "2024-04-30T12:33:22.881Z"
   },
   {
    "duration": 4,
    "start_time": "2024-04-30T12:33:22.936Z"
   },
   {
    "duration": 887,
    "start_time": "2024-04-30T12:33:22.941Z"
   },
   {
    "duration": 763,
    "start_time": "2024-04-30T12:33:23.830Z"
   },
   {
    "duration": 944,
    "start_time": "2024-04-30T12:33:24.595Z"
   },
   {
    "duration": 5,
    "start_time": "2024-04-30T12:33:25.541Z"
   },
   {
    "duration": 460,
    "start_time": "2024-04-30T12:33:25.547Z"
   },
   {
    "duration": 866,
    "start_time": "2024-04-30T12:33:26.014Z"
   },
   {
    "duration": 757,
    "start_time": "2024-04-30T12:33:26.882Z"
   },
   {
    "duration": 919,
    "start_time": "2024-04-30T12:33:27.640Z"
   },
   {
    "duration": 455,
    "start_time": "2024-04-30T12:33:28.562Z"
   },
   {
    "duration": 215,
    "start_time": "2024-04-30T12:33:29.019Z"
   },
   {
    "duration": 316,
    "start_time": "2024-04-30T12:33:29.236Z"
   },
   {
    "duration": 250,
    "start_time": "2024-04-30T12:33:29.554Z"
   },
   {
    "duration": 390,
    "start_time": "2024-04-30T12:33:29.806Z"
   },
   {
    "duration": 281,
    "start_time": "2024-04-30T12:33:30.197Z"
   },
   {
    "duration": 283,
    "start_time": "2024-04-30T12:33:30.480Z"
   },
   {
    "duration": 358,
    "start_time": "2024-04-30T12:33:30.765Z"
   },
   {
    "duration": 711,
    "start_time": "2024-04-30T12:33:31.125Z"
   },
   {
    "duration": 632,
    "start_time": "2024-04-30T12:33:31.838Z"
   },
   {
    "duration": 943,
    "start_time": "2024-04-30T12:33:32.471Z"
   },
   {
    "duration": 126,
    "start_time": "2024-04-30T12:33:33.416Z"
   },
   {
    "duration": 155,
    "start_time": "2024-04-30T12:33:33.544Z"
   },
   {
    "duration": 0,
    "start_time": "2024-04-30T12:33:33.700Z"
   },
   {
    "duration": 6,
    "start_time": "2024-04-30T12:33:50.950Z"
   },
   {
    "duration": 91,
    "start_time": "2024-04-30T12:36:15.487Z"
   },
   {
    "duration": 71,
    "start_time": "2024-04-30T12:36:25.856Z"
   },
   {
    "duration": 81,
    "start_time": "2024-04-30T12:36:52.484Z"
   },
   {
    "duration": 79,
    "start_time": "2024-04-30T12:37:05.587Z"
   },
   {
    "duration": 59,
    "start_time": "2024-04-30T12:39:04.528Z"
   },
   {
    "duration": 60,
    "start_time": "2024-04-30T12:39:10.187Z"
   },
   {
    "duration": 103,
    "start_time": "2024-04-30T12:53:50.902Z"
   },
   {
    "duration": 34,
    "start_time": "2024-04-30T12:54:43.243Z"
   },
   {
    "duration": 15,
    "start_time": "2024-04-30T12:54:45.529Z"
   },
   {
    "duration": 3,
    "start_time": "2024-04-30T12:55:34.180Z"
   },
   {
    "duration": 4,
    "start_time": "2024-04-30T12:55:36.984Z"
   },
   {
    "duration": 10,
    "start_time": "2024-04-30T12:55:46.632Z"
   },
   {
    "duration": 3,
    "start_time": "2024-04-30T12:56:19.973Z"
   },
   {
    "duration": 9,
    "start_time": "2024-04-30T12:56:23.658Z"
   },
   {
    "duration": 72,
    "start_time": "2024-04-30T12:57:51.043Z"
   },
   {
    "duration": 66,
    "start_time": "2024-04-30T12:58:35.617Z"
   },
   {
    "duration": 14,
    "start_time": "2024-04-30T12:58:57.817Z"
   },
   {
    "duration": 9,
    "start_time": "2024-04-30T12:59:32.655Z"
   },
   {
    "duration": 4,
    "start_time": "2024-04-30T12:59:56.241Z"
   },
   {
    "duration": 4,
    "start_time": "2024-04-30T12:59:57.669Z"
   },
   {
    "duration": 9,
    "start_time": "2024-04-30T12:59:59.028Z"
   },
   {
    "duration": 73,
    "start_time": "2024-04-30T13:00:14.087Z"
   },
   {
    "duration": 9,
    "start_time": "2024-04-30T13:00:32.997Z"
   },
   {
    "duration": 63,
    "start_time": "2024-04-30T13:07:39.998Z"
   },
   {
    "duration": 42,
    "start_time": "2024-04-30T13:08:55.596Z"
   },
   {
    "duration": 4,
    "start_time": "2024-04-30T13:09:42.147Z"
   },
   {
    "duration": 28,
    "start_time": "2024-04-30T13:09:44.754Z"
   },
   {
    "duration": 5,
    "start_time": "2024-04-30T13:10:00.908Z"
   },
   {
    "duration": 24,
    "start_time": "2024-04-30T13:10:03.179Z"
   },
   {
    "duration": 30,
    "start_time": "2024-04-30T13:10:50.123Z"
   },
   {
    "duration": 4,
    "start_time": "2024-04-30T13:11:21.054Z"
   },
   {
    "duration": 6,
    "start_time": "2024-04-30T13:11:22.442Z"
   },
   {
    "duration": 47,
    "start_time": "2024-04-30T13:11:24.291Z"
   },
   {
    "duration": 27,
    "start_time": "2024-04-30T13:11:49.700Z"
   },
   {
    "duration": 9,
    "start_time": "2024-04-30T13:13:41.307Z"
   },
   {
    "duration": 5,
    "start_time": "2024-04-30T13:14:30.846Z"
   },
   {
    "duration": 11,
    "start_time": "2024-04-30T13:14:33.367Z"
   },
   {
    "duration": 35,
    "start_time": "2024-04-30T13:14:34.667Z"
   },
   {
    "duration": 10,
    "start_time": "2024-04-30T13:16:53.944Z"
   },
   {
    "duration": 4,
    "start_time": "2024-04-30T13:17:58.758Z"
   },
   {
    "duration": 3,
    "start_time": "2024-04-30T13:17:59.903Z"
   },
   {
    "duration": 29,
    "start_time": "2024-04-30T13:18:03.075Z"
   },
   {
    "duration": 3774,
    "start_time": "2024-04-30T13:18:39.930Z"
   },
   {
    "duration": 3,
    "start_time": "2024-04-30T13:19:10.200Z"
   },
   {
    "duration": 2397,
    "start_time": "2024-04-30T13:19:10.205Z"
   },
   {
    "duration": 4,
    "start_time": "2024-04-30T13:19:12.605Z"
   },
   {
    "duration": 157,
    "start_time": "2024-04-30T13:19:14.789Z"
   },
   {
    "duration": 146,
    "start_time": "2024-04-30T13:19:14.948Z"
   },
   {
    "duration": 143,
    "start_time": "2024-04-30T13:19:15.096Z"
   },
   {
    "duration": 167,
    "start_time": "2024-04-30T13:19:15.242Z"
   },
   {
    "duration": 174,
    "start_time": "2024-04-30T13:19:15.410Z"
   },
   {
    "duration": 36,
    "start_time": "2024-04-30T13:19:16.843Z"
   },
   {
    "duration": 33,
    "start_time": "2024-04-30T13:19:16.880Z"
   },
   {
    "duration": 31,
    "start_time": "2024-04-30T13:19:16.915Z"
   },
   {
    "duration": 4,
    "start_time": "2024-04-30T13:19:16.948Z"
   },
   {
    "duration": 884,
    "start_time": "2024-04-30T13:19:17.851Z"
   },
   {
    "duration": 809,
    "start_time": "2024-04-30T13:19:18.738Z"
   },
   {
    "duration": 898,
    "start_time": "2024-04-30T13:19:19.549Z"
   },
   {
    "duration": 4,
    "start_time": "2024-04-30T13:19:20.449Z"
   },
   {
    "duration": 444,
    "start_time": "2024-04-30T13:19:20.454Z"
   },
   {
    "duration": 894,
    "start_time": "2024-04-30T13:19:20.899Z"
   },
   {
    "duration": 895,
    "start_time": "2024-04-30T13:19:21.794Z"
   },
   {
    "duration": 787,
    "start_time": "2024-04-30T13:19:22.690Z"
   },
   {
    "duration": 451,
    "start_time": "2024-04-30T13:19:23.479Z"
   },
   {
    "duration": 342,
    "start_time": "2024-04-30T13:19:23.932Z"
   },
   {
    "duration": 205,
    "start_time": "2024-04-30T13:19:24.276Z"
   },
   {
    "duration": 241,
    "start_time": "2024-04-30T13:19:24.482Z"
   },
   {
    "duration": 380,
    "start_time": "2024-04-30T13:19:24.724Z"
   },
   {
    "duration": 270,
    "start_time": "2024-04-30T13:19:25.105Z"
   },
   {
    "duration": 275,
    "start_time": "2024-04-30T13:19:25.377Z"
   },
   {
    "duration": 427,
    "start_time": "2024-04-30T13:19:25.654Z"
   },
   {
    "duration": 615,
    "start_time": "2024-04-30T13:19:26.083Z"
   },
   {
    "duration": 589,
    "start_time": "2024-04-30T13:19:26.699Z"
   },
   {
    "duration": 948,
    "start_time": "2024-04-30T13:19:27.290Z"
   },
   {
    "duration": 117,
    "start_time": "2024-04-30T13:19:28.239Z"
   },
   {
    "duration": 3,
    "start_time": "2024-04-30T13:19:28.358Z"
   },
   {
    "duration": 8,
    "start_time": "2024-04-30T13:19:28.363Z"
   },
   {
    "duration": 3702,
    "start_time": "2024-04-30T13:19:28.373Z"
   },
   {
    "duration": 4,
    "start_time": "2024-04-30T13:19:46.490Z"
   },
   {
    "duration": 3,
    "start_time": "2024-04-30T13:19:50.768Z"
   },
   {
    "duration": 4,
    "start_time": "2024-04-30T13:19:56.382Z"
   },
   {
    "duration": 8,
    "start_time": "2024-04-30T13:19:56.390Z"
   },
   {
    "duration": 3605,
    "start_time": "2024-04-30T13:19:56.400Z"
   },
   {
    "duration": 10,
    "start_time": "2024-04-30T13:20:00.006Z"
   },
   {
    "duration": 3,
    "start_time": "2024-04-30T13:21:53.279Z"
   },
   {
    "duration": 7614,
    "start_time": "2024-04-30T13:21:54.307Z"
   },
   {
    "duration": 3,
    "start_time": "2024-04-30T13:22:04.380Z"
   },
   {
    "duration": 7651,
    "start_time": "2024-04-30T13:22:07.808Z"
   },
   {
    "duration": 7548,
    "start_time": "2024-04-30T13:23:20.664Z"
   },
   {
    "duration": 4,
    "start_time": "2024-04-30T13:23:40.661Z"
   },
   {
    "duration": 5897,
    "start_time": "2024-04-30T13:23:41.980Z"
   },
   {
    "duration": 6021,
    "start_time": "2024-04-30T13:24:06.090Z"
   },
   {
    "duration": 4,
    "start_time": "2024-04-30T13:25:32.981Z"
   },
   {
    "duration": 1763,
    "start_time": "2024-04-30T13:25:34.233Z"
   },
   {
    "duration": 3,
    "start_time": "2024-04-30T13:25:53.580Z"
   },
   {
    "duration": 4538,
    "start_time": "2024-04-30T13:25:55.511Z"
   },
   {
    "duration": 3,
    "start_time": "2024-04-30T13:26:32.464Z"
   },
   {
    "duration": 2064,
    "start_time": "2024-04-30T13:26:34.991Z"
   },
   {
    "duration": 3,
    "start_time": "2024-04-30T13:27:26.278Z"
   },
   {
    "duration": 4,
    "start_time": "2024-04-30T13:27:43.282Z"
   },
   {
    "duration": 8,
    "start_time": "2024-04-30T13:27:50.474Z"
   },
   {
    "duration": 2350,
    "start_time": "2024-04-30T13:27:50.483Z"
   },
   {
    "duration": 1337,
    "start_time": "2024-04-30T13:27:52.836Z"
   },
   {
    "duration": 154,
    "start_time": "2024-04-30T13:27:54.175Z"
   },
   {
    "duration": 142,
    "start_time": "2024-04-30T13:27:54.331Z"
   },
   {
    "duration": 141,
    "start_time": "2024-04-30T13:27:54.475Z"
   },
   {
    "duration": 170,
    "start_time": "2024-04-30T13:27:54.618Z"
   },
   {
    "duration": 185,
    "start_time": "2024-04-30T13:27:54.789Z"
   },
   {
    "duration": 45,
    "start_time": "2024-04-30T13:27:54.976Z"
   },
   {
    "duration": 34,
    "start_time": "2024-04-30T13:27:55.022Z"
   },
   {
    "duration": 36,
    "start_time": "2024-04-30T13:27:55.058Z"
   },
   {
    "duration": 20,
    "start_time": "2024-04-30T13:27:55.095Z"
   },
   {
    "duration": 849,
    "start_time": "2024-04-30T13:27:55.116Z"
   },
   {
    "duration": 748,
    "start_time": "2024-04-30T13:27:55.967Z"
   },
   {
    "duration": 907,
    "start_time": "2024-04-30T13:27:56.716Z"
   },
   {
    "duration": 5,
    "start_time": "2024-04-30T13:27:57.624Z"
   },
   {
    "duration": 426,
    "start_time": "2024-04-30T13:27:57.630Z"
   },
   {
    "duration": 872,
    "start_time": "2024-04-30T13:27:58.058Z"
   },
   {
    "duration": 862,
    "start_time": "2024-04-30T13:27:58.932Z"
   },
   {
    "duration": 791,
    "start_time": "2024-04-30T13:27:59.796Z"
   },
   {
    "duration": 444,
    "start_time": "2024-04-30T13:28:00.588Z"
   },
   {
    "duration": 366,
    "start_time": "2024-04-30T13:28:01.034Z"
   },
   {
    "duration": 198,
    "start_time": "2024-04-30T13:28:01.401Z"
   },
   {
    "duration": 246,
    "start_time": "2024-04-30T13:28:01.600Z"
   },
   {
    "duration": 339,
    "start_time": "2024-04-30T13:28:01.847Z"
   },
   {
    "duration": 262,
    "start_time": "2024-04-30T13:28:02.187Z"
   },
   {
    "duration": 266,
    "start_time": "2024-04-30T13:28:02.450Z"
   },
   {
    "duration": 424,
    "start_time": "2024-04-30T13:28:02.718Z"
   },
   {
    "duration": 595,
    "start_time": "2024-04-30T13:28:03.145Z"
   },
   {
    "duration": 601,
    "start_time": "2024-04-30T13:28:03.742Z"
   },
   {
    "duration": 929,
    "start_time": "2024-04-30T13:28:04.344Z"
   },
   {
    "duration": 97,
    "start_time": "2024-04-30T13:28:05.275Z"
   },
   {
    "duration": 3,
    "start_time": "2024-04-30T13:28:05.374Z"
   },
   {
    "duration": 4077,
    "start_time": "2024-04-30T13:28:05.378Z"
   },
   {
    "duration": 5,
    "start_time": "2024-04-30T13:28:09.456Z"
   },
   {
    "duration": 4096,
    "start_time": "2024-04-30T13:32:43.950Z"
   },
   {
    "duration": 103,
    "start_time": "2024-04-30T13:33:18.466Z"
   },
   {
    "duration": 4091,
    "start_time": "2024-04-30T13:33:57.959Z"
   },
   {
    "duration": 4062,
    "start_time": "2024-04-30T13:34:20.973Z"
   },
   {
    "duration": 4,
    "start_time": "2024-04-30T13:34:50.922Z"
   },
   {
    "duration": 6522,
    "start_time": "2024-04-30T13:34:52.846Z"
   },
   {
    "duration": 10,
    "start_time": "2024-04-30T13:35:26.293Z"
   },
   {
    "duration": 2376,
    "start_time": "2024-04-30T13:35:26.308Z"
   },
   {
    "duration": 1449,
    "start_time": "2024-04-30T13:35:28.686Z"
   },
   {
    "duration": 160,
    "start_time": "2024-04-30T13:35:30.137Z"
   },
   {
    "duration": 128,
    "start_time": "2024-04-30T13:35:30.298Z"
   },
   {
    "duration": 139,
    "start_time": "2024-04-30T13:35:30.429Z"
   },
   {
    "duration": 194,
    "start_time": "2024-04-30T13:35:30.569Z"
   },
   {
    "duration": 212,
    "start_time": "2024-04-30T13:35:30.764Z"
   },
   {
    "duration": 53,
    "start_time": "2024-04-30T13:35:30.977Z"
   },
   {
    "duration": 41,
    "start_time": "2024-04-30T13:35:31.032Z"
   },
   {
    "duration": 55,
    "start_time": "2024-04-30T13:35:31.075Z"
   },
   {
    "duration": 4,
    "start_time": "2024-04-30T13:35:31.132Z"
   },
   {
    "duration": 893,
    "start_time": "2024-04-30T13:35:31.137Z"
   },
   {
    "duration": 784,
    "start_time": "2024-04-30T13:35:32.032Z"
   },
   {
    "duration": 1032,
    "start_time": "2024-04-30T13:35:32.818Z"
   },
   {
    "duration": 5,
    "start_time": "2024-04-30T13:35:33.851Z"
   },
   {
    "duration": 441,
    "start_time": "2024-04-30T13:35:33.858Z"
   },
   {
    "duration": 891,
    "start_time": "2024-04-30T13:35:34.301Z"
   },
   {
    "duration": 876,
    "start_time": "2024-04-30T13:35:35.194Z"
   },
   {
    "duration": 770,
    "start_time": "2024-04-30T13:35:36.071Z"
   },
   {
    "duration": 470,
    "start_time": "2024-04-30T13:35:36.843Z"
   },
   {
    "duration": 340,
    "start_time": "2024-04-30T13:35:37.315Z"
   },
   {
    "duration": 195,
    "start_time": "2024-04-30T13:35:37.657Z"
   },
   {
    "duration": 240,
    "start_time": "2024-04-30T13:35:37.854Z"
   },
   {
    "duration": 365,
    "start_time": "2024-04-30T13:35:38.096Z"
   },
   {
    "duration": 277,
    "start_time": "2024-04-30T13:35:38.462Z"
   },
   {
    "duration": 290,
    "start_time": "2024-04-30T13:35:38.741Z"
   },
   {
    "duration": 451,
    "start_time": "2024-04-30T13:35:39.033Z"
   },
   {
    "duration": 613,
    "start_time": "2024-04-30T13:35:39.485Z"
   },
   {
    "duration": 612,
    "start_time": "2024-04-30T13:35:40.099Z"
   },
   {
    "duration": 926,
    "start_time": "2024-04-30T13:35:40.713Z"
   },
   {
    "duration": 112,
    "start_time": "2024-04-30T13:35:41.641Z"
   },
   {
    "duration": 4,
    "start_time": "2024-04-30T13:35:41.754Z"
   },
   {
    "duration": 6400,
    "start_time": "2024-04-30T13:35:41.760Z"
   },
   {
    "duration": 5,
    "start_time": "2024-04-30T13:35:48.161Z"
   },
   {
    "duration": 6194,
    "start_time": "2024-04-30T13:36:46.753Z"
   },
   {
    "duration": 5937,
    "start_time": "2024-04-30T13:37:19.589Z"
   },
   {
    "duration": 9,
    "start_time": "2024-04-30T13:39:55.555Z"
   },
   {
    "duration": 2,
    "start_time": "2024-04-30T13:40:44.250Z"
   },
   {
    "duration": 3,
    "start_time": "2024-04-30T13:40:46.937Z"
   },
   {
    "duration": 3,
    "start_time": "2024-04-30T13:40:47.943Z"
   },
   {
    "duration": 5666,
    "start_time": "2024-04-30T13:40:49.659Z"
   },
   {
    "duration": 57,
    "start_time": "2024-04-30T13:41:40.734Z"
   },
   {
    "duration": 3,
    "start_time": "2024-04-30T13:41:42.898Z"
   },
   {
    "duration": 3,
    "start_time": "2024-04-30T13:41:44.029Z"
   },
   {
    "duration": 3,
    "start_time": "2024-04-30T13:41:52.827Z"
   },
   {
    "duration": 3,
    "start_time": "2024-04-30T13:42:03.403Z"
   },
   {
    "duration": 5855,
    "start_time": "2024-04-30T13:42:06.194Z"
   },
   {
    "duration": 9,
    "start_time": "2024-04-30T13:49:07.703Z"
   },
   {
    "duration": 7,
    "start_time": "2024-04-30T13:51:36.324Z"
   },
   {
    "duration": 14,
    "start_time": "2024-04-30T13:51:44.315Z"
   },
   {
    "duration": 17,
    "start_time": "2024-04-30T13:52:41.427Z"
   },
   {
    "duration": 23,
    "start_time": "2024-04-30T13:52:57.044Z"
   },
   {
    "duration": 178,
    "start_time": "2024-04-30T13:53:05.494Z"
   },
   {
    "duration": 14,
    "start_time": "2024-04-30T13:53:19.978Z"
   },
   {
    "duration": 15,
    "start_time": "2024-04-30T13:54:52.384Z"
   },
   {
    "duration": 48,
    "start_time": "2024-05-01T15:48:35.098Z"
   },
   {
    "duration": 9,
    "start_time": "2024-05-01T15:48:40.551Z"
   },
   {
    "duration": 3245,
    "start_time": "2024-05-01T15:48:40.561Z"
   },
   {
    "duration": 2361,
    "start_time": "2024-05-01T15:48:43.808Z"
   },
   {
    "duration": 564,
    "start_time": "2024-05-01T15:48:46.171Z"
   },
   {
    "duration": 126,
    "start_time": "2024-05-01T15:48:46.737Z"
   },
   {
    "duration": 519,
    "start_time": "2024-05-01T15:48:46.864Z"
   },
   {
    "duration": 196,
    "start_time": "2024-05-01T15:48:47.384Z"
   },
   {
    "duration": 219,
    "start_time": "2024-05-01T15:48:47.582Z"
   },
   {
    "duration": 35,
    "start_time": "2024-05-01T15:48:47.802Z"
   },
   {
    "duration": 44,
    "start_time": "2024-05-01T15:48:47.839Z"
   },
   {
    "duration": 33,
    "start_time": "2024-05-01T15:48:47.886Z"
   },
   {
    "duration": 4,
    "start_time": "2024-05-01T15:48:47.921Z"
   },
   {
    "duration": 953,
    "start_time": "2024-05-01T15:48:47.927Z"
   },
   {
    "duration": 823,
    "start_time": "2024-05-01T15:48:48.882Z"
   },
   {
    "duration": 929,
    "start_time": "2024-05-01T15:48:49.707Z"
   },
   {
    "duration": 6,
    "start_time": "2024-05-01T15:48:50.638Z"
   },
   {
    "duration": 465,
    "start_time": "2024-05-01T15:48:50.646Z"
   },
   {
    "duration": 878,
    "start_time": "2024-05-01T15:48:51.113Z"
   },
   {
    "duration": 927,
    "start_time": "2024-05-01T15:48:51.994Z"
   },
   {
    "duration": 806,
    "start_time": "2024-05-01T15:48:52.923Z"
   },
   {
    "duration": 462,
    "start_time": "2024-05-01T15:48:53.730Z"
   },
   {
    "duration": 358,
    "start_time": "2024-05-01T15:48:54.194Z"
   },
   {
    "duration": 214,
    "start_time": "2024-05-01T15:48:54.554Z"
   },
   {
    "duration": 231,
    "start_time": "2024-05-01T15:48:54.770Z"
   },
   {
    "duration": 353,
    "start_time": "2024-05-01T15:48:55.003Z"
   },
   {
    "duration": 279,
    "start_time": "2024-05-01T15:48:55.357Z"
   },
   {
    "duration": 297,
    "start_time": "2024-05-01T15:48:55.638Z"
   },
   {
    "duration": 439,
    "start_time": "2024-05-01T15:48:55.937Z"
   },
   {
    "duration": 644,
    "start_time": "2024-05-01T15:48:56.382Z"
   },
   {
    "duration": 639,
    "start_time": "2024-05-01T15:48:57.028Z"
   },
   {
    "duration": 1107,
    "start_time": "2024-05-01T15:48:57.668Z"
   },
   {
    "duration": 50514,
    "start_time": "2024-05-01T15:48:58.780Z"
   },
   {
    "duration": 0,
    "start_time": "2024-05-01T15:49:49.296Z"
   },
   {
    "duration": 0,
    "start_time": "2024-05-01T15:49:49.297Z"
   },
   {
    "duration": 0,
    "start_time": "2024-05-01T15:49:49.298Z"
   },
   {
    "duration": 0,
    "start_time": "2024-05-01T15:49:49.299Z"
   },
   {
    "duration": 0,
    "start_time": "2024-05-01T15:49:49.301Z"
   },
   {
    "duration": 0,
    "start_time": "2024-05-01T15:49:49.302Z"
   },
   {
    "duration": 0,
    "start_time": "2024-05-01T15:49:49.303Z"
   },
   {
    "duration": 0,
    "start_time": "2024-05-01T15:49:49.304Z"
   },
   {
    "duration": 757,
    "start_time": "2024-05-01T15:50:14.098Z"
   },
   {
    "duration": 706,
    "start_time": "2024-05-01T15:51:07.086Z"
   },
   {
    "duration": 682,
    "start_time": "2024-05-01T15:51:37.656Z"
   },
   {
    "duration": 745,
    "start_time": "2024-05-01T15:52:16.174Z"
   },
   {
    "duration": 1055,
    "start_time": "2024-05-01T15:54:47.174Z"
   },
   {
    "duration": 40,
    "start_time": "2024-05-01T16:04:29.969Z"
   },
   {
    "duration": 15,
    "start_time": "2024-05-01T16:04:53.531Z"
   },
   {
    "duration": 15,
    "start_time": "2024-05-01T16:06:35.561Z"
   },
   {
    "duration": 13,
    "start_time": "2024-05-01T16:07:28.761Z"
   },
   {
    "duration": 17,
    "start_time": "2024-05-01T16:08:44.142Z"
   },
   {
    "duration": 102,
    "start_time": "2024-05-01T16:08:54.165Z"
   },
   {
    "duration": 48,
    "start_time": "2024-05-01T16:09:00.197Z"
   },
   {
    "duration": 11,
    "start_time": "2024-05-01T16:09:25.881Z"
   },
   {
    "duration": 15,
    "start_time": "2024-05-01T16:10:05.284Z"
   },
   {
    "duration": 10,
    "start_time": "2024-05-01T16:10:38.461Z"
   },
   {
    "duration": 15,
    "start_time": "2024-05-01T16:10:50.289Z"
   },
   {
    "duration": 36,
    "start_time": "2024-05-01T16:11:34.815Z"
   },
   {
    "duration": 465,
    "start_time": "2024-05-01T16:12:40.757Z"
   },
   {
    "duration": 486,
    "start_time": "2024-05-01T16:53:31.923Z"
   },
   {
    "duration": 478,
    "start_time": "2024-05-01T16:53:51.235Z"
   },
   {
    "duration": 193,
    "start_time": "2024-05-01T16:55:10.389Z"
   },
   {
    "duration": 127,
    "start_time": "2024-05-01T16:55:31.957Z"
   },
   {
    "duration": 501,
    "start_time": "2024-05-01T16:56:18.780Z"
   },
   {
    "duration": 28,
    "start_time": "2024-05-01T16:56:46.305Z"
   },
   {
    "duration": 25,
    "start_time": "2024-05-01T16:57:36.490Z"
   },
   {
    "duration": 30,
    "start_time": "2024-05-01T16:57:50.375Z"
   },
   {
    "duration": 65,
    "start_time": "2024-05-01T16:58:03.804Z"
   },
   {
    "duration": 33,
    "start_time": "2024-05-01T16:58:06.652Z"
   },
   {
    "duration": 61,
    "start_time": "2024-05-01T16:58:42.310Z"
   },
   {
    "duration": 79,
    "start_time": "2024-05-01T16:59:00.145Z"
   },
   {
    "duration": 61,
    "start_time": "2024-05-01T16:59:11.517Z"
   },
   {
    "duration": 80,
    "start_time": "2024-05-01T16:59:23.000Z"
   },
   {
    "duration": 9,
    "start_time": "2024-05-01T17:00:30.637Z"
   },
   {
    "duration": 2473,
    "start_time": "2024-05-01T17:00:30.648Z"
   },
   {
    "duration": 1420,
    "start_time": "2024-05-01T17:00:33.123Z"
   },
   {
    "duration": 154,
    "start_time": "2024-05-01T17:00:34.545Z"
   },
   {
    "duration": 137,
    "start_time": "2024-05-01T17:00:34.701Z"
   },
   {
    "duration": 150,
    "start_time": "2024-05-01T17:00:34.840Z"
   },
   {
    "duration": 189,
    "start_time": "2024-05-01T17:00:34.991Z"
   },
   {
    "duration": 199,
    "start_time": "2024-05-01T17:00:35.182Z"
   },
   {
    "duration": 36,
    "start_time": "2024-05-01T17:00:35.383Z"
   },
   {
    "duration": 60,
    "start_time": "2024-05-01T17:00:35.420Z"
   },
   {
    "duration": 36,
    "start_time": "2024-05-01T17:00:35.483Z"
   },
   {
    "duration": 5,
    "start_time": "2024-05-01T17:00:35.521Z"
   },
   {
    "duration": 886,
    "start_time": "2024-05-01T17:00:35.528Z"
   },
   {
    "duration": 808,
    "start_time": "2024-05-01T17:00:36.415Z"
   },
   {
    "duration": 904,
    "start_time": "2024-05-01T17:00:37.225Z"
   },
   {
    "duration": 5,
    "start_time": "2024-05-01T17:00:38.131Z"
   },
   {
    "duration": 565,
    "start_time": "2024-05-01T17:00:38.138Z"
   },
   {
    "duration": 851,
    "start_time": "2024-05-01T17:00:38.705Z"
   },
   {
    "duration": 886,
    "start_time": "2024-05-01T17:00:39.558Z"
   },
   {
    "duration": 777,
    "start_time": "2024-05-01T17:00:40.446Z"
   },
   {
    "duration": 464,
    "start_time": "2024-05-01T17:00:41.225Z"
   },
   {
    "duration": 336,
    "start_time": "2024-05-01T17:00:41.691Z"
   },
   {
    "duration": 214,
    "start_time": "2024-05-01T17:00:42.029Z"
   },
   {
    "duration": 225,
    "start_time": "2024-05-01T17:00:42.244Z"
   },
   {
    "duration": 360,
    "start_time": "2024-05-01T17:00:42.470Z"
   },
   {
    "duration": 263,
    "start_time": "2024-05-01T17:00:42.832Z"
   },
   {
    "duration": 286,
    "start_time": "2024-05-01T17:00:43.097Z"
   },
   {
    "duration": 431,
    "start_time": "2024-05-01T17:00:43.385Z"
   },
   {
    "duration": 604,
    "start_time": "2024-05-01T17:00:43.819Z"
   },
   {
    "duration": 657,
    "start_time": "2024-05-01T17:00:44.425Z"
   },
   {
    "duration": 933,
    "start_time": "2024-05-01T17:00:45.084Z"
   },
   {
    "duration": 612,
    "start_time": "2024-05-01T17:00:46.019Z"
   },
   {
    "duration": 583,
    "start_time": "2024-05-01T17:00:46.632Z"
   },
   {
    "duration": 587,
    "start_time": "2024-05-01T17:00:47.216Z"
   },
   {
    "duration": 115,
    "start_time": "2024-05-01T17:00:47.805Z"
   },
   {
    "duration": 3,
    "start_time": "2024-05-01T17:00:47.921Z"
   },
   {
    "duration": 9,
    "start_time": "2024-05-01T17:00:47.925Z"
   },
   {
    "duration": 5,
    "start_time": "2024-05-01T17:00:47.935Z"
   },
   {
    "duration": 6209,
    "start_time": "2024-05-01T17:00:47.941Z"
   },
   {
    "duration": 30,
    "start_time": "2024-05-01T17:00:54.151Z"
   },
   {
    "duration": 68,
    "start_time": "2024-05-01T17:00:54.183Z"
   },
   {
    "duration": 120,
    "start_time": "2024-05-01T17:00:54.253Z"
   },
   {
    "duration": 0,
    "start_time": "2024-05-01T17:00:54.376Z"
   },
   {
    "duration": 0,
    "start_time": "2024-05-01T17:00:54.380Z"
   },
   {
    "duration": 65,
    "start_time": "2024-05-01T17:01:39.589Z"
   },
   {
    "duration": 29,
    "start_time": "2024-05-01T17:01:41.732Z"
   },
   {
    "duration": 516,
    "start_time": "2024-05-01T17:01:49.265Z"
   },
   {
    "duration": 33,
    "start_time": "2024-05-01T17:01:53.034Z"
   },
   {
    "duration": 90,
    "start_time": "2024-05-01T18:57:18.378Z"
   },
   {
    "duration": 9,
    "start_time": "2024-05-01T18:57:26.195Z"
   },
   {
    "duration": 2434,
    "start_time": "2024-05-01T18:57:26.206Z"
   },
   {
    "duration": 1537,
    "start_time": "2024-05-01T18:57:28.643Z"
   },
   {
    "duration": 266,
    "start_time": "2024-05-01T18:57:30.182Z"
   },
   {
    "duration": 209,
    "start_time": "2024-05-01T18:57:30.450Z"
   },
   {
    "duration": 186,
    "start_time": "2024-05-01T18:57:30.661Z"
   },
   {
    "duration": 184,
    "start_time": "2024-05-01T18:57:30.849Z"
   },
   {
    "duration": 186,
    "start_time": "2024-05-01T18:57:31.035Z"
   },
   {
    "duration": 112,
    "start_time": "2024-05-01T18:57:31.223Z"
   },
   {
    "duration": 46,
    "start_time": "2024-05-01T18:57:31.337Z"
   },
   {
    "duration": 63,
    "start_time": "2024-05-01T18:57:31.387Z"
   },
   {
    "duration": 20,
    "start_time": "2024-05-01T18:57:31.451Z"
   },
   {
    "duration": 971,
    "start_time": "2024-05-01T18:57:31.472Z"
   },
   {
    "duration": 823,
    "start_time": "2024-05-01T18:57:32.445Z"
   },
   {
    "duration": 957,
    "start_time": "2024-05-01T18:57:33.269Z"
   },
   {
    "duration": 5,
    "start_time": "2024-05-01T18:57:34.228Z"
   },
   {
    "duration": 475,
    "start_time": "2024-05-01T18:57:34.235Z"
   },
   {
    "duration": 904,
    "start_time": "2024-05-01T18:57:34.711Z"
   },
   {
    "duration": 870,
    "start_time": "2024-05-01T18:57:35.616Z"
   },
   {
    "duration": 846,
    "start_time": "2024-05-01T18:57:36.487Z"
   },
   {
    "duration": 468,
    "start_time": "2024-05-01T18:57:37.335Z"
   },
   {
    "duration": 366,
    "start_time": "2024-05-01T18:57:37.805Z"
   },
   {
    "duration": 209,
    "start_time": "2024-05-01T18:57:38.173Z"
   },
   {
    "duration": 255,
    "start_time": "2024-05-01T18:57:38.384Z"
   },
   {
    "duration": 378,
    "start_time": "2024-05-01T18:57:38.641Z"
   },
   {
    "duration": 280,
    "start_time": "2024-05-01T18:57:39.021Z"
   },
   {
    "duration": 278,
    "start_time": "2024-05-01T18:57:39.302Z"
   },
   {
    "duration": 441,
    "start_time": "2024-05-01T18:57:39.582Z"
   },
   {
    "duration": 652,
    "start_time": "2024-05-01T18:57:40.026Z"
   },
   {
    "duration": 582,
    "start_time": "2024-05-01T18:57:40.680Z"
   },
   {
    "duration": 926,
    "start_time": "2024-05-01T18:57:41.264Z"
   },
   {
    "duration": 629,
    "start_time": "2024-05-01T18:57:42.192Z"
   },
   {
    "duration": 612,
    "start_time": "2024-05-01T18:57:42.823Z"
   },
   {
    "duration": 579,
    "start_time": "2024-05-01T18:57:43.436Z"
   },
   {
    "duration": 108,
    "start_time": "2024-05-01T18:57:44.017Z"
   },
   {
    "duration": 3,
    "start_time": "2024-05-01T18:57:44.126Z"
   },
   {
    "duration": 21,
    "start_time": "2024-05-01T18:57:44.130Z"
   },
   {
    "duration": 13,
    "start_time": "2024-05-01T18:57:44.153Z"
   },
   {
    "duration": 6192,
    "start_time": "2024-05-01T18:57:44.168Z"
   },
   {
    "duration": 26,
    "start_time": "2024-05-01T18:57:50.361Z"
   },
   {
    "duration": 67,
    "start_time": "2024-05-01T18:57:50.388Z"
   },
   {
    "duration": 155,
    "start_time": "2024-05-01T18:57:50.457Z"
   },
   {
    "duration": 0,
    "start_time": "2024-05-01T18:57:50.613Z"
   },
   {
    "duration": 0,
    "start_time": "2024-05-01T18:57:50.614Z"
   },
   {
    "duration": 30,
    "start_time": "2024-05-01T18:58:42.160Z"
   },
   {
    "duration": 29,
    "start_time": "2024-05-01T18:59:10.135Z"
   },
   {
    "duration": 30,
    "start_time": "2024-05-01T18:59:38.503Z"
   },
   {
    "duration": 31,
    "start_time": "2024-05-01T19:00:05.330Z"
   },
   {
    "duration": 68,
    "start_time": "2024-05-01T19:01:04.919Z"
   },
   {
    "duration": 37,
    "start_time": "2024-05-01T19:01:27.444Z"
   },
   {
    "duration": 104,
    "start_time": "2024-05-01T19:02:03.579Z"
   },
   {
    "duration": 82,
    "start_time": "2024-05-01T19:02:23.001Z"
   },
   {
    "duration": 225,
    "start_time": "2024-05-01T19:02:59.781Z"
   },
   {
    "duration": 31,
    "start_time": "2024-05-01T19:03:22.586Z"
   },
   {
    "duration": 665,
    "start_time": "2024-05-01T19:03:27.916Z"
   },
   {
    "duration": 78,
    "start_time": "2024-05-01T19:04:09.917Z"
   },
   {
    "duration": 94,
    "start_time": "2024-05-01T19:04:12.888Z"
   },
   {
    "duration": 30,
    "start_time": "2024-05-01T19:04:25.401Z"
   },
   {
    "duration": 6445,
    "start_time": "2024-05-01T19:05:08.132Z"
   },
   {
    "duration": 9,
    "start_time": "2024-05-01T19:05:54.093Z"
   },
   {
    "duration": 2434,
    "start_time": "2024-05-01T19:05:54.104Z"
   },
   {
    "duration": 1417,
    "start_time": "2024-05-01T19:05:56.540Z"
   },
   {
    "duration": 150,
    "start_time": "2024-05-01T19:05:57.959Z"
   },
   {
    "duration": 135,
    "start_time": "2024-05-01T19:05:58.110Z"
   },
   {
    "duration": 138,
    "start_time": "2024-05-01T19:05:58.246Z"
   },
   {
    "duration": 176,
    "start_time": "2024-05-01T19:05:58.386Z"
   },
   {
    "duration": 235,
    "start_time": "2024-05-01T19:05:58.564Z"
   },
   {
    "duration": 34,
    "start_time": "2024-05-01T19:05:58.800Z"
   },
   {
    "duration": 46,
    "start_time": "2024-05-01T19:05:58.838Z"
   },
   {
    "duration": 35,
    "start_time": "2024-05-01T19:05:58.885Z"
   },
   {
    "duration": 4,
    "start_time": "2024-05-01T19:05:58.922Z"
   },
   {
    "duration": 892,
    "start_time": "2024-05-01T19:05:58.928Z"
   },
   {
    "duration": 826,
    "start_time": "2024-05-01T19:05:59.822Z"
   },
   {
    "duration": 1019,
    "start_time": "2024-05-01T19:06:00.649Z"
   },
   {
    "duration": 10,
    "start_time": "2024-05-01T19:06:01.670Z"
   },
   {
    "duration": 507,
    "start_time": "2024-05-01T19:06:01.682Z"
   },
   {
    "duration": 1003,
    "start_time": "2024-05-01T19:06:02.192Z"
   },
   {
    "duration": 981,
    "start_time": "2024-05-01T19:06:03.196Z"
   },
   {
    "duration": 813,
    "start_time": "2024-05-01T19:06:04.180Z"
   },
   {
    "duration": 481,
    "start_time": "2024-05-01T19:06:04.995Z"
   },
   {
    "duration": 362,
    "start_time": "2024-05-01T19:06:05.480Z"
   },
   {
    "duration": 211,
    "start_time": "2024-05-01T19:06:05.844Z"
   },
   {
    "duration": 233,
    "start_time": "2024-05-01T19:06:06.057Z"
   },
   {
    "duration": 363,
    "start_time": "2024-05-01T19:06:06.291Z"
   },
   {
    "duration": 292,
    "start_time": "2024-05-01T19:06:06.655Z"
   },
   {
    "duration": 297,
    "start_time": "2024-05-01T19:06:06.949Z"
   },
   {
    "duration": 495,
    "start_time": "2024-05-01T19:06:07.250Z"
   },
   {
    "duration": 641,
    "start_time": "2024-05-01T19:06:07.747Z"
   },
   {
    "duration": 728,
    "start_time": "2024-05-01T19:06:08.390Z"
   },
   {
    "duration": 914,
    "start_time": "2024-05-01T19:06:09.120Z"
   },
   {
    "duration": 652,
    "start_time": "2024-05-01T19:06:10.036Z"
   },
   {
    "duration": 614,
    "start_time": "2024-05-01T19:06:10.689Z"
   },
   {
    "duration": 604,
    "start_time": "2024-05-01T19:06:11.304Z"
   },
   {
    "duration": 113,
    "start_time": "2024-05-01T19:06:11.910Z"
   },
   {
    "duration": 2,
    "start_time": "2024-05-01T19:06:12.025Z"
   },
   {
    "duration": 13,
    "start_time": "2024-05-01T19:06:12.029Z"
   },
   {
    "duration": 7,
    "start_time": "2024-05-01T19:06:12.044Z"
   },
   {
    "duration": 6319,
    "start_time": "2024-05-01T19:06:12.053Z"
   },
   {
    "duration": 26,
    "start_time": "2024-05-01T19:06:18.374Z"
   },
   {
    "duration": 79,
    "start_time": "2024-05-01T19:06:18.401Z"
   },
   {
    "duration": 38,
    "start_time": "2024-05-01T19:06:18.482Z"
   },
   {
    "duration": 699,
    "start_time": "2024-05-01T19:06:18.582Z"
   },
   {
    "duration": 96,
    "start_time": "2024-05-01T19:06:19.284Z"
   },
   {
    "duration": 4,
    "start_time": "2024-05-01T19:07:28.289Z"
   },
   {
    "duration": 6,
    "start_time": "2024-05-01T19:08:06.639Z"
   },
   {
    "duration": 4,
    "start_time": "2024-05-01T19:08:53.161Z"
   },
   {
    "duration": 2463,
    "start_time": "2024-05-01T19:08:53.167Z"
   },
   {
    "duration": 5,
    "start_time": "2024-05-01T19:08:55.633Z"
   },
   {
    "duration": 168,
    "start_time": "2024-05-01T19:08:55.639Z"
   },
   {
    "duration": 127,
    "start_time": "2024-05-01T19:08:55.809Z"
   },
   {
    "duration": 144,
    "start_time": "2024-05-01T19:08:55.938Z"
   },
   {
    "duration": 169,
    "start_time": "2024-05-01T19:08:56.083Z"
   },
   {
    "duration": 179,
    "start_time": "2024-05-01T19:08:56.254Z"
   },
   {
    "duration": 51,
    "start_time": "2024-05-01T19:08:56.434Z"
   },
   {
    "duration": 36,
    "start_time": "2024-05-01T19:08:56.487Z"
   },
   {
    "duration": 56,
    "start_time": "2024-05-01T19:08:56.525Z"
   },
   {
    "duration": 5,
    "start_time": "2024-05-01T19:08:56.584Z"
   },
   {
    "duration": 902,
    "start_time": "2024-05-01T19:08:56.590Z"
   },
   {
    "duration": 904,
    "start_time": "2024-05-01T19:08:57.494Z"
   },
   {
    "duration": 799,
    "start_time": "2024-05-01T19:08:58.400Z"
   },
   {
    "duration": 5,
    "start_time": "2024-05-01T19:08:59.200Z"
   },
   {
    "duration": 586,
    "start_time": "2024-05-01T19:08:59.206Z"
   },
   {
    "duration": 778,
    "start_time": "2024-05-01T19:08:59.794Z"
   },
   {
    "duration": 953,
    "start_time": "2024-05-01T19:09:00.573Z"
   },
   {
    "duration": 842,
    "start_time": "2024-05-01T19:09:01.528Z"
   },
   {
    "duration": 683,
    "start_time": "2024-05-01T19:09:02.371Z"
   },
   {
    "duration": 224,
    "start_time": "2024-05-01T19:09:03.056Z"
   },
   {
    "duration": 224,
    "start_time": "2024-05-01T19:09:03.281Z"
   },
   {
    "duration": 263,
    "start_time": "2024-05-01T19:09:03.507Z"
   },
   {
    "duration": 402,
    "start_time": "2024-05-01T19:09:03.772Z"
   },
   {
    "duration": 333,
    "start_time": "2024-05-01T19:09:04.180Z"
   },
   {
    "duration": 412,
    "start_time": "2024-05-01T19:09:04.515Z"
   },
   {
    "duration": 355,
    "start_time": "2024-05-01T19:09:04.928Z"
   },
   {
    "duration": 653,
    "start_time": "2024-05-01T19:09:05.286Z"
   },
   {
    "duration": 631,
    "start_time": "2024-05-01T19:09:05.941Z"
   },
   {
    "duration": 999,
    "start_time": "2024-05-01T19:09:06.573Z"
   },
   {
    "duration": 625,
    "start_time": "2024-05-01T19:09:07.574Z"
   },
   {
    "duration": 721,
    "start_time": "2024-05-01T19:09:08.201Z"
   },
   {
    "duration": 614,
    "start_time": "2024-05-01T19:09:08.924Z"
   },
   {
    "duration": 117,
    "start_time": "2024-05-01T19:09:09.540Z"
   },
   {
    "duration": 2,
    "start_time": "2024-05-01T19:09:09.659Z"
   },
   {
    "duration": 8,
    "start_time": "2024-05-01T19:09:09.663Z"
   },
   {
    "duration": 11,
    "start_time": "2024-05-01T19:09:09.679Z"
   },
   {
    "duration": 6306,
    "start_time": "2024-05-01T19:09:09.692Z"
   },
   {
    "duration": 27,
    "start_time": "2024-05-01T19:09:16.000Z"
   },
   {
    "duration": 75,
    "start_time": "2024-05-01T19:09:16.029Z"
   },
   {
    "duration": 77,
    "start_time": "2024-05-01T19:09:16.106Z"
   },
   {
    "duration": 99,
    "start_time": "2024-05-01T19:09:16.185Z"
   },
   {
    "duration": 39,
    "start_time": "2024-05-01T19:10:32.816Z"
   },
   {
    "duration": 1155,
    "start_time": "2024-05-01T19:11:15.534Z"
   },
   {
    "duration": 1285,
    "start_time": "2024-05-01T19:12:24.292Z"
   },
   {
    "duration": 1118,
    "start_time": "2024-05-01T19:12:48.370Z"
   },
   {
    "duration": 5,
    "start_time": "2024-05-01T19:12:59.795Z"
   },
   {
    "duration": 1503,
    "start_time": "2024-05-01T19:13:47.169Z"
   },
   {
    "duration": 529,
    "start_time": "2024-05-01T19:14:45.453Z"
   },
   {
    "duration": 1549,
    "start_time": "2024-05-01T19:15:04.317Z"
   },
   {
    "duration": 11,
    "start_time": "2024-05-01T19:16:07.469Z"
   },
   {
    "duration": 10,
    "start_time": "2024-05-01T19:16:44.300Z"
   },
   {
    "duration": 2486,
    "start_time": "2024-05-01T19:16:44.311Z"
   },
   {
    "duration": 1466,
    "start_time": "2024-05-01T19:16:46.799Z"
   },
   {
    "duration": 156,
    "start_time": "2024-05-01T19:16:48.267Z"
   },
   {
    "duration": 152,
    "start_time": "2024-05-01T19:16:48.424Z"
   },
   {
    "duration": 152,
    "start_time": "2024-05-01T19:16:48.579Z"
   },
   {
    "duration": 196,
    "start_time": "2024-05-01T19:16:48.733Z"
   },
   {
    "duration": 189,
    "start_time": "2024-05-01T19:16:48.931Z"
   },
   {
    "duration": 35,
    "start_time": "2024-05-01T19:16:49.123Z"
   },
   {
    "duration": 51,
    "start_time": "2024-05-01T19:16:49.160Z"
   },
   {
    "duration": 34,
    "start_time": "2024-05-01T19:16:49.212Z"
   },
   {
    "duration": 4,
    "start_time": "2024-05-01T19:16:49.248Z"
   },
   {
    "duration": 931,
    "start_time": "2024-05-01T19:16:49.253Z"
   },
   {
    "duration": 841,
    "start_time": "2024-05-01T19:16:50.186Z"
   },
   {
    "duration": 883,
    "start_time": "2024-05-01T19:16:51.029Z"
   },
   {
    "duration": 4,
    "start_time": "2024-05-01T19:16:51.914Z"
   },
   {
    "duration": 481,
    "start_time": "2024-05-01T19:16:51.920Z"
   },
   {
    "duration": 920,
    "start_time": "2024-05-01T19:16:52.403Z"
   },
   {
    "duration": 942,
    "start_time": "2024-05-01T19:16:53.326Z"
   },
   {
    "duration": 804,
    "start_time": "2024-05-01T19:16:54.270Z"
   },
   {
    "duration": 460,
    "start_time": "2024-05-01T19:16:55.076Z"
   },
   {
    "duration": 366,
    "start_time": "2024-05-01T19:16:55.538Z"
   },
   {
    "duration": 202,
    "start_time": "2024-05-01T19:16:55.905Z"
   },
   {
    "duration": 237,
    "start_time": "2024-05-01T19:16:56.110Z"
   },
   {
    "duration": 375,
    "start_time": "2024-05-01T19:16:56.349Z"
   },
   {
    "duration": 329,
    "start_time": "2024-05-01T19:16:56.726Z"
   },
   {
    "duration": 332,
    "start_time": "2024-05-01T19:16:57.058Z"
   },
   {
    "duration": 481,
    "start_time": "2024-05-01T19:16:57.392Z"
   },
   {
    "duration": 632,
    "start_time": "2024-05-01T19:16:57.879Z"
   },
   {
    "duration": 710,
    "start_time": "2024-05-01T19:16:58.512Z"
   },
   {
    "duration": 908,
    "start_time": "2024-05-01T19:16:59.224Z"
   },
   {
    "duration": 591,
    "start_time": "2024-05-01T19:17:00.133Z"
   },
   {
    "duration": 643,
    "start_time": "2024-05-01T19:17:00.726Z"
   },
   {
    "duration": 647,
    "start_time": "2024-05-01T19:17:01.371Z"
   },
   {
    "duration": 167,
    "start_time": "2024-05-01T19:17:02.020Z"
   },
   {
    "duration": 68,
    "start_time": "2024-05-01T19:17:02.188Z"
   },
   {
    "duration": 56,
    "start_time": "2024-05-01T19:17:02.258Z"
   },
   {
    "duration": 126,
    "start_time": "2024-05-01T19:17:02.316Z"
   },
   {
    "duration": 6561,
    "start_time": "2024-05-01T19:17:02.444Z"
   },
   {
    "duration": 24,
    "start_time": "2024-05-01T19:17:09.006Z"
   },
   {
    "duration": 78,
    "start_time": "2024-05-01T19:17:09.032Z"
   },
   {
    "duration": 1136,
    "start_time": "2024-05-01T19:17:09.112Z"
   },
   {
    "duration": 6,
    "start_time": "2024-05-01T19:17:10.250Z"
   },
   {
    "duration": 533,
    "start_time": "2024-05-01T19:17:10.257Z"
   },
   {
    "duration": 1566,
    "start_time": "2024-05-01T19:17:10.792Z"
   },
   {
    "duration": 10,
    "start_time": "2024-05-01T19:17:12.359Z"
   },
   {
    "duration": 21,
    "start_time": "2024-05-01T19:17:12.371Z"
   },
   {
    "duration": 1280,
    "start_time": "2024-05-01T19:18:26.934Z"
   },
   {
    "duration": 1249,
    "start_time": "2024-05-01T19:19:03.547Z"
   },
   {
    "duration": 495,
    "start_time": "2024-05-01T19:20:42.686Z"
   },
   {
    "duration": 1488,
    "start_time": "2024-05-01T19:21:05.819Z"
   },
   {
    "duration": 10,
    "start_time": "2024-05-01T19:22:04.594Z"
   },
   {
    "duration": 2470,
    "start_time": "2024-05-01T19:22:04.606Z"
   },
   {
    "duration": 1440,
    "start_time": "2024-05-01T19:22:07.078Z"
   },
   {
    "duration": 165,
    "start_time": "2024-05-01T19:22:08.520Z"
   },
   {
    "duration": 143,
    "start_time": "2024-05-01T19:22:08.687Z"
   },
   {
    "duration": 139,
    "start_time": "2024-05-01T19:22:08.832Z"
   },
   {
    "duration": 181,
    "start_time": "2024-05-01T19:22:08.972Z"
   },
   {
    "duration": 175,
    "start_time": "2024-05-01T19:22:09.154Z"
   },
   {
    "duration": 35,
    "start_time": "2024-05-01T19:22:09.332Z"
   },
   {
    "duration": 34,
    "start_time": "2024-05-01T19:22:09.380Z"
   },
   {
    "duration": 34,
    "start_time": "2024-05-01T19:22:09.418Z"
   },
   {
    "duration": 29,
    "start_time": "2024-05-01T19:22:09.454Z"
   },
   {
    "duration": 930,
    "start_time": "2024-05-01T19:22:09.484Z"
   },
   {
    "duration": 852,
    "start_time": "2024-05-01T19:22:10.416Z"
   },
   {
    "duration": 986,
    "start_time": "2024-05-01T19:22:11.270Z"
   },
   {
    "duration": 5,
    "start_time": "2024-05-01T19:22:12.257Z"
   },
   {
    "duration": 474,
    "start_time": "2024-05-01T19:22:12.264Z"
   },
   {
    "duration": 941,
    "start_time": "2024-05-01T19:22:12.740Z"
   },
   {
    "duration": 898,
    "start_time": "2024-05-01T19:22:13.683Z"
   },
   {
    "duration": 825,
    "start_time": "2024-05-01T19:22:14.583Z"
   },
   {
    "duration": 460,
    "start_time": "2024-05-01T19:22:15.410Z"
   },
   {
    "duration": 359,
    "start_time": "2024-05-01T19:22:15.872Z"
   },
   {
    "duration": 226,
    "start_time": "2024-05-01T19:22:16.233Z"
   },
   {
    "duration": 257,
    "start_time": "2024-05-01T19:22:16.461Z"
   },
   {
    "duration": 352,
    "start_time": "2024-05-01T19:22:16.720Z"
   },
   {
    "duration": 278,
    "start_time": "2024-05-01T19:22:17.074Z"
   },
   {
    "duration": 291,
    "start_time": "2024-05-01T19:22:17.353Z"
   },
   {
    "duration": 468,
    "start_time": "2024-05-01T19:22:17.646Z"
   },
   {
    "duration": 643,
    "start_time": "2024-05-01T19:22:18.117Z"
   },
   {
    "duration": 619,
    "start_time": "2024-05-01T19:22:18.761Z"
   },
   {
    "duration": 947,
    "start_time": "2024-05-01T19:22:19.382Z"
   },
   {
    "duration": 610,
    "start_time": "2024-05-01T19:22:20.331Z"
   },
   {
    "duration": 633,
    "start_time": "2024-05-01T19:22:20.943Z"
   },
   {
    "duration": 649,
    "start_time": "2024-05-01T19:22:21.581Z"
   },
   {
    "duration": 115,
    "start_time": "2024-05-01T19:22:22.232Z"
   },
   {
    "duration": 2,
    "start_time": "2024-05-01T19:22:22.349Z"
   },
   {
    "duration": 15,
    "start_time": "2024-05-01T19:22:22.353Z"
   },
   {
    "duration": 12,
    "start_time": "2024-05-01T19:22:22.370Z"
   },
   {
    "duration": 6277,
    "start_time": "2024-05-01T19:22:22.384Z"
   },
   {
    "duration": 33,
    "start_time": "2024-05-01T19:22:28.662Z"
   },
   {
    "duration": 86,
    "start_time": "2024-05-01T19:22:28.697Z"
   },
   {
    "duration": 1145,
    "start_time": "2024-05-01T19:22:28.785Z"
   },
   {
    "duration": 558,
    "start_time": "2024-05-01T19:22:29.932Z"
   },
   {
    "duration": 1589,
    "start_time": "2024-05-01T19:22:30.492Z"
   },
   {
    "duration": 11,
    "start_time": "2024-05-01T19:22:32.083Z"
   },
   {
    "duration": 16,
    "start_time": "2024-05-01T19:22:32.096Z"
   },
   {
    "duration": 68,
    "start_time": "2024-05-01T19:24:18.940Z"
   },
   {
    "duration": 4,
    "start_time": "2024-05-01T19:26:47.505Z"
   },
   {
    "duration": 3,
    "start_time": "2024-05-01T19:26:51.913Z"
   },
   {
    "duration": 4,
    "start_time": "2024-05-01T19:26:52.793Z"
   },
   {
    "duration": 4,
    "start_time": "2024-05-01T19:26:54.559Z"
   },
   {
    "duration": 6195,
    "start_time": "2024-05-01T19:26:55.826Z"
   },
   {
    "duration": 3,
    "start_time": "2024-05-01T19:27:32.403Z"
   },
   {
    "duration": 6104,
    "start_time": "2024-05-01T19:27:34.213Z"
   },
   {
    "duration": 23,
    "start_time": "2024-05-01T19:27:42.350Z"
   },
   {
    "duration": 75,
    "start_time": "2024-05-01T19:27:44.592Z"
   },
   {
    "duration": 1117,
    "start_time": "2024-05-01T19:27:51.590Z"
   },
   {
    "duration": 530,
    "start_time": "2024-05-01T19:28:06.251Z"
   },
   {
    "duration": 6755,
    "start_time": "2024-05-01T19:33:27.161Z"
   },
   {
    "duration": 122,
    "start_time": "2024-05-01T19:36:04.958Z"
   },
   {
    "duration": 10,
    "start_time": "2024-05-01T19:36:24.276Z"
   },
   {
    "duration": 6,
    "start_time": "2024-05-01T19:38:24.208Z"
   },
   {
    "duration": 4,
    "start_time": "2024-05-01T19:39:05.337Z"
   },
   {
    "duration": 4,
    "start_time": "2024-05-01T19:39:25.502Z"
   },
   {
    "duration": 8,
    "start_time": "2024-05-01T19:39:42.396Z"
   },
   {
    "duration": 6506,
    "start_time": "2024-05-01T19:40:05.650Z"
   },
   {
    "duration": 6239,
    "start_time": "2024-05-01T19:42:44.043Z"
   },
   {
    "duration": 6272,
    "start_time": "2024-05-01T19:44:42.203Z"
   },
   {
    "duration": 4,
    "start_time": "2024-05-01T19:46:39.246Z"
   },
   {
    "duration": 6187,
    "start_time": "2024-05-01T19:46:42.498Z"
   },
   {
    "duration": 3,
    "start_time": "2024-05-01T19:47:16.551Z"
   },
   {
    "duration": 2,
    "start_time": "2024-05-01T19:47:56.209Z"
   },
   {
    "duration": 6548,
    "start_time": "2024-05-01T19:47:57.081Z"
   },
   {
    "duration": 76,
    "start_time": "2024-05-01T19:49:17.647Z"
   },
   {
    "duration": 6339,
    "start_time": "2024-05-01T19:49:27.824Z"
   },
   {
    "duration": 4,
    "start_time": "2024-05-01T19:50:38.446Z"
   },
   {
    "duration": 6247,
    "start_time": "2024-05-01T19:50:39.904Z"
   },
   {
    "duration": 3,
    "start_time": "2024-05-01T19:51:05.974Z"
   },
   {
    "duration": 4,
    "start_time": "2024-05-01T19:51:06.875Z"
   },
   {
    "duration": 3,
    "start_time": "2024-05-01T19:51:12.080Z"
   },
   {
    "duration": 18,
    "start_time": "2024-05-01T19:51:28.229Z"
   },
   {
    "duration": 6305,
    "start_time": "2024-05-01T19:51:43.650Z"
   },
   {
    "duration": 8,
    "start_time": "2024-05-01T19:52:36.641Z"
   },
   {
    "duration": 9,
    "start_time": "2024-05-01T19:52:51.611Z"
   },
   {
    "duration": 7,
    "start_time": "2024-05-01T19:53:10.819Z"
   },
   {
    "duration": 12,
    "start_time": "2024-05-01T19:56:40.141Z"
   },
   {
    "duration": 6231,
    "start_time": "2024-05-01T19:57:23.014Z"
   },
   {
    "duration": 6192,
    "start_time": "2024-05-01T19:58:21.400Z"
   },
   {
    "duration": 6175,
    "start_time": "2024-05-01T19:59:16.841Z"
   },
   {
    "duration": 5,
    "start_time": "2024-05-01T20:00:20.711Z"
   },
   {
    "duration": 10,
    "start_time": "2024-05-01T20:00:28.017Z"
   },
   {
    "duration": 2474,
    "start_time": "2024-05-01T20:00:28.029Z"
   },
   {
    "duration": 1487,
    "start_time": "2024-05-01T20:00:30.505Z"
   },
   {
    "duration": 181,
    "start_time": "2024-05-01T20:00:31.994Z"
   },
   {
    "duration": 126,
    "start_time": "2024-05-01T20:00:32.179Z"
   },
   {
    "duration": 140,
    "start_time": "2024-05-01T20:00:32.306Z"
   },
   {
    "duration": 207,
    "start_time": "2024-05-01T20:00:32.447Z"
   },
   {
    "duration": 177,
    "start_time": "2024-05-01T20:00:32.655Z"
   },
   {
    "duration": 50,
    "start_time": "2024-05-01T20:00:32.834Z"
   },
   {
    "duration": 37,
    "start_time": "2024-05-01T20:00:32.887Z"
   },
   {
    "duration": 35,
    "start_time": "2024-05-01T20:00:32.926Z"
   },
   {
    "duration": 20,
    "start_time": "2024-05-01T20:00:32.963Z"
   },
   {
    "duration": 839,
    "start_time": "2024-05-01T20:00:32.985Z"
   },
   {
    "duration": 822,
    "start_time": "2024-05-01T20:00:33.825Z"
   },
   {
    "duration": 906,
    "start_time": "2024-05-01T20:00:34.649Z"
   },
   {
    "duration": 5,
    "start_time": "2024-05-01T20:00:35.557Z"
   },
   {
    "duration": 617,
    "start_time": "2024-05-01T20:00:35.563Z"
   },
   {
    "duration": 861,
    "start_time": "2024-05-01T20:00:36.181Z"
   },
   {
    "duration": 930,
    "start_time": "2024-05-01T20:00:37.044Z"
   },
   {
    "duration": 805,
    "start_time": "2024-05-01T20:00:37.979Z"
   },
   {
    "duration": 454,
    "start_time": "2024-05-01T20:00:38.786Z"
   },
   {
    "duration": 365,
    "start_time": "2024-05-01T20:00:39.242Z"
   },
   {
    "duration": 204,
    "start_time": "2024-05-01T20:00:39.609Z"
   },
   {
    "duration": 217,
    "start_time": "2024-05-01T20:00:39.816Z"
   },
   {
    "duration": 349,
    "start_time": "2024-05-01T20:00:40.034Z"
   },
   {
    "duration": 280,
    "start_time": "2024-05-01T20:00:40.384Z"
   },
   {
    "duration": 288,
    "start_time": "2024-05-01T20:00:40.665Z"
   },
   {
    "duration": 434,
    "start_time": "2024-05-01T20:00:40.955Z"
   },
   {
    "duration": 621,
    "start_time": "2024-05-01T20:00:41.391Z"
   },
   {
    "duration": 685,
    "start_time": "2024-05-01T20:00:42.014Z"
   },
   {
    "duration": 923,
    "start_time": "2024-05-01T20:00:42.701Z"
   },
   {
    "duration": 635,
    "start_time": "2024-05-01T20:00:43.626Z"
   },
   {
    "duration": 649,
    "start_time": "2024-05-01T20:00:44.262Z"
   },
   {
    "duration": 597,
    "start_time": "2024-05-01T20:00:44.912Z"
   },
   {
    "duration": 105,
    "start_time": "2024-05-01T20:00:45.511Z"
   },
   {
    "duration": 3,
    "start_time": "2024-05-01T20:00:45.617Z"
   },
   {
    "duration": 13,
    "start_time": "2024-05-01T20:00:45.621Z"
   },
   {
    "duration": 11,
    "start_time": "2024-05-01T20:00:45.635Z"
   },
   {
    "duration": 6135,
    "start_time": "2024-05-01T20:00:45.648Z"
   },
   {
    "duration": 7,
    "start_time": "2024-05-01T20:00:51.785Z"
   },
   {
    "duration": 32,
    "start_time": "2024-05-01T20:00:51.793Z"
   },
   {
    "duration": 78,
    "start_time": "2024-05-01T20:00:51.826Z"
   },
   {
    "duration": 1136,
    "start_time": "2024-05-01T20:00:51.905Z"
   },
   {
    "duration": 538,
    "start_time": "2024-05-01T20:00:53.043Z"
   },
   {
    "duration": 1553,
    "start_time": "2024-05-01T20:00:53.583Z"
   },
   {
    "duration": 11,
    "start_time": "2024-05-01T20:00:55.138Z"
   },
   {
    "duration": 9,
    "start_time": "2024-05-01T20:00:55.151Z"
   },
   {
    "duration": 4,
    "start_time": "2024-05-01T20:01:54.184Z"
   },
   {
    "duration": 3,
    "start_time": "2024-05-01T20:01:59.457Z"
   },
   {
    "duration": 4,
    "start_time": "2024-05-01T20:02:11.682Z"
   },
   {
    "duration": 4,
    "start_time": "2024-05-01T20:02:18.886Z"
   },
   {
    "duration": 4,
    "start_time": "2024-05-01T20:02:31.316Z"
   },
   {
    "duration": 3,
    "start_time": "2024-05-01T20:02:35.786Z"
   },
   {
    "duration": 112,
    "start_time": "2024-05-01T20:06:32.915Z"
   },
   {
    "duration": 8,
    "start_time": "2024-05-01T20:07:52.199Z"
   },
   {
    "duration": 8,
    "start_time": "2024-05-01T20:07:58.229Z"
   },
   {
    "duration": 9,
    "start_time": "2024-05-01T20:08:07.211Z"
   },
   {
    "duration": 4,
    "start_time": "2024-05-01T20:08:37.139Z"
   },
   {
    "duration": 4,
    "start_time": "2024-05-01T20:08:51.086Z"
   },
   {
    "duration": 5,
    "start_time": "2024-05-01T20:09:03.155Z"
   },
   {
    "duration": 3,
    "start_time": "2024-05-01T20:10:41.202Z"
   },
   {
    "duration": 4,
    "start_time": "2024-05-01T20:10:51.362Z"
   },
   {
    "duration": 13,
    "start_time": "2024-05-01T20:11:00.498Z"
   },
   {
    "duration": 4,
    "start_time": "2024-05-01T20:11:08.379Z"
   },
   {
    "duration": 4,
    "start_time": "2024-05-01T20:11:32.711Z"
   },
   {
    "duration": 4,
    "start_time": "2024-05-01T20:12:09.138Z"
   },
   {
    "duration": 5,
    "start_time": "2024-05-01T20:12:17.884Z"
   },
   {
    "duration": 5,
    "start_time": "2024-05-01T20:12:24.361Z"
   },
   {
    "duration": 4,
    "start_time": "2024-05-01T20:12:34.213Z"
   },
   {
    "duration": 4,
    "start_time": "2024-05-01T20:12:41.992Z"
   },
   {
    "duration": 5,
    "start_time": "2024-05-01T20:12:50.677Z"
   },
   {
    "duration": 4,
    "start_time": "2024-05-01T20:12:56.548Z"
   },
   {
    "duration": 4,
    "start_time": "2024-05-01T20:13:01.875Z"
   },
   {
    "duration": 4,
    "start_time": "2024-05-01T20:13:05.119Z"
   },
   {
    "duration": 5,
    "start_time": "2024-05-01T20:13:13.576Z"
   },
   {
    "duration": 9,
    "start_time": "2024-05-01T20:13:56.666Z"
   },
   {
    "duration": 9,
    "start_time": "2024-05-01T20:14:22.398Z"
   },
   {
    "duration": 4,
    "start_time": "2024-05-01T20:16:20.841Z"
   },
   {
    "duration": 9,
    "start_time": "2024-05-01T20:16:34.432Z"
   },
   {
    "duration": 8,
    "start_time": "2024-05-01T20:16:39.072Z"
   },
   {
    "duration": 4,
    "start_time": "2024-05-01T20:16:46.246Z"
   },
   {
    "duration": 4,
    "start_time": "2024-05-01T20:16:56.969Z"
   },
   {
    "duration": 5,
    "start_time": "2024-05-01T20:17:06.630Z"
   },
   {
    "duration": 6016,
    "start_time": "2024-05-01T20:17:53.729Z"
   },
   {
    "duration": 6608,
    "start_time": "2024-05-01T20:18:07.704Z"
   },
   {
    "duration": 13,
    "start_time": "2024-05-01T20:18:33.737Z"
   },
   {
    "duration": 2519,
    "start_time": "2024-05-01T20:18:33.752Z"
   },
   {
    "duration": 1510,
    "start_time": "2024-05-01T20:18:36.273Z"
   },
   {
    "duration": 162,
    "start_time": "2024-05-01T20:18:37.785Z"
   },
   {
    "duration": 144,
    "start_time": "2024-05-01T20:18:37.948Z"
   },
   {
    "duration": 173,
    "start_time": "2024-05-01T20:18:38.093Z"
   },
   {
    "duration": 182,
    "start_time": "2024-05-01T20:18:38.268Z"
   },
   {
    "duration": 215,
    "start_time": "2024-05-01T20:18:38.452Z"
   },
   {
    "duration": 45,
    "start_time": "2024-05-01T20:18:38.670Z"
   },
   {
    "duration": 37,
    "start_time": "2024-05-01T20:18:38.719Z"
   },
   {
    "duration": 60,
    "start_time": "2024-05-01T20:18:38.758Z"
   },
   {
    "duration": 4,
    "start_time": "2024-05-01T20:18:38.820Z"
   },
   {
    "duration": 971,
    "start_time": "2024-05-01T20:18:38.825Z"
   },
   {
    "duration": 859,
    "start_time": "2024-05-01T20:18:39.797Z"
   },
   {
    "duration": 1012,
    "start_time": "2024-05-01T20:18:40.658Z"
   },
   {
    "duration": 9,
    "start_time": "2024-05-01T20:18:41.671Z"
   },
   {
    "duration": 458,
    "start_time": "2024-05-01T20:18:41.682Z"
   },
   {
    "duration": 953,
    "start_time": "2024-05-01T20:18:42.142Z"
   },
   {
    "duration": 963,
    "start_time": "2024-05-01T20:18:43.097Z"
   },
   {
    "duration": 954,
    "start_time": "2024-05-01T20:18:44.062Z"
   },
   {
    "duration": 506,
    "start_time": "2024-05-01T20:18:45.018Z"
   },
   {
    "duration": 356,
    "start_time": "2024-05-01T20:18:45.526Z"
   },
   {
    "duration": 216,
    "start_time": "2024-05-01T20:18:45.884Z"
   },
   {
    "duration": 241,
    "start_time": "2024-05-01T20:18:46.102Z"
   },
   {
    "duration": 417,
    "start_time": "2024-05-01T20:18:46.345Z"
   },
   {
    "duration": 283,
    "start_time": "2024-05-01T20:18:46.763Z"
   },
   {
    "duration": 294,
    "start_time": "2024-05-01T20:18:47.048Z"
   },
   {
    "duration": 450,
    "start_time": "2024-05-01T20:18:47.347Z"
   },
   {
    "duration": 682,
    "start_time": "2024-05-01T20:18:47.798Z"
   },
   {
    "duration": 687,
    "start_time": "2024-05-01T20:18:48.481Z"
   },
   {
    "duration": 988,
    "start_time": "2024-05-01T20:18:49.170Z"
   },
   {
    "duration": 631,
    "start_time": "2024-05-01T20:18:50.160Z"
   },
   {
    "duration": 630,
    "start_time": "2024-05-01T20:18:50.794Z"
   },
   {
    "duration": 620,
    "start_time": "2024-05-01T20:18:51.426Z"
   },
   {
    "duration": 138,
    "start_time": "2024-05-01T20:18:52.049Z"
   },
   {
    "duration": 3,
    "start_time": "2024-05-01T20:18:52.189Z"
   },
   {
    "duration": 11,
    "start_time": "2024-05-01T20:18:52.193Z"
   },
   {
    "duration": 38,
    "start_time": "2024-05-01T20:18:52.206Z"
   },
   {
    "duration": 6619,
    "start_time": "2024-05-01T20:18:52.246Z"
   },
   {
    "duration": 4,
    "start_time": "2024-05-01T20:18:58.866Z"
   },
   {
    "duration": 38,
    "start_time": "2024-05-01T20:18:58.879Z"
   },
   {
    "duration": 68,
    "start_time": "2024-05-01T20:18:58.918Z"
   },
   {
    "duration": 1149,
    "start_time": "2024-05-01T20:18:58.987Z"
   },
   {
    "duration": 543,
    "start_time": "2024-05-01T20:19:00.138Z"
   },
   {
    "duration": 1718,
    "start_time": "2024-05-01T20:19:00.683Z"
   },
   {
    "duration": 12,
    "start_time": "2024-05-01T20:19:02.403Z"
   },
   {
    "duration": 523,
    "start_time": "2024-05-01T20:19:02.416Z"
   },
   {
    "duration": 5,
    "start_time": "2024-05-01T20:19:57.278Z"
   },
   {
    "duration": 63,
    "start_time": "2024-05-01T20:20:38.304Z"
   },
   {
    "duration": 3,
    "start_time": "2024-05-01T20:20:48.548Z"
   },
   {
    "duration": 9,
    "start_time": "2024-05-01T20:20:54.675Z"
   },
   {
    "duration": 2400,
    "start_time": "2024-05-01T20:20:54.685Z"
   },
   {
    "duration": 1480,
    "start_time": "2024-05-01T20:20:57.087Z"
   },
   {
    "duration": 182,
    "start_time": "2024-05-01T20:20:58.569Z"
   },
   {
    "duration": 136,
    "start_time": "2024-05-01T20:20:58.754Z"
   },
   {
    "duration": 146,
    "start_time": "2024-05-01T20:20:58.892Z"
   },
   {
    "duration": 190,
    "start_time": "2024-05-01T20:20:59.039Z"
   },
   {
    "duration": 185,
    "start_time": "2024-05-01T20:20:59.230Z"
   },
   {
    "duration": 36,
    "start_time": "2024-05-01T20:20:59.417Z"
   },
   {
    "duration": 51,
    "start_time": "2024-05-01T20:20:59.454Z"
   },
   {
    "duration": 34,
    "start_time": "2024-05-01T20:20:59.507Z"
   },
   {
    "duration": 4,
    "start_time": "2024-05-01T20:20:59.543Z"
   },
   {
    "duration": 948,
    "start_time": "2024-05-01T20:20:59.548Z"
   },
   {
    "duration": 853,
    "start_time": "2024-05-01T20:21:00.498Z"
   },
   {
    "duration": 1076,
    "start_time": "2024-05-01T20:21:01.353Z"
   },
   {
    "duration": 6,
    "start_time": "2024-05-01T20:21:02.431Z"
   },
   {
    "duration": 524,
    "start_time": "2024-05-01T20:21:02.439Z"
   },
   {
    "duration": 1010,
    "start_time": "2024-05-01T20:21:02.965Z"
   },
   {
    "duration": 967,
    "start_time": "2024-05-01T20:21:03.976Z"
   },
   {
    "duration": 884,
    "start_time": "2024-05-01T20:21:04.944Z"
   },
   {
    "duration": 469,
    "start_time": "2024-05-01T20:21:05.830Z"
   },
   {
    "duration": 416,
    "start_time": "2024-05-01T20:21:06.300Z"
   },
   {
    "duration": 222,
    "start_time": "2024-05-01T20:21:06.718Z"
   },
   {
    "duration": 241,
    "start_time": "2024-05-01T20:21:06.942Z"
   },
   {
    "duration": 379,
    "start_time": "2024-05-01T20:21:07.184Z"
   },
   {
    "duration": 292,
    "start_time": "2024-05-01T20:21:07.564Z"
   },
   {
    "duration": 310,
    "start_time": "2024-05-01T20:21:07.858Z"
   },
   {
    "duration": 513,
    "start_time": "2024-05-01T20:21:08.169Z"
   },
   {
    "duration": 652,
    "start_time": "2024-05-01T20:21:08.686Z"
   },
   {
    "duration": 680,
    "start_time": "2024-05-01T20:21:09.339Z"
   },
   {
    "duration": 931,
    "start_time": "2024-05-01T20:21:10.021Z"
   },
   {
    "duration": 599,
    "start_time": "2024-05-01T20:21:10.953Z"
   },
   {
    "duration": 629,
    "start_time": "2024-05-01T20:21:11.554Z"
   },
   {
    "duration": 626,
    "start_time": "2024-05-01T20:21:12.184Z"
   },
   {
    "duration": 119,
    "start_time": "2024-05-01T20:21:12.811Z"
   },
   {
    "duration": 3,
    "start_time": "2024-05-01T20:21:12.931Z"
   },
   {
    "duration": 5,
    "start_time": "2024-05-01T20:21:12.935Z"
   },
   {
    "duration": 150,
    "start_time": "2024-05-01T20:21:12.941Z"
   },
   {
    "duration": 0,
    "start_time": "2024-05-01T20:21:13.093Z"
   },
   {
    "duration": 0,
    "start_time": "2024-05-01T20:21:13.094Z"
   },
   {
    "duration": 0,
    "start_time": "2024-05-01T20:21:13.096Z"
   },
   {
    "duration": 0,
    "start_time": "2024-05-01T20:21:13.097Z"
   },
   {
    "duration": 0,
    "start_time": "2024-05-01T20:21:13.099Z"
   },
   {
    "duration": 0,
    "start_time": "2024-05-01T20:21:13.101Z"
   },
   {
    "duration": 0,
    "start_time": "2024-05-01T20:21:13.102Z"
   },
   {
    "duration": 0,
    "start_time": "2024-05-01T20:21:13.103Z"
   },
   {
    "duration": 6188,
    "start_time": "2024-05-01T20:21:38.194Z"
   },
   {
    "duration": 24,
    "start_time": "2024-05-01T20:23:25.540Z"
   },
   {
    "duration": 16,
    "start_time": "2024-05-01T20:23:35.553Z"
   },
   {
    "duration": 42,
    "start_time": "2024-05-01T20:24:11.984Z"
   },
   {
    "duration": 2914,
    "start_time": "2024-05-01T20:24:42.742Z"
   },
   {
    "duration": 3117,
    "start_time": "2024-05-01T20:25:06.704Z"
   },
   {
    "duration": 3047,
    "start_time": "2024-05-01T20:25:34.522Z"
   },
   {
    "duration": 2977,
    "start_time": "2024-05-01T20:25:54.129Z"
   },
   {
    "duration": 66,
    "start_time": "2024-05-01T20:26:21.001Z"
   },
   {
    "duration": 1156,
    "start_time": "2024-05-01T20:26:24.243Z"
   },
   {
    "duration": 534,
    "start_time": "2024-05-01T20:26:46.747Z"
   },
   {
    "duration": 1431,
    "start_time": "2024-05-01T20:28:09.660Z"
   },
   {
    "duration": 6269,
    "start_time": "2024-05-01T20:32:23.142Z"
   },
   {
    "duration": 6,
    "start_time": "2024-05-01T20:38:50.727Z"
   },
   {
    "duration": 2319,
    "start_time": "2024-05-01T20:38:59.179Z"
   },
   {
    "duration": 5,
    "start_time": "2024-05-01T20:39:31.011Z"
   },
   {
    "duration": 2170,
    "start_time": "2024-05-01T20:39:33.654Z"
   },
   {
    "duration": 4,
    "start_time": "2024-05-01T20:39:46.253Z"
   },
   {
    "duration": 2156,
    "start_time": "2024-05-01T20:39:47.956Z"
   },
   {
    "duration": 6,
    "start_time": "2024-05-01T20:39:59.815Z"
   },
   {
    "duration": 14647,
    "start_time": "2024-05-01T20:40:16.195Z"
   },
   {
    "duration": 14120,
    "start_time": "2024-05-01T20:41:40.478Z"
   },
   {
    "duration": 14975,
    "start_time": "2024-05-01T20:42:04.899Z"
   },
   {
    "duration": 12,
    "start_time": "2024-05-01T20:42:50.594Z"
   },
   {
    "duration": 68,
    "start_time": "2024-05-01T20:46:49.404Z"
   },
   {
    "duration": 66,
    "start_time": "2024-05-01T20:47:17.532Z"
   },
   {
    "duration": 2,
    "start_time": "2024-05-01T20:47:54.984Z"
   },
   {
    "duration": 12,
    "start_time": "2024-05-01T20:48:06.117Z"
   },
   {
    "duration": 26,
    "start_time": "2024-05-01T20:48:15.320Z"
   },
   {
    "duration": 19,
    "start_time": "2024-05-01T20:48:21.915Z"
   },
   {
    "duration": 83,
    "start_time": "2024-05-01T20:48:35.517Z"
   },
   {
    "duration": 19,
    "start_time": "2024-05-01T20:48:49.420Z"
   },
   {
    "duration": 21,
    "start_time": "2024-05-01T20:48:54.412Z"
   },
   {
    "duration": 21,
    "start_time": "2024-05-01T20:49:06.836Z"
   },
   {
    "duration": 26,
    "start_time": "2024-05-01T20:50:00.046Z"
   },
   {
    "duration": 29,
    "start_time": "2024-05-01T20:50:04.651Z"
   },
   {
    "duration": 5,
    "start_time": "2024-05-01T20:50:38.249Z"
   },
   {
    "duration": 4,
    "start_time": "2024-05-01T20:50:46.433Z"
   },
   {
    "duration": 14368,
    "start_time": "2024-05-01T20:50:48.016Z"
   },
   {
    "duration": 14680,
    "start_time": "2024-05-01T20:52:00.456Z"
   },
   {
    "duration": 14555,
    "start_time": "2024-05-01T20:52:52.682Z"
   },
   {
    "duration": 9,
    "start_time": "2024-05-01T20:54:51.811Z"
   },
   {
    "duration": 2496,
    "start_time": "2024-05-01T20:54:51.822Z"
   },
   {
    "duration": 1468,
    "start_time": "2024-05-01T20:54:54.320Z"
   },
   {
    "duration": 158,
    "start_time": "2024-05-01T20:54:55.790Z"
   },
   {
    "duration": 131,
    "start_time": "2024-05-01T20:54:55.950Z"
   },
   {
    "duration": 137,
    "start_time": "2024-05-01T20:54:56.082Z"
   },
   {
    "duration": 177,
    "start_time": "2024-05-01T20:54:56.220Z"
   },
   {
    "duration": 178,
    "start_time": "2024-05-01T20:54:56.399Z"
   },
   {
    "duration": 36,
    "start_time": "2024-05-01T20:54:56.579Z"
   },
   {
    "duration": 33,
    "start_time": "2024-05-01T20:54:56.617Z"
   },
   {
    "duration": 64,
    "start_time": "2024-05-01T20:54:56.651Z"
   },
   {
    "duration": 4,
    "start_time": "2024-05-01T20:54:56.717Z"
   },
   {
    "duration": 901,
    "start_time": "2024-05-01T20:54:56.722Z"
   },
   {
    "duration": 781,
    "start_time": "2024-05-01T20:54:57.625Z"
   },
   {
    "duration": 1001,
    "start_time": "2024-05-01T20:54:58.407Z"
   },
   {
    "duration": 6,
    "start_time": "2024-05-01T20:54:59.411Z"
   },
   {
    "duration": 436,
    "start_time": "2024-05-01T20:54:59.418Z"
   },
   {
    "duration": 926,
    "start_time": "2024-05-01T20:54:59.856Z"
   },
   {
    "duration": 910,
    "start_time": "2024-05-01T20:55:00.783Z"
   },
   {
    "duration": 897,
    "start_time": "2024-05-01T20:55:01.695Z"
   },
   {
    "duration": 516,
    "start_time": "2024-05-01T20:55:02.594Z"
   },
   {
    "duration": 377,
    "start_time": "2024-05-01T20:55:03.112Z"
   },
   {
    "duration": 254,
    "start_time": "2024-05-01T20:55:03.490Z"
   },
   {
    "duration": 258,
    "start_time": "2024-05-01T20:55:03.747Z"
   },
   {
    "duration": 396,
    "start_time": "2024-05-01T20:55:04.007Z"
   },
   {
    "duration": 316,
    "start_time": "2024-05-01T20:55:04.404Z"
   },
   {
    "duration": 299,
    "start_time": "2024-05-01T20:55:04.721Z"
   },
   {
    "duration": 453,
    "start_time": "2024-05-01T20:55:05.022Z"
   },
   {
    "duration": 635,
    "start_time": "2024-05-01T20:55:05.476Z"
   },
   {
    "duration": 665,
    "start_time": "2024-05-01T20:55:06.113Z"
   },
   {
    "duration": 960,
    "start_time": "2024-05-01T20:55:06.780Z"
   },
   {
    "duration": 657,
    "start_time": "2024-05-01T20:55:07.741Z"
   },
   {
    "duration": 651,
    "start_time": "2024-05-01T20:55:08.400Z"
   },
   {
    "duration": 600,
    "start_time": "2024-05-01T20:55:09.053Z"
   },
   {
    "duration": 102,
    "start_time": "2024-05-01T20:55:09.655Z"
   },
   {
    "duration": 4,
    "start_time": "2024-05-01T20:55:09.759Z"
   },
   {
    "duration": 14852,
    "start_time": "2024-05-01T20:55:09.765Z"
   },
   {
    "duration": 15,
    "start_time": "2024-05-01T20:55:24.619Z"
   },
   {
    "duration": 6195,
    "start_time": "2024-05-01T20:55:24.635Z"
   },
   {
    "duration": 6210,
    "start_time": "2024-05-01T20:55:30.832Z"
   },
   {
    "duration": 7023,
    "start_time": "2024-05-01T20:55:37.044Z"
   },
   {
    "duration": 71,
    "start_time": "2024-05-01T20:55:44.069Z"
   },
   {
    "duration": 1161,
    "start_time": "2024-05-01T20:55:44.142Z"
   },
   {
    "duration": 476,
    "start_time": "2024-05-01T20:55:45.305Z"
   },
   {
    "duration": 1511,
    "start_time": "2024-05-01T20:55:45.789Z"
   },
   {
    "duration": 13,
    "start_time": "2024-05-01T20:55:47.301Z"
   },
   {
    "duration": 6,
    "start_time": "2024-05-01T20:55:47.315Z"
   },
   {
    "duration": 9,
    "start_time": "2024-05-01T21:05:28.562Z"
   },
   {
    "duration": 2556,
    "start_time": "2024-05-01T21:05:28.573Z"
   },
   {
    "duration": 1449,
    "start_time": "2024-05-01T21:05:31.131Z"
   },
   {
    "duration": 162,
    "start_time": "2024-05-01T21:05:32.582Z"
   },
   {
    "duration": 139,
    "start_time": "2024-05-01T21:05:32.746Z"
   },
   {
    "duration": 140,
    "start_time": "2024-05-01T21:05:32.887Z"
   },
   {
    "duration": 197,
    "start_time": "2024-05-01T21:05:33.029Z"
   },
   {
    "duration": 175,
    "start_time": "2024-05-01T21:05:33.228Z"
   },
   {
    "duration": 36,
    "start_time": "2024-05-01T21:05:33.404Z"
   },
   {
    "duration": 45,
    "start_time": "2024-05-01T21:05:33.442Z"
   },
   {
    "duration": 33,
    "start_time": "2024-05-01T21:05:33.489Z"
   },
   {
    "duration": 4,
    "start_time": "2024-05-01T21:05:33.523Z"
   },
   {
    "duration": 896,
    "start_time": "2024-05-01T21:05:33.529Z"
   },
   {
    "duration": 849,
    "start_time": "2024-05-01T21:05:34.427Z"
   },
   {
    "duration": 926,
    "start_time": "2024-05-01T21:05:35.280Z"
   },
   {
    "duration": 5,
    "start_time": "2024-05-01T21:05:36.208Z"
   },
   {
    "duration": 461,
    "start_time": "2024-05-01T21:05:36.214Z"
   },
   {
    "duration": 886,
    "start_time": "2024-05-01T21:05:36.679Z"
   },
   {
    "duration": 926,
    "start_time": "2024-05-01T21:05:37.566Z"
   },
   {
    "duration": 845,
    "start_time": "2024-05-01T21:05:38.494Z"
   },
   {
    "duration": 467,
    "start_time": "2024-05-01T21:05:39.341Z"
   },
   {
    "duration": 349,
    "start_time": "2024-05-01T21:05:39.810Z"
   },
   {
    "duration": 211,
    "start_time": "2024-05-01T21:05:40.161Z"
   },
   {
    "duration": 240,
    "start_time": "2024-05-01T21:05:40.380Z"
   },
   {
    "duration": 369,
    "start_time": "2024-05-01T21:05:40.622Z"
   },
   {
    "duration": 296,
    "start_time": "2024-05-01T21:05:40.993Z"
   },
   {
    "duration": 290,
    "start_time": "2024-05-01T21:05:41.291Z"
   },
   {
    "duration": 444,
    "start_time": "2024-05-01T21:05:41.585Z"
   },
   {
    "duration": 705,
    "start_time": "2024-05-01T21:05:42.030Z"
   },
   {
    "duration": 704,
    "start_time": "2024-05-01T21:05:42.736Z"
   },
   {
    "duration": 1011,
    "start_time": "2024-05-01T21:05:43.441Z"
   },
   {
    "duration": 678,
    "start_time": "2024-05-01T21:05:44.454Z"
   },
   {
    "duration": 638,
    "start_time": "2024-05-01T21:05:45.134Z"
   },
   {
    "duration": 649,
    "start_time": "2024-05-01T21:05:45.774Z"
   },
   {
    "duration": 115,
    "start_time": "2024-05-01T21:05:46.424Z"
   },
   {
    "duration": 4,
    "start_time": "2024-05-01T21:05:46.541Z"
   },
   {
    "duration": 14507,
    "start_time": "2024-05-01T21:05:46.547Z"
   },
   {
    "duration": 15,
    "start_time": "2024-05-01T21:06:01.056Z"
   },
   {
    "duration": 6539,
    "start_time": "2024-05-01T21:06:01.080Z"
   },
   {
    "duration": 6102,
    "start_time": "2024-05-01T21:06:07.621Z"
   },
   {
    "duration": 7100,
    "start_time": "2024-05-01T21:06:13.725Z"
   },
   {
    "duration": 72,
    "start_time": "2024-05-01T21:06:20.827Z"
   },
   {
    "duration": 1174,
    "start_time": "2024-05-01T21:06:20.901Z"
   },
   {
    "duration": 505,
    "start_time": "2024-05-01T21:06:22.079Z"
   },
   {
    "duration": 1556,
    "start_time": "2024-05-01T21:06:22.586Z"
   },
   {
    "duration": 11,
    "start_time": "2024-05-01T21:06:24.144Z"
   },
   {
    "duration": 11,
    "start_time": "2024-05-01T21:06:24.156Z"
   },
   {
    "duration": 49,
    "start_time": "2024-05-02T07:45:49.567Z"
   },
   {
    "duration": 1369,
    "start_time": "2024-05-02T07:45:52.313Z"
   },
   {
    "duration": 595,
    "start_time": "2024-05-02T07:45:59.905Z"
   },
   {
    "duration": 571,
    "start_time": "2024-05-02T07:46:31.065Z"
   },
   {
    "duration": 169,
    "start_time": "2024-05-02T07:46:33.976Z"
   },
   {
    "duration": 14,
    "start_time": "2024-05-02T07:46:42.044Z"
   },
   {
    "duration": 3697,
    "start_time": "2024-05-02T07:46:42.060Z"
   },
   {
    "duration": 1495,
    "start_time": "2024-05-02T07:46:45.759Z"
   },
   {
    "duration": 178,
    "start_time": "2024-05-02T07:46:47.256Z"
   },
   {
    "duration": 146,
    "start_time": "2024-05-02T07:46:47.436Z"
   },
   {
    "duration": 157,
    "start_time": "2024-05-02T07:46:47.584Z"
   },
   {
    "duration": 112,
    "start_time": "2024-05-02T07:46:47.743Z"
   },
   {
    "duration": 1904,
    "start_time": "2024-05-02T07:46:47.857Z"
   },
   {
    "duration": 0,
    "start_time": "2024-05-02T07:46:49.764Z"
   },
   {
    "duration": 0,
    "start_time": "2024-05-02T07:46:49.765Z"
   },
   {
    "duration": 0,
    "start_time": "2024-05-02T07:46:49.766Z"
   },
   {
    "duration": 0,
    "start_time": "2024-05-02T07:46:49.767Z"
   },
   {
    "duration": 0,
    "start_time": "2024-05-02T07:46:49.769Z"
   },
   {
    "duration": 0,
    "start_time": "2024-05-02T07:46:49.770Z"
   },
   {
    "duration": 0,
    "start_time": "2024-05-02T07:46:49.771Z"
   },
   {
    "duration": 0,
    "start_time": "2024-05-02T07:46:49.772Z"
   },
   {
    "duration": 0,
    "start_time": "2024-05-02T07:46:49.773Z"
   },
   {
    "duration": 0,
    "start_time": "2024-05-02T07:46:49.774Z"
   },
   {
    "duration": 0,
    "start_time": "2024-05-02T07:46:49.775Z"
   },
   {
    "duration": 0,
    "start_time": "2024-05-02T07:46:49.776Z"
   },
   {
    "duration": 0,
    "start_time": "2024-05-02T07:46:49.777Z"
   },
   {
    "duration": 0,
    "start_time": "2024-05-02T07:46:49.778Z"
   },
   {
    "duration": 0,
    "start_time": "2024-05-02T07:46:49.779Z"
   },
   {
    "duration": 0,
    "start_time": "2024-05-02T07:46:49.780Z"
   },
   {
    "duration": 0,
    "start_time": "2024-05-02T07:46:49.781Z"
   },
   {
    "duration": 0,
    "start_time": "2024-05-02T07:46:49.782Z"
   },
   {
    "duration": 0,
    "start_time": "2024-05-02T07:46:49.783Z"
   },
   {
    "duration": 0,
    "start_time": "2024-05-02T07:46:49.785Z"
   },
   {
    "duration": 0,
    "start_time": "2024-05-02T07:46:49.786Z"
   },
   {
    "duration": 0,
    "start_time": "2024-05-02T07:46:49.787Z"
   },
   {
    "duration": 0,
    "start_time": "2024-05-02T07:46:49.788Z"
   },
   {
    "duration": 0,
    "start_time": "2024-05-02T07:46:49.789Z"
   },
   {
    "duration": 0,
    "start_time": "2024-05-02T07:46:49.790Z"
   },
   {
    "duration": 0,
    "start_time": "2024-05-02T07:46:49.791Z"
   },
   {
    "duration": 0,
    "start_time": "2024-05-02T07:46:49.793Z"
   },
   {
    "duration": 0,
    "start_time": "2024-05-02T07:46:49.794Z"
   },
   {
    "duration": 0,
    "start_time": "2024-05-02T07:46:49.796Z"
   },
   {
    "duration": 0,
    "start_time": "2024-05-02T07:46:49.797Z"
   },
   {
    "duration": 0,
    "start_time": "2024-05-02T07:46:49.799Z"
   },
   {
    "duration": 0,
    "start_time": "2024-05-02T07:46:49.800Z"
   },
   {
    "duration": 0,
    "start_time": "2024-05-02T07:46:49.801Z"
   },
   {
    "duration": 0,
    "start_time": "2024-05-02T07:46:49.803Z"
   },
   {
    "duration": 0,
    "start_time": "2024-05-02T07:46:49.804Z"
   },
   {
    "duration": 0,
    "start_time": "2024-05-02T07:46:49.805Z"
   },
   {
    "duration": 0,
    "start_time": "2024-05-02T07:46:49.806Z"
   },
   {
    "duration": 0,
    "start_time": "2024-05-02T07:46:49.808Z"
   },
   {
    "duration": 0,
    "start_time": "2024-05-02T07:46:49.869Z"
   },
   {
    "duration": 13,
    "start_time": "2024-05-02T07:47:18.330Z"
   },
   {
    "duration": 145,
    "start_time": "2024-05-02T07:48:41.496Z"
   },
   {
    "duration": 114,
    "start_time": "2024-05-02T07:49:03.343Z"
   },
   {
    "duration": 562,
    "start_time": "2024-05-02T07:51:12.779Z"
   },
   {
    "duration": 179,
    "start_time": "2024-05-02T07:51:16.135Z"
   },
   {
    "duration": 173,
    "start_time": "2024-05-02T07:51:18.233Z"
   },
   {
    "duration": 141,
    "start_time": "2024-05-02T07:51:26.002Z"
   },
   {
    "duration": 42,
    "start_time": "2024-05-02T07:54:00.465Z"
   },
   {
    "duration": 36,
    "start_time": "2024-05-02T07:54:02.729Z"
   },
   {
    "duration": 37,
    "start_time": "2024-05-02T07:54:05.071Z"
   },
   {
    "duration": 5,
    "start_time": "2024-05-02T07:54:07.043Z"
   },
   {
    "duration": 957,
    "start_time": "2024-05-02T07:54:07.894Z"
   },
   {
    "duration": 803,
    "start_time": "2024-05-02T07:54:10.743Z"
   },
   {
    "duration": 976,
    "start_time": "2024-05-02T07:54:13.748Z"
   },
   {
    "duration": 7,
    "start_time": "2024-05-02T07:54:17.903Z"
   },
   {
    "duration": 479,
    "start_time": "2024-05-02T07:54:19.563Z"
   },
   {
    "duration": 9,
    "start_time": "2024-05-02T07:55:05.255Z"
   },
   {
    "duration": 2406,
    "start_time": "2024-05-02T07:55:05.265Z"
   },
   {
    "duration": 1504,
    "start_time": "2024-05-02T07:55:07.674Z"
   },
   {
    "duration": 178,
    "start_time": "2024-05-02T07:55:09.179Z"
   },
   {
    "duration": 165,
    "start_time": "2024-05-02T07:55:09.359Z"
   },
   {
    "duration": 157,
    "start_time": "2024-05-02T07:55:09.525Z"
   },
   {
    "duration": 121,
    "start_time": "2024-05-02T07:55:09.683Z"
   },
   {
    "duration": 190,
    "start_time": "2024-05-02T07:55:09.806Z"
   },
   {
    "duration": 38,
    "start_time": "2024-05-02T07:55:09.998Z"
   },
   {
    "duration": 55,
    "start_time": "2024-05-02T07:55:10.038Z"
   },
   {
    "duration": 34,
    "start_time": "2024-05-02T07:55:10.096Z"
   },
   {
    "duration": 5,
    "start_time": "2024-05-02T07:55:10.132Z"
   },
   {
    "duration": 915,
    "start_time": "2024-05-02T07:55:10.138Z"
   },
   {
    "duration": 791,
    "start_time": "2024-05-02T07:55:11.055Z"
   },
   {
    "duration": 924,
    "start_time": "2024-05-02T07:55:11.848Z"
   },
   {
    "duration": 5,
    "start_time": "2024-05-02T07:55:12.774Z"
   },
   {
    "duration": 432,
    "start_time": "2024-05-02T07:55:12.780Z"
   },
   {
    "duration": 881,
    "start_time": "2024-05-02T07:55:13.214Z"
   },
   {
    "duration": 858,
    "start_time": "2024-05-02T07:55:14.096Z"
   },
   {
    "duration": 795,
    "start_time": "2024-05-02T07:55:14.955Z"
   },
   {
    "duration": 444,
    "start_time": "2024-05-02T07:55:15.752Z"
   },
   {
    "duration": 337,
    "start_time": "2024-05-02T07:55:16.198Z"
   },
   {
    "duration": 201,
    "start_time": "2024-05-02T07:55:16.537Z"
   },
   {
    "duration": 223,
    "start_time": "2024-05-02T07:55:16.740Z"
   },
   {
    "duration": 345,
    "start_time": "2024-05-02T07:55:16.964Z"
   },
   {
    "duration": 268,
    "start_time": "2024-05-02T07:55:17.310Z"
   },
   {
    "duration": 278,
    "start_time": "2024-05-02T07:55:17.580Z"
   },
   {
    "duration": 415,
    "start_time": "2024-05-02T07:55:17.860Z"
   },
   {
    "duration": 645,
    "start_time": "2024-05-02T07:55:18.278Z"
   },
   {
    "duration": 574,
    "start_time": "2024-05-02T07:55:18.924Z"
   },
   {
    "duration": 0,
    "start_time": "2024-05-02T07:55:19.499Z"
   },
   {
    "duration": 0,
    "start_time": "2024-05-02T07:55:19.501Z"
   },
   {
    "duration": 0,
    "start_time": "2024-05-02T07:55:19.502Z"
   },
   {
    "duration": 0,
    "start_time": "2024-05-02T07:55:19.503Z"
   },
   {
    "duration": 0,
    "start_time": "2024-05-02T07:55:19.504Z"
   },
   {
    "duration": 0,
    "start_time": "2024-05-02T07:55:19.505Z"
   },
   {
    "duration": 0,
    "start_time": "2024-05-02T07:55:19.507Z"
   },
   {
    "duration": 0,
    "start_time": "2024-05-02T07:55:19.508Z"
   },
   {
    "duration": 0,
    "start_time": "2024-05-02T07:55:19.509Z"
   },
   {
    "duration": 0,
    "start_time": "2024-05-02T07:55:19.510Z"
   },
   {
    "duration": 0,
    "start_time": "2024-05-02T07:55:19.511Z"
   },
   {
    "duration": 0,
    "start_time": "2024-05-02T07:55:19.512Z"
   },
   {
    "duration": 0,
    "start_time": "2024-05-02T07:55:19.513Z"
   },
   {
    "duration": 0,
    "start_time": "2024-05-02T07:55:19.514Z"
   },
   {
    "duration": 0,
    "start_time": "2024-05-02T07:55:19.515Z"
   },
   {
    "duration": 0,
    "start_time": "2024-05-02T07:55:19.516Z"
   },
   {
    "duration": 1,
    "start_time": "2024-05-02T07:55:19.517Z"
   },
   {
    "duration": 1170,
    "start_time": "2024-05-02T07:57:50.466Z"
   },
   {
    "duration": 164,
    "start_time": "2024-05-02T07:57:59.115Z"
   },
   {
    "duration": 631,
    "start_time": "2024-05-02T07:58:14.218Z"
   },
   {
    "duration": 646,
    "start_time": "2024-05-02T07:58:23.559Z"
   },
   {
    "duration": 596,
    "start_time": "2024-05-02T07:58:33.313Z"
   },
   {
    "duration": 4,
    "start_time": "2024-05-02T07:59:03.488Z"
   },
   {
    "duration": 745,
    "start_time": "2024-05-02T07:59:06.554Z"
   },
   {
    "duration": 21,
    "start_time": "2024-05-02T08:13:27.559Z"
   },
   {
    "duration": 64,
    "start_time": "2024-05-02T08:14:25.840Z"
   },
   {
    "duration": 6,
    "start_time": "2024-05-02T08:14:38.105Z"
   },
   {
    "duration": 2553,
    "start_time": "2024-05-02T08:14:38.113Z"
   },
   {
    "duration": 9,
    "start_time": "2024-05-02T08:14:40.670Z"
   },
   {
    "duration": 218,
    "start_time": "2024-05-02T08:14:40.681Z"
   },
   {
    "duration": 154,
    "start_time": "2024-05-02T08:14:40.901Z"
   },
   {
    "duration": 170,
    "start_time": "2024-05-02T08:14:41.056Z"
   },
   {
    "duration": 141,
    "start_time": "2024-05-02T08:14:41.228Z"
   },
   {
    "duration": 175,
    "start_time": "2024-05-02T08:14:41.371Z"
   },
   {
    "duration": 59,
    "start_time": "2024-05-02T08:14:41.548Z"
   },
   {
    "duration": 46,
    "start_time": "2024-05-02T08:14:41.609Z"
   },
   {
    "duration": 46,
    "start_time": "2024-05-02T08:14:41.658Z"
   },
   {
    "duration": 4,
    "start_time": "2024-05-02T08:14:41.706Z"
   },
   {
    "duration": 942,
    "start_time": "2024-05-02T08:14:41.713Z"
   },
   {
    "duration": 1025,
    "start_time": "2024-05-02T08:14:42.657Z"
   },
   {
    "duration": 877,
    "start_time": "2024-05-02T08:14:43.685Z"
   },
   {
    "duration": 10,
    "start_time": "2024-05-02T08:14:44.564Z"
   },
   {
    "duration": 697,
    "start_time": "2024-05-02T08:14:44.576Z"
   },
   {
    "duration": 883,
    "start_time": "2024-05-02T08:14:45.276Z"
   },
   {
    "duration": 951,
    "start_time": "2024-05-02T08:14:46.162Z"
   },
   {
    "duration": 951,
    "start_time": "2024-05-02T08:14:47.115Z"
   },
   {
    "duration": 496,
    "start_time": "2024-05-02T08:14:48.069Z"
   },
   {
    "duration": 241,
    "start_time": "2024-05-02T08:14:48.567Z"
   },
   {
    "duration": 222,
    "start_time": "2024-05-02T08:14:48.811Z"
   },
   {
    "duration": 250,
    "start_time": "2024-05-02T08:14:49.035Z"
   },
   {
    "duration": 396,
    "start_time": "2024-05-02T08:14:49.287Z"
   },
   {
    "duration": 465,
    "start_time": "2024-05-02T08:14:49.684Z"
   },
   {
    "duration": 311,
    "start_time": "2024-05-02T08:14:50.151Z"
   },
   {
    "duration": 363,
    "start_time": "2024-05-02T08:14:50.464Z"
   },
   {
    "duration": 699,
    "start_time": "2024-05-02T08:14:50.830Z"
   },
   {
    "duration": 2,
    "start_time": "2024-05-02T08:14:51.531Z"
   },
   {
    "duration": 850,
    "start_time": "2024-05-02T08:14:51.536Z"
   },
   {
    "duration": 734,
    "start_time": "2024-05-02T08:14:52.388Z"
   },
   {
    "duration": 645,
    "start_time": "2024-05-02T08:14:53.124Z"
   },
   {
    "duration": 58,
    "start_time": "2024-05-02T08:14:59.810Z"
   },
   {
    "duration": 42,
    "start_time": "2024-05-02T08:18:02.420Z"
   },
   {
    "duration": 43,
    "start_time": "2024-05-02T08:19:08.076Z"
   },
   {
    "duration": 7294,
    "start_time": "2024-05-02T08:20:43.591Z"
   },
   {
    "duration": 21017,
    "start_time": "2024-05-02T08:21:09.715Z"
   },
   {
    "duration": 6981,
    "start_time": "2024-05-02T08:29:11.079Z"
   },
   {
    "duration": 20857,
    "start_time": "2024-05-02T08:29:56.014Z"
   },
   {
    "duration": 16,
    "start_time": "2024-05-02T08:33:31.298Z"
   },
   {
    "duration": 10,
    "start_time": "2024-05-02T08:34:15.769Z"
   },
   {
    "duration": 13,
    "start_time": "2024-05-02T08:35:16.448Z"
   },
   {
    "duration": 223,
    "start_time": "2024-05-02T08:37:05.643Z"
   },
   {
    "duration": 71,
    "start_time": "2024-05-02T08:37:16.609Z"
   },
   {
    "duration": 69,
    "start_time": "2024-05-02T08:37:26.084Z"
   },
   {
    "duration": 107,
    "start_time": "2024-05-02T08:37:36.296Z"
   },
   {
    "duration": 306,
    "start_time": "2024-05-02T08:37:49.811Z"
   },
   {
    "duration": 99,
    "start_time": "2024-05-02T08:38:04.549Z"
   },
   {
    "duration": 12,
    "start_time": "2024-05-02T08:38:10.572Z"
   },
   {
    "duration": 30,
    "start_time": "2024-05-02T08:38:14.800Z"
   },
   {
    "duration": 30,
    "start_time": "2024-05-02T08:38:20.060Z"
   },
   {
    "duration": 16,
    "start_time": "2024-05-02T08:39:04.321Z"
   },
   {
    "duration": 14,
    "start_time": "2024-05-02T08:39:39.567Z"
   },
   {
    "duration": 21,
    "start_time": "2024-05-02T08:40:02.296Z"
   },
   {
    "duration": 8,
    "start_time": "2024-05-02T08:40:21.279Z"
   },
   {
    "duration": 21735,
    "start_time": "2024-05-02T08:40:30.379Z"
   },
   {
    "duration": 6,
    "start_time": "2024-05-02T08:40:52.116Z"
   },
   {
    "duration": 11,
    "start_time": "2024-05-02T08:42:35.299Z"
   },
   {
    "duration": 11,
    "start_time": "2024-05-02T08:42:52.088Z"
   },
   {
    "duration": 45,
    "start_time": "2024-05-02T08:43:27.976Z"
   },
   {
    "duration": 20,
    "start_time": "2024-05-02T08:43:50.085Z"
   },
   {
    "duration": 9,
    "start_time": "2024-05-02T08:44:19.458Z"
   },
   {
    "duration": 11,
    "start_time": "2024-05-02T08:44:43.430Z"
   },
   {
    "duration": 48,
    "start_time": "2024-05-02T08:44:49.543Z"
   },
   {
    "duration": 61,
    "start_time": "2024-05-02T08:45:06.547Z"
   },
   {
    "duration": 63,
    "start_time": "2024-05-02T08:47:11.667Z"
   },
   {
    "duration": 48,
    "start_time": "2024-05-02T08:47:40.762Z"
   },
   {
    "duration": 51,
    "start_time": "2024-05-02T08:48:00.381Z"
   },
   {
    "duration": 57,
    "start_time": "2024-05-02T08:49:49.964Z"
   },
   {
    "duration": 60,
    "start_time": "2024-05-02T08:50:04.467Z"
   },
   {
    "duration": 13,
    "start_time": "2024-05-02T08:50:35.163Z"
   },
   {
    "duration": 42,
    "start_time": "2024-05-02T08:50:39.662Z"
   },
   {
    "duration": 33,
    "start_time": "2024-05-02T08:51:20.521Z"
   },
   {
    "duration": 37,
    "start_time": "2024-05-02T08:54:00.724Z"
   },
   {
    "duration": 37,
    "start_time": "2024-05-02T08:55:34.921Z"
   },
   {
    "duration": 92,
    "start_time": "2024-05-02T08:55:45.576Z"
   },
   {
    "duration": 44,
    "start_time": "2024-05-02T08:55:52.376Z"
   },
   {
    "duration": 42,
    "start_time": "2024-05-02T08:55:59.500Z"
   },
   {
    "duration": 37,
    "start_time": "2024-05-02T08:56:10.088Z"
   },
   {
    "duration": 40,
    "start_time": "2024-05-02T08:57:21.764Z"
   },
   {
    "duration": 14,
    "start_time": "2024-05-02T08:57:37.614Z"
   },
   {
    "duration": 97,
    "start_time": "2024-05-02T09:01:18.066Z"
   },
   {
    "duration": 96,
    "start_time": "2024-05-02T09:02:52.732Z"
   },
   {
    "duration": 19,
    "start_time": "2024-05-02T09:04:40.695Z"
   },
   {
    "duration": 18,
    "start_time": "2024-05-02T09:04:52.056Z"
   },
   {
    "duration": 19,
    "start_time": "2024-05-02T09:05:00.216Z"
   },
   {
    "duration": 8,
    "start_time": "2024-05-02T10:03:50.105Z"
   },
   {
    "duration": 2715,
    "start_time": "2024-05-02T10:03:50.117Z"
   },
   {
    "duration": 1437,
    "start_time": "2024-05-02T10:03:52.835Z"
   },
   {
    "duration": 181,
    "start_time": "2024-05-02T10:03:54.274Z"
   },
   {
    "duration": 167,
    "start_time": "2024-05-02T10:03:54.457Z"
   },
   {
    "duration": 191,
    "start_time": "2024-05-02T10:03:54.625Z"
   },
   {
    "duration": 128,
    "start_time": "2024-05-02T10:03:54.817Z"
   },
   {
    "duration": 195,
    "start_time": "2024-05-02T10:03:54.947Z"
   },
   {
    "duration": 60,
    "start_time": "2024-05-02T10:03:55.144Z"
   },
   {
    "duration": 33,
    "start_time": "2024-05-02T10:03:55.206Z"
   },
   {
    "duration": 57,
    "start_time": "2024-05-02T10:03:55.242Z"
   },
   {
    "duration": 4,
    "start_time": "2024-05-02T10:03:55.301Z"
   },
   {
    "duration": 1025,
    "start_time": "2024-05-02T10:03:55.307Z"
   },
   {
    "duration": 847,
    "start_time": "2024-05-02T10:03:56.333Z"
   },
   {
    "duration": 964,
    "start_time": "2024-05-02T10:03:57.182Z"
   },
   {
    "duration": 7,
    "start_time": "2024-05-02T10:03:58.148Z"
   },
   {
    "duration": 519,
    "start_time": "2024-05-02T10:03:58.169Z"
   },
   {
    "duration": 970,
    "start_time": "2024-05-02T10:03:58.690Z"
   },
   {
    "duration": 1042,
    "start_time": "2024-05-02T10:03:59.662Z"
   },
   {
    "duration": 824,
    "start_time": "2024-05-02T10:04:00.706Z"
   },
   {
    "duration": 493,
    "start_time": "2024-05-02T10:04:01.532Z"
   },
   {
    "duration": 407,
    "start_time": "2024-05-02T10:04:02.026Z"
   },
   {
    "duration": 229,
    "start_time": "2024-05-02T10:04:02.435Z"
   },
   {
    "duration": 286,
    "start_time": "2024-05-02T10:04:02.669Z"
   },
   {
    "duration": 452,
    "start_time": "2024-05-02T10:04:02.956Z"
   },
   {
    "duration": 312,
    "start_time": "2024-05-02T10:04:03.410Z"
   },
   {
    "duration": 306,
    "start_time": "2024-05-02T10:04:03.723Z"
   },
   {
    "duration": 477,
    "start_time": "2024-05-02T10:04:04.030Z"
   },
   {
    "duration": 713,
    "start_time": "2024-05-02T10:04:04.511Z"
   },
   {
    "duration": 2,
    "start_time": "2024-05-02T10:04:05.226Z"
   },
   {
    "duration": 703,
    "start_time": "2024-05-02T10:04:05.229Z"
   },
   {
    "duration": 702,
    "start_time": "2024-05-02T10:04:05.934Z"
   },
   {
    "duration": 695,
    "start_time": "2024-05-02T10:04:06.638Z"
   },
   {
    "duration": 20950,
    "start_time": "2024-05-02T10:04:07.335Z"
   },
   {
    "duration": 7,
    "start_time": "2024-05-02T10:04:28.287Z"
   },
   {
    "duration": 30,
    "start_time": "2024-05-02T10:04:28.297Z"
   },
   {
    "duration": 119,
    "start_time": "2024-05-02T10:04:28.328Z"
   },
   {
    "duration": 0,
    "start_time": "2024-05-02T10:04:28.449Z"
   },
   {
    "duration": 0,
    "start_time": "2024-05-02T10:04:28.450Z"
   },
   {
    "duration": 0,
    "start_time": "2024-05-02T10:04:28.451Z"
   },
   {
    "duration": 0,
    "start_time": "2024-05-02T10:04:28.452Z"
   },
   {
    "duration": 0,
    "start_time": "2024-05-02T10:04:28.452Z"
   },
   {
    "duration": 0,
    "start_time": "2024-05-02T10:04:28.453Z"
   },
   {
    "duration": 0,
    "start_time": "2024-05-02T10:04:28.454Z"
   },
   {
    "duration": 0,
    "start_time": "2024-05-02T10:04:28.455Z"
   },
   {
    "duration": 0,
    "start_time": "2024-05-02T10:04:28.456Z"
   },
   {
    "duration": 0,
    "start_time": "2024-05-02T10:04:28.470Z"
   },
   {
    "duration": 0,
    "start_time": "2024-05-02T10:04:28.471Z"
   },
   {
    "duration": 0,
    "start_time": "2024-05-02T10:04:28.472Z"
   },
   {
    "duration": 0,
    "start_time": "2024-05-02T10:04:28.473Z"
   },
   {
    "duration": 6,
    "start_time": "2024-05-02T10:14:50.804Z"
   },
   {
    "duration": 17,
    "start_time": "2024-05-02T10:15:32.477Z"
   },
   {
    "duration": 10,
    "start_time": "2024-05-02T10:24:38.929Z"
   },
   {
    "duration": 10,
    "start_time": "2024-05-02T10:24:49.834Z"
   },
   {
    "duration": 7,
    "start_time": "2024-05-02T10:25:01.659Z"
   },
   {
    "duration": 18,
    "start_time": "2024-05-02T10:25:13.468Z"
   },
   {
    "duration": 14,
    "start_time": "2024-05-02T10:25:51.314Z"
   },
   {
    "duration": 18,
    "start_time": "2024-05-02T10:25:54.968Z"
   },
   {
    "duration": 13,
    "start_time": "2024-05-02T10:26:17.496Z"
   },
   {
    "duration": 16,
    "start_time": "2024-05-02T10:27:43.360Z"
   },
   {
    "duration": 16,
    "start_time": "2024-05-02T10:29:00.104Z"
   },
   {
    "duration": 20,
    "start_time": "2024-05-02T10:29:16.504Z"
   },
   {
    "duration": 20,
    "start_time": "2024-05-02T10:29:25.517Z"
   },
   {
    "duration": 21,
    "start_time": "2024-05-02T10:30:25.837Z"
   },
   {
    "duration": 20,
    "start_time": "2024-05-02T10:31:17.699Z"
   },
   {
    "duration": 21,
    "start_time": "2024-05-02T10:31:26.823Z"
   },
   {
    "duration": 19,
    "start_time": "2024-05-02T10:31:57.982Z"
   },
   {
    "duration": 22,
    "start_time": "2024-05-02T10:32:46.839Z"
   },
   {
    "duration": 34,
    "start_time": "2024-05-02T10:33:22.271Z"
   },
   {
    "duration": 28,
    "start_time": "2024-05-02T10:33:26.867Z"
   },
   {
    "duration": 20921,
    "start_time": "2024-05-02T10:35:13.493Z"
   },
   {
    "duration": 7100,
    "start_time": "2024-05-02T10:36:39.602Z"
   },
   {
    "duration": 6974,
    "start_time": "2024-05-02T10:37:06.541Z"
   },
   {
    "duration": 7045,
    "start_time": "2024-05-02T10:37:29.151Z"
   },
   {
    "duration": 9088,
    "start_time": "2024-05-02T10:43:54.156Z"
   },
   {
    "duration": 8098,
    "start_time": "2024-05-02T10:44:18.687Z"
   },
   {
    "duration": 26,
    "start_time": "2024-05-02T10:44:30.587Z"
   },
   {
    "duration": 8595,
    "start_time": "2024-05-02T10:45:08.876Z"
   },
   {
    "duration": 20769,
    "start_time": "2024-05-02T10:45:52.613Z"
   },
   {
    "duration": 17,
    "start_time": "2024-05-02T10:47:24.209Z"
   },
   {
    "duration": 15,
    "start_time": "2024-05-02T10:48:55.025Z"
   },
   {
    "duration": 15,
    "start_time": "2024-05-02T10:49:08.796Z"
   },
   {
    "duration": 16,
    "start_time": "2024-05-02T10:49:36.968Z"
   },
   {
    "duration": 22,
    "start_time": "2024-05-02T10:50:02.957Z"
   },
   {
    "duration": 14,
    "start_time": "2024-05-02T10:55:27.153Z"
   },
   {
    "duration": 24,
    "start_time": "2024-05-02T10:55:32.783Z"
   },
   {
    "duration": 17,
    "start_time": "2024-05-02T10:55:45.596Z"
   },
   {
    "duration": 22,
    "start_time": "2024-05-02T10:55:49.916Z"
   },
   {
    "duration": 25,
    "start_time": "2024-05-02T10:58:42.061Z"
   },
   {
    "duration": 24,
    "start_time": "2024-05-02T10:59:32.952Z"
   },
   {
    "duration": 15,
    "start_time": "2024-05-02T11:00:01.720Z"
   },
   {
    "duration": 79,
    "start_time": "2024-05-02T11:00:27.827Z"
   },
   {
    "duration": 77,
    "start_time": "2024-05-02T11:00:40.750Z"
   },
   {
    "duration": 102,
    "start_time": "2024-05-02T11:00:49.245Z"
   },
   {
    "duration": 20163,
    "start_time": "2024-05-02T11:00:54.391Z"
   },
   {
    "duration": 3,
    "start_time": "2024-05-02T11:01:24.548Z"
   },
   {
    "duration": 20108,
    "start_time": "2024-05-02T11:01:47.783Z"
   },
   {
    "duration": 5,
    "start_time": "2024-05-02T11:02:13.881Z"
   },
   {
    "duration": 20275,
    "start_time": "2024-05-02T11:03:34.362Z"
   },
   {
    "duration": 20331,
    "start_time": "2024-05-02T11:06:28.144Z"
   },
   {
    "duration": 21314,
    "start_time": "2024-05-02T11:08:09.408Z"
   },
   {
    "duration": 21648,
    "start_time": "2024-05-02T11:17:48.037Z"
   },
   {
    "duration": 20950,
    "start_time": "2024-05-02T11:18:17.724Z"
   },
   {
    "duration": 8,
    "start_time": "2024-05-02T11:18:58.645Z"
   },
   {
    "duration": 10,
    "start_time": "2024-05-02T11:19:01.730Z"
   },
   {
    "duration": 11,
    "start_time": "2024-05-02T11:19:34.896Z"
   },
   {
    "duration": 9,
    "start_time": "2024-05-02T11:19:45.949Z"
   },
   {
    "duration": 9,
    "start_time": "2024-05-02T11:19:50.104Z"
   },
   {
    "duration": 12,
    "start_time": "2024-05-02T11:20:29.321Z"
   },
   {
    "duration": 78,
    "start_time": "2024-05-02T11:33:29.514Z"
   },
   {
    "duration": 88,
    "start_time": "2024-05-02T11:33:45.046Z"
   },
   {
    "duration": 83,
    "start_time": "2024-05-02T11:34:11.920Z"
   },
   {
    "duration": 77,
    "start_time": "2024-05-02T11:34:25.201Z"
   },
   {
    "duration": 22020,
    "start_time": "2024-05-02T11:34:33.529Z"
   },
   {
    "duration": 22426,
    "start_time": "2024-05-02T11:36:00.702Z"
   },
   {
    "duration": 80,
    "start_time": "2024-05-02T11:36:53.326Z"
   },
   {
    "duration": 115,
    "start_time": "2024-05-02T11:37:28.108Z"
   },
   {
    "duration": 83,
    "start_time": "2024-05-02T11:37:48.124Z"
   },
   {
    "duration": 7663,
    "start_time": "2024-05-02T11:38:04.139Z"
   },
   {
    "duration": 7552,
    "start_time": "2024-05-02T11:38:59.577Z"
   },
   {
    "duration": 109,
    "start_time": "2024-05-02T11:39:26.421Z"
   },
   {
    "duration": 90,
    "start_time": "2024-05-02T11:40:55.999Z"
   },
   {
    "duration": 83,
    "start_time": "2024-05-02T11:41:11.499Z"
   },
   {
    "duration": 22087,
    "start_time": "2024-05-02T11:41:19.140Z"
   },
   {
    "duration": 17,
    "start_time": "2024-05-02T11:42:14.131Z"
   },
   {
    "duration": 21920,
    "start_time": "2024-05-02T11:43:16.858Z"
   },
   {
    "duration": 11,
    "start_time": "2024-05-02T11:43:59.313Z"
   },
   {
    "duration": 6,
    "start_time": "2024-05-02T11:46:17.542Z"
   },
   {
    "duration": 5,
    "start_time": "2024-05-02T11:46:37.324Z"
   },
   {
    "duration": 18,
    "start_time": "2024-05-02T11:49:21.375Z"
   },
   {
    "duration": 6,
    "start_time": "2024-05-02T11:50:15.580Z"
   },
   {
    "duration": 4,
    "start_time": "2024-05-02T11:50:33.122Z"
   },
   {
    "duration": 7,
    "start_time": "2024-05-02T11:50:42.994Z"
   },
   {
    "duration": 21757,
    "start_time": "2024-05-02T11:52:09.937Z"
   },
   {
    "duration": 22126,
    "start_time": "2024-05-02T11:53:09.749Z"
   },
   {
    "duration": 22852,
    "start_time": "2024-05-02T11:55:20.749Z"
   },
   {
    "duration": 5,
    "start_time": "2024-05-02T11:56:03.129Z"
   },
   {
    "duration": 14,
    "start_time": "2024-05-02T12:03:31.393Z"
   },
   {
    "duration": 8567,
    "start_time": "2024-05-02T12:05:06.702Z"
   },
   {
    "duration": 21064,
    "start_time": "2024-05-02T12:06:20.250Z"
   },
   {
    "duration": 21395,
    "start_time": "2024-05-02T12:10:28.906Z"
   },
   {
    "duration": 7390,
    "start_time": "2024-05-02T12:28:56.868Z"
   },
   {
    "duration": 7256,
    "start_time": "2024-05-02T12:30:28.023Z"
   },
   {
    "duration": 0,
    "start_time": "2024-05-02T12:31:18.154Z"
   },
   {
    "duration": 21598,
    "start_time": "2024-05-02T12:31:24.304Z"
   },
   {
    "duration": 15,
    "start_time": "2024-05-02T12:31:58.173Z"
   },
   {
    "duration": 13,
    "start_time": "2024-05-02T12:32:27.248Z"
   },
   {
    "duration": 13,
    "start_time": "2024-05-02T12:32:37.211Z"
   },
   {
    "duration": 21272,
    "start_time": "2024-05-02T12:32:56.553Z"
   },
   {
    "duration": 12,
    "start_time": "2024-05-02T12:33:17.827Z"
   },
   {
    "duration": 10,
    "start_time": "2024-05-02T12:34:34.761Z"
   },
   {
    "duration": 2760,
    "start_time": "2024-05-02T12:34:34.777Z"
   },
   {
    "duration": 1599,
    "start_time": "2024-05-02T12:34:37.540Z"
   },
   {
    "duration": 197,
    "start_time": "2024-05-02T12:34:39.141Z"
   },
   {
    "duration": 186,
    "start_time": "2024-05-02T12:34:39.340Z"
   },
   {
    "duration": 188,
    "start_time": "2024-05-02T12:34:39.527Z"
   },
   {
    "duration": 159,
    "start_time": "2024-05-02T12:34:39.716Z"
   },
   {
    "duration": 244,
    "start_time": "2024-05-02T12:34:39.881Z"
   },
   {
    "duration": 62,
    "start_time": "2024-05-02T12:34:40.126Z"
   },
   {
    "duration": 43,
    "start_time": "2024-05-02T12:34:40.190Z"
   },
   {
    "duration": 65,
    "start_time": "2024-05-02T12:34:40.236Z"
   },
   {
    "duration": 5,
    "start_time": "2024-05-02T12:34:40.303Z"
   },
   {
    "duration": 1075,
    "start_time": "2024-05-02T12:34:40.309Z"
   },
   {
    "duration": 859,
    "start_time": "2024-05-02T12:34:41.386Z"
   },
   {
    "duration": 1019,
    "start_time": "2024-05-02T12:34:42.247Z"
   },
   {
    "duration": 7,
    "start_time": "2024-05-02T12:34:43.269Z"
   },
   {
    "duration": 571,
    "start_time": "2024-05-02T12:34:43.278Z"
   },
   {
    "duration": 1041,
    "start_time": "2024-05-02T12:34:43.851Z"
   },
   {
    "duration": 1024,
    "start_time": "2024-05-02T12:34:44.894Z"
   },
   {
    "duration": 882,
    "start_time": "2024-05-02T12:34:45.920Z"
   },
   {
    "duration": 512,
    "start_time": "2024-05-02T12:34:46.803Z"
   },
   {
    "duration": 392,
    "start_time": "2024-05-02T12:34:47.317Z"
   },
   {
    "duration": 233,
    "start_time": "2024-05-02T12:34:47.711Z"
   },
   {
    "duration": 274,
    "start_time": "2024-05-02T12:34:47.945Z"
   },
   {
    "duration": 389,
    "start_time": "2024-05-02T12:34:48.221Z"
   },
   {
    "duration": 327,
    "start_time": "2024-05-02T12:34:48.612Z"
   },
   {
    "duration": 319,
    "start_time": "2024-05-02T12:34:48.941Z"
   },
   {
    "duration": 493,
    "start_time": "2024-05-02T12:34:49.262Z"
   },
   {
    "duration": 796,
    "start_time": "2024-05-02T12:34:49.759Z"
   },
   {
    "duration": 3,
    "start_time": "2024-05-02T12:34:50.557Z"
   },
   {
    "duration": 769,
    "start_time": "2024-05-02T12:34:50.562Z"
   },
   {
    "duration": 714,
    "start_time": "2024-05-02T12:34:51.333Z"
   },
   {
    "duration": 766,
    "start_time": "2024-05-02T12:34:52.049Z"
   },
   {
    "duration": 21757,
    "start_time": "2024-05-02T12:34:52.818Z"
   },
   {
    "duration": 20,
    "start_time": "2024-05-02T12:35:14.577Z"
   },
   {
    "duration": 135,
    "start_time": "2024-05-02T12:35:14.599Z"
   },
   {
    "duration": 0,
    "start_time": "2024-05-02T12:35:14.736Z"
   },
   {
    "duration": 0,
    "start_time": "2024-05-02T12:35:14.738Z"
   },
   {
    "duration": 0,
    "start_time": "2024-05-02T12:35:14.739Z"
   },
   {
    "duration": 0,
    "start_time": "2024-05-02T12:35:14.740Z"
   },
   {
    "duration": 0,
    "start_time": "2024-05-02T12:35:14.741Z"
   },
   {
    "duration": 0,
    "start_time": "2024-05-02T12:35:14.743Z"
   },
   {
    "duration": 0,
    "start_time": "2024-05-02T12:35:14.743Z"
   },
   {
    "duration": 21319,
    "start_time": "2024-05-02T12:36:39.817Z"
   },
   {
    "duration": 21837,
    "start_time": "2024-05-02T12:38:17.550Z"
   },
   {
    "duration": 2131,
    "start_time": "2024-05-02T12:43:23.542Z"
   },
   {
    "duration": 21951,
    "start_time": "2024-05-02T12:43:28.033Z"
   },
   {
    "duration": 21932,
    "start_time": "2024-05-02T12:46:55.829Z"
   },
   {
    "duration": 22100,
    "start_time": "2024-05-02T12:50:42.407Z"
   },
   {
    "duration": 22430,
    "start_time": "2024-05-02T12:52:09.376Z"
   },
   {
    "duration": 22743,
    "start_time": "2024-05-02T12:54:07.203Z"
   },
   {
    "duration": 12,
    "start_time": "2024-05-02T13:05:06.512Z"
   },
   {
    "duration": 14,
    "start_time": "2024-05-02T13:05:15.613Z"
   },
   {
    "duration": 13218,
    "start_time": "2024-05-02T14:00:56.260Z"
   },
   {
    "duration": 287,
    "start_time": "2024-05-02T15:45:43.488Z"
   },
   {
    "duration": 331,
    "start_time": "2024-05-02T15:45:51.864Z"
   },
   {
    "duration": 425,
    "start_time": "2024-05-02T15:46:00.149Z"
   },
   {
    "duration": 506,
    "start_time": "2024-05-02T15:46:16.278Z"
   },
   {
    "duration": 255,
    "start_time": "2024-05-02T15:46:31.951Z"
   },
   {
    "duration": 342,
    "start_time": "2024-05-02T15:47:14.278Z"
   },
   {
    "duration": 281,
    "start_time": "2024-05-02T15:47:27.569Z"
   },
   {
    "duration": 257,
    "start_time": "2024-05-02T15:47:36.654Z"
   },
   {
    "duration": 223,
    "start_time": "2024-05-02T15:47:42.686Z"
   },
   {
    "duration": 598,
    "start_time": "2024-05-02T15:48:06.743Z"
   },
   {
    "duration": 253,
    "start_time": "2024-05-02T15:48:45.765Z"
   },
   {
    "duration": 273,
    "start_time": "2024-05-02T15:48:50.888Z"
   },
   {
    "duration": 364,
    "start_time": "2024-05-02T15:49:02.012Z"
   },
   {
    "duration": 300,
    "start_time": "2024-05-02T15:49:11.629Z"
   },
   {
    "duration": 289,
    "start_time": "2024-05-02T15:49:29.962Z"
   },
   {
    "duration": 375,
    "start_time": "2024-05-02T15:49:41.700Z"
   },
   {
    "duration": 296,
    "start_time": "2024-05-02T15:49:46.730Z"
   },
   {
    "duration": 13,
    "start_time": "2024-05-02T15:58:38.328Z"
   },
   {
    "duration": 3000,
    "start_time": "2024-05-02T15:58:38.343Z"
   },
   {
    "duration": 1769,
    "start_time": "2024-05-02T15:58:41.345Z"
   },
   {
    "duration": 221,
    "start_time": "2024-05-02T15:58:43.116Z"
   },
   {
    "duration": 200,
    "start_time": "2024-05-02T15:58:43.338Z"
   },
   {
    "duration": 214,
    "start_time": "2024-05-02T15:58:43.540Z"
   },
   {
    "duration": 193,
    "start_time": "2024-05-02T15:58:43.755Z"
   },
   {
    "duration": 261,
    "start_time": "2024-05-02T15:58:43.950Z"
   },
   {
    "duration": 67,
    "start_time": "2024-05-02T15:58:44.213Z"
   },
   {
    "duration": 41,
    "start_time": "2024-05-02T15:58:44.286Z"
   },
   {
    "duration": 52,
    "start_time": "2024-05-02T15:58:44.329Z"
   },
   {
    "duration": 6,
    "start_time": "2024-05-02T15:58:44.386Z"
   },
   {
    "duration": 1126,
    "start_time": "2024-05-02T15:58:44.395Z"
   },
   {
    "duration": 1037,
    "start_time": "2024-05-02T15:58:45.523Z"
   },
   {
    "duration": 1159,
    "start_time": "2024-05-02T15:58:46.562Z"
   },
   {
    "duration": 6,
    "start_time": "2024-05-02T15:58:47.723Z"
   },
   {
    "duration": 595,
    "start_time": "2024-05-02T15:58:47.730Z"
   },
   {
    "duration": 1134,
    "start_time": "2024-05-02T15:58:48.328Z"
   },
   {
    "duration": 1176,
    "start_time": "2024-05-02T15:58:49.463Z"
   },
   {
    "duration": 977,
    "start_time": "2024-05-02T15:58:50.641Z"
   },
   {
    "duration": 604,
    "start_time": "2024-05-02T15:58:51.620Z"
   },
   {
    "duration": 579,
    "start_time": "2024-05-02T15:58:52.226Z"
   },
   {
    "duration": 285,
    "start_time": "2024-05-02T15:58:52.807Z"
   },
   {
    "duration": 405,
    "start_time": "2024-05-02T15:58:53.099Z"
   },
   {
    "duration": 539,
    "start_time": "2024-05-02T15:58:53.506Z"
   },
   {
    "duration": 350,
    "start_time": "2024-05-02T15:58:54.047Z"
   },
   {
    "duration": 453,
    "start_time": "2024-05-02T15:58:54.399Z"
   },
   {
    "duration": 406,
    "start_time": "2024-05-02T15:58:54.856Z"
   },
   {
    "duration": 784,
    "start_time": "2024-05-02T15:58:55.263Z"
   },
   {
    "duration": 3,
    "start_time": "2024-05-02T15:58:56.048Z"
   },
   {
    "duration": 798,
    "start_time": "2024-05-02T15:58:56.053Z"
   },
   {
    "duration": 789,
    "start_time": "2024-05-02T15:58:56.853Z"
   },
   {
    "duration": 714,
    "start_time": "2024-05-02T15:58:57.643Z"
   },
   {
    "duration": 13140,
    "start_time": "2024-05-02T15:58:58.359Z"
   },
   {
    "duration": 142,
    "start_time": "2024-05-02T15:59:11.573Z"
   },
   {
    "duration": 0,
    "start_time": "2024-05-02T15:59:11.717Z"
   },
   {
    "duration": 0,
    "start_time": "2024-05-02T15:59:11.718Z"
   },
   {
    "duration": 12674,
    "start_time": "2024-05-02T16:01:09.425Z"
   },
   {
    "duration": 80,
    "start_time": "2024-05-02T16:01:41.580Z"
   },
   {
    "duration": 80,
    "start_time": "2024-05-02T16:01:59.098Z"
   },
   {
    "duration": 12806,
    "start_time": "2024-05-02T16:02:34.380Z"
   },
   {
    "duration": 3,
    "start_time": "2024-05-02T16:12:32.501Z"
   },
   {
    "duration": 4,
    "start_time": "2024-05-02T16:14:16.237Z"
   },
   {
    "duration": 131,
    "start_time": "2024-05-02T16:16:19.252Z"
   },
   {
    "duration": 113,
    "start_time": "2024-05-02T16:20:38.041Z"
   },
   {
    "duration": 14,
    "start_time": "2024-05-02T16:21:09.911Z"
   },
   {
    "duration": 4,
    "start_time": "2024-05-02T16:21:26.038Z"
   },
   {
    "duration": 2757,
    "start_time": "2024-05-02T16:21:26.045Z"
   },
   {
    "duration": 6,
    "start_time": "2024-05-02T16:21:28.805Z"
   },
   {
    "duration": 214,
    "start_time": "2024-05-02T16:21:28.813Z"
   },
   {
    "duration": 184,
    "start_time": "2024-05-02T16:21:29.030Z"
   },
   {
    "duration": 183,
    "start_time": "2024-05-02T16:21:29.216Z"
   },
   {
    "duration": 148,
    "start_time": "2024-05-02T16:21:29.401Z"
   },
   {
    "duration": 233,
    "start_time": "2024-05-02T16:21:29.551Z"
   },
   {
    "duration": 40,
    "start_time": "2024-05-02T16:21:29.786Z"
   },
   {
    "duration": 65,
    "start_time": "2024-05-02T16:21:29.827Z"
   },
   {
    "duration": 40,
    "start_time": "2024-05-02T16:21:29.895Z"
   },
   {
    "duration": 5,
    "start_time": "2024-05-02T16:21:29.937Z"
   },
   {
    "duration": 971,
    "start_time": "2024-05-02T16:21:29.943Z"
   },
   {
    "duration": 1035,
    "start_time": "2024-05-02T16:21:30.916Z"
   },
   {
    "duration": 1125,
    "start_time": "2024-05-02T16:21:31.953Z"
   },
   {
    "duration": 5,
    "start_time": "2024-05-02T16:21:33.089Z"
   },
   {
    "duration": 554,
    "start_time": "2024-05-02T16:21:33.096Z"
   },
   {
    "duration": 885,
    "start_time": "2024-05-02T16:21:33.652Z"
   },
   {
    "duration": 1081,
    "start_time": "2024-05-02T16:21:34.539Z"
   },
   {
    "duration": 1034,
    "start_time": "2024-05-02T16:21:35.622Z"
   },
   {
    "duration": 496,
    "start_time": "2024-05-02T16:21:36.658Z"
   },
   {
    "duration": 368,
    "start_time": "2024-05-02T16:21:37.155Z"
   },
   {
    "duration": 261,
    "start_time": "2024-05-02T16:21:37.525Z"
   },
   {
    "duration": 363,
    "start_time": "2024-05-02T16:21:37.788Z"
   },
   {
    "duration": 706,
    "start_time": "2024-05-02T16:21:38.153Z"
   },
   {
    "duration": 320,
    "start_time": "2024-05-02T16:21:38.862Z"
   },
   {
    "duration": 317,
    "start_time": "2024-05-02T16:21:39.185Z"
   },
   {
    "duration": 363,
    "start_time": "2024-05-02T16:21:39.503Z"
   },
   {
    "duration": 872,
    "start_time": "2024-05-02T16:21:39.871Z"
   },
   {
    "duration": 3,
    "start_time": "2024-05-02T16:21:40.745Z"
   },
   {
    "duration": 712,
    "start_time": "2024-05-02T16:21:40.749Z"
   },
   {
    "duration": 679,
    "start_time": "2024-05-02T16:21:41.463Z"
   },
   {
    "duration": 740,
    "start_time": "2024-05-02T16:21:42.143Z"
   },
   {
    "duration": 13198,
    "start_time": "2024-05-02T16:21:42.885Z"
   },
   {
    "duration": 7,
    "start_time": "2024-05-02T16:21:56.169Z"
   },
   {
    "duration": 103,
    "start_time": "2024-05-02T16:21:56.181Z"
   },
   {
    "duration": 90,
    "start_time": "2024-05-02T16:22:43.102Z"
   },
   {
    "duration": 75,
    "start_time": "2024-05-02T16:23:26.723Z"
   },
   {
    "duration": 101,
    "start_time": "2024-05-02T16:23:49.170Z"
   },
   {
    "duration": 73,
    "start_time": "2024-05-02T16:24:51.786Z"
   },
   {
    "duration": 68,
    "start_time": "2024-05-02T16:24:58.689Z"
   },
   {
    "duration": 14,
    "start_time": "2024-05-02T16:31:05.722Z"
   },
   {
    "duration": 12,
    "start_time": "2024-05-02T16:31:21.249Z"
   },
   {
    "duration": 6,
    "start_time": "2024-05-02T16:32:32.196Z"
   },
   {
    "duration": 16,
    "start_time": "2024-05-02T16:32:52.280Z"
   },
   {
    "duration": 27,
    "start_time": "2024-05-02T16:34:11.975Z"
   },
   {
    "duration": 11,
    "start_time": "2024-05-02T16:34:36.936Z"
   },
   {
    "duration": 66,
    "start_time": "2024-05-02T16:36:17.791Z"
   },
   {
    "duration": 7,
    "start_time": "2024-05-02T16:37:04.952Z"
   },
   {
    "duration": 10,
    "start_time": "2024-05-02T16:38:07.129Z"
   },
   {
    "duration": 15,
    "start_time": "2024-05-02T16:39:08.258Z"
   },
   {
    "duration": 69,
    "start_time": "2024-05-02T16:39:49.397Z"
   },
   {
    "duration": 9,
    "start_time": "2024-05-02T16:39:53.698Z"
   },
   {
    "duration": 72,
    "start_time": "2024-05-02T16:40:32.357Z"
   },
   {
    "duration": 72,
    "start_time": "2024-05-02T16:40:40.520Z"
   },
   {
    "duration": 64,
    "start_time": "2024-05-02T16:40:45.243Z"
   },
   {
    "duration": 63,
    "start_time": "2024-05-02T16:40:54.578Z"
   },
   {
    "duration": 11,
    "start_time": "2024-05-02T16:40:59.268Z"
   },
   {
    "duration": 8,
    "start_time": "2024-05-02T16:41:09.659Z"
   },
   {
    "duration": 11,
    "start_time": "2024-05-02T16:41:15.478Z"
   },
   {
    "duration": 13,
    "start_time": "2024-05-02T16:42:06.302Z"
   },
   {
    "duration": 84,
    "start_time": "2024-05-02T18:02:42.531Z"
   },
   {
    "duration": 69,
    "start_time": "2024-05-02T18:02:49.223Z"
   },
   {
    "duration": 22,
    "start_time": "2024-05-02T18:03:00.990Z"
   },
   {
    "duration": 80,
    "start_time": "2024-05-02T18:03:12.513Z"
   },
   {
    "duration": 14,
    "start_time": "2024-05-02T18:03:23.422Z"
   },
   {
    "duration": 12,
    "start_time": "2024-05-02T18:03:40.421Z"
   },
   {
    "duration": 21,
    "start_time": "2024-05-02T18:04:18.979Z"
   },
   {
    "duration": 23,
    "start_time": "2024-05-02T18:04:33.725Z"
   },
   {
    "duration": 15,
    "start_time": "2024-05-02T18:06:01.170Z"
   },
   {
    "duration": 17,
    "start_time": "2024-05-02T18:06:49.329Z"
   },
   {
    "duration": 22,
    "start_time": "2024-05-02T18:07:36.364Z"
   },
   {
    "duration": 20,
    "start_time": "2024-05-02T18:08:21.455Z"
   },
   {
    "duration": 25,
    "start_time": "2024-05-02T18:09:27.278Z"
   },
   {
    "duration": 18,
    "start_time": "2024-05-02T18:09:55.236Z"
   },
   {
    "duration": 29,
    "start_time": "2024-05-02T18:11:57.668Z"
   },
   {
    "duration": 30,
    "start_time": "2024-05-02T18:12:14.121Z"
   },
   {
    "duration": 20,
    "start_time": "2024-05-02T18:12:42.799Z"
   },
   {
    "duration": 20,
    "start_time": "2024-05-02T18:13:26.289Z"
   },
   {
    "duration": 135,
    "start_time": "2024-05-02T18:15:15.548Z"
   },
   {
    "duration": 97,
    "start_time": "2024-05-02T18:15:37.205Z"
   },
   {
    "duration": 127,
    "start_time": "2024-05-02T18:16:20.867Z"
   },
   {
    "duration": 43,
    "start_time": "2024-05-02T18:17:13.986Z"
   },
   {
    "duration": 122,
    "start_time": "2024-05-02T18:17:31.621Z"
   },
   {
    "duration": 118,
    "start_time": "2024-05-02T18:18:04.909Z"
   },
   {
    "duration": 117,
    "start_time": "2024-05-02T18:18:09.416Z"
   },
   {
    "duration": 105,
    "start_time": "2024-05-02T18:18:11.730Z"
   },
   {
    "duration": 113,
    "start_time": "2024-05-02T18:18:18.109Z"
   },
   {
    "duration": 114,
    "start_time": "2024-05-02T18:18:38.062Z"
   },
   {
    "duration": 13,
    "start_time": "2024-05-02T18:19:34.940Z"
   },
   {
    "duration": 14,
    "start_time": "2024-05-02T18:20:00.881Z"
   },
   {
    "duration": 13,
    "start_time": "2024-05-02T18:20:02.308Z"
   },
   {
    "duration": 17,
    "start_time": "2024-05-02T18:20:09.356Z"
   },
   {
    "duration": 12,
    "start_time": "2024-05-02T18:20:14.098Z"
   },
   {
    "duration": 14,
    "start_time": "2024-05-02T18:20:29.582Z"
   },
   {
    "duration": 12,
    "start_time": "2024-05-02T18:21:38.844Z"
   },
   {
    "duration": 17,
    "start_time": "2024-05-02T18:22:03.996Z"
   },
   {
    "duration": 106,
    "start_time": "2024-05-02T18:22:13.723Z"
   },
   {
    "duration": 106,
    "start_time": "2024-05-02T18:22:21.919Z"
   },
   {
    "duration": 19,
    "start_time": "2024-05-02T18:22:48.986Z"
   },
   {
    "duration": 112,
    "start_time": "2024-05-02T18:22:53.809Z"
   },
   {
    "duration": 13,
    "start_time": "2024-05-02T18:23:27.615Z"
   },
   {
    "duration": 19,
    "start_time": "2024-05-02T18:23:35.373Z"
   },
   {
    "duration": 2697,
    "start_time": "2024-05-02T18:23:35.396Z"
   },
   {
    "duration": 1912,
    "start_time": "2024-05-02T18:23:38.097Z"
   },
   {
    "duration": 212,
    "start_time": "2024-05-02T18:23:40.011Z"
   },
   {
    "duration": 180,
    "start_time": "2024-05-02T18:23:40.225Z"
   },
   {
    "duration": 188,
    "start_time": "2024-05-02T18:23:40.407Z"
   },
   {
    "duration": 138,
    "start_time": "2024-05-02T18:23:40.598Z"
   },
   {
    "duration": 174,
    "start_time": "2024-05-02T18:23:40.738Z"
   },
   {
    "duration": 35,
    "start_time": "2024-05-02T18:23:40.914Z"
   },
   {
    "duration": 58,
    "start_time": "2024-05-02T18:23:40.952Z"
   },
   {
    "duration": 39,
    "start_time": "2024-05-02T18:23:41.012Z"
   },
   {
    "duration": 24,
    "start_time": "2024-05-02T18:23:41.053Z"
   },
   {
    "duration": 1057,
    "start_time": "2024-05-02T18:23:41.084Z"
   },
   {
    "duration": 933,
    "start_time": "2024-05-02T18:23:42.144Z"
   },
   {
    "duration": 1034,
    "start_time": "2024-05-02T18:23:43.084Z"
   },
   {
    "duration": 5,
    "start_time": "2024-05-02T18:23:44.120Z"
   },
   {
    "duration": 564,
    "start_time": "2024-05-02T18:23:44.127Z"
   },
   {
    "duration": 1040,
    "start_time": "2024-05-02T18:23:44.693Z"
   },
   {
    "duration": 1016,
    "start_time": "2024-05-02T18:23:45.735Z"
   },
   {
    "duration": 916,
    "start_time": "2024-05-02T18:23:46.753Z"
   },
   {
    "duration": 526,
    "start_time": "2024-05-02T18:23:47.673Z"
   },
   {
    "duration": 518,
    "start_time": "2024-05-02T18:23:48.201Z"
   },
   {
    "duration": 256,
    "start_time": "2024-05-02T18:23:48.721Z"
   },
   {
    "duration": 363,
    "start_time": "2024-05-02T18:23:48.978Z"
   },
   {
    "duration": 518,
    "start_time": "2024-05-02T18:23:49.343Z"
   },
   {
    "duration": 333,
    "start_time": "2024-05-02T18:23:49.868Z"
   },
   {
    "duration": 443,
    "start_time": "2024-05-02T18:23:50.204Z"
   },
   {
    "duration": 396,
    "start_time": "2024-05-02T18:23:50.650Z"
   },
   {
    "duration": 773,
    "start_time": "2024-05-02T18:23:51.048Z"
   },
   {
    "duration": 3,
    "start_time": "2024-05-02T18:23:51.823Z"
   },
   {
    "duration": 706,
    "start_time": "2024-05-02T18:23:51.828Z"
   },
   {
    "duration": 721,
    "start_time": "2024-05-02T18:23:52.536Z"
   },
   {
    "duration": 674,
    "start_time": "2024-05-02T18:23:53.258Z"
   },
   {
    "duration": 11857,
    "start_time": "2024-05-02T18:23:53.933Z"
   },
   {
    "duration": 86,
    "start_time": "2024-05-02T18:24:05.791Z"
   },
   {
    "duration": 223,
    "start_time": "2024-05-02T18:24:05.880Z"
   },
   {
    "duration": 0,
    "start_time": "2024-05-02T18:24:06.105Z"
   },
   {
    "duration": 0,
    "start_time": "2024-05-02T18:24:06.106Z"
   },
   {
    "duration": 0,
    "start_time": "2024-05-02T18:24:06.107Z"
   },
   {
    "duration": 0,
    "start_time": "2024-05-02T18:24:06.109Z"
   },
   {
    "duration": 105,
    "start_time": "2024-05-02T18:24:57.529Z"
   },
   {
    "duration": 33,
    "start_time": "2024-05-02T18:25:35.324Z"
   },
   {
    "duration": 13,
    "start_time": "2024-05-02T18:25:53.705Z"
   },
   {
    "duration": 109,
    "start_time": "2024-05-02T18:25:58.707Z"
   },
   {
    "duration": 125,
    "start_time": "2024-05-02T18:26:16.487Z"
   },
   {
    "duration": 47,
    "start_time": "2024-05-02T18:26:59.401Z"
   },
   {
    "duration": 19,
    "start_time": "2024-05-02T18:29:11.125Z"
   },
   {
    "duration": 84,
    "start_time": "2024-05-02T18:45:10.907Z"
   },
   {
    "duration": 14,
    "start_time": "2024-05-02T18:50:25.618Z"
   },
   {
    "duration": 15,
    "start_time": "2024-05-02T18:51:16.522Z"
   },
   {
    "duration": 19,
    "start_time": "2024-05-02T18:51:52.282Z"
   },
   {
    "duration": 12,
    "start_time": "2024-05-02T18:52:21.308Z"
   },
   {
    "duration": 14,
    "start_time": "2024-05-02T18:53:23.263Z"
   },
   {
    "duration": 17,
    "start_time": "2024-05-02T18:56:40.418Z"
   },
   {
    "duration": 1128,
    "start_time": "2024-05-02T18:57:00.665Z"
   },
   {
    "duration": 6406,
    "start_time": "2024-05-02T18:58:52.089Z"
   },
   {
    "duration": 7200,
    "start_time": "2024-05-02T19:00:10.254Z"
   },
   {
    "duration": 16,
    "start_time": "2024-05-02T19:03:22.109Z"
   },
   {
    "duration": 27,
    "start_time": "2024-05-02T19:03:27.674Z"
   },
   {
    "duration": 15,
    "start_time": "2024-05-02T19:03:29.448Z"
   },
   {
    "duration": 11,
    "start_time": "2024-05-02T19:03:30.747Z"
   },
   {
    "duration": 32,
    "start_time": "2024-05-02T19:04:27.585Z"
   },
   {
    "duration": 167,
    "start_time": "2024-05-02T19:05:52.361Z"
   },
   {
    "duration": 6878,
    "start_time": "2024-05-02T19:06:21.021Z"
   },
   {
    "duration": 12208,
    "start_time": "2024-05-02T19:08:36.317Z"
   },
   {
    "duration": 12688,
    "start_time": "2024-05-02T19:10:31.679Z"
   },
   {
    "duration": 10346,
    "start_time": "2024-05-02T19:25:07.829Z"
   },
   {
    "duration": 9762,
    "start_time": "2024-05-02T19:26:44.840Z"
   },
   {
    "duration": 88,
    "start_time": "2024-05-02T19:26:58.685Z"
   },
   {
    "duration": 91,
    "start_time": "2024-05-02T19:31:46.347Z"
   },
   {
    "duration": 78,
    "start_time": "2024-05-02T19:32:30.425Z"
   },
   {
    "duration": 78,
    "start_time": "2024-05-02T19:32:36.291Z"
   },
   {
    "duration": 84,
    "start_time": "2024-05-02T19:32:39.361Z"
   },
   {
    "duration": 128,
    "start_time": "2024-05-02T19:32:40.869Z"
   },
   {
    "duration": 82,
    "start_time": "2024-05-02T19:32:42.983Z"
   },
   {
    "duration": 93,
    "start_time": "2024-05-02T19:32:44.396Z"
   },
   {
    "duration": 68,
    "start_time": "2024-05-02T19:32:50.455Z"
   },
   {
    "duration": 10682,
    "start_time": "2024-05-02T19:32:59.920Z"
   },
   {
    "duration": 5721,
    "start_time": "2024-05-02T19:33:36.624Z"
   },
   {
    "duration": 5113,
    "start_time": "2024-05-02T19:34:18.918Z"
   },
   {
    "duration": 5077,
    "start_time": "2024-05-02T19:34:56.616Z"
   },
   {
    "duration": 57,
    "start_time": "2024-05-02T19:35:53.309Z"
   },
   {
    "duration": 117,
    "start_time": "2024-05-02T19:38:01.663Z"
   },
   {
    "duration": 14,
    "start_time": "2024-05-02T19:38:32.483Z"
   },
   {
    "duration": 5,
    "start_time": "2024-05-02T19:39:28.655Z"
   },
   {
    "duration": 19,
    "start_time": "2024-05-02T19:39:35.063Z"
   },
   {
    "duration": 2562,
    "start_time": "2024-05-02T19:39:35.086Z"
   },
   {
    "duration": 1550,
    "start_time": "2024-05-02T19:39:37.650Z"
   },
   {
    "duration": 196,
    "start_time": "2024-05-02T19:39:39.203Z"
   },
   {
    "duration": 175,
    "start_time": "2024-05-02T19:39:39.400Z"
   },
   {
    "duration": 164,
    "start_time": "2024-05-02T19:39:39.578Z"
   },
   {
    "duration": 131,
    "start_time": "2024-05-02T19:39:39.744Z"
   },
   {
    "duration": 203,
    "start_time": "2024-05-02T19:39:39.877Z"
   },
   {
    "duration": 39,
    "start_time": "2024-05-02T19:39:40.082Z"
   },
   {
    "duration": 66,
    "start_time": "2024-05-02T19:39:40.125Z"
   },
   {
    "duration": 35,
    "start_time": "2024-05-02T19:39:40.193Z"
   },
   {
    "duration": 5,
    "start_time": "2024-05-02T19:39:40.229Z"
   },
   {
    "duration": 999,
    "start_time": "2024-05-02T19:39:40.235Z"
   },
   {
    "duration": 870,
    "start_time": "2024-05-02T19:39:41.236Z"
   },
   {
    "duration": 1032,
    "start_time": "2024-05-02T19:39:42.107Z"
   },
   {
    "duration": 5,
    "start_time": "2024-05-02T19:39:43.141Z"
   },
   {
    "duration": 545,
    "start_time": "2024-05-02T19:39:43.147Z"
   },
   {
    "duration": 968,
    "start_time": "2024-05-02T19:39:43.694Z"
   },
   {
    "duration": 982,
    "start_time": "2024-05-02T19:39:44.663Z"
   },
   {
    "duration": 976,
    "start_time": "2024-05-02T19:39:45.647Z"
   },
   {
    "duration": 484,
    "start_time": "2024-05-02T19:39:46.624Z"
   },
   {
    "duration": 511,
    "start_time": "2024-05-02T19:39:47.110Z"
   },
   {
    "duration": 272,
    "start_time": "2024-05-02T19:39:47.623Z"
   },
   {
    "duration": 351,
    "start_time": "2024-05-02T19:39:47.897Z"
   },
   {
    "duration": 497,
    "start_time": "2024-05-02T19:39:48.250Z"
   },
   {
    "duration": 300,
    "start_time": "2024-05-02T19:39:48.749Z"
   },
   {
    "duration": 434,
    "start_time": "2024-05-02T19:39:49.050Z"
   },
   {
    "duration": 373,
    "start_time": "2024-05-02T19:39:49.489Z"
   },
   {
    "duration": 776,
    "start_time": "2024-05-02T19:39:49.864Z"
   },
   {
    "duration": 2,
    "start_time": "2024-05-02T19:39:50.641Z"
   },
   {
    "duration": 686,
    "start_time": "2024-05-02T19:39:50.645Z"
   },
   {
    "duration": 688,
    "start_time": "2024-05-02T19:39:51.333Z"
   },
   {
    "duration": 713,
    "start_time": "2024-05-02T19:39:52.022Z"
   },
   {
    "duration": 12543,
    "start_time": "2024-05-02T19:39:52.736Z"
   },
   {
    "duration": 3,
    "start_time": "2024-05-02T19:40:05.282Z"
   },
   {
    "duration": 249,
    "start_time": "2024-05-02T19:40:05.288Z"
   },
   {
    "duration": 63,
    "start_time": "2024-05-02T19:40:05.538Z"
   },
   {
    "duration": 5211,
    "start_time": "2024-05-02T19:40:05.602Z"
   },
   {
    "duration": 103,
    "start_time": "2024-05-02T19:40:10.815Z"
   },
   {
    "duration": 0,
    "start_time": "2024-05-02T19:40:10.920Z"
   },
   {
    "duration": 0,
    "start_time": "2024-05-02T19:40:10.922Z"
   },
   {
    "duration": 12,
    "start_time": "2024-05-02T19:40:55.231Z"
   },
   {
    "duration": 6,
    "start_time": "2024-05-02T19:40:58.637Z"
   },
   {
    "duration": 4894,
    "start_time": "2024-05-02T19:41:30.718Z"
   },
   {
    "duration": 5060,
    "start_time": "2024-05-02T19:42:36.319Z"
   },
   {
    "duration": 4,
    "start_time": "2024-05-02T19:45:18.924Z"
   },
   {
    "duration": 139,
    "start_time": "2024-05-02T19:48:18.299Z"
   },
   {
    "duration": 5173,
    "start_time": "2024-05-02T19:48:52.550Z"
   },
   {
    "duration": 5106,
    "start_time": "2024-05-02T19:49:35.198Z"
   },
   {
    "duration": 25,
    "start_time": "2024-05-02T19:50:48.144Z"
   },
   {
    "duration": 5132,
    "start_time": "2024-05-02T19:51:21.937Z"
   },
   {
    "duration": 146,
    "start_time": "2024-05-02T19:52:04.004Z"
   },
   {
    "duration": 5372,
    "start_time": "2024-05-02T19:52:43.586Z"
   },
   {
    "duration": 36,
    "start_time": "2024-05-02T19:53:42.454Z"
   },
   {
    "duration": 10,
    "start_time": "2024-05-02T19:54:52.225Z"
   },
   {
    "duration": 2881,
    "start_time": "2024-05-02T19:54:52.237Z"
   },
   {
    "duration": 1548,
    "start_time": "2024-05-02T19:54:55.120Z"
   },
   {
    "duration": 237,
    "start_time": "2024-05-02T19:54:56.673Z"
   },
   {
    "duration": 198,
    "start_time": "2024-05-02T19:54:56.913Z"
   },
   {
    "duration": 210,
    "start_time": "2024-05-02T19:54:57.116Z"
   },
   {
    "duration": 171,
    "start_time": "2024-05-02T19:54:57.329Z"
   },
   {
    "duration": 211,
    "start_time": "2024-05-02T19:54:57.502Z"
   },
   {
    "duration": 37,
    "start_time": "2024-05-02T19:54:57.715Z"
   },
   {
    "duration": 59,
    "start_time": "2024-05-02T19:54:57.755Z"
   },
   {
    "duration": 37,
    "start_time": "2024-05-02T19:54:57.816Z"
   },
   {
    "duration": 26,
    "start_time": "2024-05-02T19:54:57.854Z"
   },
   {
    "duration": 1047,
    "start_time": "2024-05-02T19:54:57.881Z"
   },
   {
    "duration": 929,
    "start_time": "2024-05-02T19:54:58.930Z"
   },
   {
    "duration": 1184,
    "start_time": "2024-05-02T19:54:59.861Z"
   },
   {
    "duration": 5,
    "start_time": "2024-05-02T19:55:01.047Z"
   },
   {
    "duration": 620,
    "start_time": "2024-05-02T19:55:01.054Z"
   },
   {
    "duration": 1080,
    "start_time": "2024-05-02T19:55:01.677Z"
   },
   {
    "duration": 1058,
    "start_time": "2024-05-02T19:55:02.759Z"
   },
   {
    "duration": 971,
    "start_time": "2024-05-02T19:55:03.819Z"
   },
   {
    "duration": 495,
    "start_time": "2024-05-02T19:55:04.793Z"
   },
   {
    "duration": 559,
    "start_time": "2024-05-02T19:55:05.296Z"
   },
   {
    "duration": 269,
    "start_time": "2024-05-02T19:55:05.857Z"
   },
   {
    "duration": 429,
    "start_time": "2024-05-02T19:55:06.128Z"
   },
   {
    "duration": 749,
    "start_time": "2024-05-02T19:55:06.558Z"
   },
   {
    "duration": 368,
    "start_time": "2024-05-02T19:55:07.308Z"
   },
   {
    "duration": 419,
    "start_time": "2024-05-02T19:55:07.679Z"
   },
   {
    "duration": 386,
    "start_time": "2024-05-02T19:55:08.102Z"
   },
   {
    "duration": 676,
    "start_time": "2024-05-02T19:55:08.490Z"
   },
   {
    "duration": 4,
    "start_time": "2024-05-02T19:55:09.168Z"
   },
   {
    "duration": 752,
    "start_time": "2024-05-02T19:55:09.174Z"
   },
   {
    "duration": 719,
    "start_time": "2024-05-02T19:55:09.928Z"
   },
   {
    "duration": 687,
    "start_time": "2024-05-02T19:55:10.649Z"
   },
   {
    "duration": 11733,
    "start_time": "2024-05-02T19:55:11.338Z"
   },
   {
    "duration": 3,
    "start_time": "2024-05-02T19:55:23.080Z"
   },
   {
    "duration": 158,
    "start_time": "2024-05-02T19:55:23.085Z"
   },
   {
    "duration": 3,
    "start_time": "2024-05-02T19:55:23.245Z"
   },
   {
    "duration": 159,
    "start_time": "2024-05-02T19:55:23.250Z"
   },
   {
    "duration": 0,
    "start_time": "2024-05-02T19:55:23.410Z"
   },
   {
    "duration": 0,
    "start_time": "2024-05-02T19:55:23.411Z"
   },
   {
    "duration": 5233,
    "start_time": "2024-05-02T19:56:06.750Z"
   },
   {
    "duration": 5164,
    "start_time": "2024-05-02T19:57:07.358Z"
   },
   {
    "duration": 6,
    "start_time": "2024-05-02T19:58:27.282Z"
   },
   {
    "duration": 5234,
    "start_time": "2024-05-02T19:58:28.959Z"
   },
   {
    "duration": 3,
    "start_time": "2024-05-02T19:59:33.107Z"
   },
   {
    "duration": 5145,
    "start_time": "2024-05-02T19:59:34.557Z"
   },
   {
    "duration": 5,
    "start_time": "2024-05-02T20:00:42.393Z"
   },
   {
    "duration": 9362,
    "start_time": "2024-05-02T20:00:43.254Z"
   },
   {
    "duration": 16165,
    "start_time": "2024-05-02T20:03:14.684Z"
   },
   {
    "duration": 5,
    "start_time": "2024-05-02T20:03:31.688Z"
   },
   {
    "duration": 11844,
    "start_time": "2024-05-02T20:03:33.496Z"
   },
   {
    "duration": 28,
    "start_time": "2024-05-02T20:07:19.934Z"
   },
   {
    "duration": 12300,
    "start_time": "2024-05-02T20:07:36.890Z"
   },
   {
    "duration": 3,
    "start_time": "2024-05-02T20:23:39.229Z"
   },
   {
    "duration": 11411,
    "start_time": "2024-05-02T20:23:43.335Z"
   },
   {
    "duration": 3,
    "start_time": "2024-05-02T20:25:04.459Z"
   },
   {
    "duration": 11753,
    "start_time": "2024-05-02T20:25:05.864Z"
   },
   {
    "duration": 6,
    "start_time": "2024-05-02T20:25:27.460Z"
   },
   {
    "duration": 11010,
    "start_time": "2024-05-02T20:39:37.903Z"
   },
   {
    "duration": 5362,
    "start_time": "2024-05-02T20:45:20.030Z"
   },
   {
    "duration": 5368,
    "start_time": "2024-05-02T20:47:29.289Z"
   },
   {
    "duration": 5272,
    "start_time": "2024-05-02T20:48:38.323Z"
   },
   {
    "duration": 5208,
    "start_time": "2024-05-02T20:49:58.387Z"
   },
   {
    "duration": 5451,
    "start_time": "2024-05-02T20:50:07.948Z"
   },
   {
    "duration": 5106,
    "start_time": "2024-05-02T20:52:20.881Z"
   },
   {
    "duration": 5225,
    "start_time": "2024-05-02T20:53:17.265Z"
   },
   {
    "duration": 5133,
    "start_time": "2024-05-02T21:06:55.266Z"
   },
   {
    "duration": 5151,
    "start_time": "2024-05-02T21:07:22.027Z"
   },
   {
    "duration": 5089,
    "start_time": "2024-05-02T21:08:34.094Z"
   },
   {
    "duration": 67,
    "start_time": "2024-05-02T21:10:45.967Z"
   },
   {
    "duration": 5536,
    "start_time": "2024-05-02T21:12:41.296Z"
   },
   {
    "duration": 5296,
    "start_time": "2024-05-02T21:13:32.507Z"
   },
   {
    "duration": 1419,
    "start_time": "2024-05-02T21:17:06.390Z"
   },
   {
    "duration": 1250,
    "start_time": "2024-05-02T21:17:27.005Z"
   },
   {
    "duration": 5227,
    "start_time": "2024-05-02T21:17:33.876Z"
   },
   {
    "duration": 4327,
    "start_time": "2024-05-02T21:19:29.676Z"
   },
   {
    "duration": 4808,
    "start_time": "2024-05-02T21:21:12.374Z"
   },
   {
    "duration": 4285,
    "start_time": "2024-05-02T21:21:35.193Z"
   },
   {
    "duration": 4389,
    "start_time": "2024-05-02T21:23:56.148Z"
   },
   {
    "duration": 4318,
    "start_time": "2024-05-02T21:24:16.951Z"
   },
   {
    "duration": 74,
    "start_time": "2024-05-02T21:25:01.890Z"
   },
   {
    "duration": 697,
    "start_time": "2024-05-02T21:25:12.580Z"
   },
   {
    "duration": 77,
    "start_time": "2024-05-02T21:25:23.845Z"
   },
   {
    "duration": 4315,
    "start_time": "2024-05-02T21:26:01.005Z"
   },
   {
    "duration": 9,
    "start_time": "2024-05-02T21:26:20.022Z"
   },
   {
    "duration": 2576,
    "start_time": "2024-05-02T21:26:20.033Z"
   },
   {
    "duration": 1577,
    "start_time": "2024-05-02T21:26:22.611Z"
   },
   {
    "duration": 187,
    "start_time": "2024-05-02T21:26:24.192Z"
   },
   {
    "duration": 181,
    "start_time": "2024-05-02T21:26:24.381Z"
   },
   {
    "duration": 169,
    "start_time": "2024-05-02T21:26:24.563Z"
   },
   {
    "duration": 119,
    "start_time": "2024-05-02T21:26:24.733Z"
   },
   {
    "duration": 178,
    "start_time": "2024-05-02T21:26:24.854Z"
   },
   {
    "duration": 56,
    "start_time": "2024-05-02T21:26:25.035Z"
   },
   {
    "duration": 34,
    "start_time": "2024-05-02T21:26:25.093Z"
   },
   {
    "duration": 48,
    "start_time": "2024-05-02T21:26:25.128Z"
   },
   {
    "duration": 5,
    "start_time": "2024-05-02T21:26:25.178Z"
   },
   {
    "duration": 939,
    "start_time": "2024-05-02T21:26:25.185Z"
   },
   {
    "duration": 829,
    "start_time": "2024-05-02T21:26:26.125Z"
   },
   {
    "duration": 1049,
    "start_time": "2024-05-02T21:26:26.956Z"
   },
   {
    "duration": 5,
    "start_time": "2024-05-02T21:26:28.007Z"
   },
   {
    "duration": 496,
    "start_time": "2024-05-02T21:26:28.013Z"
   },
   {
    "duration": 997,
    "start_time": "2024-05-02T21:26:28.510Z"
   },
   {
    "duration": 987,
    "start_time": "2024-05-02T21:26:29.509Z"
   },
   {
    "duration": 893,
    "start_time": "2024-05-02T21:26:30.498Z"
   },
   {
    "duration": 484,
    "start_time": "2024-05-02T21:26:31.393Z"
   },
   {
    "duration": 498,
    "start_time": "2024-05-02T21:26:31.879Z"
   },
   {
    "duration": 224,
    "start_time": "2024-05-02T21:26:32.378Z"
   },
   {
    "duration": 360,
    "start_time": "2024-05-02T21:26:32.605Z"
   },
   {
    "duration": 523,
    "start_time": "2024-05-02T21:26:32.967Z"
   },
   {
    "duration": 273,
    "start_time": "2024-05-02T21:26:33.492Z"
   },
   {
    "duration": 381,
    "start_time": "2024-05-02T21:26:33.769Z"
   },
   {
    "duration": 365,
    "start_time": "2024-05-02T21:26:34.152Z"
   },
   {
    "duration": 697,
    "start_time": "2024-05-02T21:26:34.519Z"
   },
   {
    "duration": 3,
    "start_time": "2024-05-02T21:26:35.217Z"
   },
   {
    "duration": 698,
    "start_time": "2024-05-02T21:26:35.221Z"
   },
   {
    "duration": 697,
    "start_time": "2024-05-02T21:26:35.920Z"
   },
   {
    "duration": 610,
    "start_time": "2024-05-02T21:26:36.619Z"
   },
   {
    "duration": 11357,
    "start_time": "2024-05-02T21:26:37.231Z"
   },
   {
    "duration": 7,
    "start_time": "2024-05-02T21:26:48.676Z"
   },
   {
    "duration": 173,
    "start_time": "2024-05-02T21:26:48.685Z"
   },
   {
    "duration": 4,
    "start_time": "2024-05-02T21:26:48.859Z"
   },
   {
    "duration": 143,
    "start_time": "2024-05-02T21:26:48.864Z"
   },
   {
    "duration": 0,
    "start_time": "2024-05-02T21:26:49.009Z"
   },
   {
    "duration": 0,
    "start_time": "2024-05-02T21:26:49.010Z"
   },
   {
    "duration": 6,
    "start_time": "2024-05-02T21:27:24.579Z"
   },
   {
    "duration": 4112,
    "start_time": "2024-05-02T21:27:24.588Z"
   },
   {
    "duration": 4,
    "start_time": "2024-05-02T21:27:28.702Z"
   },
   {
    "duration": 9,
    "start_time": "2024-05-03T07:05:45.610Z"
   },
   {
    "duration": 3445,
    "start_time": "2024-05-03T07:05:45.621Z"
   },
   {
    "duration": 1628,
    "start_time": "2024-05-03T07:05:49.068Z"
   },
   {
    "duration": 606,
    "start_time": "2024-05-03T07:05:50.697Z"
   },
   {
    "duration": 554,
    "start_time": "2024-05-03T07:05:51.305Z"
   },
   {
    "duration": 574,
    "start_time": "2024-05-03T07:05:51.861Z"
   },
   {
    "duration": 112,
    "start_time": "2024-05-03T07:05:52.437Z"
   },
   {
    "duration": 127,
    "start_time": "2024-05-03T07:05:52.551Z"
   },
   {
    "duration": 39,
    "start_time": "2024-05-03T07:05:52.680Z"
   },
   {
    "duration": 39,
    "start_time": "2024-05-03T07:05:52.721Z"
   },
   {
    "duration": 60,
    "start_time": "2024-05-03T07:05:52.762Z"
   },
   {
    "duration": 4,
    "start_time": "2024-05-03T07:05:52.823Z"
   },
   {
    "duration": 902,
    "start_time": "2024-05-03T07:05:52.829Z"
   },
   {
    "duration": 782,
    "start_time": "2024-05-03T07:05:53.733Z"
   },
   {
    "duration": 951,
    "start_time": "2024-05-03T07:05:54.517Z"
   },
   {
    "duration": 5,
    "start_time": "2024-05-03T07:05:55.470Z"
   },
   {
    "duration": 465,
    "start_time": "2024-05-03T07:05:55.477Z"
   },
   {
    "duration": 891,
    "start_time": "2024-05-03T07:05:55.944Z"
   },
   {
    "duration": 900,
    "start_time": "2024-05-03T07:05:56.837Z"
   },
   {
    "duration": 806,
    "start_time": "2024-05-03T07:05:57.739Z"
   },
   {
    "duration": 608,
    "start_time": "2024-05-03T07:05:58.546Z"
   },
   {
    "duration": 349,
    "start_time": "2024-05-03T07:05:59.156Z"
   },
   {
    "duration": 222,
    "start_time": "2024-05-03T07:05:59.506Z"
   },
   {
    "duration": 320,
    "start_time": "2024-05-03T07:05:59.730Z"
   },
   {
    "duration": 466,
    "start_time": "2024-05-03T07:06:00.051Z"
   },
   {
    "duration": 283,
    "start_time": "2024-05-03T07:06:00.518Z"
   },
   {
    "duration": 408,
    "start_time": "2024-05-03T07:06:00.803Z"
   },
   {
    "duration": 386,
    "start_time": "2024-05-03T07:06:01.212Z"
   },
   {
    "duration": 647,
    "start_time": "2024-05-03T07:06:01.601Z"
   },
   {
    "duration": 3,
    "start_time": "2024-05-03T07:06:02.250Z"
   },
   {
    "duration": 1018,
    "start_time": "2024-05-03T07:06:02.254Z"
   },
   {
    "duration": 656,
    "start_time": "2024-05-03T07:06:03.274Z"
   },
   {
    "duration": 731,
    "start_time": "2024-05-03T07:06:03.932Z"
   },
   {
    "duration": 12939,
    "start_time": "2024-05-03T07:06:04.665Z"
   },
   {
    "duration": 90,
    "start_time": "2024-05-03T07:06:17.606Z"
   },
   {
    "duration": 302,
    "start_time": "2024-05-03T07:06:17.698Z"
   },
   {
    "duration": 66,
    "start_time": "2024-05-03T07:06:18.001Z"
   },
   {
    "duration": 4056,
    "start_time": "2024-05-03T07:06:18.068Z"
   },
   {
    "duration": 5,
    "start_time": "2024-05-03T07:06:22.126Z"
   },
   {
    "duration": 9,
    "start_time": "2024-05-03T08:26:09.767Z"
   },
   {
    "duration": 2402,
    "start_time": "2024-05-03T08:26:09.782Z"
   },
   {
    "duration": 1509,
    "start_time": "2024-05-03T08:26:12.186Z"
   },
   {
    "duration": 184,
    "start_time": "2024-05-03T08:26:13.697Z"
   },
   {
    "duration": 165,
    "start_time": "2024-05-03T08:26:13.883Z"
   },
   {
    "duration": 163,
    "start_time": "2024-05-03T08:26:14.051Z"
   },
   {
    "duration": 133,
    "start_time": "2024-05-03T08:26:14.216Z"
   },
   {
    "duration": 159,
    "start_time": "2024-05-03T08:26:14.351Z"
   },
   {
    "duration": 38,
    "start_time": "2024-05-03T08:26:14.512Z"
   },
   {
    "duration": 55,
    "start_time": "2024-05-03T08:26:14.552Z"
   },
   {
    "duration": 42,
    "start_time": "2024-05-03T08:26:14.609Z"
   },
   {
    "duration": 10,
    "start_time": "2024-05-03T08:26:14.653Z"
   },
   {
    "duration": 994,
    "start_time": "2024-05-03T08:26:14.665Z"
   },
   {
    "duration": 869,
    "start_time": "2024-05-03T08:26:15.661Z"
   },
   {
    "duration": 1014,
    "start_time": "2024-05-03T08:26:16.533Z"
   },
   {
    "duration": 6,
    "start_time": "2024-05-03T08:26:17.548Z"
   },
   {
    "duration": 536,
    "start_time": "2024-05-03T08:26:17.556Z"
   },
   {
    "duration": 948,
    "start_time": "2024-05-03T08:26:18.093Z"
   },
   {
    "duration": 888,
    "start_time": "2024-05-03T08:26:19.045Z"
   },
   {
    "duration": 813,
    "start_time": "2024-05-03T08:26:19.935Z"
   },
   {
    "duration": 456,
    "start_time": "2024-05-03T08:26:20.749Z"
   },
   {
    "duration": 517,
    "start_time": "2024-05-03T08:26:21.207Z"
   },
   {
    "duration": 247,
    "start_time": "2024-05-03T08:26:21.726Z"
   },
   {
    "duration": 331,
    "start_time": "2024-05-03T08:26:21.975Z"
   },
   {
    "duration": 463,
    "start_time": "2024-05-03T08:26:22.308Z"
   },
   {
    "duration": 281,
    "start_time": "2024-05-03T08:26:22.773Z"
   },
   {
    "duration": 400,
    "start_time": "2024-05-03T08:26:23.056Z"
   },
   {
    "duration": 365,
    "start_time": "2024-05-03T08:26:23.458Z"
   },
   {
    "duration": 672,
    "start_time": "2024-05-03T08:26:23.825Z"
   },
   {
    "duration": 3,
    "start_time": "2024-05-03T08:26:24.498Z"
   },
   {
    "duration": 655,
    "start_time": "2024-05-03T08:26:24.502Z"
   },
   {
    "duration": 652,
    "start_time": "2024-05-03T08:26:25.159Z"
   },
   {
    "duration": 619,
    "start_time": "2024-05-03T08:26:25.813Z"
   },
   {
    "duration": 13461,
    "start_time": "2024-05-03T08:26:26.434Z"
   },
   {
    "duration": 4,
    "start_time": "2024-05-03T08:26:39.898Z"
   },
   {
    "duration": 209,
    "start_time": "2024-05-03T08:26:39.903Z"
   },
   {
    "duration": 3,
    "start_time": "2024-05-03T08:26:40.113Z"
   },
   {
    "duration": 4080,
    "start_time": "2024-05-03T08:26:40.118Z"
   },
   {
    "duration": 5,
    "start_time": "2024-05-03T08:26:44.199Z"
   },
   {
    "duration": 10,
    "start_time": "2024-05-03T08:33:17.854Z"
   },
   {
    "duration": 2544,
    "start_time": "2024-05-03T08:33:17.870Z"
   },
   {
    "duration": 71,
    "start_time": "2024-05-03T08:33:20.416Z"
   },
   {
    "duration": 0,
    "start_time": "2024-05-03T08:33:20.491Z"
   },
   {
    "duration": 0,
    "start_time": "2024-05-03T08:33:20.492Z"
   },
   {
    "duration": 0,
    "start_time": "2024-05-03T08:33:20.493Z"
   },
   {
    "duration": 0,
    "start_time": "2024-05-03T08:33:20.495Z"
   },
   {
    "duration": 0,
    "start_time": "2024-05-03T08:33:20.496Z"
   },
   {
    "duration": 0,
    "start_time": "2024-05-03T08:33:20.497Z"
   },
   {
    "duration": 0,
    "start_time": "2024-05-03T08:33:20.498Z"
   },
   {
    "duration": 0,
    "start_time": "2024-05-03T08:33:20.500Z"
   },
   {
    "duration": 0,
    "start_time": "2024-05-03T08:33:20.501Z"
   },
   {
    "duration": 0,
    "start_time": "2024-05-03T08:33:20.502Z"
   },
   {
    "duration": 0,
    "start_time": "2024-05-03T08:33:20.503Z"
   },
   {
    "duration": 0,
    "start_time": "2024-05-03T08:33:20.505Z"
   },
   {
    "duration": 0,
    "start_time": "2024-05-03T08:33:20.507Z"
   },
   {
    "duration": 0,
    "start_time": "2024-05-03T08:33:20.508Z"
   },
   {
    "duration": 0,
    "start_time": "2024-05-03T08:33:20.510Z"
   },
   {
    "duration": 0,
    "start_time": "2024-05-03T08:33:20.511Z"
   },
   {
    "duration": 0,
    "start_time": "2024-05-03T08:33:20.512Z"
   },
   {
    "duration": 0,
    "start_time": "2024-05-03T08:33:20.513Z"
   },
   {
    "duration": 0,
    "start_time": "2024-05-03T08:33:20.514Z"
   },
   {
    "duration": 0,
    "start_time": "2024-05-03T08:33:20.515Z"
   },
   {
    "duration": 0,
    "start_time": "2024-05-03T08:33:20.516Z"
   },
   {
    "duration": 0,
    "start_time": "2024-05-03T08:33:20.517Z"
   },
   {
    "duration": 0,
    "start_time": "2024-05-03T08:33:20.518Z"
   },
   {
    "duration": 0,
    "start_time": "2024-05-03T08:33:20.520Z"
   },
   {
    "duration": 0,
    "start_time": "2024-05-03T08:33:20.521Z"
   },
   {
    "duration": 0,
    "start_time": "2024-05-03T08:33:20.522Z"
   },
   {
    "duration": 0,
    "start_time": "2024-05-03T08:33:20.523Z"
   },
   {
    "duration": 0,
    "start_time": "2024-05-03T08:33:20.524Z"
   },
   {
    "duration": 0,
    "start_time": "2024-05-03T08:33:20.525Z"
   },
   {
    "duration": 0,
    "start_time": "2024-05-03T08:33:20.526Z"
   },
   {
    "duration": 0,
    "start_time": "2024-05-03T08:33:20.527Z"
   },
   {
    "duration": 0,
    "start_time": "2024-05-03T08:33:20.528Z"
   },
   {
    "duration": 0,
    "start_time": "2024-05-03T08:33:20.529Z"
   },
   {
    "duration": 0,
    "start_time": "2024-05-03T08:33:20.530Z"
   },
   {
    "duration": 0,
    "start_time": "2024-05-03T08:33:20.531Z"
   },
   {
    "duration": 0,
    "start_time": "2024-05-03T08:33:20.532Z"
   },
   {
    "duration": 1322,
    "start_time": "2024-05-03T08:33:39.329Z"
   },
   {
    "duration": 4,
    "start_time": "2024-05-03T08:33:51.888Z"
   },
   {
    "duration": 9,
    "start_time": "2024-05-03T08:33:57.523Z"
   },
   {
    "duration": 2494,
    "start_time": "2024-05-03T08:33:57.533Z"
   },
   {
    "duration": 1362,
    "start_time": "2024-05-03T08:34:00.029Z"
   },
   {
    "duration": 185,
    "start_time": "2024-05-03T08:34:01.393Z"
   },
   {
    "duration": 157,
    "start_time": "2024-05-03T08:34:01.579Z"
   },
   {
    "duration": 151,
    "start_time": "2024-05-03T08:34:01.737Z"
   },
   {
    "duration": 115,
    "start_time": "2024-05-03T08:34:01.889Z"
   },
   {
    "duration": 156,
    "start_time": "2024-05-03T08:34:02.008Z"
   },
   {
    "duration": 45,
    "start_time": "2024-05-03T08:34:02.166Z"
   },
   {
    "duration": 225,
    "start_time": "2024-05-03T08:34:02.213Z"
   },
   {
    "duration": 221,
    "start_time": "2024-05-03T08:34:02.441Z"
   },
   {
    "duration": 107,
    "start_time": "2024-05-03T08:34:02.664Z"
   },
   {
    "duration": 967,
    "start_time": "2024-05-03T08:34:02.773Z"
   },
   {
    "duration": 813,
    "start_time": "2024-05-03T08:34:03.742Z"
   },
   {
    "duration": 930,
    "start_time": "2024-05-03T08:34:04.557Z"
   },
   {
    "duration": 5,
    "start_time": "2024-05-03T08:34:05.493Z"
   },
   {
    "duration": 483,
    "start_time": "2024-05-03T08:34:05.499Z"
   },
   {
    "duration": 888,
    "start_time": "2024-05-03T08:34:05.983Z"
   },
   {
    "duration": 909,
    "start_time": "2024-05-03T08:34:06.873Z"
   },
   {
    "duration": 772,
    "start_time": "2024-05-03T08:34:07.783Z"
   },
   {
    "duration": 455,
    "start_time": "2024-05-03T08:34:08.557Z"
   },
   {
    "duration": 465,
    "start_time": "2024-05-03T08:34:09.014Z"
   },
   {
    "duration": 222,
    "start_time": "2024-05-03T08:34:09.481Z"
   },
   {
    "duration": 314,
    "start_time": "2024-05-03T08:34:09.704Z"
   },
   {
    "duration": 449,
    "start_time": "2024-05-03T08:34:10.020Z"
   },
   {
    "duration": 305,
    "start_time": "2024-05-03T08:34:10.471Z"
   },
   {
    "duration": 359,
    "start_time": "2024-05-03T08:34:10.778Z"
   },
   {
    "duration": 335,
    "start_time": "2024-05-03T08:34:11.139Z"
   },
   {
    "duration": 669,
    "start_time": "2024-05-03T08:34:11.478Z"
   },
   {
    "duration": 3,
    "start_time": "2024-05-03T08:34:12.149Z"
   },
   {
    "duration": 632,
    "start_time": "2024-05-03T08:34:12.154Z"
   },
   {
    "duration": 633,
    "start_time": "2024-05-03T08:34:12.788Z"
   },
   {
    "duration": 639,
    "start_time": "2024-05-03T08:34:13.423Z"
   },
   {
    "duration": 13141,
    "start_time": "2024-05-03T08:34:14.064Z"
   },
   {
    "duration": 4,
    "start_time": "2024-05-03T08:34:27.298Z"
   },
   {
    "duration": 183,
    "start_time": "2024-05-03T08:34:27.304Z"
   },
   {
    "duration": 3,
    "start_time": "2024-05-03T08:34:27.489Z"
   },
   {
    "duration": 3991,
    "start_time": "2024-05-03T08:34:27.493Z"
   },
   {
    "duration": 6,
    "start_time": "2024-05-03T08:34:31.485Z"
   },
   {
    "duration": 13087,
    "start_time": "2024-05-03T08:38:42.118Z"
   },
   {
    "duration": 10,
    "start_time": "2024-05-03T08:43:10.355Z"
   },
   {
    "duration": 2519,
    "start_time": "2024-05-03T08:43:10.366Z"
   },
   {
    "duration": 1414,
    "start_time": "2024-05-03T08:43:12.887Z"
   },
   {
    "duration": 167,
    "start_time": "2024-05-03T08:43:14.302Z"
   },
   {
    "duration": 146,
    "start_time": "2024-05-03T08:43:14.471Z"
   },
   {
    "duration": 154,
    "start_time": "2024-05-03T08:43:14.618Z"
   },
   {
    "duration": 112,
    "start_time": "2024-05-03T08:43:14.773Z"
   },
   {
    "duration": 154,
    "start_time": "2024-05-03T08:43:14.887Z"
   },
   {
    "duration": 37,
    "start_time": "2024-05-03T08:43:15.042Z"
   },
   {
    "duration": 69,
    "start_time": "2024-05-03T08:43:15.080Z"
   },
   {
    "duration": 37,
    "start_time": "2024-05-03T08:43:15.152Z"
   },
   {
    "duration": 49,
    "start_time": "2024-05-03T08:43:15.190Z"
   },
   {
    "duration": 978,
    "start_time": "2024-05-03T08:43:15.241Z"
   },
   {
    "duration": 770,
    "start_time": "2024-05-03T08:43:16.220Z"
   },
   {
    "duration": 918,
    "start_time": "2024-05-03T08:43:16.993Z"
   },
   {
    "duration": 5,
    "start_time": "2024-05-03T08:43:17.912Z"
   },
   {
    "duration": 433,
    "start_time": "2024-05-03T08:43:17.918Z"
   },
   {
    "duration": 877,
    "start_time": "2024-05-03T08:43:18.352Z"
   },
   {
    "duration": 877,
    "start_time": "2024-05-03T08:43:19.231Z"
   },
   {
    "duration": 789,
    "start_time": "2024-05-03T08:43:20.109Z"
   },
   {
    "duration": 446,
    "start_time": "2024-05-03T08:43:20.900Z"
   },
   {
    "duration": 435,
    "start_time": "2024-05-03T08:43:21.347Z"
   },
   {
    "duration": 241,
    "start_time": "2024-05-03T08:43:21.783Z"
   },
   {
    "duration": 305,
    "start_time": "2024-05-03T08:43:22.025Z"
   },
   {
    "duration": 453,
    "start_time": "2024-05-03T08:43:22.331Z"
   },
   {
    "duration": 259,
    "start_time": "2024-05-03T08:43:22.786Z"
   },
   {
    "duration": 360,
    "start_time": "2024-05-03T08:43:23.047Z"
   },
   {
    "duration": 342,
    "start_time": "2024-05-03T08:43:23.409Z"
   },
   {
    "duration": 631,
    "start_time": "2024-05-03T08:43:23.754Z"
   },
   {
    "duration": 8,
    "start_time": "2024-05-03T08:43:24.386Z"
   },
   {
    "duration": 660,
    "start_time": "2024-05-03T08:43:24.395Z"
   },
   {
    "duration": 775,
    "start_time": "2024-05-03T08:43:25.056Z"
   },
   {
    "duration": 614,
    "start_time": "2024-05-03T08:43:25.833Z"
   },
   {
    "duration": 13254,
    "start_time": "2024-05-03T08:43:26.449Z"
   },
   {
    "duration": 4,
    "start_time": "2024-05-03T08:43:39.795Z"
   },
   {
    "duration": 149,
    "start_time": "2024-05-03T08:43:39.801Z"
   },
   {
    "duration": 3,
    "start_time": "2024-05-03T08:43:39.951Z"
   },
   {
    "duration": 3915,
    "start_time": "2024-05-03T08:43:39.956Z"
   },
   {
    "duration": 6,
    "start_time": "2024-05-03T08:43:43.873Z"
   },
   {
    "duration": 120,
    "start_time": "2024-05-03T08:54:42.696Z"
   },
   {
    "duration": 253,
    "start_time": "2024-05-03T08:54:59.085Z"
   },
   {
    "duration": 203,
    "start_time": "2024-05-03T08:55:44.506Z"
   },
   {
    "duration": 209,
    "start_time": "2024-05-03T08:56:20.736Z"
   },
   {
    "duration": 13,
    "start_time": "2024-05-03T08:56:38.067Z"
   },
   {
    "duration": 11,
    "start_time": "2024-05-03T08:57:37.284Z"
   },
   {
    "duration": 24,
    "start_time": "2024-05-03T08:58:23.711Z"
   },
   {
    "duration": 47,
    "start_time": "2024-05-03T08:58:51.483Z"
   },
   {
    "duration": 207,
    "start_time": "2024-05-03T08:59:10.315Z"
   },
   {
    "duration": 4,
    "start_time": "2024-05-03T08:59:30.240Z"
   },
   {
    "duration": 2630,
    "start_time": "2024-05-03T08:59:30.246Z"
   },
   {
    "duration": 5,
    "start_time": "2024-05-03T08:59:32.878Z"
   },
   {
    "duration": 193,
    "start_time": "2024-05-03T08:59:32.885Z"
   },
   {
    "duration": 155,
    "start_time": "2024-05-03T08:59:33.080Z"
   },
   {
    "duration": 160,
    "start_time": "2024-05-03T08:59:33.237Z"
   },
   {
    "duration": 126,
    "start_time": "2024-05-03T08:59:33.399Z"
   },
   {
    "duration": 148,
    "start_time": "2024-05-03T08:59:33.527Z"
   },
   {
    "duration": 44,
    "start_time": "2024-05-03T08:59:33.677Z"
   },
   {
    "duration": 37,
    "start_time": "2024-05-03T08:59:33.723Z"
   },
   {
    "duration": 66,
    "start_time": "2024-05-03T08:59:33.762Z"
   },
   {
    "duration": 5,
    "start_time": "2024-05-03T08:59:33.830Z"
   },
   {
    "duration": 1005,
    "start_time": "2024-05-03T08:59:33.836Z"
   },
   {
    "duration": 822,
    "start_time": "2024-05-03T08:59:34.842Z"
   },
   {
    "duration": 941,
    "start_time": "2024-05-03T08:59:35.666Z"
   },
   {
    "duration": 4,
    "start_time": "2024-05-03T08:59:36.609Z"
   },
   {
    "duration": 500,
    "start_time": "2024-05-03T08:59:36.615Z"
   },
   {
    "duration": 886,
    "start_time": "2024-05-03T08:59:37.117Z"
   },
   {
    "duration": 813,
    "start_time": "2024-05-03T08:59:38.005Z"
   },
   {
    "duration": 938,
    "start_time": "2024-05-03T08:59:38.819Z"
   },
   {
    "duration": 453,
    "start_time": "2024-05-03T08:59:39.759Z"
   },
   {
    "duration": 424,
    "start_time": "2024-05-03T08:59:40.214Z"
   },
   {
    "duration": 227,
    "start_time": "2024-05-03T08:59:40.639Z"
   },
   {
    "duration": 323,
    "start_time": "2024-05-03T08:59:40.867Z"
   },
   {
    "duration": 491,
    "start_time": "2024-05-03T08:59:41.191Z"
   },
   {
    "duration": 278,
    "start_time": "2024-05-03T08:59:41.684Z"
   },
   {
    "duration": 286,
    "start_time": "2024-05-03T08:59:41.963Z"
   },
   {
    "duration": 450,
    "start_time": "2024-05-03T08:59:42.250Z"
   },
   {
    "duration": 670,
    "start_time": "2024-05-03T08:59:42.703Z"
   },
   {
    "duration": 3,
    "start_time": "2024-05-03T08:59:43.374Z"
   },
   {
    "duration": 695,
    "start_time": "2024-05-03T08:59:43.378Z"
   },
   {
    "duration": 644,
    "start_time": "2024-05-03T08:59:44.074Z"
   },
   {
    "duration": 615,
    "start_time": "2024-05-03T08:59:44.720Z"
   },
   {
    "duration": 271,
    "start_time": "2024-05-03T09:00:03.724Z"
   },
   {
    "duration": 40,
    "start_time": "2024-05-03T09:00:17.077Z"
   },
   {
    "duration": 36,
    "start_time": "2024-05-03T09:00:33.106Z"
   },
   {
    "duration": 853,
    "start_time": "2024-05-03T09:00:37.650Z"
   },
   {
    "duration": 912,
    "start_time": "2024-05-03T09:00:42.065Z"
   },
   {
    "duration": 828,
    "start_time": "2024-05-03T09:00:49.885Z"
   },
   {
    "duration": 907,
    "start_time": "2024-05-03T09:01:33.566Z"
   },
   {
    "duration": 76,
    "start_time": "2024-05-03T09:02:24.270Z"
   },
   {
    "duration": 214,
    "start_time": "2024-05-03T09:02:41.009Z"
   },
   {
    "duration": 200,
    "start_time": "2024-05-03T09:02:55.359Z"
   },
   {
    "duration": 26,
    "start_time": "2024-05-03T09:03:01.508Z"
   },
   {
    "duration": 26,
    "start_time": "2024-05-03T09:03:15.151Z"
   },
   {
    "duration": 862,
    "start_time": "2024-05-03T09:03:23.273Z"
   },
   {
    "duration": 10,
    "start_time": "2024-05-03T09:53:13.384Z"
   },
   {
    "duration": 12,
    "start_time": "2024-05-03T09:53:38.420Z"
   },
   {
    "duration": 17,
    "start_time": "2024-05-03T09:54:53.082Z"
   },
   {
    "duration": 11,
    "start_time": "2024-05-03T09:55:04.636Z"
   },
   {
    "duration": 14,
    "start_time": "2024-05-03T09:56:00.504Z"
   },
   {
    "duration": 13,
    "start_time": "2024-05-03T09:56:47.619Z"
   },
   {
    "duration": 11,
    "start_time": "2024-05-03T09:57:05.967Z"
   },
   {
    "duration": 13,
    "start_time": "2024-05-03T09:57:57.072Z"
   },
   {
    "duration": 14,
    "start_time": "2024-05-03T09:58:31.620Z"
   },
   {
    "duration": 12,
    "start_time": "2024-05-03T09:58:46.924Z"
   },
   {
    "duration": 16,
    "start_time": "2024-05-03T09:58:56.983Z"
   },
   {
    "duration": 42,
    "start_time": "2024-05-03T10:03:36.896Z"
   },
   {
    "duration": 38,
    "start_time": "2024-05-03T10:03:47.904Z"
   },
   {
    "duration": 42,
    "start_time": "2024-05-03T10:04:41.991Z"
   },
   {
    "duration": 30,
    "start_time": "2024-05-03T10:05:03.748Z"
   },
   {
    "duration": 41,
    "start_time": "2024-05-03T10:06:09.351Z"
   },
   {
    "duration": 27,
    "start_time": "2024-05-03T10:06:51.873Z"
   },
   {
    "duration": 31,
    "start_time": "2024-05-03T10:07:13.448Z"
   },
   {
    "duration": 26,
    "start_time": "2024-05-03T10:07:32.287Z"
   },
   {
    "duration": 29,
    "start_time": "2024-05-03T10:07:54.669Z"
   },
   {
    "duration": 30,
    "start_time": "2024-05-03T10:08:12.668Z"
   },
   {
    "duration": 28,
    "start_time": "2024-05-03T10:08:24.792Z"
   },
   {
    "duration": 26,
    "start_time": "2024-05-03T10:08:40.457Z"
   },
   {
    "duration": 36,
    "start_time": "2024-05-03T10:09:06.625Z"
   },
   {
    "duration": 32,
    "start_time": "2024-05-03T10:09:06.663Z"
   },
   {
    "duration": 38,
    "start_time": "2024-05-03T10:09:06.697Z"
   },
   {
    "duration": 5,
    "start_time": "2024-05-03T10:09:06.737Z"
   },
   {
    "duration": 848,
    "start_time": "2024-05-03T10:09:06.744Z"
   },
   {
    "duration": 888,
    "start_time": "2024-05-03T10:09:07.594Z"
   },
   {
    "duration": 886,
    "start_time": "2024-05-03T10:09:08.484Z"
   },
   {
    "duration": 6,
    "start_time": "2024-05-03T10:09:09.372Z"
   },
   {
    "duration": 562,
    "start_time": "2024-05-03T10:09:09.380Z"
   },
   {
    "duration": 785,
    "start_time": "2024-05-03T10:09:09.945Z"
   },
   {
    "duration": 897,
    "start_time": "2024-05-03T10:09:10.732Z"
   },
   {
    "duration": 904,
    "start_time": "2024-05-03T10:09:11.631Z"
   },
   {
    "duration": 503,
    "start_time": "2024-05-03T10:09:12.537Z"
   },
   {
    "duration": 324,
    "start_time": "2024-05-03T10:09:13.042Z"
   },
   {
    "duration": 231,
    "start_time": "2024-05-03T10:09:13.367Z"
   },
   {
    "duration": 302,
    "start_time": "2024-05-03T10:09:13.600Z"
   },
   {
    "duration": 586,
    "start_time": "2024-05-03T10:09:13.904Z"
   },
   {
    "duration": 265,
    "start_time": "2024-05-03T10:09:14.492Z"
   },
   {
    "duration": 300,
    "start_time": "2024-05-03T10:09:14.759Z"
   },
   {
    "duration": 345,
    "start_time": "2024-05-03T10:09:15.061Z"
   },
   {
    "duration": 754,
    "start_time": "2024-05-03T10:09:15.408Z"
   },
   {
    "duration": 3,
    "start_time": "2024-05-03T10:09:16.163Z"
   },
   {
    "duration": 964,
    "start_time": "2024-05-03T10:09:16.167Z"
   },
   {
    "duration": 588,
    "start_time": "2024-05-03T10:09:17.133Z"
   },
   {
    "duration": 600,
    "start_time": "2024-05-03T10:09:17.723Z"
   },
   {
    "duration": 23,
    "start_time": "2024-05-03T10:09:18.325Z"
   },
   {
    "duration": 13044,
    "start_time": "2024-05-03T10:09:18.350Z"
   },
   {
    "duration": 95,
    "start_time": "2024-05-03T10:09:31.399Z"
   },
   {
    "duration": 162,
    "start_time": "2024-05-03T10:09:31.496Z"
   },
   {
    "duration": 17,
    "start_time": "2024-05-03T10:09:31.660Z"
   },
   {
    "duration": 3986,
    "start_time": "2024-05-03T10:09:31.679Z"
   },
   {
    "duration": 6,
    "start_time": "2024-05-03T10:09:35.667Z"
   },
   {
    "duration": 9,
    "start_time": "2024-05-03T10:12:31.216Z"
   },
   {
    "duration": 2445,
    "start_time": "2024-05-03T10:12:31.226Z"
   },
   {
    "duration": 1411,
    "start_time": "2024-05-03T10:12:33.674Z"
   },
   {
    "duration": 192,
    "start_time": "2024-05-03T10:12:35.087Z"
   },
   {
    "duration": 178,
    "start_time": "2024-05-03T10:12:35.281Z"
   },
   {
    "duration": 168,
    "start_time": "2024-05-03T10:12:35.461Z"
   },
   {
    "duration": 122,
    "start_time": "2024-05-03T10:12:35.630Z"
   },
   {
    "duration": 153,
    "start_time": "2024-05-03T10:12:35.754Z"
   },
   {
    "duration": 34,
    "start_time": "2024-05-03T10:12:35.909Z"
   },
   {
    "duration": 50,
    "start_time": "2024-05-03T10:12:35.945Z"
   },
   {
    "duration": 48,
    "start_time": "2024-05-03T10:12:35.997Z"
   },
   {
    "duration": 19,
    "start_time": "2024-05-03T10:12:36.046Z"
   },
   {
    "duration": 898,
    "start_time": "2024-05-03T10:12:36.066Z"
   },
   {
    "duration": 810,
    "start_time": "2024-05-03T10:12:36.965Z"
   },
   {
    "duration": 948,
    "start_time": "2024-05-03T10:12:37.776Z"
   },
   {
    "duration": 5,
    "start_time": "2024-05-03T10:12:38.725Z"
   },
   {
    "duration": 483,
    "start_time": "2024-05-03T10:12:38.731Z"
   },
   {
    "duration": 941,
    "start_time": "2024-05-03T10:12:39.216Z"
   },
   {
    "duration": 878,
    "start_time": "2024-05-03T10:12:40.159Z"
   },
   {
    "duration": 818,
    "start_time": "2024-05-03T10:12:41.038Z"
   },
   {
    "duration": 507,
    "start_time": "2024-05-03T10:12:41.857Z"
   },
   {
    "duration": 540,
    "start_time": "2024-05-03T10:12:42.365Z"
   },
   {
    "duration": 233,
    "start_time": "2024-05-03T10:12:42.907Z"
   },
   {
    "duration": 339,
    "start_time": "2024-05-03T10:12:43.143Z"
   },
   {
    "duration": 488,
    "start_time": "2024-05-03T10:12:43.484Z"
   },
   {
    "duration": 314,
    "start_time": "2024-05-03T10:12:43.973Z"
   },
   {
    "duration": 407,
    "start_time": "2024-05-03T10:12:44.288Z"
   },
   {
    "duration": 356,
    "start_time": "2024-05-03T10:12:44.697Z"
   },
   {
    "duration": 713,
    "start_time": "2024-05-03T10:12:45.054Z"
   },
   {
    "duration": 3,
    "start_time": "2024-05-03T10:12:45.769Z"
   },
   {
    "duration": 666,
    "start_time": "2024-05-03T10:12:45.774Z"
   },
   {
    "duration": 595,
    "start_time": "2024-05-03T10:12:46.442Z"
   },
   {
    "duration": 656,
    "start_time": "2024-05-03T10:12:47.038Z"
   },
   {
    "duration": 4,
    "start_time": "2024-05-03T10:12:47.696Z"
   },
   {
    "duration": 13201,
    "start_time": "2024-05-03T10:12:47.701Z"
   },
   {
    "duration": 91,
    "start_time": "2024-05-03T10:13:00.904Z"
   },
   {
    "duration": 274,
    "start_time": "2024-05-03T10:13:00.997Z"
   },
   {
    "duration": 333,
    "start_time": "2024-05-03T10:13:01.272Z"
   },
   {
    "duration": 4173,
    "start_time": "2024-05-03T10:13:01.607Z"
   },
   {
    "duration": 5,
    "start_time": "2024-05-03T10:13:05.781Z"
   },
   {
    "duration": 323,
    "start_time": "2024-05-03T10:13:57.577Z"
   },
   {
    "duration": 215,
    "start_time": "2024-05-03T10:14:35.713Z"
   },
   {
    "duration": 1474,
    "start_time": "2024-05-03T10:15:30.800Z"
   },
   {
    "duration": 1474,
    "start_time": "2024-05-03T10:16:34.428Z"
   },
   {
    "duration": 1338,
    "start_time": "2024-05-03T10:17:21.210Z"
   },
   {
    "duration": 1335,
    "start_time": "2024-05-03T10:17:31.298Z"
   },
   {
    "duration": 16,
    "start_time": "2024-05-03T10:17:55.795Z"
   },
   {
    "duration": 16,
    "start_time": "2024-05-03T10:18:07.619Z"
   },
   {
    "duration": 1393,
    "start_time": "2024-05-03T10:18:23.811Z"
   },
   {
    "duration": 1360,
    "start_time": "2024-05-03T10:19:12.963Z"
   },
   {
    "duration": 3,
    "start_time": "2024-05-03T10:19:38.861Z"
   },
   {
    "duration": 2504,
    "start_time": "2024-05-03T10:19:38.870Z"
   },
   {
    "duration": 6,
    "start_time": "2024-05-03T10:19:41.376Z"
   },
   {
    "duration": 243,
    "start_time": "2024-05-03T10:19:41.383Z"
   },
   {
    "duration": 160,
    "start_time": "2024-05-03T10:19:41.628Z"
   },
   {
    "duration": 156,
    "start_time": "2024-05-03T10:19:41.789Z"
   },
   {
    "duration": 124,
    "start_time": "2024-05-03T10:19:41.947Z"
   },
   {
    "duration": 176,
    "start_time": "2024-05-03T10:19:42.073Z"
   },
   {
    "duration": 51,
    "start_time": "2024-05-03T10:19:42.250Z"
   },
   {
    "duration": 36,
    "start_time": "2024-05-03T10:19:42.303Z"
   },
   {
    "duration": 59,
    "start_time": "2024-05-03T10:19:42.342Z"
   },
   {
    "duration": 6,
    "start_time": "2024-05-03T10:19:42.403Z"
   },
   {
    "duration": 830,
    "start_time": "2024-05-03T10:19:42.410Z"
   },
   {
    "duration": 927,
    "start_time": "2024-05-03T10:19:43.241Z"
   },
   {
    "duration": 955,
    "start_time": "2024-05-03T10:19:44.170Z"
   },
   {
    "duration": 6,
    "start_time": "2024-05-03T10:19:45.126Z"
   },
   {
    "duration": 604,
    "start_time": "2024-05-03T10:19:45.134Z"
   },
   {
    "duration": 902,
    "start_time": "2024-05-03T10:19:45.739Z"
   },
   {
    "duration": 758,
    "start_time": "2024-05-03T10:19:46.642Z"
   },
   {
    "duration": 951,
    "start_time": "2024-05-03T10:19:47.402Z"
   },
   {
    "duration": 440,
    "start_time": "2024-05-03T10:19:48.355Z"
   },
   {
    "duration": 336,
    "start_time": "2024-05-03T10:19:48.797Z"
   },
   {
    "duration": 228,
    "start_time": "2024-05-03T10:19:49.135Z"
   },
   {
    "duration": 445,
    "start_time": "2024-05-03T10:19:49.364Z"
   },
   {
    "duration": 449,
    "start_time": "2024-05-03T10:19:49.810Z"
   },
   {
    "duration": 271,
    "start_time": "2024-05-03T10:19:50.261Z"
   },
   {
    "duration": 298,
    "start_time": "2024-05-03T10:19:50.534Z"
   },
   {
    "duration": 336,
    "start_time": "2024-05-03T10:19:50.834Z"
   },
   {
    "duration": 749,
    "start_time": "2024-05-03T10:19:51.174Z"
   },
   {
    "duration": 4,
    "start_time": "2024-05-03T10:19:51.925Z"
   },
   {
    "duration": 745,
    "start_time": "2024-05-03T10:19:51.931Z"
   },
   {
    "duration": 646,
    "start_time": "2024-05-03T10:19:52.677Z"
   },
   {
    "duration": 655,
    "start_time": "2024-05-03T10:19:53.325Z"
   },
   {
    "duration": 24,
    "start_time": "2024-05-03T10:20:06.554Z"
   },
   {
    "duration": 68,
    "start_time": "2024-05-03T10:21:00.387Z"
   },
   {
    "duration": 88,
    "start_time": "2024-05-03T10:21:30.338Z"
   },
   {
    "duration": 4,
    "start_time": "2024-05-03T10:21:41.814Z"
   },
   {
    "duration": 2473,
    "start_time": "2024-05-03T10:21:41.824Z"
   },
   {
    "duration": 10,
    "start_time": "2024-05-03T10:21:44.300Z"
   },
   {
    "duration": 214,
    "start_time": "2024-05-03T10:21:44.311Z"
   },
   {
    "duration": 162,
    "start_time": "2024-05-03T10:21:44.527Z"
   },
   {
    "duration": 162,
    "start_time": "2024-05-03T10:21:44.691Z"
   },
   {
    "duration": 138,
    "start_time": "2024-05-03T10:21:44.855Z"
   },
   {
    "duration": 178,
    "start_time": "2024-05-03T10:21:44.994Z"
   },
   {
    "duration": 53,
    "start_time": "2024-05-03T10:21:45.173Z"
   },
   {
    "duration": 35,
    "start_time": "2024-05-03T10:21:45.227Z"
   },
   {
    "duration": 64,
    "start_time": "2024-05-03T10:21:45.263Z"
   },
   {
    "duration": 24,
    "start_time": "2024-05-03T10:21:45.328Z"
   },
   {
    "duration": 1060,
    "start_time": "2024-05-03T10:21:45.354Z"
   },
   {
    "duration": 832,
    "start_time": "2024-05-03T10:21:46.416Z"
   },
   {
    "duration": 1014,
    "start_time": "2024-05-03T10:21:47.252Z"
   },
   {
    "duration": 5,
    "start_time": "2024-05-03T10:21:48.267Z"
   },
   {
    "duration": 466,
    "start_time": "2024-05-03T10:21:48.274Z"
   },
   {
    "duration": 1005,
    "start_time": "2024-05-03T10:21:48.742Z"
   },
   {
    "duration": 949,
    "start_time": "2024-05-03T10:21:49.749Z"
   },
   {
    "duration": 830,
    "start_time": "2024-05-03T10:21:50.706Z"
   },
   {
    "duration": 607,
    "start_time": "2024-05-03T10:21:51.538Z"
   },
   {
    "duration": 331,
    "start_time": "2024-05-03T10:21:52.147Z"
   },
   {
    "duration": 252,
    "start_time": "2024-05-03T10:21:52.480Z"
   },
   {
    "duration": 373,
    "start_time": "2024-05-03T10:21:52.733Z"
   },
   {
    "duration": 477,
    "start_time": "2024-05-03T10:21:53.110Z"
   },
   {
    "duration": 284,
    "start_time": "2024-05-03T10:21:53.588Z"
   },
   {
    "duration": 420,
    "start_time": "2024-05-03T10:21:53.874Z"
   },
   {
    "duration": 349,
    "start_time": "2024-05-03T10:21:54.297Z"
   },
   {
    "duration": 678,
    "start_time": "2024-05-03T10:21:54.647Z"
   },
   {
    "duration": 2,
    "start_time": "2024-05-03T10:21:55.326Z"
   },
   {
    "duration": 729,
    "start_time": "2024-05-03T10:21:55.330Z"
   },
   {
    "duration": 677,
    "start_time": "2024-05-03T10:21:56.061Z"
   },
   {
    "duration": 794,
    "start_time": "2024-05-03T10:21:56.740Z"
   },
   {
    "duration": 99,
    "start_time": "2024-05-03T10:21:57.535Z"
   },
   {
    "duration": 160,
    "start_time": "2024-05-03T10:23:09.916Z"
   },
   {
    "duration": 232,
    "start_time": "2024-05-03T10:24:27.650Z"
   },
   {
    "duration": 38,
    "start_time": "2024-05-03T10:24:43.379Z"
   },
   {
    "duration": 37,
    "start_time": "2024-05-03T10:24:44.933Z"
   },
   {
    "duration": 34,
    "start_time": "2024-05-03T10:24:46.907Z"
   },
   {
    "duration": 5,
    "start_time": "2024-05-03T10:24:48.818Z"
   },
   {
    "duration": 826,
    "start_time": "2024-05-03T10:24:49.816Z"
   },
   {
    "duration": 930,
    "start_time": "2024-05-03T10:24:54.184Z"
   },
   {
    "duration": 796,
    "start_time": "2024-05-03T10:24:57.385Z"
   },
   {
    "duration": 5,
    "start_time": "2024-05-03T10:25:08.683Z"
   },
   {
    "duration": 607,
    "start_time": "2024-05-03T10:25:09.616Z"
   },
   {
    "duration": 482,
    "start_time": "2024-05-03T10:25:12.447Z"
   },
   {
    "duration": 922,
    "start_time": "2024-05-03T10:25:17.207Z"
   },
   {
    "duration": 819,
    "start_time": "2024-05-03T10:25:20.491Z"
   },
   {
    "duration": 1028,
    "start_time": "2024-05-03T10:25:24.221Z"
   },
   {
    "duration": 453,
    "start_time": "2024-05-03T10:25:27.452Z"
   },
   {
    "duration": 317,
    "start_time": "2024-05-03T10:25:32.607Z"
   },
   {
    "duration": 226,
    "start_time": "2024-05-03T10:25:35.792Z"
   },
   {
    "duration": 468,
    "start_time": "2024-05-03T10:25:37.725Z"
   },
   {
    "duration": 506,
    "start_time": "2024-05-03T10:25:40.734Z"
   },
   {
    "duration": 277,
    "start_time": "2024-05-03T10:25:44.586Z"
   },
   {
    "duration": 281,
    "start_time": "2024-05-03T10:25:47.482Z"
   },
   {
    "duration": 347,
    "start_time": "2024-05-03T10:25:49.591Z"
   },
   {
    "duration": 472,
    "start_time": "2024-05-03T10:25:52.159Z"
   },
   {
    "duration": 643,
    "start_time": "2024-05-03T10:25:54.164Z"
   },
   {
    "duration": 3,
    "start_time": "2024-05-03T10:25:57.531Z"
   },
   {
    "duration": 670,
    "start_time": "2024-05-03T10:25:59.675Z"
   },
   {
    "duration": 672,
    "start_time": "2024-05-03T10:26:04.774Z"
   },
   {
    "duration": 661,
    "start_time": "2024-05-03T10:26:11.377Z"
   },
   {
    "duration": 252,
    "start_time": "2024-05-03T10:26:49.105Z"
   },
   {
    "duration": 12149,
    "start_time": "2024-05-03T10:26:57.668Z"
   },
   {
    "duration": 3,
    "start_time": "2024-05-03T10:27:41.075Z"
   },
   {
    "duration": 71,
    "start_time": "2024-05-03T10:27:41.089Z"
   },
   {
    "duration": 4,
    "start_time": "2024-05-03T10:27:41.162Z"
   },
   {
    "duration": 4685,
    "start_time": "2024-05-03T10:27:41.167Z"
   },
   {
    "duration": 5,
    "start_time": "2024-05-03T10:27:45.854Z"
   },
   {
    "duration": 833,
    "start_time": "2024-05-03T10:28:21.631Z"
   },
   {
    "duration": 616,
    "start_time": "2024-05-03T10:28:32.325Z"
   },
   {
    "duration": 852,
    "start_time": "2024-05-03T10:28:39.124Z"
   },
   {
    "duration": 1053,
    "start_time": "2024-05-03T10:28:42.871Z"
   },
   {
    "duration": 500,
    "start_time": "2024-05-03T10:29:03.525Z"
   },
   {
    "duration": 332,
    "start_time": "2024-05-03T10:29:12.165Z"
   },
   {
    "duration": 627,
    "start_time": "2024-05-03T10:29:18.057Z"
   },
   {
    "duration": 198,
    "start_time": "2024-05-03T10:30:24.012Z"
   },
   {
    "duration": 13485,
    "start_time": "2024-05-03T10:30:41.809Z"
   },
   {
    "duration": 93,
    "start_time": "2024-05-03T10:30:55.301Z"
   },
   {
    "duration": 180,
    "start_time": "2024-05-03T10:30:55.397Z"
   },
   {
    "duration": 92,
    "start_time": "2024-05-03T10:30:55.579Z"
   },
   {
    "duration": 4697,
    "start_time": "2024-05-03T10:30:55.672Z"
   },
   {
    "duration": 6,
    "start_time": "2024-05-03T10:31:00.371Z"
   },
   {
    "duration": 4576,
    "start_time": "2024-05-03T10:34:29.658Z"
   },
   {
    "duration": 4663,
    "start_time": "2024-05-03T10:35:14.471Z"
   },
   {
    "duration": 4596,
    "start_time": "2024-05-03T10:35:36.331Z"
   },
   {
    "duration": 12,
    "start_time": "2024-05-03T10:37:40.410Z"
   },
   {
    "duration": 2572,
    "start_time": "2024-05-03T10:37:40.424Z"
   },
   {
    "duration": 1579,
    "start_time": "2024-05-03T10:37:42.998Z"
   },
   {
    "duration": 176,
    "start_time": "2024-05-03T10:37:44.579Z"
   },
   {
    "duration": 156,
    "start_time": "2024-05-03T10:37:44.757Z"
   },
   {
    "duration": 195,
    "start_time": "2024-05-03T10:37:44.915Z"
   },
   {
    "duration": 121,
    "start_time": "2024-05-03T10:37:45.112Z"
   },
   {
    "duration": 147,
    "start_time": "2024-05-03T10:37:45.235Z"
   },
   {
    "duration": 49,
    "start_time": "2024-05-03T10:37:45.383Z"
   },
   {
    "duration": 38,
    "start_time": "2024-05-03T10:37:45.434Z"
   },
   {
    "duration": 41,
    "start_time": "2024-05-03T10:37:45.496Z"
   },
   {
    "duration": 4,
    "start_time": "2024-05-03T10:37:45.539Z"
   },
   {
    "duration": 914,
    "start_time": "2024-05-03T10:37:45.545Z"
   },
   {
    "duration": 809,
    "start_time": "2024-05-03T10:37:46.461Z"
   },
   {
    "duration": 1004,
    "start_time": "2024-05-03T10:37:47.271Z"
   },
   {
    "duration": 4,
    "start_time": "2024-05-03T10:37:48.277Z"
   },
   {
    "duration": 525,
    "start_time": "2024-05-03T10:37:48.283Z"
   },
   {
    "duration": 907,
    "start_time": "2024-05-03T10:37:48.809Z"
   },
   {
    "duration": 922,
    "start_time": "2024-05-03T10:37:49.718Z"
   },
   {
    "duration": 806,
    "start_time": "2024-05-03T10:37:50.641Z"
   },
   {
    "duration": 514,
    "start_time": "2024-05-03T10:37:51.449Z"
   },
   {
    "duration": 464,
    "start_time": "2024-05-03T10:37:51.965Z"
   },
   {
    "duration": 229,
    "start_time": "2024-05-03T10:37:52.430Z"
   },
   {
    "duration": 369,
    "start_time": "2024-05-03T10:37:52.660Z"
   },
   {
    "duration": 494,
    "start_time": "2024-05-03T10:37:53.030Z"
   },
   {
    "duration": 290,
    "start_time": "2024-05-03T10:37:53.526Z"
   },
   {
    "duration": 391,
    "start_time": "2024-05-03T10:37:53.817Z"
   },
   {
    "duration": 371,
    "start_time": "2024-05-03T10:37:54.209Z"
   },
   {
    "duration": 664,
    "start_time": "2024-05-03T10:37:54.583Z"
   },
   {
    "duration": 3,
    "start_time": "2024-05-03T10:37:55.248Z"
   },
   {
    "duration": 686,
    "start_time": "2024-05-03T10:37:55.252Z"
   },
   {
    "duration": 636,
    "start_time": "2024-05-03T10:37:55.939Z"
   },
   {
    "duration": 639,
    "start_time": "2024-05-03T10:37:56.576Z"
   },
   {
    "duration": 12987,
    "start_time": "2024-05-03T10:37:57.217Z"
   },
   {
    "duration": 88,
    "start_time": "2024-05-03T10:38:10.207Z"
   },
   {
    "duration": 174,
    "start_time": "2024-05-03T10:38:10.298Z"
   },
   {
    "duration": 3,
    "start_time": "2024-05-03T10:38:10.474Z"
   },
   {
    "duration": 4063,
    "start_time": "2024-05-03T10:38:10.478Z"
   },
   {
    "duration": 6,
    "start_time": "2024-05-03T10:38:14.543Z"
   },
   {
    "duration": 12,
    "start_time": "2024-05-03T10:41:09.115Z"
   },
   {
    "duration": 2481,
    "start_time": "2024-05-03T10:41:09.134Z"
   },
   {
    "duration": 1473,
    "start_time": "2024-05-03T10:41:11.617Z"
   },
   {
    "duration": 178,
    "start_time": "2024-05-03T10:41:13.092Z"
   },
   {
    "duration": 156,
    "start_time": "2024-05-03T10:41:13.272Z"
   },
   {
    "duration": 163,
    "start_time": "2024-05-03T10:41:13.430Z"
   },
   {
    "duration": 118,
    "start_time": "2024-05-03T10:41:13.595Z"
   },
   {
    "duration": 144,
    "start_time": "2024-05-03T10:41:13.715Z"
   },
   {
    "duration": 58,
    "start_time": "2024-05-03T10:41:13.861Z"
   },
   {
    "duration": 36,
    "start_time": "2024-05-03T10:41:13.920Z"
   },
   {
    "duration": 51,
    "start_time": "2024-05-03T10:41:13.958Z"
   },
   {
    "duration": 6,
    "start_time": "2024-05-03T10:41:14.011Z"
   },
   {
    "duration": 884,
    "start_time": "2024-05-03T10:41:14.018Z"
   },
   {
    "duration": 875,
    "start_time": "2024-05-03T10:41:14.903Z"
   },
   {
    "duration": 924,
    "start_time": "2024-05-03T10:41:15.782Z"
   },
   {
    "duration": 7,
    "start_time": "2024-05-03T10:41:16.707Z"
   },
   {
    "duration": 470,
    "start_time": "2024-05-03T10:41:16.715Z"
   },
   {
    "duration": 948,
    "start_time": "2024-05-03T10:41:17.186Z"
   },
   {
    "duration": 929,
    "start_time": "2024-05-03T10:41:18.135Z"
   },
   {
    "duration": 861,
    "start_time": "2024-05-03T10:41:19.066Z"
   },
   {
    "duration": 447,
    "start_time": "2024-05-03T10:41:19.929Z"
   },
   {
    "duration": 479,
    "start_time": "2024-05-03T10:41:20.377Z"
   },
   {
    "duration": 251,
    "start_time": "2024-05-03T10:41:20.858Z"
   },
   {
    "duration": 333,
    "start_time": "2024-05-03T10:41:21.111Z"
   },
   {
    "duration": 483,
    "start_time": "2024-05-03T10:41:21.446Z"
   },
   {
    "duration": 285,
    "start_time": "2024-05-03T10:41:21.931Z"
   },
   {
    "duration": 400,
    "start_time": "2024-05-03T10:41:22.218Z"
   },
   {
    "duration": 387,
    "start_time": "2024-05-03T10:41:22.620Z"
   },
   {
    "duration": 640,
    "start_time": "2024-05-03T10:41:23.008Z"
   },
   {
    "duration": 3,
    "start_time": "2024-05-03T10:41:23.649Z"
   },
   {
    "duration": 687,
    "start_time": "2024-05-03T10:41:23.653Z"
   },
   {
    "duration": 635,
    "start_time": "2024-05-03T10:41:24.342Z"
   },
   {
    "duration": 762,
    "start_time": "2024-05-03T10:41:24.979Z"
   },
   {
    "duration": 13451,
    "start_time": "2024-05-03T10:41:25.743Z"
   },
   {
    "duration": 91,
    "start_time": "2024-05-03T10:41:39.204Z"
   },
   {
    "duration": 122,
    "start_time": "2024-05-03T10:41:39.296Z"
   },
   {
    "duration": 7,
    "start_time": "2024-05-03T10:41:39.420Z"
   },
   {
    "duration": 3910,
    "start_time": "2024-05-03T10:41:39.429Z"
   },
   {
    "duration": 5,
    "start_time": "2024-05-03T10:41:43.340Z"
   },
   {
    "duration": 9,
    "start_time": "2024-05-03T10:57:56.208Z"
   },
   {
    "duration": 4,
    "start_time": "2024-05-03T11:08:11.984Z"
   },
   {
    "duration": 3414,
    "start_time": "2024-05-03T11:08:11.990Z"
   },
   {
    "duration": 5642,
    "start_time": "2024-05-03T11:08:15.407Z"
   },
   {
    "duration": 268,
    "start_time": "2024-05-03T11:08:21.051Z"
   },
   {
    "duration": 248,
    "start_time": "2024-05-03T11:08:21.321Z"
   },
   {
    "duration": 245,
    "start_time": "2024-05-03T11:08:21.570Z"
   },
   {
    "duration": 125,
    "start_time": "2024-05-03T11:08:21.817Z"
   },
   {
    "duration": 165,
    "start_time": "2024-05-03T11:08:21.943Z"
   },
   {
    "duration": 49,
    "start_time": "2024-05-03T11:08:22.109Z"
   },
   {
    "duration": 35,
    "start_time": "2024-05-03T11:08:22.160Z"
   },
   {
    "duration": 55,
    "start_time": "2024-05-03T11:08:22.199Z"
   },
   {
    "duration": 5,
    "start_time": "2024-05-03T11:08:22.256Z"
   },
   {
    "duration": 943,
    "start_time": "2024-05-03T11:08:22.263Z"
   },
   {
    "duration": 857,
    "start_time": "2024-05-03T11:08:23.208Z"
   },
   {
    "duration": 1009,
    "start_time": "2024-05-03T11:08:24.066Z"
   },
   {
    "duration": 5,
    "start_time": "2024-05-03T11:08:25.077Z"
   },
   {
    "duration": 534,
    "start_time": "2024-05-03T11:08:25.083Z"
   },
   {
    "duration": 945,
    "start_time": "2024-05-03T11:08:25.618Z"
   },
   {
    "duration": 964,
    "start_time": "2024-05-03T11:08:26.565Z"
   },
   {
    "duration": 871,
    "start_time": "2024-05-03T11:08:27.531Z"
   },
   {
    "duration": 467,
    "start_time": "2024-05-03T11:08:28.403Z"
   },
   {
    "duration": 491,
    "start_time": "2024-05-03T11:08:28.872Z"
   },
   {
    "duration": 256,
    "start_time": "2024-05-03T11:08:29.365Z"
   },
   {
    "duration": 358,
    "start_time": "2024-05-03T11:08:29.623Z"
   },
   {
    "duration": 498,
    "start_time": "2024-05-03T11:08:29.982Z"
   },
   {
    "duration": 322,
    "start_time": "2024-05-03T11:08:30.482Z"
   },
   {
    "duration": 426,
    "start_time": "2024-05-03T11:08:30.805Z"
   },
   {
    "duration": 378,
    "start_time": "2024-05-03T11:08:31.233Z"
   },
   {
    "duration": 681,
    "start_time": "2024-05-03T11:08:31.615Z"
   },
   {
    "duration": 3,
    "start_time": "2024-05-03T11:08:32.298Z"
   },
   {
    "duration": 741,
    "start_time": "2024-05-03T11:08:32.302Z"
   },
   {
    "duration": 639,
    "start_time": "2024-05-03T11:08:33.045Z"
   },
   {
    "duration": 667,
    "start_time": "2024-05-03T11:08:33.686Z"
   },
   {
    "duration": 13976,
    "start_time": "2024-05-03T11:08:34.355Z"
   },
   {
    "duration": 4,
    "start_time": "2024-05-03T11:08:48.334Z"
   },
   {
    "duration": 171,
    "start_time": "2024-05-03T11:08:48.340Z"
   },
   {
    "duration": 3,
    "start_time": "2024-05-03T11:08:48.513Z"
   },
   {
    "duration": 5043,
    "start_time": "2024-05-03T11:08:48.518Z"
   },
   {
    "duration": 7,
    "start_time": "2024-05-03T11:08:53.563Z"
   },
   {
    "duration": 3,
    "start_time": "2024-05-03T11:08:54.161Z"
   },
   {
    "duration": 4298,
    "start_time": "2024-05-03T11:08:55.755Z"
   },
   {
    "duration": 3,
    "start_time": "2024-05-03T11:09:00.287Z"
   },
   {
    "duration": 9,
    "start_time": "2024-05-04T05:38:11.894Z"
   },
   {
    "duration": 3732,
    "start_time": "2024-05-04T05:38:11.905Z"
   },
   {
    "duration": 1691,
    "start_time": "2024-05-04T05:38:15.639Z"
   },
   {
    "duration": 651,
    "start_time": "2024-05-04T05:38:17.333Z"
   },
   {
    "duration": 584,
    "start_time": "2024-05-04T05:38:17.987Z"
   },
   {
    "duration": 593,
    "start_time": "2024-05-04T05:38:18.572Z"
   },
   {
    "duration": 127,
    "start_time": "2024-05-04T05:38:19.167Z"
   },
   {
    "duration": 153,
    "start_time": "2024-05-04T05:38:19.296Z"
   },
   {
    "duration": 52,
    "start_time": "2024-05-04T05:38:19.452Z"
   },
   {
    "duration": 36,
    "start_time": "2024-05-04T05:38:19.505Z"
   },
   {
    "duration": 53,
    "start_time": "2024-05-04T05:38:19.543Z"
   },
   {
    "duration": 5,
    "start_time": "2024-05-04T05:38:19.598Z"
   },
   {
    "duration": 978,
    "start_time": "2024-05-04T05:38:19.605Z"
   },
   {
    "duration": 881,
    "start_time": "2024-05-04T05:38:20.585Z"
   },
   {
    "duration": 1013,
    "start_time": "2024-05-04T05:38:21.468Z"
   },
   {
    "duration": 5,
    "start_time": "2024-05-04T05:38:22.483Z"
   },
   {
    "duration": 478,
    "start_time": "2024-05-04T05:38:22.490Z"
   },
   {
    "duration": 938,
    "start_time": "2024-05-04T05:38:22.973Z"
   },
   {
    "duration": 952,
    "start_time": "2024-05-04T05:38:23.913Z"
   },
   {
    "duration": 862,
    "start_time": "2024-05-04T05:38:24.866Z"
   },
   {
    "duration": 478,
    "start_time": "2024-05-04T05:38:25.730Z"
   },
   {
    "duration": 477,
    "start_time": "2024-05-04T05:38:26.210Z"
   },
   {
    "duration": 256,
    "start_time": "2024-05-04T05:38:26.689Z"
   },
   {
    "duration": 361,
    "start_time": "2024-05-04T05:38:26.948Z"
   },
   {
    "duration": 474,
    "start_time": "2024-05-04T05:38:27.311Z"
   },
   {
    "duration": 303,
    "start_time": "2024-05-04T05:38:27.787Z"
   },
   {
    "duration": 419,
    "start_time": "2024-05-04T05:38:28.091Z"
   },
   {
    "duration": 362,
    "start_time": "2024-05-04T05:38:28.511Z"
   },
   {
    "duration": 671,
    "start_time": "2024-05-04T05:38:28.875Z"
   },
   {
    "duration": 3,
    "start_time": "2024-05-04T05:38:29.548Z"
   },
   {
    "duration": 726,
    "start_time": "2024-05-04T05:38:29.553Z"
   },
   {
    "duration": 643,
    "start_time": "2024-05-04T05:38:30.281Z"
   },
   {
    "duration": 682,
    "start_time": "2024-05-04T05:38:30.926Z"
   },
   {
    "duration": 13569,
    "start_time": "2024-05-04T05:38:31.610Z"
   },
   {
    "duration": 93,
    "start_time": "2024-05-04T05:38:45.181Z"
   },
   {
    "duration": 79,
    "start_time": "2024-05-04T05:38:45.373Z"
   },
   {
    "duration": 4,
    "start_time": "2024-05-04T05:38:45.453Z"
   },
   {
    "duration": 4214,
    "start_time": "2024-05-04T05:38:45.459Z"
   },
   {
    "duration": 5,
    "start_time": "2024-05-04T05:38:49.674Z"
   },
   {
    "duration": 4,
    "start_time": "2024-05-04T05:51:49.161Z"
   },
   {
    "duration": 5418,
    "start_time": "2024-05-04T05:51:52.614Z"
   },
   {
    "duration": 4,
    "start_time": "2024-05-04T05:52:51.265Z"
   },
   {
    "duration": 5744,
    "start_time": "2024-05-04T05:52:56.546Z"
   },
   {
    "duration": 4,
    "start_time": "2024-05-04T05:55:12.226Z"
   },
   {
    "duration": 5290,
    "start_time": "2024-05-04T05:55:15.419Z"
   },
   {
    "duration": 4,
    "start_time": "2024-05-04T06:01:14.993Z"
   },
   {
    "duration": 4,
    "start_time": "2024-05-04T06:01:40.077Z"
   },
   {
    "duration": 130,
    "start_time": "2024-05-04T06:01:49.634Z"
   },
   {
    "duration": 3,
    "start_time": "2024-05-04T06:02:10.021Z"
   },
   {
    "duration": 4097,
    "start_time": "2024-05-04T06:02:11.806Z"
   },
   {
    "duration": 5,
    "start_time": "2024-05-04T06:03:32.046Z"
   },
   {
    "duration": 8039,
    "start_time": "2024-05-04T06:03:34.018Z"
   },
   {
    "duration": 3,
    "start_time": "2024-05-04T06:04:37.578Z"
   },
   {
    "duration": 13620,
    "start_time": "2024-05-04T06:04:41.553Z"
   },
   {
    "duration": 3,
    "start_time": "2024-05-04T06:05:19.921Z"
   },
   {
    "duration": 20,
    "start_time": "2024-05-04T06:05:22.537Z"
   },
   {
    "duration": 69,
    "start_time": "2024-05-04T06:05:47.035Z"
   },
   {
    "duration": 4,
    "start_time": "2024-05-04T06:06:02.843Z"
   },
   {
    "duration": 5606,
    "start_time": "2024-05-04T06:06:04.818Z"
   },
   {
    "duration": 4,
    "start_time": "2024-05-04T06:08:07.888Z"
   },
   {
    "duration": 19,
    "start_time": "2024-05-04T06:08:09.883Z"
   },
   {
    "duration": 4,
    "start_time": "2024-05-04T06:08:46.957Z"
   },
   {
    "duration": 18,
    "start_time": "2024-05-04T06:08:49.037Z"
   },
   {
    "duration": 4,
    "start_time": "2024-05-04T06:09:10.871Z"
   },
   {
    "duration": 5685,
    "start_time": "2024-05-04T06:09:13.337Z"
   },
   {
    "duration": 4,
    "start_time": "2024-05-04T06:09:34.971Z"
   },
   {
    "duration": 20,
    "start_time": "2024-05-04T06:09:36.601Z"
   },
   {
    "duration": 3,
    "start_time": "2024-05-04T06:09:52.089Z"
   },
   {
    "duration": 20,
    "start_time": "2024-05-04T06:09:53.750Z"
   },
   {
    "duration": 3,
    "start_time": "2024-05-04T06:10:01.262Z"
   },
   {
    "duration": 5617,
    "start_time": "2024-05-04T06:10:06.633Z"
   },
   {
    "duration": 4,
    "start_time": "2024-05-04T06:10:41.225Z"
   },
   {
    "duration": 21,
    "start_time": "2024-05-04T06:10:43.407Z"
   },
   {
    "duration": 4,
    "start_time": "2024-05-04T06:11:04.362Z"
   },
   {
    "duration": 25,
    "start_time": "2024-05-04T06:11:07.027Z"
   },
   {
    "duration": 3,
    "start_time": "2024-05-04T06:11:17.392Z"
   },
   {
    "duration": 19,
    "start_time": "2024-05-04T06:11:19.791Z"
   },
   {
    "duration": 74,
    "start_time": "2024-05-04T06:13:48.504Z"
   },
   {
    "duration": 3,
    "start_time": "2024-05-04T06:13:57.598Z"
   },
   {
    "duration": 18,
    "start_time": "2024-05-04T06:13:59.538Z"
   },
   {
    "duration": 4,
    "start_time": "2024-05-04T06:14:27.840Z"
   },
   {
    "duration": 6030,
    "start_time": "2024-05-04T06:14:29.485Z"
   },
   {
    "duration": 3,
    "start_time": "2024-05-04T06:18:19.214Z"
   },
   {
    "duration": 5645,
    "start_time": "2024-05-04T06:18:22.444Z"
   },
   {
    "duration": 4,
    "start_time": "2024-05-04T06:18:35.373Z"
   },
   {
    "duration": 6062,
    "start_time": "2024-05-04T06:18:37.045Z"
   },
   {
    "duration": 5,
    "start_time": "2024-05-04T06:19:01.258Z"
   },
   {
    "duration": 6030,
    "start_time": "2024-05-04T06:19:04.587Z"
   },
   {
    "duration": 4,
    "start_time": "2024-05-04T06:19:42.337Z"
   },
   {
    "duration": 6021,
    "start_time": "2024-05-04T06:19:44.320Z"
   },
   {
    "duration": 4,
    "start_time": "2024-05-04T06:20:57.592Z"
   },
   {
    "duration": 19,
    "start_time": "2024-05-04T06:20:59.843Z"
   },
   {
    "duration": 6,
    "start_time": "2024-05-04T06:23:17.911Z"
   },
   {
    "duration": 4,
    "start_time": "2024-05-04T06:23:43.748Z"
   },
   {
    "duration": 4,
    "start_time": "2024-05-04T06:24:01.081Z"
   },
   {
    "duration": 4,
    "start_time": "2024-05-04T06:24:18.721Z"
   },
   {
    "duration": 5,
    "start_time": "2024-05-04T06:24:25.355Z"
   },
   {
    "duration": 5,
    "start_time": "2024-05-04T06:25:48.817Z"
   },
   {
    "duration": 9,
    "start_time": "2024-05-04T06:26:24.297Z"
   },
   {
    "duration": 5,
    "start_time": "2024-05-04T06:26:37.115Z"
   },
   {
    "duration": 9,
    "start_time": "2024-05-04T06:27:10.030Z"
   },
   {
    "duration": 4,
    "start_time": "2024-05-04T06:27:20.346Z"
   },
   {
    "duration": 3,
    "start_time": "2024-05-04T06:28:32.493Z"
   },
   {
    "duration": 5,
    "start_time": "2024-05-04T06:28:52.603Z"
   },
   {
    "duration": 4,
    "start_time": "2024-05-04T06:28:59.146Z"
   },
   {
    "duration": 4,
    "start_time": "2024-05-04T06:29:03.019Z"
   },
   {
    "duration": 4166,
    "start_time": "2024-05-04T06:29:05.986Z"
   },
   {
    "duration": 4,
    "start_time": "2024-05-04T06:29:13.839Z"
   },
   {
    "duration": 5,
    "start_time": "2024-05-04T06:30:27.152Z"
   },
   {
    "duration": 6,
    "start_time": "2024-05-04T06:30:43.319Z"
   },
   {
    "duration": 4142,
    "start_time": "2024-05-04T06:31:00.681Z"
   },
   {
    "duration": 6,
    "start_time": "2024-05-04T06:31:39.642Z"
   },
   {
    "duration": 6,
    "start_time": "2024-05-04T06:32:05.062Z"
   },
   {
    "duration": 4144,
    "start_time": "2024-05-04T06:32:11.490Z"
   },
   {
    "duration": 6,
    "start_time": "2024-05-04T06:32:21.438Z"
   },
   {
    "duration": 5,
    "start_time": "2024-05-04T06:32:55.328Z"
   },
   {
    "duration": 5,
    "start_time": "2024-05-04T06:33:17.805Z"
   },
   {
    "duration": 4474,
    "start_time": "2024-05-04T06:33:20.477Z"
   },
   {
    "duration": 4,
    "start_time": "2024-05-04T06:34:01.143Z"
   },
   {
    "duration": 4,
    "start_time": "2024-05-04T06:34:27.049Z"
   },
   {
    "duration": 5910,
    "start_time": "2024-05-04T06:34:32.138Z"
   },
   {
    "duration": 3,
    "start_time": "2024-05-04T06:35:50.757Z"
   },
   {
    "duration": 5844,
    "start_time": "2024-05-04T06:35:53.354Z"
   },
   {
    "duration": 4,
    "start_time": "2024-05-04T06:36:00.434Z"
   },
   {
    "duration": 3,
    "start_time": "2024-05-04T06:37:10.684Z"
   },
   {
    "duration": 4,
    "start_time": "2024-05-04T06:37:26.624Z"
   },
   {
    "duration": 5815,
    "start_time": "2024-05-04T06:37:30.532Z"
   },
   {
    "duration": 4,
    "start_time": "2024-05-04T06:40:39.318Z"
   },
   {
    "duration": 4512,
    "start_time": "2024-05-04T06:40:42.556Z"
   },
   {
    "duration": 5589,
    "start_time": "2024-05-04T06:49:44.166Z"
   },
   {
    "duration": 11,
    "start_time": "2024-05-04T06:50:18.106Z"
   },
   {
    "duration": 2760,
    "start_time": "2024-05-04T06:50:18.119Z"
   },
   {
    "duration": 1520,
    "start_time": "2024-05-04T06:50:20.882Z"
   },
   {
    "duration": 200,
    "start_time": "2024-05-04T06:50:22.404Z"
   },
   {
    "duration": 183,
    "start_time": "2024-05-04T06:50:22.606Z"
   },
   {
    "duration": 176,
    "start_time": "2024-05-04T06:50:22.791Z"
   },
   {
    "duration": 135,
    "start_time": "2024-05-04T06:50:22.968Z"
   },
   {
    "duration": 159,
    "start_time": "2024-05-04T06:50:23.105Z"
   },
   {
    "duration": 45,
    "start_time": "2024-05-04T06:50:23.267Z"
   },
   {
    "duration": 35,
    "start_time": "2024-05-04T06:50:23.314Z"
   },
   {
    "duration": 63,
    "start_time": "2024-05-04T06:50:23.350Z"
   },
   {
    "duration": 5,
    "start_time": "2024-05-04T06:50:23.414Z"
   },
   {
    "duration": 1026,
    "start_time": "2024-05-04T06:50:23.420Z"
   },
   {
    "duration": 842,
    "start_time": "2024-05-04T06:50:24.448Z"
   },
   {
    "duration": 1004,
    "start_time": "2024-05-04T06:50:25.292Z"
   },
   {
    "duration": 5,
    "start_time": "2024-05-04T06:50:26.298Z"
   },
   {
    "duration": 470,
    "start_time": "2024-05-04T06:50:26.305Z"
   },
   {
    "duration": 965,
    "start_time": "2024-05-04T06:50:26.777Z"
   },
   {
    "duration": 962,
    "start_time": "2024-05-04T06:50:27.744Z"
   },
   {
    "duration": 835,
    "start_time": "2024-05-04T06:50:28.708Z"
   },
   {
    "duration": 482,
    "start_time": "2024-05-04T06:50:29.545Z"
   },
   {
    "duration": 504,
    "start_time": "2024-05-04T06:50:30.029Z"
   },
   {
    "duration": 242,
    "start_time": "2024-05-04T06:50:30.534Z"
   },
   {
    "duration": 359,
    "start_time": "2024-05-04T06:50:30.780Z"
   },
   {
    "duration": 497,
    "start_time": "2024-05-04T06:50:31.141Z"
   },
   {
    "duration": 296,
    "start_time": "2024-05-04T06:50:31.640Z"
   },
   {
    "duration": 406,
    "start_time": "2024-05-04T06:50:31.939Z"
   },
   {
    "duration": 363,
    "start_time": "2024-05-04T06:50:32.347Z"
   },
   {
    "duration": 714,
    "start_time": "2024-05-04T06:50:32.712Z"
   },
   {
    "duration": 3,
    "start_time": "2024-05-04T06:50:33.428Z"
   },
   {
    "duration": 689,
    "start_time": "2024-05-04T06:50:33.433Z"
   },
   {
    "duration": 686,
    "start_time": "2024-05-04T06:50:34.124Z"
   },
   {
    "duration": 640,
    "start_time": "2024-05-04T06:50:34.812Z"
   },
   {
    "duration": 13430,
    "start_time": "2024-05-04T06:50:35.454Z"
   },
   {
    "duration": 94,
    "start_time": "2024-05-04T06:50:48.886Z"
   },
   {
    "duration": 154,
    "start_time": "2024-05-04T06:50:48.982Z"
   },
   {
    "duration": 3,
    "start_time": "2024-05-04T06:50:49.138Z"
   },
   {
    "duration": 5088,
    "start_time": "2024-05-04T06:50:49.143Z"
   },
   {
    "duration": 6,
    "start_time": "2024-05-04T06:50:54.233Z"
   },
   {
    "duration": 4,
    "start_time": "2024-05-04T06:51:50.350Z"
   },
   {
    "duration": 6316,
    "start_time": "2024-05-04T06:51:54.558Z"
   },
   {
    "duration": 5738,
    "start_time": "2024-05-04T06:52:47.493Z"
   },
   {
    "duration": 4,
    "start_time": "2024-05-04T07:13:09.129Z"
   },
   {
    "duration": 4558,
    "start_time": "2024-05-04T07:13:11.383Z"
   },
   {
    "duration": 66,
    "start_time": "2024-05-04T07:19:49.220Z"
   },
   {
    "duration": 121,
    "start_time": "2024-05-04T07:20:03.546Z"
   },
   {
    "duration": 14,
    "start_time": "2024-05-04T07:20:10.078Z"
   },
   {
    "duration": 5,
    "start_time": "2024-05-04T07:20:32.312Z"
   },
   {
    "duration": 17,
    "start_time": "2024-05-04T07:20:43.106Z"
   },
   {
    "duration": 8,
    "start_time": "2024-05-04T07:21:05.771Z"
   },
   {
    "duration": 2016,
    "start_time": "2024-05-04T07:21:22.875Z"
   },
   {
    "duration": 8,
    "start_time": "2024-05-04T07:21:29.330Z"
   },
   {
    "duration": 10,
    "start_time": "2024-05-04T07:21:55.099Z"
   },
   {
    "duration": 10,
    "start_time": "2024-05-04T07:23:12.275Z"
   },
   {
    "duration": 12,
    "start_time": "2024-05-04T07:23:20.507Z"
   },
   {
    "duration": 10,
    "start_time": "2024-05-04T07:23:48.518Z"
   },
   {
    "duration": 6,
    "start_time": "2024-05-04T07:24:17.461Z"
   },
   {
    "duration": 16,
    "start_time": "2024-05-04T07:24:34.178Z"
   },
   {
    "duration": 27,
    "start_time": "2024-05-04T07:25:26.576Z"
   },
   {
    "duration": 9,
    "start_time": "2024-05-04T07:25:48.645Z"
   },
   {
    "duration": 8,
    "start_time": "2024-05-04T07:25:54.241Z"
   },
   {
    "duration": 10,
    "start_time": "2024-05-04T07:27:01.186Z"
   },
   {
    "duration": 11,
    "start_time": "2024-05-04T07:27:11.449Z"
   },
   {
    "duration": 9,
    "start_time": "2024-05-04T07:27:28.129Z"
   },
   {
    "duration": 8,
    "start_time": "2024-05-04T07:27:51.348Z"
   },
   {
    "duration": 9,
    "start_time": "2024-05-04T07:27:58.886Z"
   },
   {
    "duration": 12,
    "start_time": "2024-05-04T07:28:03.802Z"
   },
   {
    "duration": 29,
    "start_time": "2024-05-04T07:28:23.310Z"
   },
   {
    "duration": 40,
    "start_time": "2024-05-04T07:28:42.859Z"
   },
   {
    "duration": 292,
    "start_time": "2024-05-04T07:29:44.358Z"
   },
   {
    "duration": 272,
    "start_time": "2024-05-04T07:29:55.570Z"
   },
   {
    "duration": 1680,
    "start_time": "2024-05-04T07:30:12.205Z"
   },
   {
    "duration": 104,
    "start_time": "2024-05-04T07:30:32.149Z"
   },
   {
    "duration": 65,
    "start_time": "2024-05-04T07:30:43.039Z"
   },
   {
    "duration": 50,
    "start_time": "2024-05-04T07:30:45.266Z"
   },
   {
    "duration": 51,
    "start_time": "2024-05-04T07:30:46.224Z"
   },
   {
    "duration": 58,
    "start_time": "2024-05-04T07:30:47.006Z"
   },
   {
    "duration": 53,
    "start_time": "2024-05-04T07:30:47.785Z"
   },
   {
    "duration": 65,
    "start_time": "2024-05-04T07:30:48.586Z"
   },
   {
    "duration": 51,
    "start_time": "2024-05-04T07:30:49.359Z"
   },
   {
    "duration": 305,
    "start_time": "2024-05-04T07:30:57.574Z"
   },
   {
    "duration": 65,
    "start_time": "2024-05-04T07:31:02.296Z"
   },
   {
    "duration": 17,
    "start_time": "2024-05-04T07:32:03.958Z"
   },
   {
    "duration": 16,
    "start_time": "2024-05-04T07:32:05.654Z"
   },
   {
    "duration": 9,
    "start_time": "2024-05-04T07:34:28.180Z"
   },
   {
    "duration": 2584,
    "start_time": "2024-05-04T07:34:28.190Z"
   },
   {
    "duration": 1535,
    "start_time": "2024-05-04T07:34:30.777Z"
   },
   {
    "duration": 186,
    "start_time": "2024-05-04T07:34:32.314Z"
   },
   {
    "duration": 170,
    "start_time": "2024-05-04T07:34:32.502Z"
   },
   {
    "duration": 166,
    "start_time": "2024-05-04T07:34:32.674Z"
   },
   {
    "duration": 128,
    "start_time": "2024-05-04T07:34:32.841Z"
   },
   {
    "duration": 154,
    "start_time": "2024-05-04T07:34:32.970Z"
   },
   {
    "duration": 48,
    "start_time": "2024-05-04T07:34:33.126Z"
   },
   {
    "duration": 36,
    "start_time": "2024-05-04T07:34:33.176Z"
   },
   {
    "duration": 36,
    "start_time": "2024-05-04T07:34:33.214Z"
   },
   {
    "duration": 21,
    "start_time": "2024-05-04T07:34:33.252Z"
   },
   {
    "duration": 971,
    "start_time": "2024-05-04T07:34:33.275Z"
   },
   {
    "duration": 849,
    "start_time": "2024-05-04T07:34:34.248Z"
   },
   {
    "duration": 998,
    "start_time": "2024-05-04T07:34:35.099Z"
   },
   {
    "duration": 5,
    "start_time": "2024-05-04T07:34:36.098Z"
   },
   {
    "duration": 488,
    "start_time": "2024-05-04T07:34:36.105Z"
   },
   {
    "duration": 942,
    "start_time": "2024-05-04T07:34:36.594Z"
   },
   {
    "duration": 949,
    "start_time": "2024-05-04T07:34:37.538Z"
   },
   {
    "duration": 855,
    "start_time": "2024-05-04T07:34:38.489Z"
   },
   {
    "duration": 481,
    "start_time": "2024-05-04T07:34:39.346Z"
   },
   {
    "duration": 521,
    "start_time": "2024-05-04T07:34:39.829Z"
   },
   {
    "duration": 246,
    "start_time": "2024-05-04T07:34:40.352Z"
   },
   {
    "duration": 341,
    "start_time": "2024-05-04T07:34:40.601Z"
   },
   {
    "duration": 498,
    "start_time": "2024-05-04T07:34:40.943Z"
   },
   {
    "duration": 310,
    "start_time": "2024-05-04T07:34:41.442Z"
   },
   {
    "duration": 402,
    "start_time": "2024-05-04T07:34:41.753Z"
   },
   {
    "duration": 355,
    "start_time": "2024-05-04T07:34:42.157Z"
   },
   {
    "duration": 691,
    "start_time": "2024-05-04T07:34:42.514Z"
   },
   {
    "duration": 3,
    "start_time": "2024-05-04T07:34:43.207Z"
   },
   {
    "duration": 705,
    "start_time": "2024-05-04T07:34:43.212Z"
   },
   {
    "duration": 698,
    "start_time": "2024-05-04T07:34:43.918Z"
   },
   {
    "duration": 638,
    "start_time": "2024-05-04T07:34:44.617Z"
   },
   {
    "duration": 13624,
    "start_time": "2024-05-04T07:34:45.257Z"
   },
   {
    "duration": 90,
    "start_time": "2024-05-04T07:34:58.883Z"
   },
   {
    "duration": 166,
    "start_time": "2024-05-04T07:34:58.976Z"
   },
   {
    "duration": 4,
    "start_time": "2024-05-04T07:34:59.143Z"
   },
   {
    "duration": 4520,
    "start_time": "2024-05-04T07:34:59.148Z"
   },
   {
    "duration": 5,
    "start_time": "2024-05-04T07:35:03.673Z"
   },
   {
    "duration": 4,
    "start_time": "2024-05-04T07:52:38.777Z"
   },
   {
    "duration": 59,
    "start_time": "2024-05-04T07:53:00.196Z"
   },
   {
    "duration": 65,
    "start_time": "2024-05-04T07:53:36.140Z"
   },
   {
    "duration": 9,
    "start_time": "2024-05-04T07:53:43.069Z"
   },
   {
    "duration": 2802,
    "start_time": "2024-05-04T07:53:43.080Z"
   },
   {
    "duration": 1558,
    "start_time": "2024-05-04T07:53:45.884Z"
   },
   {
    "duration": 202,
    "start_time": "2024-05-04T07:53:47.444Z"
   },
   {
    "duration": 167,
    "start_time": "2024-05-04T07:53:47.648Z"
   },
   {
    "duration": 167,
    "start_time": "2024-05-04T07:53:47.817Z"
   },
   {
    "duration": 138,
    "start_time": "2024-05-04T07:53:47.985Z"
   },
   {
    "duration": 176,
    "start_time": "2024-05-04T07:53:48.125Z"
   },
   {
    "duration": 37,
    "start_time": "2024-05-04T07:53:48.304Z"
   },
   {
    "duration": 47,
    "start_time": "2024-05-04T07:53:48.343Z"
   },
   {
    "duration": 34,
    "start_time": "2024-05-04T07:53:48.391Z"
   },
   {
    "duration": 4,
    "start_time": "2024-05-04T07:53:48.427Z"
   },
   {
    "duration": 967,
    "start_time": "2024-05-04T07:53:48.433Z"
   },
   {
    "duration": 859,
    "start_time": "2024-05-04T07:53:49.401Z"
   },
   {
    "duration": 989,
    "start_time": "2024-05-04T07:53:50.261Z"
   },
   {
    "duration": 5,
    "start_time": "2024-05-04T07:53:51.252Z"
   },
   {
    "duration": 483,
    "start_time": "2024-05-04T07:53:51.258Z"
   },
   {
    "duration": 961,
    "start_time": "2024-05-04T07:53:51.743Z"
   },
   {
    "duration": 975,
    "start_time": "2024-05-04T07:53:52.706Z"
   },
   {
    "duration": 867,
    "start_time": "2024-05-04T07:53:53.683Z"
   },
   {
    "duration": 502,
    "start_time": "2024-05-04T07:53:54.551Z"
   },
   {
    "duration": 495,
    "start_time": "2024-05-04T07:53:55.055Z"
   },
   {
    "duration": 240,
    "start_time": "2024-05-04T07:53:55.552Z"
   },
   {
    "duration": 348,
    "start_time": "2024-05-04T07:53:55.795Z"
   },
   {
    "duration": 517,
    "start_time": "2024-05-04T07:53:56.145Z"
   },
   {
    "duration": 293,
    "start_time": "2024-05-04T07:53:56.664Z"
   },
   {
    "duration": 428,
    "start_time": "2024-05-04T07:53:56.958Z"
   },
   {
    "duration": 368,
    "start_time": "2024-05-04T07:53:57.387Z"
   },
   {
    "duration": 700,
    "start_time": "2024-05-04T07:53:57.757Z"
   },
   {
    "duration": 3,
    "start_time": "2024-05-04T07:53:58.458Z"
   },
   {
    "duration": 650,
    "start_time": "2024-05-04T07:53:58.473Z"
   },
   {
    "duration": 657,
    "start_time": "2024-05-04T07:53:59.125Z"
   },
   {
    "duration": 650,
    "start_time": "2024-05-04T07:53:59.784Z"
   },
   {
    "duration": 13539,
    "start_time": "2024-05-04T07:54:00.436Z"
   },
   {
    "duration": 4,
    "start_time": "2024-05-04T07:54:13.977Z"
   },
   {
    "duration": 69,
    "start_time": "2024-05-04T07:54:14.072Z"
   },
   {
    "duration": 4,
    "start_time": "2024-05-04T07:54:14.143Z"
   },
   {
    "duration": 128,
    "start_time": "2024-05-04T07:54:14.149Z"
   },
   {
    "duration": 0,
    "start_time": "2024-05-04T07:54:14.278Z"
   },
   {
    "duration": 16,
    "start_time": "2024-05-04T07:55:01.015Z"
   },
   {
    "duration": 20,
    "start_time": "2024-05-04T07:56:07.650Z"
   },
   {
    "duration": 3,
    "start_time": "2024-05-04T07:57:17.674Z"
   },
   {
    "duration": 1350,
    "start_time": "2024-05-04T07:57:21.426Z"
   },
   {
    "duration": 4525,
    "start_time": "2024-05-04T07:58:04.507Z"
   },
   {
    "duration": 12,
    "start_time": "2024-05-04T07:58:57.866Z"
   },
   {
    "duration": 2581,
    "start_time": "2024-05-04T07:58:57.880Z"
   },
   {
    "duration": 1498,
    "start_time": "2024-05-04T07:59:00.463Z"
   },
   {
    "duration": 195,
    "start_time": "2024-05-04T07:59:01.964Z"
   },
   {
    "duration": 170,
    "start_time": "2024-05-04T07:59:02.160Z"
   },
   {
    "duration": 166,
    "start_time": "2024-05-04T07:59:02.332Z"
   },
   {
    "duration": 125,
    "start_time": "2024-05-04T07:59:02.499Z"
   },
   {
    "duration": 171,
    "start_time": "2024-05-04T07:59:02.626Z"
   },
   {
    "duration": 38,
    "start_time": "2024-05-04T07:59:02.800Z"
   },
   {
    "duration": 53,
    "start_time": "2024-05-04T07:59:02.839Z"
   },
   {
    "duration": 37,
    "start_time": "2024-05-04T07:59:02.893Z"
   },
   {
    "duration": 5,
    "start_time": "2024-05-04T07:59:02.931Z"
   },
   {
    "duration": 960,
    "start_time": "2024-05-04T07:59:02.937Z"
   },
   {
    "duration": 863,
    "start_time": "2024-05-04T07:59:03.898Z"
   },
   {
    "duration": 984,
    "start_time": "2024-05-04T07:59:04.763Z"
   },
   {
    "duration": 6,
    "start_time": "2024-05-04T07:59:05.748Z"
   },
   {
    "duration": 488,
    "start_time": "2024-05-04T07:59:05.755Z"
   },
   {
    "duration": 951,
    "start_time": "2024-05-04T07:59:06.245Z"
   },
   {
    "duration": 952,
    "start_time": "2024-05-04T07:59:07.197Z"
   },
   {
    "duration": 855,
    "start_time": "2024-05-04T07:59:08.151Z"
   },
   {
    "duration": 478,
    "start_time": "2024-05-04T07:59:09.007Z"
   },
   {
    "duration": 498,
    "start_time": "2024-05-04T07:59:09.486Z"
   },
   {
    "duration": 284,
    "start_time": "2024-05-04T07:59:09.985Z"
   },
   {
    "duration": 394,
    "start_time": "2024-05-04T07:59:10.273Z"
   },
   {
    "duration": 520,
    "start_time": "2024-05-04T07:59:10.673Z"
   },
   {
    "duration": 302,
    "start_time": "2024-05-04T07:59:11.195Z"
   },
   {
    "duration": 399,
    "start_time": "2024-05-04T07:59:11.498Z"
   },
   {
    "duration": 386,
    "start_time": "2024-05-04T07:59:11.899Z"
   },
   {
    "duration": 712,
    "start_time": "2024-05-04T07:59:12.286Z"
   },
   {
    "duration": 3,
    "start_time": "2024-05-04T07:59:13.000Z"
   },
   {
    "duration": 670,
    "start_time": "2024-05-04T07:59:13.005Z"
   },
   {
    "duration": 648,
    "start_time": "2024-05-04T07:59:13.677Z"
   },
   {
    "duration": 628,
    "start_time": "2024-05-04T07:59:14.326Z"
   },
   {
    "duration": 13525,
    "start_time": "2024-05-04T07:59:14.955Z"
   },
   {
    "duration": 91,
    "start_time": "2024-05-04T07:59:28.483Z"
   },
   {
    "duration": 150,
    "start_time": "2024-05-04T07:59:28.577Z"
   },
   {
    "duration": 3,
    "start_time": "2024-05-04T07:59:28.729Z"
   },
   {
    "duration": 4412,
    "start_time": "2024-05-04T07:59:28.734Z"
   },
   {
    "duration": 6,
    "start_time": "2024-05-04T07:59:33.147Z"
   },
   {
    "duration": 3,
    "start_time": "2024-05-04T08:09:56.215Z"
   },
   {
    "duration": 57,
    "start_time": "2024-05-04T08:09:58.631Z"
   },
   {
    "duration": 4,
    "start_time": "2024-05-04T08:10:02.175Z"
   },
   {
    "duration": 4517,
    "start_time": "2024-05-04T08:10:04.164Z"
   },
   {
    "duration": 4454,
    "start_time": "2024-05-04T08:10:21.896Z"
   },
   {
    "duration": 10,
    "start_time": "2024-05-04T09:02:44.967Z"
   },
   {
    "duration": 2644,
    "start_time": "2024-05-04T09:02:44.978Z"
   },
   {
    "duration": 1415,
    "start_time": "2024-05-04T09:02:47.624Z"
   },
   {
    "duration": 179,
    "start_time": "2024-05-04T09:02:49.041Z"
   },
   {
    "duration": 164,
    "start_time": "2024-05-04T09:02:49.221Z"
   },
   {
    "duration": 159,
    "start_time": "2024-05-04T09:02:49.386Z"
   },
   {
    "duration": 122,
    "start_time": "2024-05-04T09:02:49.546Z"
   },
   {
    "duration": 143,
    "start_time": "2024-05-04T09:02:49.673Z"
   },
   {
    "duration": 37,
    "start_time": "2024-05-04T09:02:49.819Z"
   },
   {
    "duration": 47,
    "start_time": "2024-05-04T09:02:49.858Z"
   },
   {
    "duration": 34,
    "start_time": "2024-05-04T09:02:49.907Z"
   },
   {
    "duration": 4,
    "start_time": "2024-05-04T09:02:49.943Z"
   },
   {
    "duration": 936,
    "start_time": "2024-05-04T09:02:49.949Z"
   },
   {
    "duration": 851,
    "start_time": "2024-05-04T09:02:50.886Z"
   },
   {
    "duration": 962,
    "start_time": "2024-05-04T09:02:51.738Z"
   },
   {
    "duration": 5,
    "start_time": "2024-05-04T09:02:52.702Z"
   },
   {
    "duration": 498,
    "start_time": "2024-05-04T09:02:52.708Z"
   },
   {
    "duration": 955,
    "start_time": "2024-05-04T09:02:53.208Z"
   },
   {
    "duration": 920,
    "start_time": "2024-05-04T09:02:54.165Z"
   },
   {
    "duration": 834,
    "start_time": "2024-05-04T09:02:55.087Z"
   },
   {
    "duration": 493,
    "start_time": "2024-05-04T09:02:55.923Z"
   },
   {
    "duration": 498,
    "start_time": "2024-05-04T09:02:56.418Z"
   },
   {
    "duration": 259,
    "start_time": "2024-05-04T09:02:56.917Z"
   },
   {
    "duration": 343,
    "start_time": "2024-05-04T09:02:57.179Z"
   },
   {
    "duration": 476,
    "start_time": "2024-05-04T09:02:57.524Z"
   },
   {
    "duration": 300,
    "start_time": "2024-05-04T09:02:58.001Z"
   },
   {
    "duration": 411,
    "start_time": "2024-05-04T09:02:58.302Z"
   },
   {
    "duration": 361,
    "start_time": "2024-05-04T09:02:58.715Z"
   },
   {
    "duration": 653,
    "start_time": "2024-05-04T09:02:59.078Z"
   },
   {
    "duration": 3,
    "start_time": "2024-05-04T09:02:59.733Z"
   },
   {
    "duration": 679,
    "start_time": "2024-05-04T09:02:59.738Z"
   },
   {
    "duration": 657,
    "start_time": "2024-05-04T09:03:00.418Z"
   },
   {
    "duration": 636,
    "start_time": "2024-05-04T09:03:01.077Z"
   },
   {
    "duration": 13369,
    "start_time": "2024-05-04T09:03:01.715Z"
   },
   {
    "duration": 96,
    "start_time": "2024-05-04T09:03:15.177Z"
   },
   {
    "duration": 128,
    "start_time": "2024-05-04T09:03:15.275Z"
   },
   {
    "duration": 4,
    "start_time": "2024-05-04T09:03:15.405Z"
   },
   {
    "duration": 4555,
    "start_time": "2024-05-04T09:03:15.411Z"
   },
   {
    "duration": 6,
    "start_time": "2024-05-04T09:03:19.972Z"
   },
   {
    "duration": 8,
    "start_time": "2024-05-04T09:25:55.826Z"
   },
   {
    "duration": 2599,
    "start_time": "2024-05-04T09:25:55.836Z"
   },
   {
    "duration": 1467,
    "start_time": "2024-05-04T09:25:58.437Z"
   },
   {
    "duration": 191,
    "start_time": "2024-05-04T09:25:59.905Z"
   },
   {
    "duration": 176,
    "start_time": "2024-05-04T09:26:00.098Z"
   },
   {
    "duration": 176,
    "start_time": "2024-05-04T09:26:00.275Z"
   },
   {
    "duration": 134,
    "start_time": "2024-05-04T09:26:00.452Z"
   },
   {
    "duration": 189,
    "start_time": "2024-05-04T09:26:00.587Z"
   },
   {
    "duration": 40,
    "start_time": "2024-05-04T09:26:00.778Z"
   },
   {
    "duration": 80,
    "start_time": "2024-05-04T09:26:00.820Z"
   },
   {
    "duration": 98,
    "start_time": "2024-05-04T09:26:00.903Z"
   },
   {
    "duration": 16,
    "start_time": "2024-05-04T09:26:01.003Z"
   },
   {
    "duration": 1052,
    "start_time": "2024-05-04T09:26:01.021Z"
   },
   {
    "duration": 863,
    "start_time": "2024-05-04T09:26:02.075Z"
   },
   {
    "duration": 986,
    "start_time": "2024-05-04T09:26:02.940Z"
   },
   {
    "duration": 5,
    "start_time": "2024-05-04T09:26:03.928Z"
   },
   {
    "duration": 479,
    "start_time": "2024-05-04T09:26:03.934Z"
   },
   {
    "duration": 962,
    "start_time": "2024-05-04T09:26:04.414Z"
   },
   {
    "duration": 911,
    "start_time": "2024-05-04T09:26:05.378Z"
   },
   {
    "duration": 880,
    "start_time": "2024-05-04T09:26:06.291Z"
   },
   {
    "duration": 463,
    "start_time": "2024-05-04T09:26:07.172Z"
   },
   {
    "duration": 484,
    "start_time": "2024-05-04T09:26:07.637Z"
   },
   {
    "duration": 252,
    "start_time": "2024-05-04T09:26:08.123Z"
   },
   {
    "duration": 326,
    "start_time": "2024-05-04T09:26:08.377Z"
   },
   {
    "duration": 472,
    "start_time": "2024-05-04T09:26:08.705Z"
   },
   {
    "duration": 320,
    "start_time": "2024-05-04T09:26:09.178Z"
   },
   {
    "duration": 403,
    "start_time": "2024-05-04T09:26:09.499Z"
   },
   {
    "duration": 373,
    "start_time": "2024-05-04T09:26:09.904Z"
   },
   {
    "duration": 672,
    "start_time": "2024-05-04T09:26:10.280Z"
   },
   {
    "duration": 2,
    "start_time": "2024-05-04T09:26:10.954Z"
   },
   {
    "duration": 666,
    "start_time": "2024-05-04T09:26:10.958Z"
   },
   {
    "duration": 649,
    "start_time": "2024-05-04T09:26:11.626Z"
   },
   {
    "duration": 645,
    "start_time": "2024-05-04T09:26:12.277Z"
   },
   {
    "duration": 13258,
    "start_time": "2024-05-04T09:26:12.923Z"
   },
   {
    "duration": 4,
    "start_time": "2024-05-04T09:26:26.274Z"
   },
   {
    "duration": 158,
    "start_time": "2024-05-04T09:26:26.281Z"
   },
   {
    "duration": 4,
    "start_time": "2024-05-04T09:26:26.440Z"
   },
   {
    "duration": 4528,
    "start_time": "2024-05-04T09:26:26.445Z"
   },
   {
    "duration": 5,
    "start_time": "2024-05-04T09:26:30.975Z"
   },
   {
    "duration": 75,
    "start_time": "2024-05-04T09:30:02.884Z"
   },
   {
    "duration": 9,
    "start_time": "2024-05-04T09:32:16.282Z"
   },
   {
    "duration": 2605,
    "start_time": "2024-05-04T09:32:16.292Z"
   },
   {
    "duration": 1445,
    "start_time": "2024-05-04T09:32:18.899Z"
   },
   {
    "duration": 185,
    "start_time": "2024-05-04T09:32:20.347Z"
   },
   {
    "duration": 163,
    "start_time": "2024-05-04T09:32:20.534Z"
   },
   {
    "duration": 163,
    "start_time": "2024-05-04T09:32:20.699Z"
   },
   {
    "duration": 123,
    "start_time": "2024-05-04T09:32:20.864Z"
   },
   {
    "duration": 158,
    "start_time": "2024-05-04T09:32:20.988Z"
   },
   {
    "duration": 46,
    "start_time": "2024-05-04T09:32:21.149Z"
   },
   {
    "duration": 37,
    "start_time": "2024-05-04T09:32:21.196Z"
   },
   {
    "duration": 51,
    "start_time": "2024-05-04T09:32:21.235Z"
   },
   {
    "duration": 4,
    "start_time": "2024-05-04T09:32:21.288Z"
   },
   {
    "duration": 998,
    "start_time": "2024-05-04T09:32:21.293Z"
   },
   {
    "duration": 830,
    "start_time": "2024-05-04T09:32:22.293Z"
   },
   {
    "duration": 1007,
    "start_time": "2024-05-04T09:32:23.125Z"
   },
   {
    "duration": 5,
    "start_time": "2024-05-04T09:32:24.134Z"
   },
   {
    "duration": 478,
    "start_time": "2024-05-04T09:32:24.141Z"
   },
   {
    "duration": 937,
    "start_time": "2024-05-04T09:32:24.621Z"
   },
   {
    "duration": 941,
    "start_time": "2024-05-04T09:32:25.559Z"
   },
   {
    "duration": 837,
    "start_time": "2024-05-04T09:32:26.501Z"
   },
   {
    "duration": 447,
    "start_time": "2024-05-04T09:32:27.340Z"
   },
   {
    "duration": 490,
    "start_time": "2024-05-04T09:32:27.789Z"
   },
   {
    "duration": 230,
    "start_time": "2024-05-04T09:32:28.281Z"
   },
   {
    "duration": 337,
    "start_time": "2024-05-04T09:32:28.514Z"
   },
   {
    "duration": 480,
    "start_time": "2024-05-04T09:32:28.852Z"
   },
   {
    "duration": 283,
    "start_time": "2024-05-04T09:32:29.334Z"
   },
   {
    "duration": 373,
    "start_time": "2024-05-04T09:32:29.619Z"
   },
   {
    "duration": 385,
    "start_time": "2024-05-04T09:32:29.993Z"
   },
   {
    "duration": 640,
    "start_time": "2024-05-04T09:32:30.379Z"
   },
   {
    "duration": 2,
    "start_time": "2024-05-04T09:32:31.021Z"
   },
   {
    "duration": 730,
    "start_time": "2024-05-04T09:32:31.025Z"
   },
   {
    "duration": 664,
    "start_time": "2024-05-04T09:32:31.757Z"
   },
   {
    "duration": 623,
    "start_time": "2024-05-04T09:32:32.422Z"
   },
   {
    "duration": 13429,
    "start_time": "2024-05-04T09:32:33.046Z"
   },
   {
    "duration": 4,
    "start_time": "2024-05-04T09:32:46.478Z"
   },
   {
    "duration": 153,
    "start_time": "2024-05-04T09:32:46.572Z"
   },
   {
    "duration": 4,
    "start_time": "2024-05-04T09:32:46.726Z"
   },
   {
    "duration": 4444,
    "start_time": "2024-05-04T09:32:46.731Z"
   },
   {
    "duration": 6,
    "start_time": "2024-05-04T09:32:51.176Z"
   },
   {
    "duration": 4502,
    "start_time": "2024-05-04T09:40:24.237Z"
   },
   {
    "duration": 4972,
    "start_time": "2024-05-04T09:40:37.747Z"
   },
   {
    "duration": 4622,
    "start_time": "2024-05-04T09:41:43.091Z"
   },
   {
    "duration": 5001,
    "start_time": "2024-05-04T09:42:13.325Z"
   },
   {
    "duration": 4574,
    "start_time": "2024-05-04T09:42:46.491Z"
   },
   {
    "duration": 9,
    "start_time": "2024-05-04T09:43:37.115Z"
   },
   {
    "duration": 2533,
    "start_time": "2024-05-04T09:43:37.126Z"
   },
   {
    "duration": 1490,
    "start_time": "2024-05-04T09:43:39.661Z"
   },
   {
    "duration": 187,
    "start_time": "2024-05-04T09:43:41.153Z"
   },
   {
    "duration": 155,
    "start_time": "2024-05-04T09:43:41.342Z"
   },
   {
    "duration": 173,
    "start_time": "2024-05-04T09:43:41.498Z"
   },
   {
    "duration": 122,
    "start_time": "2024-05-04T09:43:41.673Z"
   },
   {
    "duration": 144,
    "start_time": "2024-05-04T09:43:41.797Z"
   },
   {
    "duration": 51,
    "start_time": "2024-05-04T09:43:41.944Z"
   },
   {
    "duration": 36,
    "start_time": "2024-05-04T09:43:41.997Z"
   },
   {
    "duration": 53,
    "start_time": "2024-05-04T09:43:42.034Z"
   },
   {
    "duration": 6,
    "start_time": "2024-05-04T09:43:42.088Z"
   },
   {
    "duration": 983,
    "start_time": "2024-05-04T09:43:42.095Z"
   },
   {
    "duration": 864,
    "start_time": "2024-05-04T09:43:43.080Z"
   },
   {
    "duration": 1281,
    "start_time": "2024-05-04T09:43:43.946Z"
   },
   {
    "duration": 5,
    "start_time": "2024-05-04T09:43:45.228Z"
   },
   {
    "duration": 682,
    "start_time": "2024-05-04T09:43:45.235Z"
   },
   {
    "duration": 964,
    "start_time": "2024-05-04T09:43:45.919Z"
   },
   {
    "duration": 940,
    "start_time": "2024-05-04T09:43:46.884Z"
   },
   {
    "duration": 847,
    "start_time": "2024-05-04T09:43:47.826Z"
   },
   {
    "duration": 452,
    "start_time": "2024-05-04T09:43:48.675Z"
   },
   {
    "duration": 472,
    "start_time": "2024-05-04T09:43:49.129Z"
   },
   {
    "duration": 230,
    "start_time": "2024-05-04T09:43:49.603Z"
   },
   {
    "duration": 339,
    "start_time": "2024-05-04T09:43:49.836Z"
   },
   {
    "duration": 462,
    "start_time": "2024-05-04T09:43:50.177Z"
   },
   {
    "duration": 279,
    "start_time": "2024-05-04T09:43:50.640Z"
   },
   {
    "duration": 387,
    "start_time": "2024-05-04T09:43:50.921Z"
   },
   {
    "duration": 345,
    "start_time": "2024-05-04T09:43:51.310Z"
   },
   {
    "duration": 702,
    "start_time": "2024-05-04T09:43:51.657Z"
   },
   {
    "duration": 13,
    "start_time": "2024-05-04T09:43:52.360Z"
   },
   {
    "duration": 736,
    "start_time": "2024-05-04T09:43:52.375Z"
   },
   {
    "duration": 666,
    "start_time": "2024-05-04T09:43:53.112Z"
   },
   {
    "duration": 640,
    "start_time": "2024-05-04T09:43:53.779Z"
   },
   {
    "duration": 13754,
    "start_time": "2024-05-04T09:43:54.421Z"
   },
   {
    "duration": 4,
    "start_time": "2024-05-04T09:44:08.177Z"
   },
   {
    "duration": 213,
    "start_time": "2024-05-04T09:44:08.182Z"
   },
   {
    "duration": 5,
    "start_time": "2024-05-04T09:44:08.397Z"
   },
   {
    "duration": 4450,
    "start_time": "2024-05-04T09:44:08.403Z"
   },
   {
    "duration": 5,
    "start_time": "2024-05-04T09:44:12.854Z"
   },
   {
    "duration": 7,
    "start_time": "2024-05-04T15:44:02.649Z"
   },
   {
    "duration": 3420,
    "start_time": "2024-05-04T15:44:02.658Z"
   },
   {
    "duration": 1451,
    "start_time": "2024-05-04T15:44:06.080Z"
   },
   {
    "duration": 566,
    "start_time": "2024-05-04T15:44:07.532Z"
   },
   {
    "duration": 519,
    "start_time": "2024-05-04T15:44:08.099Z"
   },
   {
    "duration": 528,
    "start_time": "2024-05-04T15:44:08.620Z"
   },
   {
    "duration": 94,
    "start_time": "2024-05-04T15:44:09.149Z"
   },
   {
    "duration": 95,
    "start_time": "2024-05-04T15:44:09.244Z"
   },
   {
    "duration": 30,
    "start_time": "2024-05-04T15:44:09.340Z"
   },
   {
    "duration": 36,
    "start_time": "2024-05-04T15:44:09.372Z"
   },
   {
    "duration": 35,
    "start_time": "2024-05-04T15:44:09.410Z"
   },
   {
    "duration": 4,
    "start_time": "2024-05-04T15:44:09.447Z"
   },
   {
    "duration": 663,
    "start_time": "2024-05-04T15:44:09.457Z"
   },
   {
    "duration": 591,
    "start_time": "2024-05-04T15:44:10.121Z"
   },
   {
    "duration": 662,
    "start_time": "2024-05-04T15:44:10.714Z"
   },
   {
    "duration": 8,
    "start_time": "2024-05-04T15:44:11.377Z"
   },
   {
    "duration": 338,
    "start_time": "2024-05-04T15:44:11.386Z"
   },
   {
    "duration": 649,
    "start_time": "2024-05-04T15:44:11.725Z"
   },
   {
    "duration": 669,
    "start_time": "2024-05-04T15:44:12.375Z"
   },
   {
    "duration": 594,
    "start_time": "2024-05-04T15:44:13.045Z"
   },
   {
    "duration": 344,
    "start_time": "2024-05-04T15:44:13.640Z"
   },
   {
    "duration": 333,
    "start_time": "2024-05-04T15:44:13.986Z"
   },
   {
    "duration": 171,
    "start_time": "2024-05-04T15:44:14.320Z"
   },
   {
    "duration": 250,
    "start_time": "2024-05-04T15:44:14.492Z"
   },
   {
    "duration": 350,
    "start_time": "2024-05-04T15:44:14.744Z"
   },
   {
    "duration": 227,
    "start_time": "2024-05-04T15:44:15.095Z"
   },
   {
    "duration": 291,
    "start_time": "2024-05-04T15:44:15.323Z"
   },
   {
    "duration": 260,
    "start_time": "2024-05-04T15:44:15.615Z"
   },
   {
    "duration": 472,
    "start_time": "2024-05-04T15:44:15.877Z"
   },
   {
    "duration": 3,
    "start_time": "2024-05-04T15:44:16.350Z"
   },
   {
    "duration": 566,
    "start_time": "2024-05-04T15:44:16.354Z"
   },
   {
    "duration": 468,
    "start_time": "2024-05-04T15:44:16.921Z"
   },
   {
    "duration": 505,
    "start_time": "2024-05-04T15:44:17.391Z"
   },
   {
    "duration": 10494,
    "start_time": "2024-05-04T15:44:17.897Z"
   },
   {
    "duration": 94,
    "start_time": "2024-05-04T15:44:28.394Z"
   },
   {
    "duration": 142,
    "start_time": "2024-05-04T15:44:28.492Z"
   },
   {
    "duration": 4,
    "start_time": "2024-05-04T15:44:28.636Z"
   },
   {
    "duration": 3116,
    "start_time": "2024-05-04T15:44:28.641Z"
   },
   {
    "duration": 4,
    "start_time": "2024-05-04T15:44:31.759Z"
   }
  ],
  "kernelspec": {
   "display_name": "Python 3 (ipykernel)",
   "language": "python",
   "name": "python3"
  },
  "language_info": {
   "codemirror_mode": {
    "name": "ipython",
    "version": 3
   },
   "file_extension": ".py",
   "mimetype": "text/x-python",
   "name": "python",
   "nbconvert_exporter": "python",
   "pygments_lexer": "ipython3",
   "version": "3.9.5"
  },
  "toc": {
   "base_numbering": 1,
   "nav_menu": {},
   "number_sections": true,
   "sideBar": true,
   "skip_h1_title": true,
   "title_cell": "Table of Contents",
   "title_sidebar": "Contents",
   "toc_cell": false,
   "toc_position": {
    "height": "calc(100% - 180px)",
    "left": "10px",
    "top": "150px",
    "width": "342.391px"
   },
   "toc_section_display": true,
   "toc_window_display": true
  }
 },
 "nbformat": 4,
 "nbformat_minor": 2
}
